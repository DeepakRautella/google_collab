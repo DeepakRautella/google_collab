{
  "nbformat": 4,
  "nbformat_minor": 0,
  "metadata": {
    "colab": {
      "provenance": [],
      "authorship_tag": "ABX9TyPwZNdISLyPI05GYfHQvCu7",
      "include_colab_link": true
    },
    "kernelspec": {
      "name": "python3",
      "display_name": "Python 3"
    },
    "language_info": {
      "name": "python"
    },
    "accelerator": "GPU",
    "gpuClass": "standard"
  },
  "cells": [
    {
      "cell_type": "markdown",
      "metadata": {
        "id": "view-in-github",
        "colab_type": "text"
      },
      "source": [
        "<a href=\"https://colab.research.google.com/github/DeepakRautella/google_collab/blob/main/keras_tuner(hyper_tune).ipynb\" target=\"_parent\"><img src=\"https://colab.research.google.com/assets/colab-badge.svg\" alt=\"Open In Colab\"/></a>"
      ]
    },
    {
      "cell_type": "code",
      "execution_count": 1,
      "metadata": {
        "id": "7QgyrUPicStz"
      },
      "outputs": [],
      "source": [
        "import pandas as pd\n",
        "import matplotlib.pyplot as plt\n",
        "import numpy as np"
      ]
    },
    {
      "cell_type": "code",
      "source": [
        "df=pd.read_csv('/content/diabetes.csv')"
      ],
      "metadata": {
        "id": "023DQsnCcf8G"
      },
      "execution_count": 2,
      "outputs": []
    },
    {
      "cell_type": "code",
      "source": [
        "df.head()"
      ],
      "metadata": {
        "colab": {
          "base_uri": "https://localhost:8080/",
          "height": 270
        },
        "id": "3dWTTop8dviO",
        "outputId": "f85ee4c7-830e-468c-dd29-8bc0168207d2"
      },
      "execution_count": 3,
      "outputs": [
        {
          "output_type": "execute_result",
          "data": {
            "text/plain": [
              "   Pregnancies  Glucose  BloodPressure  SkinThickness  Insulin   BMI  \\\n",
              "0            6      148             72             35        0  33.6   \n",
              "1            1       85             66             29        0  26.6   \n",
              "2            8      183             64              0        0  23.3   \n",
              "3            1       89             66             23       94  28.1   \n",
              "4            0      137             40             35      168  43.1   \n",
              "\n",
              "   DiabetesPedigreeFunction  Age  Outcome  \n",
              "0                     0.627   50        1  \n",
              "1                     0.351   31        0  \n",
              "2                     0.672   32        1  \n",
              "3                     0.167   21        0  \n",
              "4                     2.288   33        1  "
            ],
            "text/html": [
              "\n",
              "  <div id=\"df-19ac179a-1881-427d-96c0-38b683ead353\">\n",
              "    <div class=\"colab-df-container\">\n",
              "      <div>\n",
              "<style scoped>\n",
              "    .dataframe tbody tr th:only-of-type {\n",
              "        vertical-align: middle;\n",
              "    }\n",
              "\n",
              "    .dataframe tbody tr th {\n",
              "        vertical-align: top;\n",
              "    }\n",
              "\n",
              "    .dataframe thead th {\n",
              "        text-align: right;\n",
              "    }\n",
              "</style>\n",
              "<table border=\"1\" class=\"dataframe\">\n",
              "  <thead>\n",
              "    <tr style=\"text-align: right;\">\n",
              "      <th></th>\n",
              "      <th>Pregnancies</th>\n",
              "      <th>Glucose</th>\n",
              "      <th>BloodPressure</th>\n",
              "      <th>SkinThickness</th>\n",
              "      <th>Insulin</th>\n",
              "      <th>BMI</th>\n",
              "      <th>DiabetesPedigreeFunction</th>\n",
              "      <th>Age</th>\n",
              "      <th>Outcome</th>\n",
              "    </tr>\n",
              "  </thead>\n",
              "  <tbody>\n",
              "    <tr>\n",
              "      <th>0</th>\n",
              "      <td>6</td>\n",
              "      <td>148</td>\n",
              "      <td>72</td>\n",
              "      <td>35</td>\n",
              "      <td>0</td>\n",
              "      <td>33.6</td>\n",
              "      <td>0.627</td>\n",
              "      <td>50</td>\n",
              "      <td>1</td>\n",
              "    </tr>\n",
              "    <tr>\n",
              "      <th>1</th>\n",
              "      <td>1</td>\n",
              "      <td>85</td>\n",
              "      <td>66</td>\n",
              "      <td>29</td>\n",
              "      <td>0</td>\n",
              "      <td>26.6</td>\n",
              "      <td>0.351</td>\n",
              "      <td>31</td>\n",
              "      <td>0</td>\n",
              "    </tr>\n",
              "    <tr>\n",
              "      <th>2</th>\n",
              "      <td>8</td>\n",
              "      <td>183</td>\n",
              "      <td>64</td>\n",
              "      <td>0</td>\n",
              "      <td>0</td>\n",
              "      <td>23.3</td>\n",
              "      <td>0.672</td>\n",
              "      <td>32</td>\n",
              "      <td>1</td>\n",
              "    </tr>\n",
              "    <tr>\n",
              "      <th>3</th>\n",
              "      <td>1</td>\n",
              "      <td>89</td>\n",
              "      <td>66</td>\n",
              "      <td>23</td>\n",
              "      <td>94</td>\n",
              "      <td>28.1</td>\n",
              "      <td>0.167</td>\n",
              "      <td>21</td>\n",
              "      <td>0</td>\n",
              "    </tr>\n",
              "    <tr>\n",
              "      <th>4</th>\n",
              "      <td>0</td>\n",
              "      <td>137</td>\n",
              "      <td>40</td>\n",
              "      <td>35</td>\n",
              "      <td>168</td>\n",
              "      <td>43.1</td>\n",
              "      <td>2.288</td>\n",
              "      <td>33</td>\n",
              "      <td>1</td>\n",
              "    </tr>\n",
              "  </tbody>\n",
              "</table>\n",
              "</div>\n",
              "      <button class=\"colab-df-convert\" onclick=\"convertToInteractive('df-19ac179a-1881-427d-96c0-38b683ead353')\"\n",
              "              title=\"Convert this dataframe to an interactive table.\"\n",
              "              style=\"display:none;\">\n",
              "        \n",
              "  <svg xmlns=\"http://www.w3.org/2000/svg\" height=\"24px\"viewBox=\"0 0 24 24\"\n",
              "       width=\"24px\">\n",
              "    <path d=\"M0 0h24v24H0V0z\" fill=\"none\"/>\n",
              "    <path d=\"M18.56 5.44l.94 2.06.94-2.06 2.06-.94-2.06-.94-.94-2.06-.94 2.06-2.06.94zm-11 1L8.5 8.5l.94-2.06 2.06-.94-2.06-.94L8.5 2.5l-.94 2.06-2.06.94zm10 10l.94 2.06.94-2.06 2.06-.94-2.06-.94-.94-2.06-.94 2.06-2.06.94z\"/><path d=\"M17.41 7.96l-1.37-1.37c-.4-.4-.92-.59-1.43-.59-.52 0-1.04.2-1.43.59L10.3 9.45l-7.72 7.72c-.78.78-.78 2.05 0 2.83L4 21.41c.39.39.9.59 1.41.59.51 0 1.02-.2 1.41-.59l7.78-7.78 2.81-2.81c.8-.78.8-2.07 0-2.86zM5.41 20L4 18.59l7.72-7.72 1.47 1.35L5.41 20z\"/>\n",
              "  </svg>\n",
              "      </button>\n",
              "      \n",
              "  <style>\n",
              "    .colab-df-container {\n",
              "      display:flex;\n",
              "      flex-wrap:wrap;\n",
              "      gap: 12px;\n",
              "    }\n",
              "\n",
              "    .colab-df-convert {\n",
              "      background-color: #E8F0FE;\n",
              "      border: none;\n",
              "      border-radius: 50%;\n",
              "      cursor: pointer;\n",
              "      display: none;\n",
              "      fill: #1967D2;\n",
              "      height: 32px;\n",
              "      padding: 0 0 0 0;\n",
              "      width: 32px;\n",
              "    }\n",
              "\n",
              "    .colab-df-convert:hover {\n",
              "      background-color: #E2EBFA;\n",
              "      box-shadow: 0px 1px 2px rgba(60, 64, 67, 0.3), 0px 1px 3px 1px rgba(60, 64, 67, 0.15);\n",
              "      fill: #174EA6;\n",
              "    }\n",
              "\n",
              "    [theme=dark] .colab-df-convert {\n",
              "      background-color: #3B4455;\n",
              "      fill: #D2E3FC;\n",
              "    }\n",
              "\n",
              "    [theme=dark] .colab-df-convert:hover {\n",
              "      background-color: #434B5C;\n",
              "      box-shadow: 0px 1px 3px 1px rgba(0, 0, 0, 0.15);\n",
              "      filter: drop-shadow(0px 1px 2px rgba(0, 0, 0, 0.3));\n",
              "      fill: #FFFFFF;\n",
              "    }\n",
              "  </style>\n",
              "\n",
              "      <script>\n",
              "        const buttonEl =\n",
              "          document.querySelector('#df-19ac179a-1881-427d-96c0-38b683ead353 button.colab-df-convert');\n",
              "        buttonEl.style.display =\n",
              "          google.colab.kernel.accessAllowed ? 'block' : 'none';\n",
              "\n",
              "        async function convertToInteractive(key) {\n",
              "          const element = document.querySelector('#df-19ac179a-1881-427d-96c0-38b683ead353');\n",
              "          const dataTable =\n",
              "            await google.colab.kernel.invokeFunction('convertToInteractive',\n",
              "                                                     [key], {});\n",
              "          if (!dataTable) return;\n",
              "\n",
              "          const docLinkHtml = 'Like what you see? Visit the ' +\n",
              "            '<a target=\"_blank\" href=https://colab.research.google.com/notebooks/data_table.ipynb>data table notebook</a>'\n",
              "            + ' to learn more about interactive tables.';\n",
              "          element.innerHTML = '';\n",
              "          dataTable['output_type'] = 'display_data';\n",
              "          await google.colab.output.renderOutput(dataTable, element);\n",
              "          const docLink = document.createElement('div');\n",
              "          docLink.innerHTML = docLinkHtml;\n",
              "          element.appendChild(docLink);\n",
              "        }\n",
              "      </script>\n",
              "    </div>\n",
              "  </div>\n",
              "  "
            ]
          },
          "metadata": {},
          "execution_count": 3
        }
      ]
    },
    {
      "cell_type": "code",
      "source": [
        "df.corr()['Outcome']"
      ],
      "metadata": {
        "colab": {
          "base_uri": "https://localhost:8080/"
        },
        "id": "5YxKDr2bdwXz",
        "outputId": "5538c42a-2c97-47ec-dbb7-66c45901751e"
      },
      "execution_count": 4,
      "outputs": [
        {
          "output_type": "execute_result",
          "data": {
            "text/plain": [
              "Pregnancies                 0.221898\n",
              "Glucose                     0.466581\n",
              "BloodPressure               0.065068\n",
              "SkinThickness               0.074752\n",
              "Insulin                     0.130548\n",
              "BMI                         0.292695\n",
              "DiabetesPedigreeFunction    0.173844\n",
              "Age                         0.238356\n",
              "Outcome                     1.000000\n",
              "Name: Outcome, dtype: float64"
            ]
          },
          "metadata": {},
          "execution_count": 4
        }
      ]
    },
    {
      "cell_type": "code",
      "source": [
        "df.corrwith(df['Outcome'])"
      ],
      "metadata": {
        "colab": {
          "base_uri": "https://localhost:8080/"
        },
        "id": "-20vr0SgdzBm",
        "outputId": "de68540b-b6a2-42de-8b32-8e85def1b390"
      },
      "execution_count": 5,
      "outputs": [
        {
          "output_type": "execute_result",
          "data": {
            "text/plain": [
              "Pregnancies                 0.221898\n",
              "Glucose                     0.466581\n",
              "BloodPressure               0.065068\n",
              "SkinThickness               0.074752\n",
              "Insulin                     0.130548\n",
              "BMI                         0.292695\n",
              "DiabetesPedigreeFunction    0.173844\n",
              "Age                         0.238356\n",
              "Outcome                     1.000000\n",
              "dtype: float64"
            ]
          },
          "metadata": {},
          "execution_count": 5
        }
      ]
    },
    {
      "cell_type": "code",
      "source": [
        "X=df.iloc[:,:-1].values\n",
        "y=df.iloc[:,-1].values"
      ],
      "metadata": {
        "id": "nRFHZW4VekuM"
      },
      "execution_count": 6,
      "outputs": []
    },
    {
      "cell_type": "code",
      "source": [
        "from sklearn.preprocessing import StandardScaler\n",
        "scaler=StandardScaler()"
      ],
      "metadata": {
        "id": "iLtws7BHgSSi"
      },
      "execution_count": 7,
      "outputs": []
    },
    {
      "cell_type": "code",
      "source": [
        "X=scaler.fit_transform(X)"
      ],
      "metadata": {
        "id": "pw9sRr6kgfZN"
      },
      "execution_count": 8,
      "outputs": []
    },
    {
      "cell_type": "code",
      "source": [
        "X"
      ],
      "metadata": {
        "colab": {
          "base_uri": "https://localhost:8080/"
        },
        "id": "AgOulXq3gjF5",
        "outputId": "1c53ec20-0f90-4b14-ea7d-5af06de4cf68"
      },
      "execution_count": 9,
      "outputs": [
        {
          "output_type": "execute_result",
          "data": {
            "text/plain": [
              "array([[ 0.63994726,  0.84832379,  0.14964075, ...,  0.20401277,\n",
              "         0.46849198,  1.4259954 ],\n",
              "       [-0.84488505, -1.12339636, -0.16054575, ..., -0.68442195,\n",
              "        -0.36506078, -0.19067191],\n",
              "       [ 1.23388019,  1.94372388, -0.26394125, ..., -1.10325546,\n",
              "         0.60439732, -0.10558415],\n",
              "       ...,\n",
              "       [ 0.3429808 ,  0.00330087,  0.14964075, ..., -0.73518964,\n",
              "        -0.68519336, -0.27575966],\n",
              "       [-0.84488505,  0.1597866 , -0.47073225, ..., -0.24020459,\n",
              "        -0.37110101,  1.17073215],\n",
              "       [-0.84488505, -0.8730192 ,  0.04624525, ..., -0.20212881,\n",
              "        -0.47378505, -0.87137393]])"
            ]
          },
          "metadata": {},
          "execution_count": 9
        }
      ]
    },
    {
      "cell_type": "code",
      "source": [
        "X.shape"
      ],
      "metadata": {
        "colab": {
          "base_uri": "https://localhost:8080/"
        },
        "id": "CJIhwWnZgmox",
        "outputId": "ab7734fa-66ee-4f1c-9bc1-85325982a4c5"
      },
      "execution_count": 10,
      "outputs": [
        {
          "output_type": "execute_result",
          "data": {
            "text/plain": [
              "(768, 8)"
            ]
          },
          "metadata": {},
          "execution_count": 10
        }
      ]
    },
    {
      "cell_type": "code",
      "source": [
        "y.shape"
      ],
      "metadata": {
        "colab": {
          "base_uri": "https://localhost:8080/"
        },
        "id": "Tm5PHfZChAPA",
        "outputId": "2e888f51-34bc-4694-f998-716854c33d0e"
      },
      "execution_count": 11,
      "outputs": [
        {
          "output_type": "execute_result",
          "data": {
            "text/plain": [
              "(768,)"
            ]
          },
          "metadata": {},
          "execution_count": 11
        }
      ]
    },
    {
      "cell_type": "code",
      "source": [
        "from sklearn.model_selection import train_test_split\n",
        "X_train,X_test,Y_train,Y_test=train_test_split(X,y,test_size=0.2,random_state=42)"
      ],
      "metadata": {
        "id": "ILGp7pE7gpLj"
      },
      "execution_count": 12,
      "outputs": []
    },
    {
      "cell_type": "code",
      "source": [
        "import tensorflow\n",
        "from tensorflow import keras\n",
        "from keras import Sequential\n",
        "from keras.layers import Dense"
      ],
      "metadata": {
        "id": "orPcVzoug6_C"
      },
      "execution_count": 13,
      "outputs": []
    },
    {
      "cell_type": "code",
      "source": [
        "model=Sequential()\n",
        "\n",
        "model.add(Dense(32,input_dim=8,activation='relu'))\n",
        "model.add(Dense(1,activation='sigmoid'))\n",
        "\n",
        "model.compile(optimizer='Adam',loss='binary_crossentropy',metrics=['accuracy'])\n"
      ],
      "metadata": {
        "id": "pVACHLyKhiul"
      },
      "execution_count": 14,
      "outputs": []
    },
    {
      "cell_type": "code",
      "source": [
        "model.fit(X_train,Y_train,validation_split=0.2,batch_size=32,epochs=100)"
      ],
      "metadata": {
        "colab": {
          "base_uri": "https://localhost:8080/"
        },
        "id": "PS-4MNc-h_Fy",
        "outputId": "d81db88b-7ff5-4d01-d15b-de44ef53b274"
      },
      "execution_count": 15,
      "outputs": [
        {
          "output_type": "stream",
          "name": "stdout",
          "text": [
            "Epoch 1/100\n",
            "16/16 [==============================] - 1s 26ms/step - loss: 0.6263 - accuracy: 0.6375 - val_loss: 0.5869 - val_accuracy: 0.7317\n",
            "Epoch 2/100\n",
            "16/16 [==============================] - 0s 6ms/step - loss: 0.5844 - accuracy: 0.6884 - val_loss: 0.5624 - val_accuracy: 0.7073\n",
            "Epoch 3/100\n",
            "16/16 [==============================] - 0s 6ms/step - loss: 0.5547 - accuracy: 0.7332 - val_loss: 0.5427 - val_accuracy: 0.7236\n",
            "Epoch 4/100\n",
            "16/16 [==============================] - 0s 5ms/step - loss: 0.5330 - accuracy: 0.7556 - val_loss: 0.5297 - val_accuracy: 0.7317\n",
            "Epoch 5/100\n",
            "16/16 [==============================] - 0s 5ms/step - loss: 0.5164 - accuracy: 0.7637 - val_loss: 0.5198 - val_accuracy: 0.7398\n",
            "Epoch 6/100\n",
            "16/16 [==============================] - 0s 5ms/step - loss: 0.5037 - accuracy: 0.7739 - val_loss: 0.5111 - val_accuracy: 0.7480\n",
            "Epoch 7/100\n",
            "16/16 [==============================] - 0s 8ms/step - loss: 0.4936 - accuracy: 0.7760 - val_loss: 0.5051 - val_accuracy: 0.7480\n",
            "Epoch 8/100\n",
            "16/16 [==============================] - 0s 9ms/step - loss: 0.4856 - accuracy: 0.7780 - val_loss: 0.5016 - val_accuracy: 0.7398\n",
            "Epoch 9/100\n",
            "16/16 [==============================] - 0s 9ms/step - loss: 0.4791 - accuracy: 0.7760 - val_loss: 0.4979 - val_accuracy: 0.7398\n",
            "Epoch 10/100\n",
            "16/16 [==============================] - 0s 9ms/step - loss: 0.4742 - accuracy: 0.7841 - val_loss: 0.4947 - val_accuracy: 0.7398\n",
            "Epoch 11/100\n",
            "16/16 [==============================] - 0s 10ms/step - loss: 0.4690 - accuracy: 0.7800 - val_loss: 0.4920 - val_accuracy: 0.7398\n",
            "Epoch 12/100\n",
            "16/16 [==============================] - 0s 7ms/step - loss: 0.4654 - accuracy: 0.7902 - val_loss: 0.4885 - val_accuracy: 0.7317\n",
            "Epoch 13/100\n",
            "16/16 [==============================] - 0s 9ms/step - loss: 0.4616 - accuracy: 0.7902 - val_loss: 0.4876 - val_accuracy: 0.7317\n",
            "Epoch 14/100\n",
            "16/16 [==============================] - 0s 9ms/step - loss: 0.4589 - accuracy: 0.7862 - val_loss: 0.4850 - val_accuracy: 0.7317\n",
            "Epoch 15/100\n",
            "16/16 [==============================] - 0s 10ms/step - loss: 0.4565 - accuracy: 0.7862 - val_loss: 0.4843 - val_accuracy: 0.7317\n",
            "Epoch 16/100\n",
            "16/16 [==============================] - 0s 13ms/step - loss: 0.4538 - accuracy: 0.7841 - val_loss: 0.4829 - val_accuracy: 0.7317\n",
            "Epoch 17/100\n",
            "16/16 [==============================] - 0s 9ms/step - loss: 0.4516 - accuracy: 0.7862 - val_loss: 0.4807 - val_accuracy: 0.7480\n",
            "Epoch 18/100\n",
            "16/16 [==============================] - 0s 8ms/step - loss: 0.4499 - accuracy: 0.7841 - val_loss: 0.4795 - val_accuracy: 0.7398\n",
            "Epoch 19/100\n",
            "16/16 [==============================] - 0s 10ms/step - loss: 0.4478 - accuracy: 0.7800 - val_loss: 0.4790 - val_accuracy: 0.7480\n",
            "Epoch 20/100\n",
            "16/16 [==============================] - 0s 7ms/step - loss: 0.4460 - accuracy: 0.7821 - val_loss: 0.4782 - val_accuracy: 0.7398\n",
            "Epoch 21/100\n",
            "16/16 [==============================] - 0s 8ms/step - loss: 0.4444 - accuracy: 0.7862 - val_loss: 0.4779 - val_accuracy: 0.7398\n",
            "Epoch 22/100\n",
            "16/16 [==============================] - 0s 8ms/step - loss: 0.4431 - accuracy: 0.7841 - val_loss: 0.4776 - val_accuracy: 0.7480\n",
            "Epoch 23/100\n",
            "16/16 [==============================] - 0s 8ms/step - loss: 0.4417 - accuracy: 0.7882 - val_loss: 0.4780 - val_accuracy: 0.7398\n",
            "Epoch 24/100\n",
            "16/16 [==============================] - 0s 8ms/step - loss: 0.4403 - accuracy: 0.7882 - val_loss: 0.4765 - val_accuracy: 0.7317\n",
            "Epoch 25/100\n",
            "16/16 [==============================] - 0s 6ms/step - loss: 0.4387 - accuracy: 0.7923 - val_loss: 0.4770 - val_accuracy: 0.7317\n",
            "Epoch 26/100\n",
            "16/16 [==============================] - 0s 9ms/step - loss: 0.4377 - accuracy: 0.7882 - val_loss: 0.4772 - val_accuracy: 0.7398\n",
            "Epoch 27/100\n",
            "16/16 [==============================] - 0s 9ms/step - loss: 0.4366 - accuracy: 0.7943 - val_loss: 0.4773 - val_accuracy: 0.7317\n",
            "Epoch 28/100\n",
            "16/16 [==============================] - 0s 7ms/step - loss: 0.4359 - accuracy: 0.7923 - val_loss: 0.4770 - val_accuracy: 0.7398\n",
            "Epoch 29/100\n",
            "16/16 [==============================] - 0s 7ms/step - loss: 0.4352 - accuracy: 0.7943 - val_loss: 0.4776 - val_accuracy: 0.7317\n",
            "Epoch 30/100\n",
            "16/16 [==============================] - 0s 8ms/step - loss: 0.4334 - accuracy: 0.7943 - val_loss: 0.4762 - val_accuracy: 0.7398\n",
            "Epoch 31/100\n",
            "16/16 [==============================] - 0s 16ms/step - loss: 0.4323 - accuracy: 0.7943 - val_loss: 0.4764 - val_accuracy: 0.7398\n",
            "Epoch 32/100\n",
            "16/16 [==============================] - 0s 8ms/step - loss: 0.4317 - accuracy: 0.7923 - val_loss: 0.4777 - val_accuracy: 0.7398\n",
            "Epoch 33/100\n",
            "16/16 [==============================] - 0s 8ms/step - loss: 0.4310 - accuracy: 0.7902 - val_loss: 0.4774 - val_accuracy: 0.7398\n",
            "Epoch 34/100\n",
            "16/16 [==============================] - 0s 9ms/step - loss: 0.4298 - accuracy: 0.7943 - val_loss: 0.4757 - val_accuracy: 0.7398\n",
            "Epoch 35/100\n",
            "16/16 [==============================] - 0s 10ms/step - loss: 0.4289 - accuracy: 0.8004 - val_loss: 0.4751 - val_accuracy: 0.7398\n",
            "Epoch 36/100\n",
            "16/16 [==============================] - 0s 9ms/step - loss: 0.4280 - accuracy: 0.7984 - val_loss: 0.4744 - val_accuracy: 0.7480\n",
            "Epoch 37/100\n",
            "16/16 [==============================] - 0s 10ms/step - loss: 0.4268 - accuracy: 0.7984 - val_loss: 0.4747 - val_accuracy: 0.7480\n",
            "Epoch 38/100\n",
            "16/16 [==============================] - 0s 7ms/step - loss: 0.4263 - accuracy: 0.7984 - val_loss: 0.4737 - val_accuracy: 0.7480\n",
            "Epoch 39/100\n",
            "16/16 [==============================] - 0s 7ms/step - loss: 0.4260 - accuracy: 0.7963 - val_loss: 0.4735 - val_accuracy: 0.7480\n",
            "Epoch 40/100\n",
            "16/16 [==============================] - 0s 10ms/step - loss: 0.4247 - accuracy: 0.7963 - val_loss: 0.4728 - val_accuracy: 0.7480\n",
            "Epoch 41/100\n",
            "16/16 [==============================] - 0s 11ms/step - loss: 0.4239 - accuracy: 0.7963 - val_loss: 0.4731 - val_accuracy: 0.7480\n",
            "Epoch 42/100\n",
            "16/16 [==============================] - 0s 10ms/step - loss: 0.4235 - accuracy: 0.7963 - val_loss: 0.4731 - val_accuracy: 0.7480\n",
            "Epoch 43/100\n",
            "16/16 [==============================] - 0s 15ms/step - loss: 0.4229 - accuracy: 0.7943 - val_loss: 0.4742 - val_accuracy: 0.7398\n",
            "Epoch 44/100\n",
            "16/16 [==============================] - 0s 7ms/step - loss: 0.4225 - accuracy: 0.7963 - val_loss: 0.4747 - val_accuracy: 0.7398\n",
            "Epoch 45/100\n",
            "16/16 [==============================] - 0s 10ms/step - loss: 0.4218 - accuracy: 0.7963 - val_loss: 0.4763 - val_accuracy: 0.7398\n",
            "Epoch 46/100\n",
            "16/16 [==============================] - 0s 15ms/step - loss: 0.4206 - accuracy: 0.7963 - val_loss: 0.4752 - val_accuracy: 0.7317\n",
            "Epoch 47/100\n",
            "16/16 [==============================] - 0s 11ms/step - loss: 0.4198 - accuracy: 0.7963 - val_loss: 0.4741 - val_accuracy: 0.7317\n",
            "Epoch 48/100\n",
            "16/16 [==============================] - 0s 13ms/step - loss: 0.4193 - accuracy: 0.7984 - val_loss: 0.4751 - val_accuracy: 0.7317\n",
            "Epoch 49/100\n",
            "16/16 [==============================] - 0s 10ms/step - loss: 0.4188 - accuracy: 0.8004 - val_loss: 0.4750 - val_accuracy: 0.7317\n",
            "Epoch 50/100\n",
            "16/16 [==============================] - 0s 7ms/step - loss: 0.4182 - accuracy: 0.8004 - val_loss: 0.4757 - val_accuracy: 0.7317\n",
            "Epoch 51/100\n",
            "16/16 [==============================] - 0s 8ms/step - loss: 0.4177 - accuracy: 0.8004 - val_loss: 0.4752 - val_accuracy: 0.7317\n",
            "Epoch 52/100\n",
            "16/16 [==============================] - 0s 8ms/step - loss: 0.4169 - accuracy: 0.8045 - val_loss: 0.4751 - val_accuracy: 0.7317\n",
            "Epoch 53/100\n",
            "16/16 [==============================] - 0s 10ms/step - loss: 0.4163 - accuracy: 0.8065 - val_loss: 0.4751 - val_accuracy: 0.7317\n",
            "Epoch 54/100\n",
            "16/16 [==============================] - 0s 8ms/step - loss: 0.4158 - accuracy: 0.8024 - val_loss: 0.4738 - val_accuracy: 0.7236\n",
            "Epoch 55/100\n",
            "16/16 [==============================] - 0s 8ms/step - loss: 0.4152 - accuracy: 0.8024 - val_loss: 0.4745 - val_accuracy: 0.7236\n",
            "Epoch 56/100\n",
            "16/16 [==============================] - 0s 12ms/step - loss: 0.4155 - accuracy: 0.8045 - val_loss: 0.4755 - val_accuracy: 0.7236\n",
            "Epoch 57/100\n",
            "16/16 [==============================] - 0s 10ms/step - loss: 0.4139 - accuracy: 0.8065 - val_loss: 0.4742 - val_accuracy: 0.7236\n",
            "Epoch 58/100\n",
            "16/16 [==============================] - 0s 10ms/step - loss: 0.4133 - accuracy: 0.8106 - val_loss: 0.4752 - val_accuracy: 0.7236\n",
            "Epoch 59/100\n",
            "16/16 [==============================] - 0s 10ms/step - loss: 0.4131 - accuracy: 0.8086 - val_loss: 0.4750 - val_accuracy: 0.7317\n",
            "Epoch 60/100\n",
            "16/16 [==============================] - 0s 10ms/step - loss: 0.4125 - accuracy: 0.8065 - val_loss: 0.4736 - val_accuracy: 0.7236\n",
            "Epoch 61/100\n",
            "16/16 [==============================] - 0s 13ms/step - loss: 0.4116 - accuracy: 0.8065 - val_loss: 0.4735 - val_accuracy: 0.7236\n",
            "Epoch 62/100\n",
            "16/16 [==============================] - 0s 8ms/step - loss: 0.4110 - accuracy: 0.8086 - val_loss: 0.4735 - val_accuracy: 0.7236\n",
            "Epoch 63/100\n",
            "16/16 [==============================] - 0s 7ms/step - loss: 0.4107 - accuracy: 0.8086 - val_loss: 0.4740 - val_accuracy: 0.7236\n",
            "Epoch 64/100\n",
            "16/16 [==============================] - 0s 9ms/step - loss: 0.4102 - accuracy: 0.8106 - val_loss: 0.4714 - val_accuracy: 0.7236\n",
            "Epoch 65/100\n",
            "16/16 [==============================] - 0s 9ms/step - loss: 0.4095 - accuracy: 0.8106 - val_loss: 0.4718 - val_accuracy: 0.7236\n",
            "Epoch 66/100\n",
            "16/16 [==============================] - 0s 8ms/step - loss: 0.4091 - accuracy: 0.8086 - val_loss: 0.4723 - val_accuracy: 0.7236\n",
            "Epoch 67/100\n",
            "16/16 [==============================] - 0s 14ms/step - loss: 0.4085 - accuracy: 0.8106 - val_loss: 0.4726 - val_accuracy: 0.7236\n",
            "Epoch 68/100\n",
            "16/16 [==============================] - 0s 7ms/step - loss: 0.4079 - accuracy: 0.8106 - val_loss: 0.4724 - val_accuracy: 0.7236\n",
            "Epoch 69/100\n",
            "16/16 [==============================] - 0s 8ms/step - loss: 0.4076 - accuracy: 0.8106 - val_loss: 0.4721 - val_accuracy: 0.7236\n",
            "Epoch 70/100\n",
            "16/16 [==============================] - 0s 10ms/step - loss: 0.4068 - accuracy: 0.8126 - val_loss: 0.4729 - val_accuracy: 0.7236\n",
            "Epoch 71/100\n",
            "16/16 [==============================] - 0s 11ms/step - loss: 0.4064 - accuracy: 0.8126 - val_loss: 0.4734 - val_accuracy: 0.7236\n",
            "Epoch 72/100\n",
            "16/16 [==============================] - 0s 9ms/step - loss: 0.4056 - accuracy: 0.8147 - val_loss: 0.4742 - val_accuracy: 0.7236\n",
            "Epoch 73/100\n",
            "16/16 [==============================] - 0s 8ms/step - loss: 0.4057 - accuracy: 0.8126 - val_loss: 0.4739 - val_accuracy: 0.7236\n",
            "Epoch 74/100\n",
            "16/16 [==============================] - 0s 7ms/step - loss: 0.4053 - accuracy: 0.8167 - val_loss: 0.4748 - val_accuracy: 0.7236\n",
            "Epoch 75/100\n",
            "16/16 [==============================] - 0s 8ms/step - loss: 0.4046 - accuracy: 0.8147 - val_loss: 0.4740 - val_accuracy: 0.7236\n",
            "Epoch 76/100\n",
            "16/16 [==============================] - 0s 8ms/step - loss: 0.4039 - accuracy: 0.8126 - val_loss: 0.4734 - val_accuracy: 0.7236\n",
            "Epoch 77/100\n",
            "16/16 [==============================] - 0s 7ms/step - loss: 0.4033 - accuracy: 0.8187 - val_loss: 0.4743 - val_accuracy: 0.7236\n",
            "Epoch 78/100\n",
            "16/16 [==============================] - 0s 9ms/step - loss: 0.4039 - accuracy: 0.8167 - val_loss: 0.4738 - val_accuracy: 0.7236\n",
            "Epoch 79/100\n",
            "16/16 [==============================] - 0s 10ms/step - loss: 0.4026 - accuracy: 0.8167 - val_loss: 0.4739 - val_accuracy: 0.7236\n",
            "Epoch 80/100\n",
            "16/16 [==============================] - 0s 7ms/step - loss: 0.4023 - accuracy: 0.8167 - val_loss: 0.4746 - val_accuracy: 0.7236\n",
            "Epoch 81/100\n",
            "16/16 [==============================] - 0s 8ms/step - loss: 0.4016 - accuracy: 0.8167 - val_loss: 0.4747 - val_accuracy: 0.7236\n",
            "Epoch 82/100\n",
            "16/16 [==============================] - 0s 8ms/step - loss: 0.4014 - accuracy: 0.8106 - val_loss: 0.4738 - val_accuracy: 0.7236\n",
            "Epoch 83/100\n",
            "16/16 [==============================] - 0s 7ms/step - loss: 0.4011 - accuracy: 0.8147 - val_loss: 0.4748 - val_accuracy: 0.7236\n",
            "Epoch 84/100\n",
            "16/16 [==============================] - 0s 8ms/step - loss: 0.4005 - accuracy: 0.8147 - val_loss: 0.4749 - val_accuracy: 0.7236\n",
            "Epoch 85/100\n",
            "16/16 [==============================] - 0s 7ms/step - loss: 0.4009 - accuracy: 0.8106 - val_loss: 0.4756 - val_accuracy: 0.7236\n",
            "Epoch 86/100\n",
            "16/16 [==============================] - 0s 8ms/step - loss: 0.3995 - accuracy: 0.8187 - val_loss: 0.4746 - val_accuracy: 0.7236\n",
            "Epoch 87/100\n",
            "16/16 [==============================] - 0s 8ms/step - loss: 0.3998 - accuracy: 0.8167 - val_loss: 0.4752 - val_accuracy: 0.7236\n",
            "Epoch 88/100\n",
            "16/16 [==============================] - 0s 8ms/step - loss: 0.3992 - accuracy: 0.8126 - val_loss: 0.4759 - val_accuracy: 0.7236\n",
            "Epoch 89/100\n",
            "16/16 [==============================] - 0s 10ms/step - loss: 0.3986 - accuracy: 0.8167 - val_loss: 0.4749 - val_accuracy: 0.7236\n",
            "Epoch 90/100\n",
            "16/16 [==============================] - 0s 10ms/step - loss: 0.3980 - accuracy: 0.8208 - val_loss: 0.4755 - val_accuracy: 0.7236\n",
            "Epoch 91/100\n",
            "16/16 [==============================] - 0s 8ms/step - loss: 0.3979 - accuracy: 0.8187 - val_loss: 0.4754 - val_accuracy: 0.7236\n",
            "Epoch 92/100\n",
            "16/16 [==============================] - 0s 8ms/step - loss: 0.3973 - accuracy: 0.8167 - val_loss: 0.4755 - val_accuracy: 0.7236\n",
            "Epoch 93/100\n",
            "16/16 [==============================] - 0s 10ms/step - loss: 0.3969 - accuracy: 0.8187 - val_loss: 0.4756 - val_accuracy: 0.7236\n",
            "Epoch 94/100\n",
            "16/16 [==============================] - 0s 7ms/step - loss: 0.3967 - accuracy: 0.8187 - val_loss: 0.4754 - val_accuracy: 0.7236\n",
            "Epoch 95/100\n",
            "16/16 [==============================] - 0s 8ms/step - loss: 0.3965 - accuracy: 0.8167 - val_loss: 0.4747 - val_accuracy: 0.7236\n",
            "Epoch 96/100\n",
            "16/16 [==============================] - 0s 8ms/step - loss: 0.3963 - accuracy: 0.8167 - val_loss: 0.4731 - val_accuracy: 0.7317\n",
            "Epoch 97/100\n",
            "16/16 [==============================] - 0s 8ms/step - loss: 0.3953 - accuracy: 0.8187 - val_loss: 0.4732 - val_accuracy: 0.7236\n",
            "Epoch 98/100\n",
            "16/16 [==============================] - 0s 7ms/step - loss: 0.3955 - accuracy: 0.8187 - val_loss: 0.4714 - val_accuracy: 0.7236\n",
            "Epoch 99/100\n",
            "16/16 [==============================] - 0s 11ms/step - loss: 0.3949 - accuracy: 0.8208 - val_loss: 0.4730 - val_accuracy: 0.7236\n",
            "Epoch 100/100\n",
            "16/16 [==============================] - 0s 9ms/step - loss: 0.3944 - accuracy: 0.8126 - val_loss: 0.4714 - val_accuracy: 0.7236\n"
          ]
        },
        {
          "output_type": "execute_result",
          "data": {
            "text/plain": [
              "<keras.callbacks.History at 0x7fe4e01528d0>"
            ]
          },
          "metadata": {},
          "execution_count": 15
        }
      ]
    },
    {
      "cell_type": "markdown",
      "source": [
        "**Keras Tuner**\n",
        "\n",
        "after starting model sequential we are lost in models variables selection what to choose, which activation function , which optimizer, how many epoches, number of neurons and how deep a neural network needed for get best model out of our dataset.\n",
        "\n",
        "to solve this issue developer comes up with keras tuner which works same as hypertunning in machine learning ex(grid search cv ,random search cv)"
      ],
      "metadata": {
        "id": "FBbp3nHiidux"
      }
    },
    {
      "cell_type": "code",
      "source": [
        "pip install -U keras-tuner"
      ],
      "metadata": {
        "colab": {
          "base_uri": "https://localhost:8080/"
        },
        "id": "BnagM-S1iILN",
        "outputId": "8ed518d7-0640-4010-e286-8b5235a018e3"
      },
      "execution_count": 16,
      "outputs": [
        {
          "output_type": "stream",
          "name": "stdout",
          "text": [
            "Looking in indexes: https://pypi.org/simple, https://us-python.pkg.dev/colab-wheels/public/simple/\n",
            "Requirement already satisfied: keras-tuner in /usr/local/lib/python3.7/dist-packages (1.1.3)\n",
            "Requirement already satisfied: tensorboard in /usr/local/lib/python3.7/dist-packages (from keras-tuner) (2.9.1)\n",
            "Requirement already satisfied: packaging in /usr/local/lib/python3.7/dist-packages (from keras-tuner) (21.3)\n",
            "Requirement already satisfied: requests in /usr/local/lib/python3.7/dist-packages (from keras-tuner) (2.23.0)\n",
            "Requirement already satisfied: kt-legacy in /usr/local/lib/python3.7/dist-packages (from keras-tuner) (1.0.4)\n",
            "Requirement already satisfied: ipython in /usr/local/lib/python3.7/dist-packages (from keras-tuner) (7.9.0)\n",
            "Requirement already satisfied: numpy in /usr/local/lib/python3.7/dist-packages (from keras-tuner) (1.21.6)\n",
            "Requirement already satisfied: traitlets>=4.2 in /usr/local/lib/python3.7/dist-packages (from ipython->keras-tuner) (5.1.1)\n",
            "Requirement already satisfied: prompt-toolkit<2.1.0,>=2.0.0 in /usr/local/lib/python3.7/dist-packages (from ipython->keras-tuner) (2.0.10)\n",
            "Requirement already satisfied: backcall in /usr/local/lib/python3.7/dist-packages (from ipython->keras-tuner) (0.2.0)\n",
            "Requirement already satisfied: pickleshare in /usr/local/lib/python3.7/dist-packages (from ipython->keras-tuner) (0.7.5)\n",
            "Requirement already satisfied: pygments in /usr/local/lib/python3.7/dist-packages (from ipython->keras-tuner) (2.6.1)\n",
            "Requirement already satisfied: decorator in /usr/local/lib/python3.7/dist-packages (from ipython->keras-tuner) (4.4.2)\n",
            "Requirement already satisfied: setuptools>=18.5 in /usr/local/lib/python3.7/dist-packages (from ipython->keras-tuner) (57.4.0)\n",
            "Requirement already satisfied: jedi>=0.10 in /usr/local/lib/python3.7/dist-packages (from ipython->keras-tuner) (0.18.1)\n",
            "Requirement already satisfied: pexpect in /usr/local/lib/python3.7/dist-packages (from ipython->keras-tuner) (4.8.0)\n",
            "Requirement already satisfied: parso<0.9.0,>=0.8.0 in /usr/local/lib/python3.7/dist-packages (from jedi>=0.10->ipython->keras-tuner) (0.8.3)\n",
            "Requirement already satisfied: wcwidth in /usr/local/lib/python3.7/dist-packages (from prompt-toolkit<2.1.0,>=2.0.0->ipython->keras-tuner) (0.2.5)\n",
            "Requirement already satisfied: six>=1.9.0 in /usr/local/lib/python3.7/dist-packages (from prompt-toolkit<2.1.0,>=2.0.0->ipython->keras-tuner) (1.15.0)\n",
            "Requirement already satisfied: pyparsing!=3.0.5,>=2.0.2 in /usr/local/lib/python3.7/dist-packages (from packaging->keras-tuner) (3.0.9)\n",
            "Requirement already satisfied: ptyprocess>=0.5 in /usr/local/lib/python3.7/dist-packages (from pexpect->ipython->keras-tuner) (0.7.0)\n",
            "Requirement already satisfied: urllib3!=1.25.0,!=1.25.1,<1.26,>=1.21.1 in /usr/local/lib/python3.7/dist-packages (from requests->keras-tuner) (1.24.3)\n",
            "Requirement already satisfied: idna<3,>=2.5 in /usr/local/lib/python3.7/dist-packages (from requests->keras-tuner) (2.10)\n",
            "Requirement already satisfied: chardet<4,>=3.0.2 in /usr/local/lib/python3.7/dist-packages (from requests->keras-tuner) (3.0.4)\n",
            "Requirement already satisfied: certifi>=2017.4.17 in /usr/local/lib/python3.7/dist-packages (from requests->keras-tuner) (2022.9.24)\n",
            "Requirement already satisfied: tensorboard-data-server<0.7.0,>=0.6.0 in /usr/local/lib/python3.7/dist-packages (from tensorboard->keras-tuner) (0.6.1)\n",
            "Requirement already satisfied: werkzeug>=1.0.1 in /usr/local/lib/python3.7/dist-packages (from tensorboard->keras-tuner) (1.0.1)\n",
            "Requirement already satisfied: wheel>=0.26 in /usr/local/lib/python3.7/dist-packages (from tensorboard->keras-tuner) (0.37.1)\n",
            "Requirement already satisfied: markdown>=2.6.8 in /usr/local/lib/python3.7/dist-packages (from tensorboard->keras-tuner) (3.4.1)\n",
            "Requirement already satisfied: protobuf<3.20,>=3.9.2 in /usr/local/lib/python3.7/dist-packages (from tensorboard->keras-tuner) (3.17.3)\n",
            "Requirement already satisfied: tensorboard-plugin-wit>=1.6.0 in /usr/local/lib/python3.7/dist-packages (from tensorboard->keras-tuner) (1.8.1)\n",
            "Requirement already satisfied: google-auth-oauthlib<0.5,>=0.4.1 in /usr/local/lib/python3.7/dist-packages (from tensorboard->keras-tuner) (0.4.6)\n",
            "Requirement already satisfied: google-auth<3,>=1.6.3 in /usr/local/lib/python3.7/dist-packages (from tensorboard->keras-tuner) (1.35.0)\n",
            "Requirement already satisfied: absl-py>=0.4 in /usr/local/lib/python3.7/dist-packages (from tensorboard->keras-tuner) (1.3.0)\n",
            "Requirement already satisfied: grpcio>=1.24.3 in /usr/local/lib/python3.7/dist-packages (from tensorboard->keras-tuner) (1.50.0)\n",
            "Requirement already satisfied: rsa<5,>=3.1.4 in /usr/local/lib/python3.7/dist-packages (from google-auth<3,>=1.6.3->tensorboard->keras-tuner) (4.9)\n",
            "Requirement already satisfied: pyasn1-modules>=0.2.1 in /usr/local/lib/python3.7/dist-packages (from google-auth<3,>=1.6.3->tensorboard->keras-tuner) (0.2.8)\n",
            "Requirement already satisfied: cachetools<5.0,>=2.0.0 in /usr/local/lib/python3.7/dist-packages (from google-auth<3,>=1.6.3->tensorboard->keras-tuner) (4.2.4)\n",
            "Requirement already satisfied: requests-oauthlib>=0.7.0 in /usr/local/lib/python3.7/dist-packages (from google-auth-oauthlib<0.5,>=0.4.1->tensorboard->keras-tuner) (1.3.1)\n",
            "Requirement already satisfied: importlib-metadata>=4.4 in /usr/local/lib/python3.7/dist-packages (from markdown>=2.6.8->tensorboard->keras-tuner) (4.13.0)\n",
            "Requirement already satisfied: typing-extensions>=3.6.4 in /usr/local/lib/python3.7/dist-packages (from importlib-metadata>=4.4->markdown>=2.6.8->tensorboard->keras-tuner) (4.1.1)\n",
            "Requirement already satisfied: zipp>=0.5 in /usr/local/lib/python3.7/dist-packages (from importlib-metadata>=4.4->markdown>=2.6.8->tensorboard->keras-tuner) (3.10.0)\n",
            "Requirement already satisfied: pyasn1<0.5.0,>=0.4.6 in /usr/local/lib/python3.7/dist-packages (from pyasn1-modules>=0.2.1->google-auth<3,>=1.6.3->tensorboard->keras-tuner) (0.4.8)\n",
            "Requirement already satisfied: oauthlib>=3.0.0 in /usr/local/lib/python3.7/dist-packages (from requests-oauthlib>=0.7.0->google-auth-oauthlib<0.5,>=0.4.1->tensorboard->keras-tuner) (3.2.2)\n"
          ]
        }
      ]
    },
    {
      "cell_type": "code",
      "source": [
        "import kerastuner as kt"
      ],
      "metadata": {
        "colab": {
          "base_uri": "https://localhost:8080/"
        },
        "id": "VSbm-rQ4j0vA",
        "outputId": "44d82531-2204-4002-8f64-a6f1223c3291"
      },
      "execution_count": 17,
      "outputs": [
        {
          "output_type": "stream",
          "name": "stderr",
          "text": [
            "/usr/local/lib/python3.7/dist-packages/ipykernel_launcher.py:1: DeprecationWarning: `import kerastuner` is deprecated, please use `import keras_tuner`.\n",
            "  \"\"\"Entry point for launching an IPython kernel.\n"
          ]
        }
      ]
    },
    {
      "cell_type": "markdown",
      "source": [
        "**Hyper tunning for optimizer**\n",
        "first build a function"
      ],
      "metadata": {
        "id": "_1AHuuoHkTrB"
      }
    },
    {
      "cell_type": "code",
      "source": [
        "def build_model(hp):\n",
        "  model=Sequential()\n",
        "\n",
        "  model.add(Dense(32,input_dim=8,activation='relu'))\n",
        "  model.add(Dense(1,activation='sigmoid'))\n",
        "  optimizer=hp.Choice('optimizer',values=['adam','sgd','rmsprop','adadelta'])\n",
        "  model.compile(optimizer=optimizer,loss='binary_crossentropy',metrics=['accuracy'])\n",
        "  \n",
        "  return model"
      ],
      "metadata": {
        "id": "SXfX8IlWkOCA"
      },
      "execution_count": 108,
      "outputs": []
    },
    {
      "cell_type": "code",
      "source": [
        "tuner=kt.RandomSearch(build_model,objective='val_accuracy', max_trials=5,directory='s')\n"
      ],
      "metadata": {
        "id": "L8ZU405VkCou"
      },
      "execution_count": 109,
      "outputs": []
    },
    {
      "cell_type": "code",
      "source": [
        "tuner.search(X_train,Y_train,epochs=10,validation_data=(X_test,Y_test))"
      ],
      "metadata": {
        "colab": {
          "base_uri": "https://localhost:8080/"
        },
        "id": "rgAKnIgHlxb0",
        "outputId": "e35eafbd-a61b-4fbf-dd77-8a50808a1778"
      },
      "execution_count": 110,
      "outputs": [
        {
          "output_type": "stream",
          "name": "stdout",
          "text": [
            "Trial 4 Complete [00h 00m 02s]\n",
            "val_accuracy: 0.7467532753944397\n",
            "\n",
            "Best val_accuracy So Far: 0.7597402334213257\n",
            "Total elapsed time: 00h 00m 07s\n"
          ]
        }
      ]
    },
    {
      "cell_type": "code",
      "source": [
        "tuner.get_best_hyperparameters()[0].values"
      ],
      "metadata": {
        "colab": {
          "base_uri": "https://localhost:8080/"
        },
        "id": "vH_7vEE5mDn2",
        "outputId": "2b96dfba-4e10-403c-8b5e-a0ddda133d7c"
      },
      "execution_count": 111,
      "outputs": [
        {
          "output_type": "execute_result",
          "data": {
            "text/plain": [
              "{'optimizer': 'adam'}"
            ]
          },
          "metadata": {},
          "execution_count": 111
        }
      ]
    },
    {
      "cell_type": "code",
      "source": [
        "model_=tuner.get_best_models(num_models=1)[0]"
      ],
      "metadata": {
        "id": "txa8GoxHnNMo"
      },
      "execution_count": 112,
      "outputs": []
    },
    {
      "cell_type": "code",
      "source": [
        "model_.summary()"
      ],
      "metadata": {
        "colab": {
          "base_uri": "https://localhost:8080/"
        },
        "id": "rfodQ5l1n2LW",
        "outputId": "40edefa4-4a2a-4d9d-ef9c-0fca23deba69"
      },
      "execution_count": 113,
      "outputs": [
        {
          "output_type": "stream",
          "name": "stdout",
          "text": [
            "Model: \"sequential\"\n",
            "_________________________________________________________________\n",
            " Layer (type)                Output Shape              Param #   \n",
            "=================================================================\n",
            " dense (Dense)               (None, 32)                288       \n",
            "                                                                 \n",
            " dense_1 (Dense)             (None, 1)                 33        \n",
            "                                                                 \n",
            "=================================================================\n",
            "Total params: 321\n",
            "Trainable params: 321\n",
            "Non-trainable params: 0\n",
            "_________________________________________________________________\n"
          ]
        }
      ]
    },
    {
      "cell_type": "code",
      "source": [
        "model_.fit(X_train,Y_train,batch_size=32,initial_epoch=6,epochs=100,validation_data=(X_test,Y_test))"
      ],
      "metadata": {
        "colab": {
          "base_uri": "https://localhost:8080/"
        },
        "id": "qJOrxfyon6CS",
        "outputId": "46aed019-05d3-4c9d-e7d3-24b6e96826e4"
      },
      "execution_count": 114,
      "outputs": [
        {
          "output_type": "stream",
          "name": "stdout",
          "text": [
            "Epoch 7/100\n",
            "20/20 [==============================] - 1s 11ms/step - loss: 0.4865 - accuracy: 0.7606 - val_loss: 0.5227 - val_accuracy: 0.7532\n",
            "Epoch 8/100\n",
            "20/20 [==============================] - 0s 5ms/step - loss: 0.4801 - accuracy: 0.7573 - val_loss: 0.5201 - val_accuracy: 0.7468\n",
            "Epoch 9/100\n",
            "20/20 [==============================] - 0s 5ms/step - loss: 0.4738 - accuracy: 0.7638 - val_loss: 0.5154 - val_accuracy: 0.7727\n",
            "Epoch 10/100\n",
            "20/20 [==============================] - 0s 6ms/step - loss: 0.4694 - accuracy: 0.7687 - val_loss: 0.5140 - val_accuracy: 0.7662\n",
            "Epoch 11/100\n",
            "20/20 [==============================] - 0s 5ms/step - loss: 0.4647 - accuracy: 0.7704 - val_loss: 0.5126 - val_accuracy: 0.7662\n",
            "Epoch 12/100\n",
            "20/20 [==============================] - 0s 6ms/step - loss: 0.4607 - accuracy: 0.7720 - val_loss: 0.5124 - val_accuracy: 0.7597\n",
            "Epoch 13/100\n",
            "20/20 [==============================] - 0s 6ms/step - loss: 0.4573 - accuracy: 0.7736 - val_loss: 0.5115 - val_accuracy: 0.7727\n",
            "Epoch 14/100\n",
            "20/20 [==============================] - 0s 5ms/step - loss: 0.4544 - accuracy: 0.7752 - val_loss: 0.5127 - val_accuracy: 0.7792\n",
            "Epoch 15/100\n",
            "20/20 [==============================] - 0s 5ms/step - loss: 0.4520 - accuracy: 0.7752 - val_loss: 0.5122 - val_accuracy: 0.7792\n",
            "Epoch 16/100\n",
            "20/20 [==============================] - 0s 5ms/step - loss: 0.4497 - accuracy: 0.7769 - val_loss: 0.5120 - val_accuracy: 0.7792\n",
            "Epoch 17/100\n",
            "20/20 [==============================] - 0s 6ms/step - loss: 0.4479 - accuracy: 0.7850 - val_loss: 0.5103 - val_accuracy: 0.7727\n",
            "Epoch 18/100\n",
            "20/20 [==============================] - 0s 5ms/step - loss: 0.4456 - accuracy: 0.7850 - val_loss: 0.5135 - val_accuracy: 0.7857\n",
            "Epoch 19/100\n",
            "20/20 [==============================] - 0s 5ms/step - loss: 0.4445 - accuracy: 0.7834 - val_loss: 0.5156 - val_accuracy: 0.7792\n",
            "Epoch 20/100\n",
            "20/20 [==============================] - 0s 6ms/step - loss: 0.4430 - accuracy: 0.7801 - val_loss: 0.5156 - val_accuracy: 0.7727\n",
            "Epoch 21/100\n",
            "20/20 [==============================] - 0s 6ms/step - loss: 0.4415 - accuracy: 0.7850 - val_loss: 0.5146 - val_accuracy: 0.7727\n",
            "Epoch 22/100\n",
            "20/20 [==============================] - 0s 5ms/step - loss: 0.4406 - accuracy: 0.7834 - val_loss: 0.5179 - val_accuracy: 0.7662\n",
            "Epoch 23/100\n",
            "20/20 [==============================] - 0s 5ms/step - loss: 0.4396 - accuracy: 0.7883 - val_loss: 0.5182 - val_accuracy: 0.7662\n",
            "Epoch 24/100\n",
            "20/20 [==============================] - 0s 5ms/step - loss: 0.4382 - accuracy: 0.7866 - val_loss: 0.5193 - val_accuracy: 0.7662\n",
            "Epoch 25/100\n",
            "20/20 [==============================] - 0s 5ms/step - loss: 0.4371 - accuracy: 0.7883 - val_loss: 0.5183 - val_accuracy: 0.7727\n",
            "Epoch 26/100\n",
            "20/20 [==============================] - 0s 6ms/step - loss: 0.4360 - accuracy: 0.7818 - val_loss: 0.5179 - val_accuracy: 0.7727\n",
            "Epoch 27/100\n",
            "20/20 [==============================] - 0s 5ms/step - loss: 0.4349 - accuracy: 0.7883 - val_loss: 0.5182 - val_accuracy: 0.7727\n",
            "Epoch 28/100\n",
            "20/20 [==============================] - 0s 5ms/step - loss: 0.4343 - accuracy: 0.7883 - val_loss: 0.5179 - val_accuracy: 0.7727\n",
            "Epoch 29/100\n",
            "20/20 [==============================] - 0s 5ms/step - loss: 0.4334 - accuracy: 0.7883 - val_loss: 0.5188 - val_accuracy: 0.7727\n",
            "Epoch 30/100\n",
            "20/20 [==============================] - 0s 4ms/step - loss: 0.4326 - accuracy: 0.7883 - val_loss: 0.5191 - val_accuracy: 0.7727\n",
            "Epoch 31/100\n",
            "20/20 [==============================] - 0s 5ms/step - loss: 0.4318 - accuracy: 0.7866 - val_loss: 0.5197 - val_accuracy: 0.7727\n",
            "Epoch 32/100\n",
            "20/20 [==============================] - 0s 5ms/step - loss: 0.4312 - accuracy: 0.7883 - val_loss: 0.5196 - val_accuracy: 0.7727\n",
            "Epoch 33/100\n",
            "20/20 [==============================] - 0s 4ms/step - loss: 0.4305 - accuracy: 0.7932 - val_loss: 0.5217 - val_accuracy: 0.7727\n",
            "Epoch 34/100\n",
            "20/20 [==============================] - 0s 5ms/step - loss: 0.4298 - accuracy: 0.7915 - val_loss: 0.5212 - val_accuracy: 0.7727\n",
            "Epoch 35/100\n",
            "20/20 [==============================] - 0s 4ms/step - loss: 0.4293 - accuracy: 0.7964 - val_loss: 0.5200 - val_accuracy: 0.7727\n",
            "Epoch 36/100\n",
            "20/20 [==============================] - 0s 5ms/step - loss: 0.4289 - accuracy: 0.7980 - val_loss: 0.5224 - val_accuracy: 0.7727\n",
            "Epoch 37/100\n",
            "20/20 [==============================] - 0s 4ms/step - loss: 0.4281 - accuracy: 0.7997 - val_loss: 0.5240 - val_accuracy: 0.7727\n",
            "Epoch 38/100\n",
            "20/20 [==============================] - 0s 5ms/step - loss: 0.4270 - accuracy: 0.7997 - val_loss: 0.5259 - val_accuracy: 0.7727\n",
            "Epoch 39/100\n",
            "20/20 [==============================] - 0s 4ms/step - loss: 0.4273 - accuracy: 0.7899 - val_loss: 0.5280 - val_accuracy: 0.7727\n",
            "Epoch 40/100\n",
            "20/20 [==============================] - 0s 5ms/step - loss: 0.4263 - accuracy: 0.7883 - val_loss: 0.5277 - val_accuracy: 0.7727\n",
            "Epoch 41/100\n",
            "20/20 [==============================] - 0s 5ms/step - loss: 0.4256 - accuracy: 0.7932 - val_loss: 0.5294 - val_accuracy: 0.7727\n",
            "Epoch 42/100\n",
            "20/20 [==============================] - 0s 5ms/step - loss: 0.4246 - accuracy: 0.7964 - val_loss: 0.5267 - val_accuracy: 0.7727\n",
            "Epoch 43/100\n",
            "20/20 [==============================] - 0s 4ms/step - loss: 0.4241 - accuracy: 0.7980 - val_loss: 0.5278 - val_accuracy: 0.7727\n",
            "Epoch 44/100\n",
            "20/20 [==============================] - 0s 5ms/step - loss: 0.4239 - accuracy: 0.7964 - val_loss: 0.5241 - val_accuracy: 0.7727\n",
            "Epoch 45/100\n",
            "20/20 [==============================] - 0s 5ms/step - loss: 0.4229 - accuracy: 0.7932 - val_loss: 0.5261 - val_accuracy: 0.7727\n",
            "Epoch 46/100\n",
            "20/20 [==============================] - 0s 5ms/step - loss: 0.4223 - accuracy: 0.7932 - val_loss: 0.5281 - val_accuracy: 0.7727\n",
            "Epoch 47/100\n",
            "20/20 [==============================] - 0s 4ms/step - loss: 0.4222 - accuracy: 0.7964 - val_loss: 0.5265 - val_accuracy: 0.7727\n",
            "Epoch 48/100\n",
            "20/20 [==============================] - 0s 4ms/step - loss: 0.4218 - accuracy: 0.7948 - val_loss: 0.5284 - val_accuracy: 0.7662\n",
            "Epoch 49/100\n",
            "20/20 [==============================] - 0s 5ms/step - loss: 0.4209 - accuracy: 0.7997 - val_loss: 0.5281 - val_accuracy: 0.7662\n",
            "Epoch 50/100\n",
            "20/20 [==============================] - 0s 4ms/step - loss: 0.4209 - accuracy: 0.7997 - val_loss: 0.5296 - val_accuracy: 0.7662\n",
            "Epoch 51/100\n",
            "20/20 [==============================] - 0s 4ms/step - loss: 0.4201 - accuracy: 0.8013 - val_loss: 0.5301 - val_accuracy: 0.7662\n",
            "Epoch 52/100\n",
            "20/20 [==============================] - 0s 4ms/step - loss: 0.4194 - accuracy: 0.7997 - val_loss: 0.5291 - val_accuracy: 0.7662\n",
            "Epoch 53/100\n",
            "20/20 [==============================] - 0s 4ms/step - loss: 0.4187 - accuracy: 0.8046 - val_loss: 0.5298 - val_accuracy: 0.7597\n",
            "Epoch 54/100\n",
            "20/20 [==============================] - 0s 5ms/step - loss: 0.4186 - accuracy: 0.7997 - val_loss: 0.5312 - val_accuracy: 0.7662\n",
            "Epoch 55/100\n",
            "20/20 [==============================] - 0s 4ms/step - loss: 0.4180 - accuracy: 0.7997 - val_loss: 0.5304 - val_accuracy: 0.7662\n",
            "Epoch 56/100\n",
            "20/20 [==============================] - 0s 5ms/step - loss: 0.4175 - accuracy: 0.7980 - val_loss: 0.5330 - val_accuracy: 0.7662\n",
            "Epoch 57/100\n",
            "20/20 [==============================] - 0s 4ms/step - loss: 0.4173 - accuracy: 0.7997 - val_loss: 0.5332 - val_accuracy: 0.7662\n",
            "Epoch 58/100\n",
            "20/20 [==============================] - 0s 4ms/step - loss: 0.4165 - accuracy: 0.7997 - val_loss: 0.5326 - val_accuracy: 0.7662\n",
            "Epoch 59/100\n",
            "20/20 [==============================] - 0s 4ms/step - loss: 0.4167 - accuracy: 0.7964 - val_loss: 0.5336 - val_accuracy: 0.7662\n",
            "Epoch 60/100\n",
            "20/20 [==============================] - 0s 4ms/step - loss: 0.4160 - accuracy: 0.7997 - val_loss: 0.5340 - val_accuracy: 0.7662\n",
            "Epoch 61/100\n",
            "20/20 [==============================] - 0s 4ms/step - loss: 0.4155 - accuracy: 0.7997 - val_loss: 0.5338 - val_accuracy: 0.7662\n",
            "Epoch 62/100\n",
            "20/20 [==============================] - 0s 4ms/step - loss: 0.4151 - accuracy: 0.7964 - val_loss: 0.5342 - val_accuracy: 0.7662\n",
            "Epoch 63/100\n",
            "20/20 [==============================] - 0s 4ms/step - loss: 0.4151 - accuracy: 0.7964 - val_loss: 0.5349 - val_accuracy: 0.7662\n",
            "Epoch 64/100\n",
            "20/20 [==============================] - 0s 5ms/step - loss: 0.4143 - accuracy: 0.7980 - val_loss: 0.5351 - val_accuracy: 0.7662\n",
            "Epoch 65/100\n",
            "20/20 [==============================] - 0s 5ms/step - loss: 0.4141 - accuracy: 0.7948 - val_loss: 0.5394 - val_accuracy: 0.7727\n",
            "Epoch 66/100\n",
            "20/20 [==============================] - 0s 4ms/step - loss: 0.4134 - accuracy: 0.7964 - val_loss: 0.5392 - val_accuracy: 0.7727\n",
            "Epoch 67/100\n",
            "20/20 [==============================] - 0s 5ms/step - loss: 0.4131 - accuracy: 0.7997 - val_loss: 0.5367 - val_accuracy: 0.7727\n",
            "Epoch 68/100\n",
            "20/20 [==============================] - 0s 4ms/step - loss: 0.4127 - accuracy: 0.8013 - val_loss: 0.5361 - val_accuracy: 0.7727\n",
            "Epoch 69/100\n",
            "20/20 [==============================] - 0s 4ms/step - loss: 0.4126 - accuracy: 0.7997 - val_loss: 0.5370 - val_accuracy: 0.7727\n",
            "Epoch 70/100\n",
            "20/20 [==============================] - 0s 7ms/step - loss: 0.4121 - accuracy: 0.8013 - val_loss: 0.5355 - val_accuracy: 0.7727\n",
            "Epoch 71/100\n",
            "20/20 [==============================] - 0s 10ms/step - loss: 0.4114 - accuracy: 0.8013 - val_loss: 0.5363 - val_accuracy: 0.7662\n",
            "Epoch 72/100\n",
            "20/20 [==============================] - 0s 4ms/step - loss: 0.4111 - accuracy: 0.8046 - val_loss: 0.5350 - val_accuracy: 0.7662\n",
            "Epoch 73/100\n",
            "20/20 [==============================] - 0s 5ms/step - loss: 0.4110 - accuracy: 0.8046 - val_loss: 0.5368 - val_accuracy: 0.7662\n",
            "Epoch 74/100\n",
            "20/20 [==============================] - 0s 5ms/step - loss: 0.4104 - accuracy: 0.8029 - val_loss: 0.5374 - val_accuracy: 0.7662\n",
            "Epoch 75/100\n",
            "20/20 [==============================] - 0s 5ms/step - loss: 0.4101 - accuracy: 0.8029 - val_loss: 0.5376 - val_accuracy: 0.7727\n",
            "Epoch 76/100\n",
            "20/20 [==============================] - 0s 4ms/step - loss: 0.4101 - accuracy: 0.8062 - val_loss: 0.5384 - val_accuracy: 0.7662\n",
            "Epoch 77/100\n",
            "20/20 [==============================] - 0s 4ms/step - loss: 0.4094 - accuracy: 0.8078 - val_loss: 0.5388 - val_accuracy: 0.7662\n",
            "Epoch 78/100\n",
            "20/20 [==============================] - 0s 4ms/step - loss: 0.4091 - accuracy: 0.8062 - val_loss: 0.5390 - val_accuracy: 0.7662\n",
            "Epoch 79/100\n",
            "20/20 [==============================] - 0s 5ms/step - loss: 0.4089 - accuracy: 0.8062 - val_loss: 0.5382 - val_accuracy: 0.7662\n",
            "Epoch 80/100\n",
            "20/20 [==============================] - 0s 4ms/step - loss: 0.4086 - accuracy: 0.8029 - val_loss: 0.5386 - val_accuracy: 0.7662\n",
            "Epoch 81/100\n",
            "20/20 [==============================] - 0s 5ms/step - loss: 0.4089 - accuracy: 0.8062 - val_loss: 0.5381 - val_accuracy: 0.7662\n",
            "Epoch 82/100\n",
            "20/20 [==============================] - 0s 4ms/step - loss: 0.4084 - accuracy: 0.8078 - val_loss: 0.5390 - val_accuracy: 0.7662\n",
            "Epoch 83/100\n",
            "20/20 [==============================] - 0s 5ms/step - loss: 0.4076 - accuracy: 0.8046 - val_loss: 0.5393 - val_accuracy: 0.7662\n",
            "Epoch 84/100\n",
            "20/20 [==============================] - 0s 9ms/step - loss: 0.4071 - accuracy: 0.8046 - val_loss: 0.5395 - val_accuracy: 0.7662\n",
            "Epoch 85/100\n",
            "20/20 [==============================] - 0s 10ms/step - loss: 0.4069 - accuracy: 0.8062 - val_loss: 0.5388 - val_accuracy: 0.7662\n",
            "Epoch 86/100\n",
            "20/20 [==============================] - 0s 8ms/step - loss: 0.4066 - accuracy: 0.8046 - val_loss: 0.5368 - val_accuracy: 0.7662\n",
            "Epoch 87/100\n",
            "20/20 [==============================] - 0s 7ms/step - loss: 0.4064 - accuracy: 0.8046 - val_loss: 0.5372 - val_accuracy: 0.7662\n",
            "Epoch 88/100\n",
            "20/20 [==============================] - 0s 9ms/step - loss: 0.4061 - accuracy: 0.8046 - val_loss: 0.5390 - val_accuracy: 0.7662\n",
            "Epoch 89/100\n",
            "20/20 [==============================] - 0s 10ms/step - loss: 0.4059 - accuracy: 0.8029 - val_loss: 0.5441 - val_accuracy: 0.7727\n",
            "Epoch 90/100\n",
            "20/20 [==============================] - 0s 5ms/step - loss: 0.4057 - accuracy: 0.8046 - val_loss: 0.5429 - val_accuracy: 0.7727\n",
            "Epoch 91/100\n",
            "20/20 [==============================] - 0s 5ms/step - loss: 0.4054 - accuracy: 0.8078 - val_loss: 0.5423 - val_accuracy: 0.7662\n",
            "Epoch 92/100\n",
            "20/20 [==============================] - 0s 6ms/step - loss: 0.4049 - accuracy: 0.8094 - val_loss: 0.5421 - val_accuracy: 0.7662\n",
            "Epoch 93/100\n",
            "20/20 [==============================] - 0s 9ms/step - loss: 0.4044 - accuracy: 0.8062 - val_loss: 0.5425 - val_accuracy: 0.7662\n",
            "Epoch 94/100\n",
            "20/20 [==============================] - 0s 10ms/step - loss: 0.4056 - accuracy: 0.8094 - val_loss: 0.5412 - val_accuracy: 0.7662\n",
            "Epoch 95/100\n",
            "20/20 [==============================] - 0s 10ms/step - loss: 0.4045 - accuracy: 0.8046 - val_loss: 0.5423 - val_accuracy: 0.7597\n",
            "Epoch 96/100\n",
            "20/20 [==============================] - 0s 13ms/step - loss: 0.4039 - accuracy: 0.8029 - val_loss: 0.5384 - val_accuracy: 0.7727\n",
            "Epoch 97/100\n",
            "20/20 [==============================] - 0s 12ms/step - loss: 0.4039 - accuracy: 0.8029 - val_loss: 0.5402 - val_accuracy: 0.7662\n",
            "Epoch 98/100\n",
            "20/20 [==============================] - 0s 7ms/step - loss: 0.4038 - accuracy: 0.8046 - val_loss: 0.5391 - val_accuracy: 0.7662\n",
            "Epoch 99/100\n",
            "20/20 [==============================] - 0s 9ms/step - loss: 0.4035 - accuracy: 0.8046 - val_loss: 0.5393 - val_accuracy: 0.7662\n",
            "Epoch 100/100\n",
            "20/20 [==============================] - 0s 8ms/step - loss: 0.4024 - accuracy: 0.8078 - val_loss: 0.5420 - val_accuracy: 0.7597\n"
          ]
        },
        {
          "output_type": "execute_result",
          "data": {
            "text/plain": [
              "<keras.callbacks.History at 0x7fe472ce5ed0>"
            ]
          },
          "metadata": {},
          "execution_count": 114
        }
      ]
    },
    {
      "cell_type": "markdown",
      "source": [
        "**hyper tune**\n",
        "Number of neuron in a single layer"
      ],
      "metadata": {
        "id": "jjcLKZjCo3fH"
      }
    },
    {
      "cell_type": "code",
      "source": [
        "def build_model(hp):\n",
        "  model=Sequential()\n",
        "  units=hp.Int('node',8,128,step=8)\n",
        "  model.add(Dense(units=units,input_dim=8,activation='relu'))\n",
        "  model.add(Dense(1,activation='sigmoid'))\n",
        "  optimizer=hp.Choice('optimizer',values=['adam','sgd','rmsprop','adadelta'])\n",
        "  model.compile(optimizer=optimizer,loss='binary_crossentropy',metrics=['accuracy'])\n",
        "  \n",
        "  return model"
      ],
      "metadata": {
        "id": "hCIjyr9NoPYW"
      },
      "execution_count": 115,
      "outputs": []
    },
    {
      "cell_type": "code",
      "source": [
        "tuner_=kt.RandomSearch(build_model,objective='val_accuracy', max_trials=5,directory='sa')"
      ],
      "metadata": {
        "id": "TcrsgbaHpgln"
      },
      "execution_count": 116,
      "outputs": []
    },
    {
      "cell_type": "code",
      "source": [
        "tuner_.search(X_train,Y_train,epochs=10,validation_data=(X_test,Y_test))"
      ],
      "metadata": {
        "colab": {
          "base_uri": "https://localhost:8080/"
        },
        "id": "OL4xSvoZptav",
        "outputId": "bae457a2-baff-4643-915d-d47edd82097a"
      },
      "execution_count": 117,
      "outputs": [
        {
          "output_type": "stream",
          "name": "stdout",
          "text": [
            "Trial 5 Complete [00h 00m 02s]\n",
            "val_accuracy: 0.7922077775001526\n",
            "\n",
            "Best val_accuracy So Far: 0.7922077775001526\n",
            "Total elapsed time: 00h 00m 11s\n"
          ]
        }
      ]
    },
    {
      "cell_type": "code",
      "source": [
        "tuner_.get_best_hyperparameters()[0].values"
      ],
      "metadata": {
        "colab": {
          "base_uri": "https://localhost:8080/"
        },
        "id": "RtGJI5MuqJAb",
        "outputId": "10387572-123a-49ed-c442-625e2b900e3d"
      },
      "execution_count": 118,
      "outputs": [
        {
          "output_type": "execute_result",
          "data": {
            "text/plain": [
              "{'node': 120, 'optimizer': 'rmsprop'}"
            ]
          },
          "metadata": {},
          "execution_count": 118
        }
      ]
    },
    {
      "cell_type": "code",
      "source": [
        "model_1=tuner_.get_best_models(num_models=1)[0]"
      ],
      "metadata": {
        "id": "VVhchsssqQ7y"
      },
      "execution_count": 119,
      "outputs": []
    },
    {
      "cell_type": "code",
      "source": [
        "model_1.summary()"
      ],
      "metadata": {
        "colab": {
          "base_uri": "https://localhost:8080/"
        },
        "id": "56Xef5hetJio",
        "outputId": "b5c789d0-0ef4-463d-cdf6-a45f078e3444"
      },
      "execution_count": 120,
      "outputs": [
        {
          "output_type": "stream",
          "name": "stdout",
          "text": [
            "Model: \"sequential\"\n",
            "_________________________________________________________________\n",
            " Layer (type)                Output Shape              Param #   \n",
            "=================================================================\n",
            " dense (Dense)               (None, 120)               1080      \n",
            "                                                                 \n",
            " dense_1 (Dense)             (None, 1)                 121       \n",
            "                                                                 \n",
            "=================================================================\n",
            "Total params: 1,201\n",
            "Trainable params: 1,201\n",
            "Non-trainable params: 0\n",
            "_________________________________________________________________\n"
          ]
        }
      ]
    },
    {
      "cell_type": "code",
      "source": [
        "model_1.fit(X_train,Y_train,batch_size=32,initial_epoch=10,epochs=100,validation_data=(X_test,Y_test))"
      ],
      "metadata": {
        "colab": {
          "base_uri": "https://localhost:8080/"
        },
        "id": "zAklvm-atWty",
        "outputId": "7b73deac-93da-4e45-bda2-dd8f5e9f6d0d"
      },
      "execution_count": 121,
      "outputs": [
        {
          "output_type": "stream",
          "name": "stdout",
          "text": [
            "Epoch 11/100\n",
            "20/20 [==============================] - 1s 13ms/step - loss: 0.5074 - accuracy: 0.7622 - val_loss: 0.5144 - val_accuracy: 0.7662\n",
            "Epoch 12/100\n",
            "20/20 [==============================] - 0s 6ms/step - loss: 0.4836 - accuracy: 0.7687 - val_loss: 0.5033 - val_accuracy: 0.7792\n",
            "Epoch 13/100\n",
            "20/20 [==============================] - 0s 6ms/step - loss: 0.4704 - accuracy: 0.7687 - val_loss: 0.5017 - val_accuracy: 0.7857\n",
            "Epoch 14/100\n",
            "20/20 [==============================] - 0s 5ms/step - loss: 0.4608 - accuracy: 0.7671 - val_loss: 0.5020 - val_accuracy: 0.7662\n",
            "Epoch 15/100\n",
            "20/20 [==============================] - 0s 5ms/step - loss: 0.4539 - accuracy: 0.7752 - val_loss: 0.5031 - val_accuracy: 0.7532\n",
            "Epoch 16/100\n",
            "20/20 [==============================] - 0s 6ms/step - loss: 0.4492 - accuracy: 0.7801 - val_loss: 0.5052 - val_accuracy: 0.7403\n",
            "Epoch 17/100\n",
            "20/20 [==============================] - 0s 5ms/step - loss: 0.4457 - accuracy: 0.7834 - val_loss: 0.5066 - val_accuracy: 0.7403\n",
            "Epoch 18/100\n",
            "20/20 [==============================] - 0s 5ms/step - loss: 0.4428 - accuracy: 0.7801 - val_loss: 0.5054 - val_accuracy: 0.7532\n",
            "Epoch 19/100\n",
            "20/20 [==============================] - 0s 6ms/step - loss: 0.4402 - accuracy: 0.7866 - val_loss: 0.5063 - val_accuracy: 0.7597\n",
            "Epoch 20/100\n",
            "20/20 [==============================] - 0s 6ms/step - loss: 0.4375 - accuracy: 0.7834 - val_loss: 0.5095 - val_accuracy: 0.7597\n",
            "Epoch 21/100\n",
            "20/20 [==============================] - 0s 6ms/step - loss: 0.4356 - accuracy: 0.7883 - val_loss: 0.5138 - val_accuracy: 0.7532\n",
            "Epoch 22/100\n",
            "20/20 [==============================] - 0s 5ms/step - loss: 0.4339 - accuracy: 0.7899 - val_loss: 0.5155 - val_accuracy: 0.7597\n",
            "Epoch 23/100\n",
            "20/20 [==============================] - 0s 5ms/step - loss: 0.4321 - accuracy: 0.7948 - val_loss: 0.5187 - val_accuracy: 0.7597\n",
            "Epoch 24/100\n",
            "20/20 [==============================] - 0s 6ms/step - loss: 0.4305 - accuracy: 0.7899 - val_loss: 0.5224 - val_accuracy: 0.7468\n",
            "Epoch 25/100\n",
            "20/20 [==============================] - 0s 6ms/step - loss: 0.4287 - accuracy: 0.7932 - val_loss: 0.5242 - val_accuracy: 0.7468\n",
            "Epoch 26/100\n",
            "20/20 [==============================] - 0s 6ms/step - loss: 0.4273 - accuracy: 0.7899 - val_loss: 0.5244 - val_accuracy: 0.7532\n",
            "Epoch 27/100\n",
            "20/20 [==============================] - 0s 5ms/step - loss: 0.4253 - accuracy: 0.7883 - val_loss: 0.5270 - val_accuracy: 0.7468\n",
            "Epoch 28/100\n",
            "20/20 [==============================] - 0s 6ms/step - loss: 0.4242 - accuracy: 0.7932 - val_loss: 0.5281 - val_accuracy: 0.7532\n",
            "Epoch 29/100\n",
            "20/20 [==============================] - 0s 6ms/step - loss: 0.4226 - accuracy: 0.7932 - val_loss: 0.5267 - val_accuracy: 0.7597\n",
            "Epoch 30/100\n",
            "20/20 [==============================] - 0s 5ms/step - loss: 0.4219 - accuracy: 0.7932 - val_loss: 0.5261 - val_accuracy: 0.7597\n",
            "Epoch 31/100\n",
            "20/20 [==============================] - 0s 5ms/step - loss: 0.4205 - accuracy: 0.7932 - val_loss: 0.5285 - val_accuracy: 0.7597\n",
            "Epoch 32/100\n",
            "20/20 [==============================] - 0s 5ms/step - loss: 0.4198 - accuracy: 0.7915 - val_loss: 0.5315 - val_accuracy: 0.7532\n",
            "Epoch 33/100\n",
            "20/20 [==============================] - 0s 5ms/step - loss: 0.4180 - accuracy: 0.7899 - val_loss: 0.5344 - val_accuracy: 0.7532\n",
            "Epoch 34/100\n",
            "20/20 [==============================] - 0s 5ms/step - loss: 0.4180 - accuracy: 0.7964 - val_loss: 0.5361 - val_accuracy: 0.7468\n",
            "Epoch 35/100\n",
            "20/20 [==============================] - 0s 5ms/step - loss: 0.4165 - accuracy: 0.7948 - val_loss: 0.5368 - val_accuracy: 0.7597\n",
            "Epoch 36/100\n",
            "20/20 [==============================] - 0s 5ms/step - loss: 0.4156 - accuracy: 0.7980 - val_loss: 0.5404 - val_accuracy: 0.7532\n",
            "Epoch 37/100\n",
            "20/20 [==============================] - 0s 5ms/step - loss: 0.4144 - accuracy: 0.7997 - val_loss: 0.5389 - val_accuracy: 0.7468\n",
            "Epoch 38/100\n",
            "20/20 [==============================] - 0s 5ms/step - loss: 0.4136 - accuracy: 0.7997 - val_loss: 0.5393 - val_accuracy: 0.7468\n",
            "Epoch 39/100\n",
            "20/20 [==============================] - 0s 5ms/step - loss: 0.4127 - accuracy: 0.8013 - val_loss: 0.5394 - val_accuracy: 0.7597\n",
            "Epoch 40/100\n",
            "20/20 [==============================] - 0s 5ms/step - loss: 0.4127 - accuracy: 0.7883 - val_loss: 0.5424 - val_accuracy: 0.7403\n",
            "Epoch 41/100\n",
            "20/20 [==============================] - 0s 6ms/step - loss: 0.4114 - accuracy: 0.7948 - val_loss: 0.5401 - val_accuracy: 0.7468\n",
            "Epoch 42/100\n",
            "20/20 [==============================] - 0s 5ms/step - loss: 0.4106 - accuracy: 0.7980 - val_loss: 0.5407 - val_accuracy: 0.7532\n",
            "Epoch 43/100\n",
            "20/20 [==============================] - 0s 6ms/step - loss: 0.4099 - accuracy: 0.8013 - val_loss: 0.5434 - val_accuracy: 0.7532\n",
            "Epoch 44/100\n",
            "20/20 [==============================] - 0s 5ms/step - loss: 0.4092 - accuracy: 0.8046 - val_loss: 0.5440 - val_accuracy: 0.7403\n",
            "Epoch 45/100\n",
            "20/20 [==============================] - 0s 5ms/step - loss: 0.4085 - accuracy: 0.8046 - val_loss: 0.5455 - val_accuracy: 0.7403\n",
            "Epoch 46/100\n",
            "20/20 [==============================] - 0s 6ms/step - loss: 0.4074 - accuracy: 0.7980 - val_loss: 0.5427 - val_accuracy: 0.7403\n",
            "Epoch 47/100\n",
            "20/20 [==============================] - 0s 5ms/step - loss: 0.4065 - accuracy: 0.7980 - val_loss: 0.5416 - val_accuracy: 0.7468\n",
            "Epoch 48/100\n",
            "20/20 [==============================] - 0s 5ms/step - loss: 0.4061 - accuracy: 0.8046 - val_loss: 0.5451 - val_accuracy: 0.7468\n",
            "Epoch 49/100\n",
            "20/20 [==============================] - 0s 5ms/step - loss: 0.4052 - accuracy: 0.8046 - val_loss: 0.5470 - val_accuracy: 0.7468\n",
            "Epoch 50/100\n",
            "20/20 [==============================] - 0s 6ms/step - loss: 0.4046 - accuracy: 0.8111 - val_loss: 0.5456 - val_accuracy: 0.7403\n",
            "Epoch 51/100\n",
            "20/20 [==============================] - 0s 5ms/step - loss: 0.4036 - accuracy: 0.8013 - val_loss: 0.5453 - val_accuracy: 0.7532\n",
            "Epoch 52/100\n",
            "20/20 [==============================] - 0s 5ms/step - loss: 0.4031 - accuracy: 0.8078 - val_loss: 0.5474 - val_accuracy: 0.7338\n",
            "Epoch 53/100\n",
            "20/20 [==============================] - 0s 5ms/step - loss: 0.4025 - accuracy: 0.8094 - val_loss: 0.5508 - val_accuracy: 0.7273\n",
            "Epoch 54/100\n",
            "20/20 [==============================] - 0s 5ms/step - loss: 0.4021 - accuracy: 0.8062 - val_loss: 0.5513 - val_accuracy: 0.7338\n",
            "Epoch 55/100\n",
            "20/20 [==============================] - 0s 6ms/step - loss: 0.4017 - accuracy: 0.8029 - val_loss: 0.5503 - val_accuracy: 0.7338\n",
            "Epoch 56/100\n",
            "20/20 [==============================] - 0s 5ms/step - loss: 0.3998 - accuracy: 0.8094 - val_loss: 0.5512 - val_accuracy: 0.7468\n",
            "Epoch 57/100\n",
            "20/20 [==============================] - 0s 5ms/step - loss: 0.4000 - accuracy: 0.8160 - val_loss: 0.5532 - val_accuracy: 0.7338\n",
            "Epoch 58/100\n",
            "20/20 [==============================] - 0s 5ms/step - loss: 0.3987 - accuracy: 0.8094 - val_loss: 0.5543 - val_accuracy: 0.7468\n",
            "Epoch 59/100\n",
            "20/20 [==============================] - 0s 6ms/step - loss: 0.3985 - accuracy: 0.8094 - val_loss: 0.5541 - val_accuracy: 0.7468\n",
            "Epoch 60/100\n",
            "20/20 [==============================] - 0s 5ms/step - loss: 0.3984 - accuracy: 0.8094 - val_loss: 0.5533 - val_accuracy: 0.7468\n",
            "Epoch 61/100\n",
            "20/20 [==============================] - 0s 5ms/step - loss: 0.3973 - accuracy: 0.8029 - val_loss: 0.5527 - val_accuracy: 0.7468\n",
            "Epoch 62/100\n",
            "20/20 [==============================] - 0s 5ms/step - loss: 0.3963 - accuracy: 0.8094 - val_loss: 0.5566 - val_accuracy: 0.7208\n",
            "Epoch 63/100\n",
            "20/20 [==============================] - 0s 6ms/step - loss: 0.3967 - accuracy: 0.8143 - val_loss: 0.5598 - val_accuracy: 0.7273\n",
            "Epoch 64/100\n",
            "20/20 [==============================] - 0s 5ms/step - loss: 0.3957 - accuracy: 0.8111 - val_loss: 0.5576 - val_accuracy: 0.7208\n",
            "Epoch 65/100\n",
            "20/20 [==============================] - 0s 5ms/step - loss: 0.3954 - accuracy: 0.8062 - val_loss: 0.5572 - val_accuracy: 0.7273\n",
            "Epoch 66/100\n",
            "20/20 [==============================] - 0s 4ms/step - loss: 0.3946 - accuracy: 0.8062 - val_loss: 0.5556 - val_accuracy: 0.7403\n",
            "Epoch 67/100\n",
            "20/20 [==============================] - 0s 5ms/step - loss: 0.3939 - accuracy: 0.8127 - val_loss: 0.5540 - val_accuracy: 0.7403\n",
            "Epoch 68/100\n",
            "20/20 [==============================] - 0s 5ms/step - loss: 0.3932 - accuracy: 0.8160 - val_loss: 0.5569 - val_accuracy: 0.7273\n",
            "Epoch 69/100\n",
            "20/20 [==============================] - 0s 5ms/step - loss: 0.3922 - accuracy: 0.8143 - val_loss: 0.5570 - val_accuracy: 0.7273\n",
            "Epoch 70/100\n",
            "20/20 [==============================] - 0s 5ms/step - loss: 0.3920 - accuracy: 0.8127 - val_loss: 0.5577 - val_accuracy: 0.7403\n",
            "Epoch 71/100\n",
            "20/20 [==============================] - 0s 5ms/step - loss: 0.3911 - accuracy: 0.8241 - val_loss: 0.5568 - val_accuracy: 0.7273\n",
            "Epoch 72/100\n",
            "20/20 [==============================] - 0s 5ms/step - loss: 0.3915 - accuracy: 0.8176 - val_loss: 0.5582 - val_accuracy: 0.7273\n",
            "Epoch 73/100\n",
            "20/20 [==============================] - 0s 5ms/step - loss: 0.3908 - accuracy: 0.8176 - val_loss: 0.5588 - val_accuracy: 0.7273\n",
            "Epoch 74/100\n",
            "20/20 [==============================] - 0s 4ms/step - loss: 0.3902 - accuracy: 0.8208 - val_loss: 0.5599 - val_accuracy: 0.7273\n",
            "Epoch 75/100\n",
            "20/20 [==============================] - 0s 4ms/step - loss: 0.3894 - accuracy: 0.8208 - val_loss: 0.5585 - val_accuracy: 0.7273\n",
            "Epoch 76/100\n",
            "20/20 [==============================] - 0s 4ms/step - loss: 0.3888 - accuracy: 0.8127 - val_loss: 0.5621 - val_accuracy: 0.7273\n",
            "Epoch 77/100\n",
            "20/20 [==============================] - 0s 4ms/step - loss: 0.3882 - accuracy: 0.8176 - val_loss: 0.5611 - val_accuracy: 0.7273\n",
            "Epoch 78/100\n",
            "20/20 [==============================] - 0s 5ms/step - loss: 0.3885 - accuracy: 0.8192 - val_loss: 0.5627 - val_accuracy: 0.7273\n",
            "Epoch 79/100\n",
            "20/20 [==============================] - 0s 4ms/step - loss: 0.3871 - accuracy: 0.8208 - val_loss: 0.5650 - val_accuracy: 0.7208\n",
            "Epoch 80/100\n",
            "20/20 [==============================] - 0s 4ms/step - loss: 0.3864 - accuracy: 0.8160 - val_loss: 0.5691 - val_accuracy: 0.7208\n",
            "Epoch 81/100\n",
            "20/20 [==============================] - 0s 5ms/step - loss: 0.3868 - accuracy: 0.8225 - val_loss: 0.5698 - val_accuracy: 0.7338\n",
            "Epoch 82/100\n",
            "20/20 [==============================] - 0s 5ms/step - loss: 0.3854 - accuracy: 0.8241 - val_loss: 0.5703 - val_accuracy: 0.7208\n",
            "Epoch 83/100\n",
            "20/20 [==============================] - 0s 5ms/step - loss: 0.3858 - accuracy: 0.8176 - val_loss: 0.5705 - val_accuracy: 0.7208\n",
            "Epoch 84/100\n",
            "20/20 [==============================] - 0s 5ms/step - loss: 0.3849 - accuracy: 0.8192 - val_loss: 0.5710 - val_accuracy: 0.7208\n",
            "Epoch 85/100\n",
            "20/20 [==============================] - 0s 5ms/step - loss: 0.3845 - accuracy: 0.8225 - val_loss: 0.5703 - val_accuracy: 0.7273\n",
            "Epoch 86/100\n",
            "20/20 [==============================] - 0s 5ms/step - loss: 0.3840 - accuracy: 0.8160 - val_loss: 0.5723 - val_accuracy: 0.7338\n",
            "Epoch 87/100\n",
            "20/20 [==============================] - 0s 5ms/step - loss: 0.3828 - accuracy: 0.8208 - val_loss: 0.5738 - val_accuracy: 0.7143\n",
            "Epoch 88/100\n",
            "20/20 [==============================] - 0s 5ms/step - loss: 0.3834 - accuracy: 0.8306 - val_loss: 0.5720 - val_accuracy: 0.7273\n",
            "Epoch 89/100\n",
            "20/20 [==============================] - 0s 5ms/step - loss: 0.3820 - accuracy: 0.8257 - val_loss: 0.5709 - val_accuracy: 0.7208\n",
            "Epoch 90/100\n",
            "20/20 [==============================] - 0s 5ms/step - loss: 0.3814 - accuracy: 0.8241 - val_loss: 0.5712 - val_accuracy: 0.7143\n",
            "Epoch 91/100\n",
            "20/20 [==============================] - 0s 5ms/step - loss: 0.3813 - accuracy: 0.8225 - val_loss: 0.5705 - val_accuracy: 0.7273\n",
            "Epoch 92/100\n",
            "20/20 [==============================] - 0s 5ms/step - loss: 0.3811 - accuracy: 0.8241 - val_loss: 0.5719 - val_accuracy: 0.7468\n",
            "Epoch 93/100\n",
            "20/20 [==============================] - 0s 5ms/step - loss: 0.3804 - accuracy: 0.8176 - val_loss: 0.5710 - val_accuracy: 0.7338\n",
            "Epoch 94/100\n",
            "20/20 [==============================] - 0s 4ms/step - loss: 0.3808 - accuracy: 0.8176 - val_loss: 0.5701 - val_accuracy: 0.7403\n",
            "Epoch 95/100\n",
            "20/20 [==============================] - 0s 5ms/step - loss: 0.3793 - accuracy: 0.8127 - val_loss: 0.5699 - val_accuracy: 0.7208\n",
            "Epoch 96/100\n",
            "20/20 [==============================] - 0s 5ms/step - loss: 0.3788 - accuracy: 0.8208 - val_loss: 0.5699 - val_accuracy: 0.7403\n",
            "Epoch 97/100\n",
            "20/20 [==============================] - 0s 4ms/step - loss: 0.3785 - accuracy: 0.8257 - val_loss: 0.5711 - val_accuracy: 0.7143\n",
            "Epoch 98/100\n",
            "20/20 [==============================] - 0s 5ms/step - loss: 0.3781 - accuracy: 0.8306 - val_loss: 0.5707 - val_accuracy: 0.7208\n",
            "Epoch 99/100\n",
            "20/20 [==============================] - 0s 5ms/step - loss: 0.3786 - accuracy: 0.8192 - val_loss: 0.5692 - val_accuracy: 0.7403\n",
            "Epoch 100/100\n",
            "20/20 [==============================] - 0s 5ms/step - loss: 0.3775 - accuracy: 0.8192 - val_loss: 0.5712 - val_accuracy: 0.7273\n"
          ]
        },
        {
          "output_type": "execute_result",
          "data": {
            "text/plain": [
              "<keras.callbacks.History at 0x7fe472dfc550>"
            ]
          },
          "metadata": {},
          "execution_count": 121
        }
      ]
    },
    {
      "cell_type": "markdown",
      "source": [
        "**hyper tune activation function**"
      ],
      "metadata": {
        "id": "fSinRAoovTKm"
      }
    },
    {
      "cell_type": "code",
      "source": [
        "def build_model(hp):\n",
        "  model=Sequential()\n",
        "  units=hp.Int('node',8,128)\n",
        "  model.add(Dense(units=units,input_dim=8,activation=hp.Choice(\"activation\", [\"relu\", \"tanh\"])))\n",
        "  model.add(Dense(1,activation='sigmoid'))\n",
        "  optimizer=hp.Choice('optimizer',values=['adam','sgd','rmsprop','adadelta'])\n",
        "  model.compile(optimizer=optimizer,loss='binary_crossentropy',metrics=['accuracy'])\n",
        "  \n",
        "  return model\n"
      ],
      "metadata": {
        "id": "XzOgYTd0uJ_f"
      },
      "execution_count": 125,
      "outputs": []
    },
    {
      "cell_type": "code",
      "source": [
        "tuner_1=kt.RandomSearch(build_model,objective='val_accuracy', max_trials=5,directory='sb')"
      ],
      "metadata": {
        "id": "k-d_OK_Pvqzi"
      },
      "execution_count": 126,
      "outputs": []
    },
    {
      "cell_type": "code",
      "source": [
        "tuner_1.search(X_train,Y_train,epochs=10,validation_data=(X_test,Y_test))"
      ],
      "metadata": {
        "colab": {
          "base_uri": "https://localhost:8080/"
        },
        "id": "do0eCHIwvtqh",
        "outputId": "2ba2ed5c-5402-4934-c817-a3a4395a4102"
      },
      "execution_count": 127,
      "outputs": [
        {
          "output_type": "stream",
          "name": "stdout",
          "text": [
            "Trial 5 Complete [00h 00m 02s]\n",
            "val_accuracy: 0.7272727489471436\n",
            "\n",
            "Best val_accuracy So Far: 0.7922077775001526\n",
            "Total elapsed time: 00h 00m 09s\n"
          ]
        }
      ]
    },
    {
      "cell_type": "code",
      "source": [
        "tuner_1.get_best_hyperparameters()[0].values"
      ],
      "metadata": {
        "colab": {
          "base_uri": "https://localhost:8080/"
        },
        "id": "qkjsqFTGvxnt",
        "outputId": "dc234726-47aa-4563-d678-1f5a85c0943d"
      },
      "execution_count": 128,
      "outputs": [
        {
          "output_type": "execute_result",
          "data": {
            "text/plain": [
              "{'node': 65, 'activation': 'relu', 'optimizer': 'adam'}"
            ]
          },
          "metadata": {},
          "execution_count": 128
        }
      ]
    },
    {
      "cell_type": "code",
      "source": [
        "model_3=tuner_1.get_best_models(num_models=1)[0]"
      ],
      "metadata": {
        "id": "xsfrrZByv4X-"
      },
      "execution_count": 129,
      "outputs": []
    },
    {
      "cell_type": "code",
      "source": [
        "model_3.summary()"
      ],
      "metadata": {
        "colab": {
          "base_uri": "https://localhost:8080/"
        },
        "id": "bsES0RUAwGoF",
        "outputId": "00345548-bfb9-46e0-a1ff-e2ffbde12f13"
      },
      "execution_count": 130,
      "outputs": [
        {
          "output_type": "stream",
          "name": "stdout",
          "text": [
            "Model: \"sequential\"\n",
            "_________________________________________________________________\n",
            " Layer (type)                Output Shape              Param #   \n",
            "=================================================================\n",
            " dense (Dense)               (None, 65)                585       \n",
            "                                                                 \n",
            " dense_1 (Dense)             (None, 1)                 66        \n",
            "                                                                 \n",
            "=================================================================\n",
            "Total params: 651\n",
            "Trainable params: 651\n",
            "Non-trainable params: 0\n",
            "_________________________________________________________________\n"
          ]
        }
      ]
    },
    {
      "cell_type": "code",
      "source": [
        "# to check which activation on a particular layers\n",
        "layer=model_3.get_layer('dense')"
      ],
      "metadata": {
        "id": "woXmaw5twIfn"
      },
      "execution_count": 131,
      "outputs": []
    },
    {
      "cell_type": "code",
      "source": [
        "\n",
        "layer.activation"
      ],
      "metadata": {
        "colab": {
          "base_uri": "https://localhost:8080/"
        },
        "id": "_Upr_JgSwVe4",
        "outputId": "779a538b-8ced-40fb-c4b7-f1d4c4ba3fbe"
      },
      "execution_count": 132,
      "outputs": [
        {
          "output_type": "execute_result",
          "data": {
            "text/plain": [
              "<function keras.activations.relu(x, alpha=0.0, max_value=None, threshold=0.0)>"
            ]
          },
          "metadata": {},
          "execution_count": 132
        }
      ]
    },
    {
      "cell_type": "code",
      "source": [
        "model_3.fit(X_train,Y_train,batch_size=32,initial_epoch=10,epochs=100,validation_data=(X_test,Y_test))"
      ],
      "metadata": {
        "colab": {
          "base_uri": "https://localhost:8080/"
        },
        "id": "YZWLNXqq3iSj",
        "outputId": "d7a5430b-0e96-487b-bcf3-9e4afd725b10"
      },
      "execution_count": 139,
      "outputs": [
        {
          "output_type": "stream",
          "name": "stdout",
          "text": [
            "Epoch 11/100\n",
            "20/20 [==============================] - 1s 11ms/step - loss: 0.4807 - accuracy: 0.7736 - val_loss: 0.4962 - val_accuracy: 0.7857\n",
            "Epoch 12/100\n",
            "20/20 [==============================] - 0s 5ms/step - loss: 0.4706 - accuracy: 0.7752 - val_loss: 0.4932 - val_accuracy: 0.7922\n",
            "Epoch 13/100\n",
            "20/20 [==============================] - 0s 5ms/step - loss: 0.4624 - accuracy: 0.7752 - val_loss: 0.4901 - val_accuracy: 0.7857\n",
            "Epoch 14/100\n",
            "20/20 [==============================] - 0s 5ms/step - loss: 0.4568 - accuracy: 0.7785 - val_loss: 0.4891 - val_accuracy: 0.7857\n",
            "Epoch 15/100\n",
            "20/20 [==============================] - 0s 4ms/step - loss: 0.4518 - accuracy: 0.7818 - val_loss: 0.4897 - val_accuracy: 0.7857\n",
            "Epoch 16/100\n",
            "20/20 [==============================] - 0s 4ms/step - loss: 0.4483 - accuracy: 0.7850 - val_loss: 0.4921 - val_accuracy: 0.7792\n",
            "Epoch 17/100\n",
            "20/20 [==============================] - 0s 5ms/step - loss: 0.4455 - accuracy: 0.7834 - val_loss: 0.4939 - val_accuracy: 0.7792\n",
            "Epoch 18/100\n",
            "20/20 [==============================] - 0s 5ms/step - loss: 0.4430 - accuracy: 0.7818 - val_loss: 0.4966 - val_accuracy: 0.7727\n",
            "Epoch 19/100\n",
            "20/20 [==============================] - 0s 4ms/step - loss: 0.4401 - accuracy: 0.7834 - val_loss: 0.4985 - val_accuracy: 0.7727\n",
            "Epoch 20/100\n",
            "20/20 [==============================] - 0s 4ms/step - loss: 0.4373 - accuracy: 0.7899 - val_loss: 0.5021 - val_accuracy: 0.7662\n",
            "Epoch 21/100\n",
            "20/20 [==============================] - 0s 5ms/step - loss: 0.4355 - accuracy: 0.7899 - val_loss: 0.5025 - val_accuracy: 0.7662\n",
            "Epoch 22/100\n",
            "20/20 [==============================] - 0s 5ms/step - loss: 0.4341 - accuracy: 0.7801 - val_loss: 0.5045 - val_accuracy: 0.7662\n",
            "Epoch 23/100\n",
            "20/20 [==============================] - 0s 4ms/step - loss: 0.4321 - accuracy: 0.7850 - val_loss: 0.5060 - val_accuracy: 0.7727\n",
            "Epoch 24/100\n",
            "20/20 [==============================] - 0s 5ms/step - loss: 0.4316 - accuracy: 0.7866 - val_loss: 0.5085 - val_accuracy: 0.7727\n",
            "Epoch 25/100\n",
            "20/20 [==============================] - 0s 4ms/step - loss: 0.4293 - accuracy: 0.7883 - val_loss: 0.5101 - val_accuracy: 0.7662\n",
            "Epoch 26/100\n",
            "20/20 [==============================] - 0s 4ms/step - loss: 0.4280 - accuracy: 0.7866 - val_loss: 0.5104 - val_accuracy: 0.7727\n",
            "Epoch 27/100\n",
            "20/20 [==============================] - 0s 4ms/step - loss: 0.4267 - accuracy: 0.7850 - val_loss: 0.5114 - val_accuracy: 0.7727\n",
            "Epoch 28/100\n",
            "20/20 [==============================] - 0s 5ms/step - loss: 0.4258 - accuracy: 0.7850 - val_loss: 0.5159 - val_accuracy: 0.7662\n",
            "Epoch 29/100\n",
            "20/20 [==============================] - 0s 4ms/step - loss: 0.4242 - accuracy: 0.7883 - val_loss: 0.5170 - val_accuracy: 0.7662\n",
            "Epoch 30/100\n",
            "20/20 [==============================] - 0s 4ms/step - loss: 0.4227 - accuracy: 0.7899 - val_loss: 0.5187 - val_accuracy: 0.7662\n",
            "Epoch 31/100\n",
            "20/20 [==============================] - 0s 5ms/step - loss: 0.4229 - accuracy: 0.7866 - val_loss: 0.5177 - val_accuracy: 0.7727\n",
            "Epoch 32/100\n",
            "20/20 [==============================] - 0s 4ms/step - loss: 0.4215 - accuracy: 0.7883 - val_loss: 0.5182 - val_accuracy: 0.7727\n",
            "Epoch 33/100\n",
            "20/20 [==============================] - 0s 4ms/step - loss: 0.4203 - accuracy: 0.7899 - val_loss: 0.5203 - val_accuracy: 0.7727\n",
            "Epoch 34/100\n",
            "20/20 [==============================] - 0s 4ms/step - loss: 0.4194 - accuracy: 0.7948 - val_loss: 0.5212 - val_accuracy: 0.7727\n",
            "Epoch 35/100\n",
            "20/20 [==============================] - 0s 4ms/step - loss: 0.4188 - accuracy: 0.7932 - val_loss: 0.5219 - val_accuracy: 0.7727\n",
            "Epoch 36/100\n",
            "20/20 [==============================] - 0s 4ms/step - loss: 0.4174 - accuracy: 0.7964 - val_loss: 0.5216 - val_accuracy: 0.7727\n",
            "Epoch 37/100\n",
            "20/20 [==============================] - 0s 4ms/step - loss: 0.4176 - accuracy: 0.7964 - val_loss: 0.5213 - val_accuracy: 0.7727\n",
            "Epoch 38/100\n",
            "20/20 [==============================] - 0s 4ms/step - loss: 0.4156 - accuracy: 0.7932 - val_loss: 0.5221 - val_accuracy: 0.7727\n",
            "Epoch 39/100\n",
            "20/20 [==============================] - 0s 5ms/step - loss: 0.4145 - accuracy: 0.7997 - val_loss: 0.5219 - val_accuracy: 0.7727\n",
            "Epoch 40/100\n",
            "20/20 [==============================] - 0s 4ms/step - loss: 0.4139 - accuracy: 0.7997 - val_loss: 0.5243 - val_accuracy: 0.7727\n",
            "Epoch 41/100\n",
            "20/20 [==============================] - 0s 4ms/step - loss: 0.4135 - accuracy: 0.7980 - val_loss: 0.5258 - val_accuracy: 0.7727\n",
            "Epoch 42/100\n",
            "20/20 [==============================] - 0s 5ms/step - loss: 0.4127 - accuracy: 0.8013 - val_loss: 0.5267 - val_accuracy: 0.7727\n",
            "Epoch 43/100\n",
            "20/20 [==============================] - 0s 4ms/step - loss: 0.4113 - accuracy: 0.7980 - val_loss: 0.5280 - val_accuracy: 0.7727\n",
            "Epoch 44/100\n",
            "20/20 [==============================] - 0s 4ms/step - loss: 0.4117 - accuracy: 0.7997 - val_loss: 0.5310 - val_accuracy: 0.7727\n",
            "Epoch 45/100\n",
            "20/20 [==============================] - 0s 4ms/step - loss: 0.4096 - accuracy: 0.8046 - val_loss: 0.5309 - val_accuracy: 0.7727\n",
            "Epoch 46/100\n",
            "20/20 [==============================] - 0s 5ms/step - loss: 0.4092 - accuracy: 0.8013 - val_loss: 0.5337 - val_accuracy: 0.7727\n",
            "Epoch 47/100\n",
            "20/20 [==============================] - 0s 4ms/step - loss: 0.4087 - accuracy: 0.8013 - val_loss: 0.5313 - val_accuracy: 0.7662\n",
            "Epoch 48/100\n",
            "20/20 [==============================] - 0s 4ms/step - loss: 0.4083 - accuracy: 0.8046 - val_loss: 0.5329 - val_accuracy: 0.7662\n",
            "Epoch 49/100\n",
            "20/20 [==============================] - 0s 5ms/step - loss: 0.4078 - accuracy: 0.8046 - val_loss: 0.5326 - val_accuracy: 0.7662\n",
            "Epoch 50/100\n",
            "20/20 [==============================] - 0s 5ms/step - loss: 0.4075 - accuracy: 0.8094 - val_loss: 0.5374 - val_accuracy: 0.7727\n",
            "Epoch 51/100\n",
            "20/20 [==============================] - 0s 4ms/step - loss: 0.4061 - accuracy: 0.8046 - val_loss: 0.5367 - val_accuracy: 0.7532\n",
            "Epoch 52/100\n",
            "20/20 [==============================] - 0s 4ms/step - loss: 0.4064 - accuracy: 0.8062 - val_loss: 0.5370 - val_accuracy: 0.7468\n",
            "Epoch 53/100\n",
            "20/20 [==============================] - 0s 5ms/step - loss: 0.4049 - accuracy: 0.8029 - val_loss: 0.5370 - val_accuracy: 0.7597\n",
            "Epoch 54/100\n",
            "20/20 [==============================] - 0s 4ms/step - loss: 0.4047 - accuracy: 0.8046 - val_loss: 0.5356 - val_accuracy: 0.7403\n",
            "Epoch 55/100\n",
            "20/20 [==============================] - 0s 5ms/step - loss: 0.4034 - accuracy: 0.8078 - val_loss: 0.5368 - val_accuracy: 0.7468\n",
            "Epoch 56/100\n",
            "20/20 [==============================] - 0s 4ms/step - loss: 0.4041 - accuracy: 0.8046 - val_loss: 0.5434 - val_accuracy: 0.7597\n",
            "Epoch 57/100\n",
            "20/20 [==============================] - 0s 4ms/step - loss: 0.4025 - accuracy: 0.8111 - val_loss: 0.5446 - val_accuracy: 0.7532\n",
            "Epoch 58/100\n",
            "20/20 [==============================] - 0s 5ms/step - loss: 0.4015 - accuracy: 0.8078 - val_loss: 0.5413 - val_accuracy: 0.7532\n",
            "Epoch 59/100\n",
            "20/20 [==============================] - 0s 5ms/step - loss: 0.4009 - accuracy: 0.8094 - val_loss: 0.5377 - val_accuracy: 0.7532\n",
            "Epoch 60/100\n",
            "20/20 [==============================] - 0s 5ms/step - loss: 0.4008 - accuracy: 0.8094 - val_loss: 0.5387 - val_accuracy: 0.7468\n",
            "Epoch 61/100\n",
            "20/20 [==============================] - 0s 5ms/step - loss: 0.4001 - accuracy: 0.8094 - val_loss: 0.5389 - val_accuracy: 0.7532\n",
            "Epoch 62/100\n",
            "20/20 [==============================] - 0s 4ms/step - loss: 0.3990 - accuracy: 0.8143 - val_loss: 0.5400 - val_accuracy: 0.7468\n",
            "Epoch 63/100\n",
            "20/20 [==============================] - 0s 5ms/step - loss: 0.3993 - accuracy: 0.8127 - val_loss: 0.5390 - val_accuracy: 0.7468\n",
            "Epoch 64/100\n",
            "20/20 [==============================] - 0s 5ms/step - loss: 0.3987 - accuracy: 0.8111 - val_loss: 0.5424 - val_accuracy: 0.7468\n",
            "Epoch 65/100\n",
            "20/20 [==============================] - 0s 5ms/step - loss: 0.3982 - accuracy: 0.8127 - val_loss: 0.5429 - val_accuracy: 0.7403\n",
            "Epoch 66/100\n",
            "20/20 [==============================] - 0s 5ms/step - loss: 0.3969 - accuracy: 0.8160 - val_loss: 0.5419 - val_accuracy: 0.7403\n",
            "Epoch 67/100\n",
            "20/20 [==============================] - 0s 5ms/step - loss: 0.3968 - accuracy: 0.8111 - val_loss: 0.5439 - val_accuracy: 0.7468\n",
            "Epoch 68/100\n",
            "20/20 [==============================] - 0s 5ms/step - loss: 0.3973 - accuracy: 0.8208 - val_loss: 0.5423 - val_accuracy: 0.7468\n",
            "Epoch 69/100\n",
            "20/20 [==============================] - 0s 5ms/step - loss: 0.3959 - accuracy: 0.8143 - val_loss: 0.5456 - val_accuracy: 0.7338\n",
            "Epoch 70/100\n",
            "20/20 [==============================] - 0s 5ms/step - loss: 0.3964 - accuracy: 0.8127 - val_loss: 0.5458 - val_accuracy: 0.7468\n",
            "Epoch 71/100\n",
            "20/20 [==============================] - 0s 5ms/step - loss: 0.3951 - accuracy: 0.8127 - val_loss: 0.5445 - val_accuracy: 0.7403\n",
            "Epoch 72/100\n",
            "20/20 [==============================] - 0s 5ms/step - loss: 0.3951 - accuracy: 0.8127 - val_loss: 0.5457 - val_accuracy: 0.7403\n",
            "Epoch 73/100\n",
            "20/20 [==============================] - 0s 5ms/step - loss: 0.3948 - accuracy: 0.8143 - val_loss: 0.5462 - val_accuracy: 0.7468\n",
            "Epoch 74/100\n",
            "20/20 [==============================] - 0s 5ms/step - loss: 0.3940 - accuracy: 0.8160 - val_loss: 0.5463 - val_accuracy: 0.7468\n",
            "Epoch 75/100\n",
            "20/20 [==============================] - 0s 6ms/step - loss: 0.3940 - accuracy: 0.8225 - val_loss: 0.5474 - val_accuracy: 0.7532\n",
            "Epoch 76/100\n",
            "20/20 [==============================] - 0s 5ms/step - loss: 0.3932 - accuracy: 0.8176 - val_loss: 0.5481 - val_accuracy: 0.7403\n",
            "Epoch 77/100\n",
            "20/20 [==============================] - 0s 5ms/step - loss: 0.3929 - accuracy: 0.8192 - val_loss: 0.5497 - val_accuracy: 0.7532\n",
            "Epoch 78/100\n",
            "20/20 [==============================] - 0s 6ms/step - loss: 0.3921 - accuracy: 0.8127 - val_loss: 0.5496 - val_accuracy: 0.7468\n",
            "Epoch 79/100\n",
            "20/20 [==============================] - 0s 6ms/step - loss: 0.3912 - accuracy: 0.8208 - val_loss: 0.5484 - val_accuracy: 0.7597\n",
            "Epoch 80/100\n",
            "20/20 [==============================] - 0s 5ms/step - loss: 0.3911 - accuracy: 0.8192 - val_loss: 0.5502 - val_accuracy: 0.7532\n",
            "Epoch 81/100\n",
            "20/20 [==============================] - 0s 6ms/step - loss: 0.3916 - accuracy: 0.8160 - val_loss: 0.5470 - val_accuracy: 0.7597\n",
            "Epoch 82/100\n",
            "20/20 [==============================] - 0s 5ms/step - loss: 0.3912 - accuracy: 0.8111 - val_loss: 0.5484 - val_accuracy: 0.7532\n",
            "Epoch 83/100\n",
            "20/20 [==============================] - 0s 5ms/step - loss: 0.3896 - accuracy: 0.8094 - val_loss: 0.5501 - val_accuracy: 0.7597\n",
            "Epoch 84/100\n",
            "20/20 [==============================] - 0s 5ms/step - loss: 0.3895 - accuracy: 0.8176 - val_loss: 0.5504 - val_accuracy: 0.7532\n",
            "Epoch 85/100\n",
            "20/20 [==============================] - 0s 6ms/step - loss: 0.3898 - accuracy: 0.8192 - val_loss: 0.5514 - val_accuracy: 0.7468\n",
            "Epoch 86/100\n",
            "20/20 [==============================] - 0s 6ms/step - loss: 0.3881 - accuracy: 0.8192 - val_loss: 0.5496 - val_accuracy: 0.7532\n",
            "Epoch 87/100\n",
            "20/20 [==============================] - 0s 6ms/step - loss: 0.3886 - accuracy: 0.8160 - val_loss: 0.5498 - val_accuracy: 0.7532\n",
            "Epoch 88/100\n",
            "20/20 [==============================] - 0s 6ms/step - loss: 0.3884 - accuracy: 0.8192 - val_loss: 0.5454 - val_accuracy: 0.7468\n",
            "Epoch 89/100\n",
            "20/20 [==============================] - 0s 6ms/step - loss: 0.3870 - accuracy: 0.8225 - val_loss: 0.5474 - val_accuracy: 0.7532\n",
            "Epoch 90/100\n",
            "20/20 [==============================] - 0s 5ms/step - loss: 0.3860 - accuracy: 0.8225 - val_loss: 0.5485 - val_accuracy: 0.7532\n",
            "Epoch 91/100\n",
            "20/20 [==============================] - 0s 5ms/step - loss: 0.3861 - accuracy: 0.8225 - val_loss: 0.5499 - val_accuracy: 0.7403\n",
            "Epoch 92/100\n",
            "20/20 [==============================] - 0s 4ms/step - loss: 0.3859 - accuracy: 0.8143 - val_loss: 0.5518 - val_accuracy: 0.7403\n",
            "Epoch 93/100\n",
            "20/20 [==============================] - 0s 4ms/step - loss: 0.3857 - accuracy: 0.8208 - val_loss: 0.5546 - val_accuracy: 0.7338\n",
            "Epoch 94/100\n",
            "20/20 [==============================] - 0s 5ms/step - loss: 0.3855 - accuracy: 0.8176 - val_loss: 0.5563 - val_accuracy: 0.7403\n",
            "Epoch 95/100\n",
            "20/20 [==============================] - 0s 5ms/step - loss: 0.3843 - accuracy: 0.8160 - val_loss: 0.5575 - val_accuracy: 0.7403\n",
            "Epoch 96/100\n",
            "20/20 [==============================] - 0s 5ms/step - loss: 0.3837 - accuracy: 0.8208 - val_loss: 0.5599 - val_accuracy: 0.7403\n",
            "Epoch 97/100\n",
            "20/20 [==============================] - 0s 5ms/step - loss: 0.3833 - accuracy: 0.8257 - val_loss: 0.5585 - val_accuracy: 0.7403\n",
            "Epoch 98/100\n",
            "20/20 [==============================] - 0s 5ms/step - loss: 0.3836 - accuracy: 0.8176 - val_loss: 0.5585 - val_accuracy: 0.7403\n",
            "Epoch 99/100\n",
            "20/20 [==============================] - 0s 5ms/step - loss: 0.3834 - accuracy: 0.8192 - val_loss: 0.5577 - val_accuracy: 0.7403\n",
            "Epoch 100/100\n",
            "20/20 [==============================] - 0s 4ms/step - loss: 0.3823 - accuracy: 0.8208 - val_loss: 0.5605 - val_accuracy: 0.7338\n"
          ]
        },
        {
          "output_type": "execute_result",
          "data": {
            "text/plain": [
              "<keras.callbacks.History at 0x7fe472ac9950>"
            ]
          },
          "metadata": {},
          "execution_count": 139
        }
      ]
    },
    {
      "cell_type": "markdown",
      "source": [
        "**hyper tune for number of hidden layers**\n"
      ],
      "metadata": {
        "id": "P9Sy_FEl0TxD"
      }
    },
    {
      "cell_type": "code",
      "source": [
        "def build_model(hp):\n",
        "  model=Sequential()\n",
        "  units=hp.Int('node',8,128)\n",
        "  activation=hp.Choice(\"activation\", [\"relu\", \"tanh\"]),\n",
        "  model.add(Dense(units=units,input_dim=8,activation=hp.Choice(\"activation\", [\"relu\", \"tanh\"])))\n",
        "  \n",
        "  for i in range(hp.Int('num_of_layers',min_value=1,max_value=10)):\n",
        "    units=hp.Int('node',8,128)\n",
        "    activation=hp.Choice(\"activation\", [\"relu\", \"tanh\"]),\n",
        "    model.add(Dense(units=units,input_dim=8,activation=hp.Choice(\"activation\", [\"relu\", \"tanh\"])))\n",
        "  \n",
        "  model.add(Dense(1,activation='sigmoid'))\n",
        "  optimizer=hp.Choice('optimizer',values=['adam','sgd','rmsprop','adadelta'])\n",
        "  model.compile(optimizer=optimizer,loss='binary_crossentropy',metrics=['accuracy'])\n",
        "  \n",
        "  return model\n"
      ],
      "metadata": {
        "id": "_rKDDiFex2j5"
      },
      "execution_count": 133,
      "outputs": []
    },
    {
      "cell_type": "code",
      "source": [
        "tuner_2=kt.RandomSearch(build_model,objective='val_accuracy', max_trials=5,directory='sc')\n"
      ],
      "metadata": {
        "id": "-azOd3n01Kzr"
      },
      "execution_count": 134,
      "outputs": []
    },
    {
      "cell_type": "code",
      "source": [
        "tuner_2.search(X_train,Y_train,epochs=10,validation_data=(X_test,Y_test))"
      ],
      "metadata": {
        "colab": {
          "base_uri": "https://localhost:8080/"
        },
        "id": "jeAIlls01SdW",
        "outputId": "926dab9d-1119-447b-b6b7-7e2b4afe484c"
      },
      "execution_count": 135,
      "outputs": [
        {
          "output_type": "stream",
          "name": "stdout",
          "text": [
            "Trial 5 Complete [00h 00m 04s]\n",
            "val_accuracy: 0.7792207598686218\n",
            "\n",
            "Best val_accuracy So Far: 0.7792207598686218\n",
            "Total elapsed time: 00h 00m 18s\n"
          ]
        }
      ]
    },
    {
      "cell_type": "code",
      "source": [
        "tuner_2.get_best_hyperparameters()[0].values"
      ],
      "metadata": {
        "colab": {
          "base_uri": "https://localhost:8080/"
        },
        "id": "PX5HcN3l1V7K",
        "outputId": "da4dc76b-5ec9-47c7-edf2-f1bae4dba4b0"
      },
      "execution_count": 136,
      "outputs": [
        {
          "output_type": "execute_result",
          "data": {
            "text/plain": [
              "{'node': 121, 'activation': 'tanh', 'num_of_layers': 4, 'optimizer': 'rmsprop'}"
            ]
          },
          "metadata": {},
          "execution_count": 136
        }
      ]
    },
    {
      "cell_type": "code",
      "source": [
        "model_best=tuner_2.get_best_models(num_models=1)[0]"
      ],
      "metadata": {
        "id": "EXFkmvjQ3HNu"
      },
      "execution_count": 137,
      "outputs": []
    },
    {
      "cell_type": "code",
      "source": [
        "model_best.summary()"
      ],
      "metadata": {
        "colab": {
          "base_uri": "https://localhost:8080/"
        },
        "id": "4X3ouo3d3405",
        "outputId": "a4d528c9-a741-4e76-aa70-4f474599fbce"
      },
      "execution_count": 140,
      "outputs": [
        {
          "output_type": "stream",
          "name": "stdout",
          "text": [
            "Model: \"sequential\"\n",
            "_________________________________________________________________\n",
            " Layer (type)                Output Shape              Param #   \n",
            "=================================================================\n",
            " dense (Dense)               (None, 121)               1089      \n",
            "                                                                 \n",
            " dense_1 (Dense)             (None, 121)               14762     \n",
            "                                                                 \n",
            " dense_2 (Dense)             (None, 121)               14762     \n",
            "                                                                 \n",
            " dense_3 (Dense)             (None, 121)               14762     \n",
            "                                                                 \n",
            " dense_4 (Dense)             (None, 121)               14762     \n",
            "                                                                 \n",
            " dense_5 (Dense)             (None, 1)                 122       \n",
            "                                                                 \n",
            "=================================================================\n",
            "Total params: 60,259\n",
            "Trainable params: 60,259\n",
            "Non-trainable params: 0\n",
            "_________________________________________________________________\n"
          ]
        }
      ]
    },
    {
      "cell_type": "code",
      "source": [
        "model_best.fit(X_train,Y_train,batch_size=32,initial_epoch=10,epochs=100,validation_data=(X_test,Y_test))"
      ],
      "metadata": {
        "colab": {
          "base_uri": "https://localhost:8080/"
        },
        "id": "k3daTI8P3TPF",
        "outputId": "00d45348-c898-4521-d11c-030467eb33ea"
      },
      "execution_count": 138,
      "outputs": [
        {
          "output_type": "stream",
          "name": "stdout",
          "text": [
            "Epoch 11/100\n",
            "20/20 [==============================] - 1s 13ms/step - loss: 0.4722 - accuracy: 0.7720 - val_loss: 0.5677 - val_accuracy: 0.7208\n",
            "Epoch 12/100\n",
            "20/20 [==============================] - 0s 5ms/step - loss: 0.4704 - accuracy: 0.7769 - val_loss: 0.5302 - val_accuracy: 0.7468\n",
            "Epoch 13/100\n",
            "20/20 [==============================] - 0s 5ms/step - loss: 0.4621 - accuracy: 0.7720 - val_loss: 0.4826 - val_accuracy: 0.7792\n",
            "Epoch 14/100\n",
            "20/20 [==============================] - 0s 5ms/step - loss: 0.4628 - accuracy: 0.7671 - val_loss: 0.6133 - val_accuracy: 0.7078\n",
            "Epoch 15/100\n",
            "20/20 [==============================] - 0s 5ms/step - loss: 0.4699 - accuracy: 0.7622 - val_loss: 0.4813 - val_accuracy: 0.7727\n",
            "Epoch 16/100\n",
            "20/20 [==============================] - 0s 5ms/step - loss: 0.4462 - accuracy: 0.7834 - val_loss: 0.5639 - val_accuracy: 0.6883\n",
            "Epoch 17/100\n",
            "20/20 [==============================] - 0s 6ms/step - loss: 0.4520 - accuracy: 0.7769 - val_loss: 0.5005 - val_accuracy: 0.7727\n",
            "Epoch 18/100\n",
            "20/20 [==============================] - 0s 5ms/step - loss: 0.4409 - accuracy: 0.7883 - val_loss: 0.6798 - val_accuracy: 0.6494\n",
            "Epoch 19/100\n",
            "20/20 [==============================] - 0s 5ms/step - loss: 0.4500 - accuracy: 0.7834 - val_loss: 0.5921 - val_accuracy: 0.6948\n",
            "Epoch 20/100\n",
            "20/20 [==============================] - 0s 6ms/step - loss: 0.4441 - accuracy: 0.7932 - val_loss: 0.5418 - val_accuracy: 0.7013\n",
            "Epoch 21/100\n",
            "20/20 [==============================] - 0s 5ms/step - loss: 0.4369 - accuracy: 0.7997 - val_loss: 0.4952 - val_accuracy: 0.7662\n",
            "Epoch 22/100\n",
            "20/20 [==============================] - 0s 6ms/step - loss: 0.4422 - accuracy: 0.7866 - val_loss: 0.5699 - val_accuracy: 0.7273\n",
            "Epoch 23/100\n",
            "20/20 [==============================] - 0s 5ms/step - loss: 0.4203 - accuracy: 0.7980 - val_loss: 0.6196 - val_accuracy: 0.7273\n",
            "Epoch 24/100\n",
            "20/20 [==============================] - 0s 6ms/step - loss: 0.4138 - accuracy: 0.7997 - val_loss: 0.5168 - val_accuracy: 0.7338\n",
            "Epoch 25/100\n",
            "20/20 [==============================] - 0s 6ms/step - loss: 0.4174 - accuracy: 0.7932 - val_loss: 0.5623 - val_accuracy: 0.7143\n",
            "Epoch 26/100\n",
            "20/20 [==============================] - 0s 5ms/step - loss: 0.4139 - accuracy: 0.8062 - val_loss: 0.5601 - val_accuracy: 0.7338\n",
            "Epoch 27/100\n",
            "20/20 [==============================] - 0s 5ms/step - loss: 0.4081 - accuracy: 0.8046 - val_loss: 0.4863 - val_accuracy: 0.7857\n",
            "Epoch 28/100\n",
            "20/20 [==============================] - 0s 5ms/step - loss: 0.4095 - accuracy: 0.8143 - val_loss: 0.5906 - val_accuracy: 0.7208\n",
            "Epoch 29/100\n",
            "20/20 [==============================] - 0s 6ms/step - loss: 0.4016 - accuracy: 0.8046 - val_loss: 0.5556 - val_accuracy: 0.7792\n",
            "Epoch 30/100\n",
            "20/20 [==============================] - 0s 5ms/step - loss: 0.3929 - accuracy: 0.8241 - val_loss: 0.5202 - val_accuracy: 0.7468\n",
            "Epoch 31/100\n",
            "20/20 [==============================] - 0s 5ms/step - loss: 0.3883 - accuracy: 0.8225 - val_loss: 0.4969 - val_accuracy: 0.7792\n",
            "Epoch 32/100\n",
            "20/20 [==============================] - 0s 5ms/step - loss: 0.3757 - accuracy: 0.8355 - val_loss: 0.5266 - val_accuracy: 0.7857\n",
            "Epoch 33/100\n",
            "20/20 [==============================] - 0s 5ms/step - loss: 0.3767 - accuracy: 0.8241 - val_loss: 0.4938 - val_accuracy: 0.7857\n",
            "Epoch 34/100\n",
            "20/20 [==============================] - 0s 5ms/step - loss: 0.3641 - accuracy: 0.8322 - val_loss: 0.5412 - val_accuracy: 0.7792\n",
            "Epoch 35/100\n",
            "20/20 [==============================] - 0s 5ms/step - loss: 0.3498 - accuracy: 0.8436 - val_loss: 0.5209 - val_accuracy: 0.7662\n",
            "Epoch 36/100\n",
            "20/20 [==============================] - 0s 5ms/step - loss: 0.3547 - accuracy: 0.8469 - val_loss: 0.5752 - val_accuracy: 0.7208\n",
            "Epoch 37/100\n",
            "20/20 [==============================] - 0s 5ms/step - loss: 0.3341 - accuracy: 0.8322 - val_loss: 0.6052 - val_accuracy: 0.7013\n",
            "Epoch 38/100\n",
            "20/20 [==============================] - 0s 5ms/step - loss: 0.3412 - accuracy: 0.8469 - val_loss: 0.4972 - val_accuracy: 0.7922\n",
            "Epoch 39/100\n",
            "20/20 [==============================] - 0s 6ms/step - loss: 0.3300 - accuracy: 0.8404 - val_loss: 0.5303 - val_accuracy: 0.7792\n",
            "Epoch 40/100\n",
            "20/20 [==============================] - 0s 6ms/step - loss: 0.3185 - accuracy: 0.8664 - val_loss: 0.5209 - val_accuracy: 0.7857\n",
            "Epoch 41/100\n",
            "20/20 [==============================] - 0s 6ms/step - loss: 0.3236 - accuracy: 0.8502 - val_loss: 0.5298 - val_accuracy: 0.7857\n",
            "Epoch 42/100\n",
            "20/20 [==============================] - 0s 5ms/step - loss: 0.3031 - accuracy: 0.8697 - val_loss: 0.6472 - val_accuracy: 0.6818\n",
            "Epoch 43/100\n",
            "20/20 [==============================] - 0s 5ms/step - loss: 0.3089 - accuracy: 0.8534 - val_loss: 0.6019 - val_accuracy: 0.7403\n",
            "Epoch 44/100\n",
            "20/20 [==============================] - 0s 6ms/step - loss: 0.2980 - accuracy: 0.8697 - val_loss: 0.5484 - val_accuracy: 0.7403\n",
            "Epoch 45/100\n",
            "20/20 [==============================] - 0s 5ms/step - loss: 0.2846 - accuracy: 0.8779 - val_loss: 0.6159 - val_accuracy: 0.7468\n",
            "Epoch 46/100\n",
            "20/20 [==============================] - 0s 6ms/step - loss: 0.2850 - accuracy: 0.8746 - val_loss: 0.5991 - val_accuracy: 0.7597\n",
            "Epoch 47/100\n",
            "20/20 [==============================] - 0s 5ms/step - loss: 0.2723 - accuracy: 0.8730 - val_loss: 0.5588 - val_accuracy: 0.7662\n",
            "Epoch 48/100\n",
            "20/20 [==============================] - 0s 6ms/step - loss: 0.2605 - accuracy: 0.8827 - val_loss: 0.6247 - val_accuracy: 0.6948\n",
            "Epoch 49/100\n",
            "20/20 [==============================] - 0s 6ms/step - loss: 0.2501 - accuracy: 0.8990 - val_loss: 0.7090 - val_accuracy: 0.6883\n",
            "Epoch 50/100\n",
            "20/20 [==============================] - 0s 6ms/step - loss: 0.2546 - accuracy: 0.9007 - val_loss: 0.7358 - val_accuracy: 0.6623\n",
            "Epoch 51/100\n",
            "20/20 [==============================] - 0s 5ms/step - loss: 0.2532 - accuracy: 0.8990 - val_loss: 0.6464 - val_accuracy: 0.6818\n",
            "Epoch 52/100\n",
            "20/20 [==============================] - 0s 6ms/step - loss: 0.2330 - accuracy: 0.9137 - val_loss: 0.6381 - val_accuracy: 0.7403\n",
            "Epoch 53/100\n",
            "20/20 [==============================] - 0s 5ms/step - loss: 0.2304 - accuracy: 0.9007 - val_loss: 0.6262 - val_accuracy: 0.7013\n",
            "Epoch 54/100\n",
            "20/20 [==============================] - 0s 5ms/step - loss: 0.2233 - accuracy: 0.9121 - val_loss: 0.6890 - val_accuracy: 0.6948\n",
            "Epoch 55/100\n",
            "20/20 [==============================] - 0s 5ms/step - loss: 0.2146 - accuracy: 0.9202 - val_loss: 0.6400 - val_accuracy: 0.7273\n",
            "Epoch 56/100\n",
            "20/20 [==============================] - 0s 6ms/step - loss: 0.2137 - accuracy: 0.9121 - val_loss: 0.6673 - val_accuracy: 0.6948\n",
            "Epoch 57/100\n",
            "20/20 [==============================] - 0s 6ms/step - loss: 0.1972 - accuracy: 0.9316 - val_loss: 0.7275 - val_accuracy: 0.7078\n",
            "Epoch 58/100\n",
            "20/20 [==============================] - 0s 6ms/step - loss: 0.1990 - accuracy: 0.9153 - val_loss: 0.7357 - val_accuracy: 0.6753\n",
            "Epoch 59/100\n",
            "20/20 [==============================] - 0s 5ms/step - loss: 0.1832 - accuracy: 0.9397 - val_loss: 0.6929 - val_accuracy: 0.7403\n",
            "Epoch 60/100\n",
            "20/20 [==============================] - 0s 5ms/step - loss: 0.1872 - accuracy: 0.9186 - val_loss: 0.7265 - val_accuracy: 0.6688\n",
            "Epoch 61/100\n",
            "20/20 [==============================] - 0s 6ms/step - loss: 0.1684 - accuracy: 0.9495 - val_loss: 0.7929 - val_accuracy: 0.6948\n",
            "Epoch 62/100\n",
            "20/20 [==============================] - 0s 5ms/step - loss: 0.1658 - accuracy: 0.9463 - val_loss: 0.7634 - val_accuracy: 0.6818\n",
            "Epoch 63/100\n",
            "20/20 [==============================] - 0s 6ms/step - loss: 0.1634 - accuracy: 0.9463 - val_loss: 0.7205 - val_accuracy: 0.6753\n",
            "Epoch 64/100\n",
            "20/20 [==============================] - 0s 5ms/step - loss: 0.1496 - accuracy: 0.9560 - val_loss: 0.7572 - val_accuracy: 0.7338\n",
            "Epoch 65/100\n",
            "20/20 [==============================] - 0s 5ms/step - loss: 0.1398 - accuracy: 0.9479 - val_loss: 0.8620 - val_accuracy: 0.7078\n",
            "Epoch 66/100\n",
            "20/20 [==============================] - 0s 5ms/step - loss: 0.1340 - accuracy: 0.9577 - val_loss: 0.7509 - val_accuracy: 0.7078\n",
            "Epoch 67/100\n",
            "20/20 [==============================] - 0s 5ms/step - loss: 0.1306 - accuracy: 0.9560 - val_loss: 0.8519 - val_accuracy: 0.6948\n",
            "Epoch 68/100\n",
            "20/20 [==============================] - 0s 6ms/step - loss: 0.1240 - accuracy: 0.9674 - val_loss: 0.8252 - val_accuracy: 0.7143\n",
            "Epoch 69/100\n",
            "20/20 [==============================] - 0s 5ms/step - loss: 0.1119 - accuracy: 0.9658 - val_loss: 1.0707 - val_accuracy: 0.6494\n",
            "Epoch 70/100\n",
            "20/20 [==============================] - 0s 5ms/step - loss: 0.1146 - accuracy: 0.9658 - val_loss: 0.9251 - val_accuracy: 0.6883\n",
            "Epoch 71/100\n",
            "20/20 [==============================] - 0s 5ms/step - loss: 0.1023 - accuracy: 0.9707 - val_loss: 0.9212 - val_accuracy: 0.6623\n",
            "Epoch 72/100\n",
            "20/20 [==============================] - 0s 6ms/step - loss: 0.0976 - accuracy: 0.9707 - val_loss: 0.9277 - val_accuracy: 0.6818\n",
            "Epoch 73/100\n",
            "20/20 [==============================] - 0s 5ms/step - loss: 0.0961 - accuracy: 0.9691 - val_loss: 1.1130 - val_accuracy: 0.6753\n",
            "Epoch 74/100\n",
            "20/20 [==============================] - 0s 5ms/step - loss: 0.0925 - accuracy: 0.9723 - val_loss: 0.9698 - val_accuracy: 0.7338\n",
            "Epoch 75/100\n",
            "20/20 [==============================] - 0s 6ms/step - loss: 0.0815 - accuracy: 0.9772 - val_loss: 1.0570 - val_accuracy: 0.6753\n",
            "Epoch 76/100\n",
            "20/20 [==============================] - 0s 6ms/step - loss: 0.0815 - accuracy: 0.9788 - val_loss: 0.9607 - val_accuracy: 0.7208\n",
            "Epoch 77/100\n",
            "20/20 [==============================] - 0s 5ms/step - loss: 0.0657 - accuracy: 0.9853 - val_loss: 1.0369 - val_accuracy: 0.6688\n",
            "Epoch 78/100\n",
            "20/20 [==============================] - 0s 5ms/step - loss: 0.0750 - accuracy: 0.9739 - val_loss: 1.1807 - val_accuracy: 0.6948\n",
            "Epoch 79/100\n",
            "20/20 [==============================] - 0s 5ms/step - loss: 0.0699 - accuracy: 0.9772 - val_loss: 1.0357 - val_accuracy: 0.7078\n",
            "Epoch 80/100\n",
            "20/20 [==============================] - 0s 6ms/step - loss: 0.0606 - accuracy: 0.9805 - val_loss: 1.1572 - val_accuracy: 0.7013\n",
            "Epoch 81/100\n",
            "20/20 [==============================] - 0s 5ms/step - loss: 0.0686 - accuracy: 0.9821 - val_loss: 1.0675 - val_accuracy: 0.7013\n",
            "Epoch 82/100\n",
            "20/20 [==============================] - 0s 5ms/step - loss: 0.0479 - accuracy: 0.9870 - val_loss: 1.2034 - val_accuracy: 0.7013\n",
            "Epoch 83/100\n",
            "20/20 [==============================] - 0s 5ms/step - loss: 0.0537 - accuracy: 0.9853 - val_loss: 1.2026 - val_accuracy: 0.6753\n",
            "Epoch 84/100\n",
            "20/20 [==============================] - 0s 5ms/step - loss: 0.0428 - accuracy: 0.9902 - val_loss: 1.1441 - val_accuracy: 0.7273\n",
            "Epoch 85/100\n",
            "20/20 [==============================] - 0s 5ms/step - loss: 0.0487 - accuracy: 0.9805 - val_loss: 1.1772 - val_accuracy: 0.6818\n",
            "Epoch 86/100\n",
            "20/20 [==============================] - 0s 6ms/step - loss: 0.0611 - accuracy: 0.9788 - val_loss: 1.2180 - val_accuracy: 0.7208\n",
            "Epoch 87/100\n",
            "20/20 [==============================] - 0s 5ms/step - loss: 0.0288 - accuracy: 0.9935 - val_loss: 1.3592 - val_accuracy: 0.7078\n",
            "Epoch 88/100\n",
            "20/20 [==============================] - 0s 5ms/step - loss: 0.0324 - accuracy: 0.9902 - val_loss: 1.3293 - val_accuracy: 0.7013\n",
            "Epoch 89/100\n",
            "20/20 [==============================] - 0s 6ms/step - loss: 0.0371 - accuracy: 0.9886 - val_loss: 1.3035 - val_accuracy: 0.7143\n",
            "Epoch 90/100\n",
            "20/20 [==============================] - 0s 5ms/step - loss: 0.0335 - accuracy: 0.9935 - val_loss: 1.2309 - val_accuracy: 0.7013\n",
            "Epoch 91/100\n",
            "20/20 [==============================] - 0s 6ms/step - loss: 0.0235 - accuracy: 0.9935 - val_loss: 1.5899 - val_accuracy: 0.6818\n",
            "Epoch 92/100\n",
            "20/20 [==============================] - 0s 6ms/step - loss: 0.0339 - accuracy: 0.9919 - val_loss: 1.3864 - val_accuracy: 0.7078\n",
            "Epoch 93/100\n",
            "20/20 [==============================] - 0s 5ms/step - loss: 0.0294 - accuracy: 0.9902 - val_loss: 1.3427 - val_accuracy: 0.7208\n",
            "Epoch 94/100\n",
            "20/20 [==============================] - 0s 5ms/step - loss: 0.0178 - accuracy: 0.9984 - val_loss: 1.5594 - val_accuracy: 0.6948\n",
            "Epoch 95/100\n",
            "20/20 [==============================] - 0s 5ms/step - loss: 0.0284 - accuracy: 0.9886 - val_loss: 1.4241 - val_accuracy: 0.6818\n",
            "Epoch 96/100\n",
            "20/20 [==============================] - 0s 5ms/step - loss: 0.0147 - accuracy: 0.9967 - val_loss: 1.4566 - val_accuracy: 0.7013\n",
            "Epoch 97/100\n",
            "20/20 [==============================] - 0s 6ms/step - loss: 0.0154 - accuracy: 0.9967 - val_loss: 1.4555 - val_accuracy: 0.7208\n",
            "Epoch 98/100\n",
            "20/20 [==============================] - 0s 6ms/step - loss: 0.0233 - accuracy: 0.9919 - val_loss: 1.6482 - val_accuracy: 0.7013\n",
            "Epoch 99/100\n",
            "20/20 [==============================] - 0s 5ms/step - loss: 0.0093 - accuracy: 0.9984 - val_loss: 1.5850 - val_accuracy: 0.7208\n",
            "Epoch 100/100\n",
            "20/20 [==============================] - 0s 6ms/step - loss: 0.0232 - accuracy: 0.9935 - val_loss: 1.6253 - val_accuracy: 0.7013\n"
          ]
        },
        {
          "output_type": "execute_result",
          "data": {
            "text/plain": [
              "<keras.callbacks.History at 0x7fe4729cba10>"
            ]
          },
          "metadata": {},
          "execution_count": 138
        }
      ]
    },
    {
      "cell_type": "markdown",
      "source": [
        "**too much overfitting**\n",
        "add drop out layer"
      ],
      "metadata": {
        "id": "qy7S3-ne3tjN"
      }
    },
    {
      "cell_type": "markdown",
      "source": [
        "**learning rate in optimizer **"
      ],
      "metadata": {
        "id": "j8yhtkkh4ILV"
      }
    },
    {
      "cell_type": "code",
      "source": [
        "from keras.layers import Dropout"
      ],
      "metadata": {
        "id": "5B2oX-yV5QCe"
      },
      "execution_count": 145,
      "outputs": []
    },
    {
      "cell_type": "code",
      "source": [
        "\n",
        "def build_model(hp):\n",
        "  model=Sequential()\n",
        "  units=hp.Int('node',8,128)\n",
        "  activation=hp.Choice(\"activation\", [\"relu\", \"tanh\"]),\n",
        "  model.add(Dense(units=units,input_dim=8,activation=hp.Choice(\"activation\", [\"relu\", \"tanh\"])))\n",
        "  \n",
        "  for i in range(hp.Int('num_of_layers',min_value=1,max_value=10)):\n",
        "    units=hp.Int('node',8,128)\n",
        "    activation=hp.Choice(\"activation\", [\"relu\", \"tanh\"]),\n",
        "    model.add(Dense(units=units,input_dim=8,activation=hp.Choice(\"activation\", [\"relu\", \"tanh\"])))\n",
        "    model.add(Dropout(0.25))\n",
        "\n",
        "\n",
        "  model.add(Dense(1,activation='sigmoid'))\n",
        "  learning_rate = hp.Float(\"lr\", min_value=1e-4, max_value=1e-2, sampling=\"log\")\n",
        "  model.compile(\n",
        "        optimizer=keras.optimizers.RMSprop(learning_rate=learning_rate),\n",
        "        loss=\"binary_crossentropy\",\n",
        "        metrics=[\"accuracy\"]\n",
        "        )\n",
        "  \n",
        "  return model\n"
      ],
      "metadata": {
        "id": "K9hQpySH3esG"
      },
      "execution_count": 159,
      "outputs": []
    },
    {
      "cell_type": "code",
      "source": [
        "tuner_3=kt.RandomSearch(build_model,objective='val_accuracy', max_trials=5,directory='sr')\n"
      ],
      "metadata": {
        "id": "ah1rwvCb42y5"
      },
      "execution_count": 160,
      "outputs": []
    },
    {
      "cell_type": "code",
      "source": [
        "tuner_3.search(X_train,Y_train,epochs=10,validation_data=(X_test,Y_test))"
      ],
      "metadata": {
        "colab": {
          "base_uri": "https://localhost:8080/"
        },
        "id": "lBADYYkG5L57",
        "outputId": "b7d5d41a-1754-40eb-c4d4-d0e227854281"
      },
      "execution_count": 161,
      "outputs": [
        {
          "output_type": "stream",
          "name": "stdout",
          "text": [
            "Trial 5 Complete [00h 00m 04s]\n",
            "val_accuracy: 0.6428571343421936\n",
            "\n",
            "Best val_accuracy So Far: 0.7597402334213257\n",
            "Total elapsed time: 00h 00m 16s\n"
          ]
        }
      ]
    },
    {
      "cell_type": "code",
      "source": [
        "tuner_3.get_best_hyperparameters()[0].values"
      ],
      "metadata": {
        "colab": {
          "base_uri": "https://localhost:8080/"
        },
        "id": "uTHLFla65izx",
        "outputId": "356394a7-7eb8-44c5-eb06-cf8272a741a9"
      },
      "execution_count": 162,
      "outputs": [
        {
          "output_type": "execute_result",
          "data": {
            "text/plain": [
              "{'node': 38,\n",
              " 'activation': 'relu',\n",
              " 'num_of_layers': 7,\n",
              " 'lr': 0.0021599950963650445}"
            ]
          },
          "metadata": {},
          "execution_count": 162
        }
      ]
    },
    {
      "cell_type": "code",
      "source": [
        "model_best_=tuner_3.get_best_models(num_models=1)[0]"
      ],
      "metadata": {
        "id": "CAZ8GnLl5oag"
      },
      "execution_count": 163,
      "outputs": []
    },
    {
      "cell_type": "code",
      "source": [
        "model_best_.summary()"
      ],
      "metadata": {
        "colab": {
          "base_uri": "https://localhost:8080/"
        },
        "id": "INUabIm451Mh",
        "outputId": "8e0d487f-7389-4ddc-a0b1-a4f04d1e1faa"
      },
      "execution_count": 164,
      "outputs": [
        {
          "output_type": "stream",
          "name": "stdout",
          "text": [
            "Model: \"sequential\"\n",
            "_________________________________________________________________\n",
            " Layer (type)                Output Shape              Param #   \n",
            "=================================================================\n",
            " dense (Dense)               (None, 38)                342       \n",
            "                                                                 \n",
            " dense_1 (Dense)             (None, 38)                1482      \n",
            "                                                                 \n",
            " dropout (Dropout)           (None, 38)                0         \n",
            "                                                                 \n",
            " dense_2 (Dense)             (None, 38)                1482      \n",
            "                                                                 \n",
            " dropout_1 (Dropout)         (None, 38)                0         \n",
            "                                                                 \n",
            " dense_3 (Dense)             (None, 38)                1482      \n",
            "                                                                 \n",
            " dropout_2 (Dropout)         (None, 38)                0         \n",
            "                                                                 \n",
            " dense_4 (Dense)             (None, 38)                1482      \n",
            "                                                                 \n",
            " dropout_3 (Dropout)         (None, 38)                0         \n",
            "                                                                 \n",
            " dense_5 (Dense)             (None, 38)                1482      \n",
            "                                                                 \n",
            " dropout_4 (Dropout)         (None, 38)                0         \n",
            "                                                                 \n",
            " dense_6 (Dense)             (None, 38)                1482      \n",
            "                                                                 \n",
            " dropout_5 (Dropout)         (None, 38)                0         \n",
            "                                                                 \n",
            " dense_7 (Dense)             (None, 38)                1482      \n",
            "                                                                 \n",
            " dropout_6 (Dropout)         (None, 38)                0         \n",
            "                                                                 \n",
            " dense_8 (Dense)             (None, 1)                 39        \n",
            "                                                                 \n",
            "=================================================================\n",
            "Total params: 10,755\n",
            "Trainable params: 10,755\n",
            "Non-trainable params: 0\n",
            "_________________________________________________________________\n"
          ]
        }
      ]
    },
    {
      "cell_type": "code",
      "source": [
        "model_best_.fit(X_train,Y_train,batch_size=32,initial_epoch=10,epochs=100,validation_data=(X_test,Y_test))"
      ],
      "metadata": {
        "colab": {
          "base_uri": "https://localhost:8080/"
        },
        "id": "Uk1mhZGT53xT",
        "outputId": "839ce21b-3002-4d6c-a712-b3c3601c47d3"
      },
      "execution_count": 165,
      "outputs": [
        {
          "output_type": "stream",
          "name": "stdout",
          "text": [
            "Epoch 11/100\n",
            "20/20 [==============================] - 2s 18ms/step - loss: 0.4742 - accuracy: 0.7590 - val_loss: 0.5688 - val_accuracy: 0.7338\n",
            "Epoch 12/100\n",
            "20/20 [==============================] - 0s 7ms/step - loss: 0.4610 - accuracy: 0.7720 - val_loss: 0.5443 - val_accuracy: 0.6883\n",
            "Epoch 13/100\n",
            "20/20 [==============================] - 0s 6ms/step - loss: 0.4735 - accuracy: 0.7720 - val_loss: 0.5269 - val_accuracy: 0.7208\n",
            "Epoch 14/100\n",
            "20/20 [==============================] - 0s 7ms/step - loss: 0.4558 - accuracy: 0.7883 - val_loss: 0.5331 - val_accuracy: 0.7208\n",
            "Epoch 15/100\n",
            "20/20 [==============================] - 0s 7ms/step - loss: 0.4752 - accuracy: 0.7590 - val_loss: 0.5464 - val_accuracy: 0.7338\n",
            "Epoch 16/100\n",
            "20/20 [==============================] - 0s 7ms/step - loss: 0.4729 - accuracy: 0.7818 - val_loss: 0.5331 - val_accuracy: 0.7208\n",
            "Epoch 17/100\n",
            "20/20 [==============================] - 0s 7ms/step - loss: 0.4459 - accuracy: 0.7785 - val_loss: 0.5536 - val_accuracy: 0.6818\n",
            "Epoch 18/100\n",
            "20/20 [==============================] - 0s 8ms/step - loss: 0.4569 - accuracy: 0.7850 - val_loss: 0.5375 - val_accuracy: 0.7208\n",
            "Epoch 19/100\n",
            "20/20 [==============================] - 0s 7ms/step - loss: 0.4482 - accuracy: 0.7883 - val_loss: 0.5531 - val_accuracy: 0.7143\n",
            "Epoch 20/100\n",
            "20/20 [==============================] - 0s 7ms/step - loss: 0.4177 - accuracy: 0.7932 - val_loss: 0.5810 - val_accuracy: 0.6883\n",
            "Epoch 21/100\n",
            "20/20 [==============================] - 0s 7ms/step - loss: 0.4651 - accuracy: 0.7899 - val_loss: 0.5705 - val_accuracy: 0.7208\n",
            "Epoch 22/100\n",
            "20/20 [==============================] - 0s 7ms/step - loss: 0.4147 - accuracy: 0.7964 - val_loss: 0.6076 - val_accuracy: 0.7468\n",
            "Epoch 23/100\n",
            "20/20 [==============================] - 0s 7ms/step - loss: 0.4431 - accuracy: 0.7866 - val_loss: 0.5510 - val_accuracy: 0.7468\n",
            "Epoch 24/100\n",
            "20/20 [==============================] - 0s 7ms/step - loss: 0.4265 - accuracy: 0.7915 - val_loss: 0.6414 - val_accuracy: 0.7273\n",
            "Epoch 25/100\n",
            "20/20 [==============================] - 0s 8ms/step - loss: 0.4043 - accuracy: 0.7948 - val_loss: 0.8433 - val_accuracy: 0.7273\n",
            "Epoch 26/100\n",
            "20/20 [==============================] - 0s 6ms/step - loss: 0.4444 - accuracy: 0.7932 - val_loss: 0.6102 - val_accuracy: 0.6818\n",
            "Epoch 27/100\n",
            "20/20 [==============================] - 0s 7ms/step - loss: 0.4409 - accuracy: 0.7866 - val_loss: 0.5810 - val_accuracy: 0.7273\n",
            "Epoch 28/100\n",
            "20/20 [==============================] - 0s 7ms/step - loss: 0.4214 - accuracy: 0.8111 - val_loss: 0.6351 - val_accuracy: 0.6688\n",
            "Epoch 29/100\n",
            "20/20 [==============================] - 0s 6ms/step - loss: 0.4258 - accuracy: 0.7948 - val_loss: 0.5823 - val_accuracy: 0.6883\n",
            "Epoch 30/100\n",
            "20/20 [==============================] - 0s 7ms/step - loss: 0.4043 - accuracy: 0.8029 - val_loss: 0.6626 - val_accuracy: 0.7013\n",
            "Epoch 31/100\n",
            "20/20 [==============================] - 0s 6ms/step - loss: 0.4129 - accuracy: 0.8078 - val_loss: 0.6646 - val_accuracy: 0.6883\n",
            "Epoch 32/100\n",
            "20/20 [==============================] - 0s 7ms/step - loss: 0.4046 - accuracy: 0.8160 - val_loss: 0.6150 - val_accuracy: 0.6818\n",
            "Epoch 33/100\n",
            "20/20 [==============================] - 0s 6ms/step - loss: 0.3793 - accuracy: 0.8404 - val_loss: 0.6852 - val_accuracy: 0.6818\n",
            "Epoch 34/100\n",
            "20/20 [==============================] - 0s 8ms/step - loss: 0.3818 - accuracy: 0.8257 - val_loss: 0.7364 - val_accuracy: 0.6753\n",
            "Epoch 35/100\n",
            "20/20 [==============================] - 0s 7ms/step - loss: 0.3924 - accuracy: 0.8111 - val_loss: 0.6764 - val_accuracy: 0.6494\n",
            "Epoch 36/100\n",
            "20/20 [==============================] - 0s 7ms/step - loss: 0.3872 - accuracy: 0.8143 - val_loss: 0.8987 - val_accuracy: 0.6623\n",
            "Epoch 37/100\n",
            "20/20 [==============================] - 0s 7ms/step - loss: 0.3911 - accuracy: 0.8111 - val_loss: 0.6363 - val_accuracy: 0.6494\n",
            "Epoch 38/100\n",
            "20/20 [==============================] - 0s 7ms/step - loss: 0.3859 - accuracy: 0.8290 - val_loss: 0.7281 - val_accuracy: 0.6688\n",
            "Epoch 39/100\n",
            "20/20 [==============================] - 0s 8ms/step - loss: 0.3894 - accuracy: 0.8502 - val_loss: 0.7410 - val_accuracy: 0.6688\n",
            "Epoch 40/100\n",
            "20/20 [==============================] - 0s 7ms/step - loss: 0.3727 - accuracy: 0.8208 - val_loss: 0.7581 - val_accuracy: 0.6818\n",
            "Epoch 41/100\n",
            "20/20 [==============================] - 0s 8ms/step - loss: 0.3793 - accuracy: 0.8290 - val_loss: 0.7732 - val_accuracy: 0.7013\n",
            "Epoch 42/100\n",
            "20/20 [==============================] - 0s 7ms/step - loss: 0.3860 - accuracy: 0.8404 - val_loss: 0.6612 - val_accuracy: 0.6818\n",
            "Epoch 43/100\n",
            "20/20 [==============================] - 0s 7ms/step - loss: 0.3747 - accuracy: 0.8094 - val_loss: 0.7247 - val_accuracy: 0.6299\n",
            "Epoch 44/100\n",
            "20/20 [==============================] - 0s 8ms/step - loss: 0.3775 - accuracy: 0.8241 - val_loss: 0.8144 - val_accuracy: 0.6948\n",
            "Epoch 45/100\n",
            "20/20 [==============================] - 0s 7ms/step - loss: 0.3395 - accuracy: 0.8436 - val_loss: 0.9070 - val_accuracy: 0.6818\n",
            "Epoch 46/100\n",
            "20/20 [==============================] - 0s 7ms/step - loss: 0.3874 - accuracy: 0.8094 - val_loss: 0.7210 - val_accuracy: 0.6883\n",
            "Epoch 47/100\n",
            "20/20 [==============================] - 0s 7ms/step - loss: 0.3572 - accuracy: 0.8241 - val_loss: 0.9190 - val_accuracy: 0.7013\n",
            "Epoch 48/100\n",
            "20/20 [==============================] - 0s 7ms/step - loss: 0.3715 - accuracy: 0.8355 - val_loss: 0.8777 - val_accuracy: 0.6883\n",
            "Epoch 49/100\n",
            "20/20 [==============================] - 0s 7ms/step - loss: 0.3732 - accuracy: 0.8176 - val_loss: 0.8395 - val_accuracy: 0.7013\n",
            "Epoch 50/100\n",
            "20/20 [==============================] - 0s 7ms/step - loss: 0.3580 - accuracy: 0.8192 - val_loss: 0.7518 - val_accuracy: 0.6753\n",
            "Epoch 51/100\n",
            "20/20 [==============================] - 0s 6ms/step - loss: 0.3502 - accuracy: 0.8306 - val_loss: 0.8818 - val_accuracy: 0.7013\n",
            "Epoch 52/100\n",
            "20/20 [==============================] - 0s 8ms/step - loss: 0.3399 - accuracy: 0.8388 - val_loss: 0.9195 - val_accuracy: 0.6818\n",
            "Epoch 53/100\n",
            "20/20 [==============================] - 0s 7ms/step - loss: 0.3395 - accuracy: 0.8355 - val_loss: 0.9340 - val_accuracy: 0.6883\n",
            "Epoch 54/100\n",
            "20/20 [==============================] - 0s 7ms/step - loss: 0.3569 - accuracy: 0.8485 - val_loss: 0.9739 - val_accuracy: 0.6753\n",
            "Epoch 55/100\n",
            "20/20 [==============================] - 0s 7ms/step - loss: 0.3472 - accuracy: 0.8469 - val_loss: 0.7890 - val_accuracy: 0.6753\n",
            "Epoch 56/100\n",
            "20/20 [==============================] - 0s 6ms/step - loss: 0.3373 - accuracy: 0.8550 - val_loss: 0.9937 - val_accuracy: 0.6948\n",
            "Epoch 57/100\n",
            "20/20 [==============================] - 0s 7ms/step - loss: 0.3605 - accuracy: 0.8502 - val_loss: 0.9793 - val_accuracy: 0.6688\n",
            "Epoch 58/100\n",
            "20/20 [==============================] - 0s 7ms/step - loss: 0.3634 - accuracy: 0.8404 - val_loss: 1.1040 - val_accuracy: 0.6883\n",
            "Epoch 59/100\n",
            "20/20 [==============================] - 0s 8ms/step - loss: 0.3554 - accuracy: 0.8453 - val_loss: 0.8716 - val_accuracy: 0.6948\n",
            "Epoch 60/100\n",
            "20/20 [==============================] - 0s 6ms/step - loss: 0.3343 - accuracy: 0.8518 - val_loss: 0.9800 - val_accuracy: 0.6948\n",
            "Epoch 61/100\n",
            "20/20 [==============================] - 0s 7ms/step - loss: 0.3491 - accuracy: 0.8518 - val_loss: 0.7855 - val_accuracy: 0.6753\n",
            "Epoch 62/100\n",
            "20/20 [==============================] - 0s 7ms/step - loss: 0.3164 - accuracy: 0.8485 - val_loss: 1.1049 - val_accuracy: 0.7078\n",
            "Epoch 63/100\n",
            "20/20 [==============================] - 0s 7ms/step - loss: 0.3498 - accuracy: 0.8388 - val_loss: 1.0132 - val_accuracy: 0.6753\n",
            "Epoch 64/100\n",
            "20/20 [==============================] - 0s 8ms/step - loss: 0.3230 - accuracy: 0.8713 - val_loss: 0.8787 - val_accuracy: 0.6948\n",
            "Epoch 65/100\n",
            "20/20 [==============================] - 0s 7ms/step - loss: 0.3387 - accuracy: 0.8583 - val_loss: 0.8996 - val_accuracy: 0.6688\n",
            "Epoch 66/100\n",
            "20/20 [==============================] - 0s 8ms/step - loss: 0.3318 - accuracy: 0.8502 - val_loss: 1.3196 - val_accuracy: 0.7078\n",
            "Epoch 67/100\n",
            "20/20 [==============================] - 0s 7ms/step - loss: 0.2962 - accuracy: 0.8616 - val_loss: 1.1252 - val_accuracy: 0.6948\n",
            "Epoch 68/100\n",
            "20/20 [==============================] - 0s 7ms/step - loss: 0.3145 - accuracy: 0.8550 - val_loss: 1.2839 - val_accuracy: 0.7013\n",
            "Epoch 69/100\n",
            "20/20 [==============================] - 0s 7ms/step - loss: 0.3376 - accuracy: 0.8648 - val_loss: 0.9154 - val_accuracy: 0.6818\n",
            "Epoch 70/100\n",
            "20/20 [==============================] - 0s 7ms/step - loss: 0.3078 - accuracy: 0.8550 - val_loss: 1.2832 - val_accuracy: 0.6688\n",
            "Epoch 71/100\n",
            "20/20 [==============================] - 0s 7ms/step - loss: 0.3170 - accuracy: 0.8616 - val_loss: 1.2087 - val_accuracy: 0.6688\n",
            "Epoch 72/100\n",
            "20/20 [==============================] - 0s 7ms/step - loss: 0.3036 - accuracy: 0.8567 - val_loss: 1.0575 - val_accuracy: 0.6623\n",
            "Epoch 73/100\n",
            "20/20 [==============================] - 0s 9ms/step - loss: 0.3319 - accuracy: 0.8436 - val_loss: 1.0333 - val_accuracy: 0.6818\n",
            "Epoch 74/100\n",
            "20/20 [==============================] - 0s 7ms/step - loss: 0.2927 - accuracy: 0.8664 - val_loss: 1.6985 - val_accuracy: 0.6623\n",
            "Epoch 75/100\n",
            "20/20 [==============================] - 0s 7ms/step - loss: 0.3268 - accuracy: 0.8664 - val_loss: 1.3240 - val_accuracy: 0.6688\n",
            "Epoch 76/100\n",
            "20/20 [==============================] - 0s 7ms/step - loss: 0.2906 - accuracy: 0.8681 - val_loss: 1.6605 - val_accuracy: 0.6753\n",
            "Epoch 77/100\n",
            "20/20 [==============================] - 0s 7ms/step - loss: 0.2985 - accuracy: 0.8599 - val_loss: 1.5735 - val_accuracy: 0.6494\n",
            "Epoch 78/100\n",
            "20/20 [==============================] - 0s 7ms/step - loss: 0.2965 - accuracy: 0.8550 - val_loss: 1.9229 - val_accuracy: 0.6688\n",
            "Epoch 79/100\n",
            "20/20 [==============================] - 0s 8ms/step - loss: 0.2792 - accuracy: 0.8648 - val_loss: 1.7768 - val_accuracy: 0.6818\n",
            "Epoch 80/100\n",
            "20/20 [==============================] - 0s 8ms/step - loss: 0.2912 - accuracy: 0.8550 - val_loss: 1.7884 - val_accuracy: 0.6623\n",
            "Epoch 81/100\n",
            "20/20 [==============================] - 0s 7ms/step - loss: 0.2786 - accuracy: 0.8583 - val_loss: 2.0227 - val_accuracy: 0.6753\n",
            "Epoch 82/100\n",
            "20/20 [==============================] - 0s 7ms/step - loss: 0.3045 - accuracy: 0.8599 - val_loss: 1.6036 - val_accuracy: 0.6688\n",
            "Epoch 83/100\n",
            "20/20 [==============================] - 0s 7ms/step - loss: 0.3010 - accuracy: 0.8632 - val_loss: 1.8991 - val_accuracy: 0.6818\n",
            "Epoch 84/100\n",
            "20/20 [==============================] - 0s 7ms/step - loss: 0.3156 - accuracy: 0.8502 - val_loss: 1.6915 - val_accuracy: 0.6818\n",
            "Epoch 85/100\n",
            "20/20 [==============================] - 0s 7ms/step - loss: 0.2531 - accuracy: 0.8681 - val_loss: 2.2572 - val_accuracy: 0.6494\n",
            "Epoch 86/100\n",
            "20/20 [==============================] - 0s 8ms/step - loss: 0.2786 - accuracy: 0.8697 - val_loss: 2.4459 - val_accuracy: 0.6818\n",
            "Epoch 87/100\n",
            "20/20 [==============================] - 0s 7ms/step - loss: 0.2756 - accuracy: 0.8599 - val_loss: 2.1546 - val_accuracy: 0.6883\n",
            "Epoch 88/100\n",
            "20/20 [==============================] - 0s 7ms/step - loss: 0.2996 - accuracy: 0.8697 - val_loss: 1.8059 - val_accuracy: 0.6883\n",
            "Epoch 89/100\n",
            "20/20 [==============================] - 0s 7ms/step - loss: 0.2900 - accuracy: 0.8453 - val_loss: 1.9979 - val_accuracy: 0.6688\n",
            "Epoch 90/100\n",
            "20/20 [==============================] - 0s 7ms/step - loss: 0.2913 - accuracy: 0.8697 - val_loss: 1.9061 - val_accuracy: 0.6623\n",
            "Epoch 91/100\n",
            "20/20 [==============================] - 0s 7ms/step - loss: 0.2729 - accuracy: 0.8779 - val_loss: 2.3906 - val_accuracy: 0.6753\n",
            "Epoch 92/100\n",
            "20/20 [==============================] - 0s 7ms/step - loss: 0.2731 - accuracy: 0.8664 - val_loss: 2.3339 - val_accuracy: 0.7013\n",
            "Epoch 93/100\n",
            "20/20 [==============================] - 0s 8ms/step - loss: 0.2484 - accuracy: 0.8730 - val_loss: 2.6140 - val_accuracy: 0.7013\n",
            "Epoch 94/100\n",
            "20/20 [==============================] - 0s 7ms/step - loss: 0.2929 - accuracy: 0.8713 - val_loss: 1.9447 - val_accuracy: 0.6818\n",
            "Epoch 95/100\n",
            "20/20 [==============================] - 0s 7ms/step - loss: 0.2947 - accuracy: 0.8844 - val_loss: 2.1072 - val_accuracy: 0.6753\n",
            "Epoch 96/100\n",
            "20/20 [==============================] - 0s 7ms/step - loss: 0.2476 - accuracy: 0.8811 - val_loss: 2.5806 - val_accuracy: 0.6429\n",
            "Epoch 97/100\n",
            "20/20 [==============================] - 0s 7ms/step - loss: 0.2727 - accuracy: 0.8697 - val_loss: 3.2490 - val_accuracy: 0.6948\n",
            "Epoch 98/100\n",
            "20/20 [==============================] - 0s 7ms/step - loss: 0.2576 - accuracy: 0.8583 - val_loss: 2.6483 - val_accuracy: 0.7013\n",
            "Epoch 99/100\n",
            "20/20 [==============================] - 0s 7ms/step - loss: 0.2861 - accuracy: 0.8779 - val_loss: 2.3312 - val_accuracy: 0.6818\n",
            "Epoch 100/100\n",
            "20/20 [==============================] - 0s 7ms/step - loss: 0.3387 - accuracy: 0.8567 - val_loss: 2.4070 - val_accuracy: 0.6948\n"
          ]
        },
        {
          "output_type": "execute_result",
          "data": {
            "text/plain": [
              "<keras.callbacks.History at 0x7fe472453090>"
            ]
          },
          "metadata": {},
          "execution_count": 165
        }
      ]
    },
    {
      "cell_type": "code",
      "source": [
        "tuner_3.results_summary()"
      ],
      "metadata": {
        "colab": {
          "base_uri": "https://localhost:8080/"
        },
        "id": "tKNs0Ekz6Bhf",
        "outputId": "7ac15237-c6ab-4740-cfe7-9fe6c887b961"
      },
      "execution_count": 166,
      "outputs": [
        {
          "output_type": "stream",
          "name": "stdout",
          "text": [
            "Results summary\n",
            "Results in sr/untitled_project\n",
            "Showing 10 best trials\n",
            "<keras_tuner.engine.objective.Objective object at 0x7fe472415990>\n",
            "Trial summary\n",
            "Hyperparameters:\n",
            "node: 38\n",
            "activation: relu\n",
            "num_of_layers: 7\n",
            "lr: 0.0021599950963650445\n",
            "Score: 0.7597402334213257\n",
            "Trial summary\n",
            "Hyperparameters:\n",
            "node: 40\n",
            "activation: tanh\n",
            "num_of_layers: 1\n",
            "lr: 0.00027228398750180077\n",
            "Score: 0.7532467246055603\n",
            "Trial summary\n",
            "Hyperparameters:\n",
            "node: 71\n",
            "activation: relu\n",
            "num_of_layers: 1\n",
            "lr: 0.00016018560667549093\n",
            "Score: 0.7207792401313782\n",
            "Trial summary\n",
            "Hyperparameters:\n",
            "node: 47\n",
            "activation: relu\n",
            "num_of_layers: 7\n",
            "lr: 0.0001964530109548961\n",
            "Score: 0.6428571343421936\n",
            "Trial summary\n",
            "Hyperparameters:\n",
            "node: 33\n",
            "activation: relu\n",
            "num_of_layers: 10\n",
            "lr: 0.0005170567445148574\n",
            "Score: 0.6428571343421936\n"
          ]
        }
      ]
    },
    {
      "cell_type": "code",
      "source": [],
      "metadata": {
        "id": "uxzVwqx-7LY-"
      },
      "execution_count": null,
      "outputs": []
    }
  ]
}