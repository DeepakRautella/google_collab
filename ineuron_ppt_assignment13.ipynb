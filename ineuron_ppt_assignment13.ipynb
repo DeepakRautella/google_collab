{
  "nbformat": 4,
  "nbformat_minor": 0,
  "metadata": {
    "colab": {
      "provenance": [],
      "authorship_tag": "ABX9TyOIO9XnMvl0cKrtnP1/O6Bn",
      "include_colab_link": true
    },
    "kernelspec": {
      "name": "python3",
      "display_name": "Python 3"
    },
    "language_info": {
      "name": "python"
    }
  },
  "cells": [
    {
      "cell_type": "markdown",
      "metadata": {
        "id": "view-in-github",
        "colab_type": "text"
      },
      "source": [
        "<a href=\"https://colab.research.google.com/github/DeepakRautella/google_collab/blob/main/ineuron_ppt_assignment13.ipynb\" target=\"_parent\"><img src=\"https://colab.research.google.com/assets/colab-badge.svg\" alt=\"Open In Colab\"/></a>"
      ]
    },
    {
      "cell_type": "code",
      "execution_count": 2,
      "metadata": {
        "id": "MBvGN02zdmM7"
      },
      "outputs": [],
      "source": []
    },
    {
      "cell_type": "markdown",
      "source": [
        "<aside>\n",
        "💡 **Question 1**\n",
        "\n",
        "Given two linked list of the same size, the task is to create a new linked list using those linked lists. The condition is that the greater node among both linked list will be added to the new linked list.\n",
        "\n",
        "**Examples:**\n",
        "Input: list1 = 5->2->3->8\n",
        "list2 = 1->7->4->5\n",
        "Output: New list = 5->7->4->8\n",
        "\n",
        "Input:list1 = 2->8->9->3\n",
        "list2 = 5->3->6->4\n",
        "Output: New list = 5->8->9->4\n",
        "\n",
        "</aside>"
      ],
      "metadata": {
        "id": "783Y4f80shhP"
      }
    },
    {
      "cell_type": "code",
      "source": [
        "class Node:\n",
        "    def __init__(self, data=None):\n",
        "        self.data = data\n",
        "        self.next = None\n",
        "\n",
        "def create_new_list(list1, list2):\n",
        "    new_list = None\n",
        "    last_node = None\n",
        "\n",
        "    while list1 is not None and list2 is not None:\n",
        "        if list1.data >= list2.data:\n",
        "            new_node = Node(list1.data)\n",
        "        else:\n",
        "            new_node = Node(list2.data)\n",
        "\n",
        "        list1 = list1.next\n",
        "        list2 = list2.next\n",
        "\n",
        "        if new_list is None:\n",
        "            new_list = new_node\n",
        "            last_node = new_node\n",
        "\n",
        "        else:\n",
        "            last_node.next = new_node\n",
        "            last_node = new_node\n",
        "\n",
        "    # Append remaining nodes of list1 or list2\n",
        "    if list1 is not None:\n",
        "        last_node.next = list1\n",
        "    elif list2 is not None:\n",
        "        last_node.next = list2\n",
        "\n",
        "    return new_list\n"
      ],
      "metadata": {
        "id": "69vE8XuBsm5F"
      },
      "execution_count": 25,
      "outputs": []
    },
    {
      "cell_type": "code",
      "source": [
        "list1=Node(5)\n",
        "list1.next=Node(2)\n",
        "list1.next.next=Node(3)\n",
        "list1.next.next.next=Node(8)\n",
        "list2=Node(1)\n",
        "list2.next=Node(7)\n",
        "list2.next.next=Node(4)\n",
        "list2.next.next.next=Node(5)\n",
        "\n",
        "head=create_new_list(list1,list2)\n",
        "cursor=head\n",
        "while cursor is not None:\n",
        "    print(cursor.data, end=\" \")\n",
        "    cursor = cursor.next"
      ],
      "metadata": {
        "colab": {
          "base_uri": "https://localhost:8080/"
        },
        "id": "td_dZsizsoPH",
        "outputId": "bca37a1b-fd49-4da4-c07c-876d049d800c"
      },
      "execution_count": 26,
      "outputs": [
        {
          "output_type": "stream",
          "name": "stdout",
          "text": [
            "5 7 4 8 "
          ]
        }
      ]
    },
    {
      "cell_type": "markdown",
      "source": [
        "<aside>\n",
        "💡 **Question 2**\n",
        "\n",
        "Write a function that takes a list sorted in non-decreasing order and deletes any duplicate nodes from the list. The list should only be traversed once.\n",
        "\n",
        "For example if the linked list is 11->11->11->21->43->43->60 then removeDuplicates() should convert the list to 11->21->43->60.\n",
        "\n",
        "**Example 1:**\n",
        "Input:\n",
        "LinkedList:\n",
        "11->11->11->21->43->43->60\n",
        "Output:\n",
        "11->21->43->60\n",
        "</aside>"
      ],
      "metadata": {
        "id": "XzprBdzdsohM"
      }
    },
    {
      "cell_type": "code",
      "source": [
        "class Node:\n",
        "    def __init__(self, data=None):\n",
        "        self.data = data\n",
        "        self.next = None\n",
        "\n",
        "def remove_duplicates(head):\n",
        "    if head is None:\n",
        "        return head\n",
        "\n",
        "    current = head\n",
        "\n",
        "    while current.next is not None:\n",
        "        if current.data == current.next.data:\n",
        "            current.next = current.next.next\n",
        "        else:\n",
        "            current = current.next\n",
        "\n",
        "    return head\n",
        "\n",
        "# Create the input linked list\n",
        "head = Node(11)\n",
        "head.next = Node(11)\n",
        "head.next.next = Node(11)\n",
        "head.next.next.next = Node(21)\n",
        "head.next.next.next.next = Node(43)\n",
        "head.next.next.next.next.next = Node(43)\n",
        "head.next.next.next.next.next.next = Node(60)\n",
        "\n",
        "# Call the remove_duplicates function\n",
        "new_head = remove_duplicates(head)\n",
        "\n",
        "# Traverse the modified list and print the data of each node\n",
        "current = new_head\n",
        "while current is not None:\n",
        "    print(current.data, end=\" \")\n",
        "    current = current.next\n"
      ],
      "metadata": {
        "colab": {
          "base_uri": "https://localhost:8080/"
        },
        "id": "zgu2H3Awstgu",
        "outputId": "ee45dced-a1b0-42a4-aa81-4d07297d7fba"
      },
      "execution_count": 30,
      "outputs": [
        {
          "output_type": "stream",
          "name": "stdout",
          "text": [
            "11 21 43 60 "
          ]
        }
      ]
    },
    {
      "cell_type": "markdown",
      "source": [
        "<aside>\n",
        "💡 **Question 3**\n",
        "\n",
        "Given a linked list of size **N**. The task is to reverse every **k** nodes (where k is an input to the function) in the linked list. If the number of nodes is not a multiple of *k* then left-out nodes, in the end, should be considered as a group and must be reversed (See Example 2 for clarification).\n",
        "Example:\n",
        "Input:\n",
        "LinkedList: 1->2->2->4->5->6->7->8\n",
        "K = 4\n",
        "Output:4 2 2 1 8 7 6 5\n",
        "Explanation:\n",
        "The first 4 elements 1,2,2,4 are reversed first\n",
        "and then the next 4 elements 5,6,7,8. Hence, the\n",
        "resultant linked list is 4->2->2->1->8->7->6->5.\n",
        "\n",
        "</aside>"
      ],
      "metadata": {
        "id": "Gv9Axd_-s1F8"
      }
    },
    {
      "cell_type": "code",
      "source": [
        "class Node:\n",
        "    def __init__(self, data=None):\n",
        "        self.data = data\n",
        "        self.next = None\n",
        "\n",
        "def reverse_k_nodes(head, k):\n",
        "    if head is None or k == 1:\n",
        "        return head\n",
        "\n",
        "    dummy = Node(0)\n",
        "    dummy.next = head\n",
        "    prev = dummy\n",
        "\n",
        "    while True:\n",
        "        count = 0\n",
        "        current = prev.next\n",
        "        while current is not None:\n",
        "            count += 1\n",
        "            current = current.next\n",
        "            if count == k:\n",
        "                break\n",
        "\n",
        "        if count == k:\n",
        "            prev = reverse_group(prev, prev.next, current)\n",
        "        else:\n",
        "            break\n",
        "\n",
        "    return dummy.next\n",
        "\n",
        "def reverse_group(prev, start, end):\n",
        "    current = start\n",
        "    next_node = None\n",
        "    prev_node = prev\n",
        "\n",
        "    while current != end:\n",
        "        next_node = current.next\n",
        "        current.next = prev_node\n",
        "        prev_node = current\n",
        "        current = next_node\n",
        "\n",
        "    start.next = current\n",
        "    prev.next = prev_node\n",
        "\n",
        "    return start\n",
        "\n",
        "# Create the input linked list\n",
        "head = Node(1)\n",
        "head.next = Node(2)\n",
        "head.next.next = Node(2)\n",
        "head.next.next.next = Node(4)\n",
        "head.next.next.next.next = Node(5)\n",
        "head.next.next.next.next.next = Node(6)\n",
        "head.next.next.next.next.next.next = Node(7)\n",
        "head.next.next.next.next.next.next.next = Node(8)\n",
        "\n",
        "# Define the value of k\n",
        "k = 4\n",
        "\n",
        "# Call the reverse_k_nodes function\n",
        "new_head = reverse_k_nodes(head, k)\n",
        "\n",
        "# Traverse the modified list and print the data of each node\n",
        "current = new_head\n",
        "while current is not None:\n",
        "    print(current.data, end=\" \")\n",
        "    current = current.next\n"
      ],
      "metadata": {
        "colab": {
          "base_uri": "https://localhost:8080/"
        },
        "id": "zU9L8cL2s9oO",
        "outputId": "307303ac-c3f8-42cb-bb54-ebf694313065"
      },
      "execution_count": 31,
      "outputs": [
        {
          "output_type": "stream",
          "name": "stdout",
          "text": [
            "4 2 2 1 8 7 6 5 "
          ]
        }
      ]
    },
    {
      "cell_type": "markdown",
      "source": [
        "<aside>\n",
        "💡 **Question 4**\n",
        "\n",
        "Given a linked list, write a function to reverse every alternate k nodes (where k is an input to the function) in an efficient way. Give the complexity of your algorithm.\n",
        "\n",
        "**Example:**\n",
        "Inputs:   1->2->3->4->5->6->7->8->9->NULL and k = 3\n",
        "Output:   3->2->1->4->5->6->9->8->7->NULL.\n",
        "</aside>"
      ],
      "metadata": {
        "id": "OgW-2WzLs-SL"
      }
    },
    {
      "cell_type": "code",
      "source": [
        "class Node:\n",
        "    def __init__(self, data=None):\n",
        "        self.data = data\n",
        "        self.next = None\n",
        "\n",
        "def reverse_alternate_k_nodes(head, k):\n",
        "    if head is None or k == 1:\n",
        "        return head\n",
        "\n",
        "    dummy = Node(0)\n",
        "    dummy.next = head\n",
        "    prev = dummy\n",
        "    current = head\n",
        "    is_reverse = True\n",
        "\n",
        "    while current is not None:\n",
        "        count = 0\n",
        "        start = current\n",
        "        while current is not None and count < k:\n",
        "            current = current.next\n",
        "            count += 1\n",
        "\n",
        "        if is_reverse:\n",
        "            prev.next = reverse_group(start, current)\n",
        "        else:\n",
        "            prev.next = start\n",
        "\n",
        "        for _ in range(count):\n",
        "            prev = prev.next\n",
        "\n",
        "        is_reverse = not is_reverse\n",
        "\n",
        "    return dummy.next\n",
        "\n",
        "def reverse_group(start, end):\n",
        "    prev = None\n",
        "    current = start\n",
        "    next_node = None\n",
        "\n",
        "    while current != end:\n",
        "        next_node = current.next\n",
        "        current.next = prev\n",
        "        prev = current\n",
        "        current = next_node\n",
        "\n",
        "    start.next = current\n",
        "\n",
        "    return prev\n",
        "\n",
        "\n",
        "# Create the input linked list\n",
        "head = Node(1)\n",
        "head.next = Node(2)\n",
        "head.next.next = Node(3)\n",
        "head.next.next.next = Node(4)\n",
        "head.next.next.next.next = Node(5)\n",
        "head.next.next.next.next.next = Node(6)\n",
        "head.next.next.next.next.next.next = Node(7)\n",
        "head.next.next.next.next.next.next.next = Node(8)\n",
        "head.next.next.next.next.next.next.next.next = Node(9)\n",
        "\n",
        "# Define the value of k\n",
        "k = 3\n",
        "\n",
        "# Call the reverse_alternate_k_nodes function\n",
        "new_head = reverse_alternate_k_nodes(head, k)\n",
        "\n",
        "# Traverse the modified list and print the data of each node\n",
        "current = new_head\n",
        "while current is not None:\n",
        "    print(current.data, end=\" \")\n",
        "    current = current.next\n"
      ],
      "metadata": {
        "colab": {
          "base_uri": "https://localhost:8080/"
        },
        "id": "OkgCSaSTtETf",
        "outputId": "e794b6a0-1955-4e96-9879-251026d6105d"
      },
      "execution_count": 32,
      "outputs": [
        {
          "output_type": "stream",
          "name": "stdout",
          "text": [
            "3 2 1 4 5 6 9 8 7 "
          ]
        }
      ]
    },
    {
      "cell_type": "markdown",
      "source": [
        "<aside>\n",
        "💡 **Question 5**\n",
        "\n",
        "Given a linked list and a key to be deleted. Delete last occurrence of key from linked. The list may have duplicates.\n",
        "\n",
        "**Examples**:\n",
        "Input:   1->2->3->5->2->10, key = 2\n",
        "Output:  1->2->3->5->10\n",
        "</aside>"
      ],
      "metadata": {
        "id": "sBf2AdR5_lTq"
      }
    },
    {
      "cell_type": "code",
      "source": [
        "class Node:\n",
        "    def __init__(self, data=None):\n",
        "        self.data = data\n",
        "        self.next = None\n",
        "\n",
        "def delete_last_occurrence(head, key):\n",
        "    if head is None:\n",
        "        return head\n",
        "\n",
        "    last_occurrence = None\n",
        "    last_occurrence_prev = None\n",
        "    current = head\n",
        "    prev = None\n",
        "\n",
        "    while current is not None:\n",
        "        if current.data == key:\n",
        "            last_occurrence = current\n",
        "            last_occurrence_prev = prev\n",
        "\n",
        "        prev = current\n",
        "        current = current.next\n",
        "\n",
        "    if last_occurrence is not None:\n",
        "        if last_occurrence_prev is None:\n",
        "            head = head.next\n",
        "        else:\n",
        "            last_occurrence_prev.next = last_occurrence.next\n",
        "\n",
        "    return head\n",
        "\n",
        "# Create the input linked list\n",
        "head = Node(1)\n",
        "head.next = Node(2)\n",
        "head.next.next = Node(3)\n",
        "head.next.next.next = Node(5)\n",
        "head.next.next.next.next = Node(2)\n",
        "head.next.next.next.next.next = Node(10)\n",
        "\n",
        "# Define the key to be deleted\n",
        "key = 2\n",
        "\n",
        "# Call the delete_last_occurrence function\n",
        "new_head = delete_last_occurrence(head, key)\n",
        "\n",
        "# Traverse the modified list and print the data of each node\n",
        "current = new_head\n",
        "while current is not None:\n",
        "    print(current.data, end=\" \")\n",
        "    current = current.next\n"
      ],
      "metadata": {
        "colab": {
          "base_uri": "https://localhost:8080/"
        },
        "id": "lNUY-EK8AOPn",
        "outputId": "7b6567cc-8fe3-46bc-ef7a-32d21a878634"
      },
      "execution_count": 34,
      "outputs": [
        {
          "output_type": "stream",
          "name": "stdout",
          "text": [
            "1 2 3 5 10 "
          ]
        }
      ]
    },
    {
      "cell_type": "markdown",
      "source": [
        "<aside>\n",
        "💡 **Question 6**\n",
        "\n",
        "Given two sorted linked lists consisting of **N** and **M** nodes respectively. The task is to merge both of the lists (in place) and return the head of the merged list.\n",
        "\n",
        "**Examples:**\n",
        "\n",
        "Input: a: 5->10->15, b: 2->3->20\n",
        "\n",
        "Output: 2->3->5->10->15->20\n",
        "\n",
        "Input: a: 1->1, b: 2->4\n",
        "\n",
        "Output: 1->1->2->4\n",
        "\n",
        "</aside>"
      ],
      "metadata": {
        "id": "WQQ6Gxm9APFZ"
      }
    },
    {
      "cell_type": "code",
      "source": [
        "class Node:\n",
        "    def __init__(self, data=None):\n",
        "        self.data = data\n",
        "        self.next = None\n",
        "\n",
        "def merge_sorted_lists(a, b):\n",
        "    dummy = Node()\n",
        "    current = dummy\n",
        "\n",
        "    while a is not None and b is not None:\n",
        "        if a.data <= b.data:\n",
        "            current.next = a\n",
        "            a = a.next\n",
        "        else:\n",
        "            current.next = b\n",
        "            b = b.next\n",
        "\n",
        "        current = current.next\n",
        "\n",
        "    if a is not None:\n",
        "        current.next = a\n",
        "    elif b is not None:\n",
        "        current.next = b\n",
        "\n",
        "    return dummy.next\n",
        "\n",
        "# Create the input linked lists\n",
        "a = Node(5)\n",
        "a.next = Node(10)\n",
        "a.next.next = Node(15)\n",
        "\n",
        "b = Node(2)\n",
        "b.next = Node(3)\n",
        "b.next.next = Node(20)\n",
        "\n",
        "# Call the merge_sorted_lists function\n",
        "head = merge_sorted_lists(a, b)\n",
        "\n",
        "# Traverse the merged list and print the data of each node\n",
        "current = head\n",
        "while current is not None:\n",
        "    print(current.data, end=\" \")\n",
        "    current = current.next\n"
      ],
      "metadata": {
        "colab": {
          "base_uri": "https://localhost:8080/"
        },
        "id": "Sce4Ek7VAX32",
        "outputId": "34c185d6-c341-4bdb-809a-314002f7a661"
      },
      "execution_count": 35,
      "outputs": [
        {
          "output_type": "stream",
          "name": "stdout",
          "text": [
            "2 3 5 10 15 20 "
          ]
        }
      ]
    },
    {
      "cell_type": "markdown",
      "source": [
        "<aside>\n",
        "💡 **Question 7**\n",
        "\n",
        "Given a **Doubly Linked List**, the task is to reverse the given Doubly Linked List.\n",
        "\n",
        "**Example:**\n",
        "Original Linked list 10 8 4 2\n",
        "Reversed Linked list 2 4 8 10\n",
        "\n",
        "</aside>"
      ],
      "metadata": {
        "id": "73ZqCMhEApUX"
      }
    },
    {
      "cell_type": "code",
      "source": [
        "class Node:\n",
        "    def __init__(self, data=None):\n",
        "        self.data = data\n",
        "        self.prev = None\n",
        "        self.next = None\n",
        "\n",
        "def reverse_doubly_linked_list(head):\n",
        "    if head is None or head.next is None:\n",
        "        return head\n",
        "\n",
        "    current = head\n",
        "    prev = None\n",
        "\n",
        "    while current is not None:\n",
        "        next_node = current.next\n",
        "        current.next = prev\n",
        "        current.prev = next_node\n",
        "        prev = current\n",
        "        current = next_node\n",
        "\n",
        "    head = prev\n",
        "\n",
        "    return head\n",
        "\n",
        "\n",
        "# Create the input doubly linked list\n",
        "head = Node(10)\n",
        "head.next = Node(8)\n",
        "head.next.prev = head\n",
        "head.next.next = Node(4)\n",
        "head.next.next.prev = head.next\n",
        "head.next.next.next = Node(2)\n",
        "head.next.next.next.prev = head.next.next\n",
        "\n",
        "# Call the reverse_doubly_linked_list function\n",
        "new_head = reverse_doubly_linked_list(head)\n",
        "\n",
        "# Traverse the reversed doubly linked list forward and print the data of each node\n",
        "current = new_head\n",
        "while current is not None:\n",
        "    print(current.data, end=\" \")\n",
        "    current = current.next\n"
      ],
      "metadata": {
        "colab": {
          "base_uri": "https://localhost:8080/"
        },
        "id": "ueVLO7ZBAylZ",
        "outputId": "057ffe8d-549c-4651-f322-2b64e63ee083"
      },
      "execution_count": 36,
      "outputs": [
        {
          "output_type": "stream",
          "name": "stdout",
          "text": [
            "2 4 8 10 "
          ]
        }
      ]
    },
    {
      "cell_type": "markdown",
      "source": [
        "<aside>\n",
        "💡 **Question 8**\n",
        "\n",
        "Given a doubly linked list and a position. The task is to delete a node from given position in a doubly linked list.\n",
        "\n",
        "**Example 1:**\n",
        "Input:\n",
        "LinkedList = 1 <--> 3 <--> 4\n",
        "x = 3\n",
        "Output:1 3\n",
        "Explanation:After deleting the node at\n",
        "position 3 (position starts from 1),\n",
        "the linked list will be now as 1->3.\n",
        "\n",
        "</aside>"
      ],
      "metadata": {
        "id": "ZHTAR4hgBJcF"
      }
    },
    {
      "cell_type": "code",
      "source": [
        "class Node:\n",
        "    def __init__(self, data=None):\n",
        "        self.data = data\n",
        "        self.prev = None\n",
        "        self.next = None\n",
        "\n",
        "def delete_node(head, position):\n",
        "    if head is None:\n",
        "        return head\n",
        "\n",
        "    if position == 1:\n",
        "        new_head = head.next\n",
        "        if new_head is not None:\n",
        "            new_head.prev = None\n",
        "        return new_head\n",
        "\n",
        "    current = head\n",
        "    count = 1\n",
        "\n",
        "    while current is not None and count < position:\n",
        "        current = current.next\n",
        "        count += 1\n",
        "\n",
        "    if current is None:\n",
        "        return head\n",
        "\n",
        "    current.prev.next = current.next\n",
        "    if current.next is not None:\n",
        "        current.next.prev = current.prev\n",
        "\n",
        "    return head\n",
        "\n",
        "# Create the input doubly linked list\n",
        "head = Node(1)\n",
        "node2 = Node(3)\n",
        "node3 = Node(4)\n",
        "\n",
        "head.next = node2\n",
        "node2.prev = head\n",
        "node2.next = node3\n",
        "node3.prev = node2\n",
        "\n",
        "# Call the delete_node function\n",
        "new_head = delete_node(head, 3)\n",
        "\n",
        "# Traverse the modified doubly linked list forward and print the data of each node\n",
        "current = new_head\n",
        "while current is not None:\n",
        "    print(current.data, end=\" \")\n",
        "    current = current.next\n"
      ],
      "metadata": {
        "colab": {
          "base_uri": "https://localhost:8080/"
        },
        "id": "L6Fdqw7BBYje",
        "outputId": "4ad1e9cc-eb7a-454d-c970-55b35242a359"
      },
      "execution_count": 37,
      "outputs": [
        {
          "output_type": "stream",
          "name": "stdout",
          "text": [
            "1 3 "
          ]
        }
      ]
    },
    {
      "cell_type": "code",
      "source": [],
      "metadata": {
        "id": "n-HAb3G6Eyiy"
      },
      "execution_count": null,
      "outputs": []
    }
  ]
}