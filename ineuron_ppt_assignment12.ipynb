{
  "nbformat": 4,
  "nbformat_minor": 0,
  "metadata": {
    "colab": {
      "provenance": [],
      "authorship_tag": "ABX9TyPNgSp8rjX+MuDO8ZNiNc9Y",
      "include_colab_link": true
    },
    "kernelspec": {
      "name": "python3",
      "display_name": "Python 3"
    },
    "language_info": {
      "name": "python"
    }
  },
  "cells": [
    {
      "cell_type": "markdown",
      "metadata": {
        "id": "view-in-github",
        "colab_type": "text"
      },
      "source": [
        "<a href=\"https://colab.research.google.com/github/DeepakRautella/google_collab/blob/main/ineuron_ppt_assignment12.ipynb\" target=\"_parent\"><img src=\"https://colab.research.google.com/assets/colab-badge.svg\" alt=\"Open In Colab\"/></a>"
      ]
    },
    {
      "cell_type": "code",
      "execution_count": null,
      "metadata": {
        "id": "P7F2ElCvO-Ze"
      },
      "outputs": [],
      "source": []
    },
    {
      "cell_type": "markdown",
      "source": [
        "<aside>\n",
        "💡 **Question 1**\n",
        "\n",
        "Given a singly linked list, delete **middle** of the linked list. For example, if given linked list is 1->2->**3**->4->5 then linked list should be modified to 1->2->4->5.If there are **even** nodes, then there would be **two middle** nodes, we need to delete the second middle element. For example, if given linked list is 1->2->3->4->5->6 then it should be modified to 1->2->3->5->6.If the input linked list is NULL or has 1 node, then it should return NULL\n",
        "\n",
        "**Example 1:**\n",
        "\n",
        "```\n",
        "Input:\n",
        "LinkedList: 1->2->3->4->5\n",
        "Output:1 2 4 5\n",
        "\n",
        "```\n",
        "\n",
        "**Example 2:**\n",
        "\n",
        "</aside>"
      ],
      "metadata": {
        "id": "My5rBQxAPNQp"
      }
    },
    {
      "cell_type": "code",
      "source": [
        "class Node:\n",
        "    def __init__(self, data):\n",
        "        self.data = data\n",
        "        self.next = None\n",
        "\n",
        "def delete_middle(head):\n",
        "    if head is None or head.next is None:\n",
        "        return None\n",
        "\n",
        "    slow_ptr = head\n",
        "    fast_ptr = head\n",
        "    prev_ptr = None\n",
        "\n",
        "    while fast_ptr is not None and fast_ptr.next is not None:\n",
        "        fast_ptr = fast_ptr.next.next\n",
        "        prev_ptr = slow_ptr\n",
        "        slow_ptr = slow_ptr.next\n",
        "\n",
        "    prev_ptr.next = slow_ptr.next\n",
        "    slow_ptr = None\n",
        "\n",
        "    return head\n"
      ],
      "metadata": {
        "id": "0R8rdVMiPOND"
      },
      "execution_count": 5,
      "outputs": []
    },
    {
      "cell_type": "code",
      "source": [
        "head = Node(1)\n",
        "head.next = Node(2)\n",
        "head.next.next = Node(3)\n",
        "head.next.next.next = Node(4)\n",
        "head.next.next.next.next = Node(5)\n",
        "\n",
        "print(\"Original Linked List:\")\n",
        "current = head\n",
        "while current is not None:\n",
        "    print(current.data, end=\" \")\n",
        "    current = current.next\n",
        "\n",
        "head = delete_middle(head)\n",
        "\n",
        "print(\"\\nModified Linked List:\")\n",
        "current = head\n",
        "while current is not None:\n",
        "    print(current.data, end=\" \")\n",
        "    current = current.next\n"
      ],
      "metadata": {
        "colab": {
          "base_uri": "https://localhost:8080/"
        },
        "id": "z9oLbS-lSwDF",
        "outputId": "be030e6b-d7ad-4b19-dc9c-e485ab841b52"
      },
      "execution_count": 6,
      "outputs": [
        {
          "output_type": "stream",
          "name": "stdout",
          "text": [
            "Original Linked List:\n",
            "1 2 3 4 5 \n",
            "Modified Linked List:\n",
            "1 2 4 5 "
          ]
        }
      ]
    },
    {
      "cell_type": "markdown",
      "source": [
        "<aside>\n",
        "💡 **Question 2**\n",
        "\n",
        "Given a linked list of **N** nodes. The task is to check if the linked list has a loop. Linked list can contain self loop.\n",
        "\n",
        "**Example 1:**\n",
        "Input:\n",
        "N = 3\n",
        "value[] = {1,3,4}\n",
        "x(position at which tail is connected) = 2\n",
        "Output:True\n",
        "Explanation:In above test case N = 3.\n",
        "The linked list with nodes N = 3 is\n",
        "given. Then value of x=2 is given which\n",
        "means last node is connected with xth\n",
        "node of linked list. Therefore, there\n",
        "exists a loop.\n",
        "</aside>"
      ],
      "metadata": {
        "id": "pOqQgbkGT9Hl"
      }
    },
    {
      "cell_type": "code",
      "source": [
        "# Node class definition\n",
        "class Node:\n",
        "    def __init__(self, data):\n",
        "        self.data = data\n",
        "        self.next = None\n",
        "\n",
        "# Function to check if linked list has a loop\n",
        "def has_loop(head):\n",
        "    if head is None or head.next is None:\n",
        "        return False\n",
        "\n",
        "    slow_ptr = head\n",
        "    fast_ptr = head\n",
        "\n",
        "    while fast_ptr is not None and fast_ptr.next is not None:\n",
        "        slow_ptr = slow_ptr.next\n",
        "        fast_ptr = fast_ptr.next.next\n",
        "\n",
        "        if slow_ptr == fast_ptr:\n",
        "            return True\n",
        "\n",
        "    return False\n",
        "\n",
        "# Create a linked list: 1->2->3->4->5->2 (loop)\n",
        "head = Node(1)\n",
        "head.next = Node(2)\n",
        "head.next.next = Node(3)\n",
        "head.next.next.next = Node(4)\n",
        "head.next.next.next.next = Node(5)\n",
        "head.next.next.next.next.next = head.next\n",
        "\n",
        "has_loop_result = has_loop(head)\n",
        "print(\"Does the linked list have a loop?\", has_loop_result)\n"
      ],
      "metadata": {
        "colab": {
          "base_uri": "https://localhost:8080/"
        },
        "id": "rstX6GcjTAaf",
        "outputId": "96a43cc4-2049-4b47-cd22-26b1126db403"
      },
      "execution_count": 8,
      "outputs": [
        {
          "output_type": "stream",
          "name": "stdout",
          "text": [
            "Does the linked list have a loop? True\n"
          ]
        }
      ]
    },
    {
      "cell_type": "code",
      "source": [],
      "metadata": {
        "id": "UCQHVMhWUcH2"
      },
      "execution_count": 8,
      "outputs": []
    },
    {
      "cell_type": "markdown",
      "source": [
        "<aside>\n",
        "💡 **Question 3**\n",
        "\n",
        "Given a linked list consisting of **L** nodes and given a number **N**. The task is to find the **N**th node from the end of the linked list.\n",
        "\n",
        "**Example 1:**\n",
        "Input:\n",
        "N = 2\n",
        "LinkedList: 1->2->3->4->5->6->7->8->9\n",
        "Output:8\n",
        "Explanation:In the first example, there\n",
        "are 9 nodes in linked list and we need\n",
        "to find 2nd node from end. 2nd node\n",
        "from end is 8.\n",
        "\n",
        "\n",
        "</aside>"
      ],
      "metadata": {
        "id": "IiYSVNZgUcXW"
      }
    },
    {
      "cell_type": "code",
      "source": [
        "# Node class definition\n",
        "class Node:\n",
        "    def __init__(self, data):\n",
        "        self.data = data\n",
        "        self.next = None\n",
        "\n",
        "# Function to find the Nth node from the end of the linked list\n",
        "def nth_node_from_end(head, n):\n",
        "    if head is None or n <= 0:\n",
        "        return None\n",
        "\n",
        "    first_ptr = head\n",
        "    second_ptr = head\n",
        "\n",
        "    # Move firstPtr n nodes ahead\n",
        "    for _ in range(n):\n",
        "        if first_ptr is None:\n",
        "            return None\n",
        "        first_ptr = first_ptr.next\n",
        "\n",
        "    while first_ptr is not None:\n",
        "        first_ptr = first_ptr.next\n",
        "        second_ptr = second_ptr.next\n",
        "\n",
        "    return second_ptr.data\n",
        "\n",
        "# Create a linked list: 1->2->3->4->5->6->7->8->9\n",
        "head = Node(1)\n",
        "head.next = Node(2)\n",
        "head.next.next = Node(3)\n",
        "head.next.next.next = Node(4)\n",
        "head.next.next.next.next = Node(5)\n",
        "head.next.next.next.next.next = Node(6)\n",
        "head.next.next.next.next.next.next = Node(7)\n",
        "head.next.next.next.next.next.next.next = Node(8)\n",
        "head.next.next.next.next.next.next.next.next = Node(9)\n",
        "\n",
        "n = 2\n",
        "nth_node = nth_node_from_end(head, n)\n",
        "print(f\"The {n}th node from the end is:\", nth_node)\n"
      ],
      "metadata": {
        "colab": {
          "base_uri": "https://localhost:8080/"
        },
        "id": "iYAGBxeRUoMr",
        "outputId": "0317e9b9-66a4-4175-90e4-2cf9086f7e4c"
      },
      "execution_count": 11,
      "outputs": [
        {
          "output_type": "stream",
          "name": "stdout",
          "text": [
            "The 2th node from the end is: 8\n"
          ]
        }
      ]
    },
    {
      "cell_type": "code",
      "source": [],
      "metadata": {
        "id": "8rO6OBkIVKtb"
      },
      "execution_count": 11,
      "outputs": []
    },
    {
      "cell_type": "markdown",
      "source": [
        "<aside>\n",
        "💡 **Question 4**\n",
        "\n",
        "Given a singly linked list of characters, write a function that returns true if the given list is a palindrome, else false.\n",
        "\n",
        "!https://media.geeksforgeeks.org/wp-content/uploads/20220816144425/LLdrawio.png\n",
        "\n",
        "**Examples:**\n",
        "\n",
        "> Input: R->A->D->A->R->NULL\n",
        ">\n",
        ">\n",
        "> **Output:** Yes\n",
        ">\n",
        "> **Input:** C->O->D->E->NULL\n",
        ">\n",
        "> **Output:** No\n",
        ">\n",
        "</aside>"
      ],
      "metadata": {
        "id": "Xt0KV6eoVK79"
      }
    },
    {
      "cell_type": "code",
      "source": [
        "# Node class definition\n",
        "class Node:\n",
        "    def __init__(self, data):\n",
        "        self.data = data\n",
        "        self.next = None\n",
        "\n",
        "# Function to check if linked list is a palindrome\n",
        "def is_palindrome(head):\n",
        "    if head is None or head.next is None:\n",
        "        return True\n",
        "\n",
        "    stack = []\n",
        "\n",
        "    current = head\n",
        "    while current is not None:\n",
        "        stack.append(current.data)\n",
        "        current = current.next\n",
        "\n",
        "    current = head\n",
        "    while current is not None:\n",
        "        if current.data != stack.pop():\n",
        "            return False\n",
        "        current = current.next\n",
        "\n",
        "    return True\n",
        "\n",
        "# Create a linked list: R->A->D->A->R->NULL\n",
        "head = Node('R')\n",
        "head.next = Node('A')\n",
        "head.next.next = Node('D')\n",
        "head.next.next.next = Node('A')\n",
        "head.next.next.next.next = Node('R')\n",
        "\n",
        "is_palindrome_result = is_palindrome(head)\n",
        "print(\"Is the linked list a palindrome?\", is_palindrome_result)\n"
      ],
      "metadata": {
        "colab": {
          "base_uri": "https://localhost:8080/"
        },
        "id": "wRiasaYyVLdE",
        "outputId": "faadf05e-b394-4cdc-d8c8-771d497ecb24"
      },
      "execution_count": 12,
      "outputs": [
        {
          "output_type": "stream",
          "name": "stdout",
          "text": [
            "Is the linked list a palindrome? True\n"
          ]
        }
      ]
    },
    {
      "cell_type": "code",
      "source": [],
      "metadata": {
        "id": "ihI1zNLwVx8i"
      },
      "execution_count": 12,
      "outputs": []
    },
    {
      "cell_type": "code",
      "source": [],
      "metadata": {
        "id": "4zYRH75pVyRS"
      },
      "execution_count": 12,
      "outputs": []
    },
    {
      "cell_type": "markdown",
      "source": [
        "<aside>\n",
        "💡 **Question 5**\n",
        "\n",
        "Given a linked list of **N** nodes such that it may contain a loop.\n",
        "\n",
        "A loop here means that the last node of the link list is connected to the node at position X(1-based index). If the link list does not have any loop, X=0.\n",
        "\n",
        "Remove the loop from the linked list, if it is present, i.e. unlink the last node which is forming the loop.\n",
        "\n",
        "**Example 1:**\n",
        "Input:\n",
        "N = 3\n",
        "value[] = {1,3,4}\n",
        "X = 2\n",
        "Output:1\n",
        "Explanation:The link list looks like\n",
        "1 -> 3 -> 4\n",
        "     ^    |\n",
        "     |____|\n",
        "A loop is present. If you remove it\n",
        "successfully, the answer will be 1.\n",
        "\n",
        "\n",
        "</aside>"
      ],
      "metadata": {
        "id": "Ue_0bwnbVylH"
      }
    },
    {
      "cell_type": "code",
      "source": [
        "# Node class definition\n",
        "class Node:\n",
        "    def __init__(self, data):\n",
        "        self.data = data\n",
        "        self.next = None\n",
        "\n",
        "# Function to detect and remove the loop in the linked list\n",
        "def detect_and_remove_loop(head):\n",
        "    if head is None or head.next is None:\n",
        "        return\n",
        "\n",
        "    slow_ptr = head\n",
        "    fast_ptr = head\n",
        "\n",
        "    # Detect the loop\n",
        "    while fast_ptr is not None and fast_ptr.next is not None:\n",
        "        slow_ptr = slow_ptr.next\n",
        "        fast_ptr = fast_ptr.next.next\n",
        "\n",
        "        if slow_ptr == fast_ptr:\n",
        "            break\n",
        "\n",
        "    # No loop present\n",
        "    if slow_ptr != fast_ptr:\n",
        "        return\n",
        "\n",
        "    # Find the starting point of the loop\n",
        "    slow_ptr = head\n",
        "    while slow_ptr.next != fast_ptr.next:\n",
        "        slow_ptr = slow_ptr.next\n",
        "        fast_ptr = fast_ptr.next\n",
        "\n",
        "    # Break the loop\n",
        "    fast_ptr.next = None\n",
        "\n",
        "    return head\n",
        "\n",
        "# Create a linked list: 1->3->4->3 (loop)\n",
        "head = Node(1)\n",
        "head.next = Node(3)\n",
        "head.next.next = Node(4)\n",
        "head.next.next.next = Node(3)\n",
        "head.next.next.next.next = head.next\n",
        "\n",
        "head = detect_and_remove_loop(head)\n",
        "\n",
        "if head is None:\n",
        "    print(\"The linked list is empty\")\n",
        "else:\n",
        "    print(\"The linked list after removing the loop:\")\n",
        "    current = head\n",
        "    while current is not None:\n",
        "        print(current.data, end=\" \")\n",
        "        current = current.next\n"
      ],
      "metadata": {
        "colab": {
          "base_uri": "https://localhost:8080/"
        },
        "id": "huCAPT_0V1mL",
        "outputId": "e563b6de-3caf-4b56-86da-e1d36c58bf8e"
      },
      "execution_count": 13,
      "outputs": [
        {
          "output_type": "stream",
          "name": "stdout",
          "text": [
            "The linked list after removing the loop:\n",
            "1 3 4 3 "
          ]
        }
      ]
    },
    {
      "cell_type": "code",
      "source": [],
      "metadata": {
        "id": "ESBv6QSbV2K0"
      },
      "execution_count": 13,
      "outputs": []
    },
    {
      "cell_type": "markdown",
      "source": [
        "<aside>\n",
        "💡 **Question 6**\n",
        "\n",
        "Given a linked list and two integers M and N. Traverse the linked list such that you retain M nodes then delete next N nodes, continue the same till end of the linked list.\n",
        "\n",
        "Difficulty Level: Rookie\n",
        "Input:\n",
        "M = 2, N = 2\n",
        "Linked List: 1->2->3->4->5->6->7->8\n",
        "Output:\n",
        "Linked List: 1->2->5->6\n",
        "\n",
        "Input:\n",
        "M = 3, N = 2\n",
        "Linked List: 1->2->3->4->5->6->7->8->9->10\n",
        "Output:\n",
        "Linked List: 1->2->3->6->7->8\n",
        "\n",
        "Input:\n",
        "M = 1, N = 1\n",
        "Linked List: 1->2->3->4->5->6->7->8->9->10\n",
        "Output:\n",
        "Linked List: 1->3->5->7->9\n",
        "</aside>"
      ],
      "metadata": {
        "id": "x4tROe52V2bm"
      }
    },
    {
      "cell_type": "code",
      "source": [
        "# Node class definition\n",
        "class Node:\n",
        "    def __init__(self, data):\n",
        "        self.data = data\n",
        "        self.next = None\n",
        "\n",
        "# Function to retain M nodes and delete the next N nodes\n",
        "def skip_and_delete(head, M, N):\n",
        "    if head is None or M <= 0 or N <= 0:\n",
        "        return head\n",
        "\n",
        "    current = head\n",
        "\n",
        "    # Traverse the linked list\n",
        "    while current is not None:\n",
        "        # Retain M nodes\n",
        "        for _ in range(M - 1):\n",
        "            if current.next is not None:\n",
        "                current = current.next\n",
        "            else:\n",
        "                return head\n",
        "\n",
        "        # Skip N nodes\n",
        "        for _ in range(N):\n",
        "            if current.next is not None:\n",
        "                current.next = current.next.next\n",
        "            else:\n",
        "                return head\n",
        "\n",
        "        current = current.next\n",
        "\n",
        "    return head\n",
        "\n",
        "# Create a linked list: 1->2->3->4->5->6->7->8\n",
        "head = Node(1)\n",
        "head.next = Node(2)\n",
        "head.next.next = Node(3)\n",
        "head.next.next.next = Node(4)\n",
        "head.next.next.next.next = Node(5)\n",
        "head.next.next.next.next.next = Node(6)\n",
        "head.next.next.next.next.next.next = Node(7)\n",
        "head.next.next.next.next.next.next.next = Node(8)\n",
        "\n",
        "M = 2\n",
        "N = 2\n",
        "\n",
        "print(\"Original Linked List:\")\n",
        "current = head\n",
        "while current is not None:\n",
        "    print(current.data, end=\" \")\n",
        "    current = current.next\n",
        "\n",
        "head = skip_and_delete(head, M, N)\n",
        "\n",
        "print(\"\\nModified Linked List:\")\n",
        "current = head\n",
        "while current is not None:\n",
        "    print(current.data, end=\" \")\n",
        "    current = current.next\n"
      ],
      "metadata": {
        "colab": {
          "base_uri": "https://localhost:8080/"
        },
        "id": "KQDE5WYQX2KT",
        "outputId": "a54657d4-1292-45b8-b280-9788471dc95b"
      },
      "execution_count": 2,
      "outputs": [
        {
          "output_type": "stream",
          "name": "stdout",
          "text": [
            "Original Linked List:\n",
            "1 2 3 4 5 6 7 8 \n",
            "Modified Linked List:\n",
            "1 2 5 6 "
          ]
        }
      ]
    },
    {
      "cell_type": "markdown",
      "source": [
        "<aside>\n",
        "💡 **Question 7**\n",
        "\n",
        "Given two linked lists, insert nodes of second list into first list at alternate positions of first list.\n",
        "For example, if first list is 5->7->17->13->11 and second is 12->10->2->4->6, the first list should become 5->12->7->10->17->2->13->4->11->6 and second list should become empty. The nodes of second list should only be inserted when there are positions available. For example, if the first list is 1->2->3 and second list is 4->5->6->7->8, then first list should become 1->4->2->5->3->6 and second list to 7->8.\n",
        "\n",
        "Use of extra space is not allowed (Not allowed to create additional nodes), i.e., insertion must be done in-place. Expected time complexity is O(n) where n is number of nodes in first list.\n",
        "\n",
        "</aside>"
      ],
      "metadata": {
        "id": "KEWbIRwLX2zS"
      }
    },
    {
      "cell_type": "code",
      "source": [
        "# Node class definition\n",
        "class Node:\n",
        "    def __init__(self, data):\n",
        "        self.data = data\n",
        "        self.next = None\n",
        "\n",
        "# Function to merge the second list into the first list at alternate positions\n",
        "def merge_lists(first, second):\n",
        "    if first is None:\n",
        "        return second\n",
        "\n",
        "    if second is None:\n",
        "        return first\n",
        "\n",
        "    first_ptr = first\n",
        "    second_ptr = second\n",
        "\n",
        "    while first_ptr is not None and second_ptr is not None:\n",
        "        first_next = first_ptr.next\n",
        "        second_next = second_ptr.next\n",
        "\n",
        "        second_ptr.next = first_next\n",
        "        first_ptr.next = second_ptr\n",
        "\n",
        "        first_ptr = first_next\n",
        "        second_ptr = second_next\n",
        "\n",
        "    if second_ptr is not None:\n",
        "        first_ptr.next = second_ptr\n",
        "\n",
        "    return first\n",
        "\n",
        "# Create the first linked list: 5->7->17->13->11\n",
        "first = Node(5)\n",
        "first.next = Node(7)\n",
        "first.next.next = Node(17)\n",
        "first.next.next.next = Node(13)\n",
        "first.next.next.next.next = Node(11)\n",
        "\n",
        "# Create the second linked list: 12->10->2->4->6\n",
        "second = Node(12)\n",
        "second.next = Node(10)\n",
        "second.next.next = Node(2)\n",
        "second.next.next.next = Node(4)\n",
        "second.next.next.next.next = Node(6)\n",
        "\n",
        "print(\"First Linked List:\")\n",
        "current = first\n",
        "while current is not None:\n",
        "    print(current.data, end=\" \")\n",
        "    current = current.next\n",
        "\n",
        "print(\"\\nSecond Linked List:\")\n",
        "current = second\n",
        "while current is not None:\n",
        "    print(current.data, end=\" \")\n",
        "    current = current.next\n",
        "\n",
        "first = merge_lists(first, second)\n",
        "\n",
        "print(\"\\nModified First Linked List:\")\n",
        "current = first\n",
        "while current is not None:\n",
        "    print(current.data, end=\" \")\n",
        "    current = current.next\n"
      ],
      "metadata": {
        "colab": {
          "base_uri": "https://localhost:8080/"
        },
        "id": "eJHPkDbnX3W4",
        "outputId": "2d2e6743-7f6a-4d6b-fded-68fdae8f9da2"
      },
      "execution_count": 8,
      "outputs": [
        {
          "output_type": "stream",
          "name": "stdout",
          "text": [
            "First Linked List:\n",
            "5 7 17 13 11 \n",
            "Second Linked List:\n",
            "12 10 2 4 6 \n",
            "Modified First Linked List:\n",
            "5 12 7 10 17 2 13 4 11 6 "
          ]
        }
      ]
    },
    {
      "cell_type": "markdown",
      "source": [
        "<aside>\n",
        "💡 **Question 8**\n",
        "\n",
        "Given a singly linked list, find if the linked list is [circular](https://www.geeksforgeeks.org/circular-linked-list/amp/) or not.\n",
        "\n",
        "> A linked list is called circular if it is not NULL-terminated and all nodes are connected in the form of a cycle. Below is an example of a circular linked list.\n",
        ">\n",
        "</aside>"
      ],
      "metadata": {
        "id": "tRHNyyoPX5nC"
      }
    },
    {
      "cell_type": "code",
      "source": [
        "# Node class definition\n",
        "class Node:\n",
        "    def __init__(self, data):\n",
        "        self.data = data\n",
        "        self.next = None\n",
        "\n",
        "# Function to check if linked list is circular\n",
        "def is_circular(head):\n",
        "    if head is None:\n",
        "        return False\n",
        "\n",
        "    slow_ptr = head\n",
        "    fast_ptr = head\n",
        "\n",
        "    while fast_ptr is not None and fast_ptr.next is not None:\n",
        "        slow_ptr = slow_ptr.next\n",
        "        fast_ptr = fast_ptr.next.next\n",
        "\n",
        "        if slow_ptr == fast_ptr:\n",
        "            return True\n",
        "\n",
        "    return False\n",
        "\n",
        "# Create a circular linked list: 1->2->3->4->5->2 (loop)\n",
        "head = Node(1)\n",
        "head.next = Node(2)\n",
        "head.next.next = Node(3)\n",
        "head.next.next.next = Node(4)\n",
        "head.next.next.next.next = Node(5)\n",
        "head.next.next.next.next.next = head.next\n",
        "\n",
        "is_circular_result = is_circular(head)\n",
        "print(\"Is the linked list circular?\", is_circular_result)\n"
      ],
      "metadata": {
        "colab": {
          "base_uri": "https://localhost:8080/"
        },
        "id": "yVi8lUwvX6FU",
        "outputId": "f0bc37e1-a93b-4d3e-e10c-f96c7ff93863"
      },
      "execution_count": 9,
      "outputs": [
        {
          "output_type": "stream",
          "name": "stdout",
          "text": [
            "Is the linked list circular? True\n"
          ]
        }
      ]
    },
    {
      "cell_type": "code",
      "source": [],
      "metadata": {
        "id": "BnEDbzZZatDP"
      },
      "execution_count": 9,
      "outputs": []
    }
  ]
}