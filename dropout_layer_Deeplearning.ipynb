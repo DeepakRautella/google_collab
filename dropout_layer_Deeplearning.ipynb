{
  "nbformat": 4,
  "nbformat_minor": 0,
  "metadata": {
    "colab": {
      "provenance": [],
      "collapsed_sections": [],
      "authorship_tag": "ABX9TyMsQeWKceSfaJxi8jOXVICs",
      "include_colab_link": true
    },
    "kernelspec": {
      "name": "python3",
      "display_name": "Python 3"
    },
    "language_info": {
      "name": "python"
    }
  },
  "cells": [
    {
      "cell_type": "markdown",
      "metadata": {
        "id": "view-in-github",
        "colab_type": "text"
      },
      "source": [
        "<a href=\"https://colab.research.google.com/github/DeepakRautella/google_collab/blob/main/dropout_layer_Deeplearning.ipynb\" target=\"_parent\"><img src=\"https://colab.research.google.com/assets/colab-badge.svg\" alt=\"Open In Colab\"/></a>"
      ]
    },
    {
      "cell_type": "code",
      "execution_count": 3,
      "metadata": {
        "id": "7lqJF2T93r1r"
      },
      "outputs": [],
      "source": [
        "# ann prone to overfitting \" due to of complex layout\"\n"
      ]
    },
    {
      "cell_type": "code",
      "source": [
        "# to reduce overfitting\n",
        "\"\"\"1. add more data\n",
        "   2. reduce complexity\n",
        "   3. early stopping\n",
        "   4. regularization\n",
        "   5. drop_out \"\"\""
      ],
      "metadata": {
        "colab": {
          "base_uri": "https://localhost:8080/",
          "height": 36
        },
        "id": "ql043sgW5AAY",
        "outputId": "36c2dc0c-2cf0-4a9a-e87d-5539a3682ee9"
      },
      "execution_count": 2,
      "outputs": [
        {
          "output_type": "execute_result",
          "data": {
            "text/plain": [
              "'1. add more data\\n   2. reduce complexity\\n   3. early stopping\\n   4. regularization\\n   5. drop_out '"
            ],
            "application/vnd.google.colaboratory.intrinsic+json": {
              "type": "string"
            }
          },
          "metadata": {},
          "execution_count": 2
        }
      ]
    },
    {
      "cell_type": "code",
      "source": [
        "# concept of drop out\n",
        "#randomly drop neuron/node(off) in hidden layers and in input layers over each epochs to overcome overfitting\n",
        "#it overcome overall 2-3% of overfitting "
      ],
      "metadata": {
        "id": "Dtig1Ktk5UQN"
      },
      "execution_count": 5,
      "outputs": []
    },
    {
      "cell_type": "code",
      "source": [
        "# main reason because\n",
        "# it protect model to learn pattern over a single pattern \n",
        "#on each epochs dropout it try to learn different pattern over each epoch by on and off a neuron nodes \n",
        "#overcome to give a special priority to a single input (if its off during epochs it will change prority)"
      ],
      "metadata": {
        "id": "iXmkWFQP6Uq-"
      },
      "execution_count": 7,
      "outputs": []
    },
    {
      "cell_type": "code",
      "source": [],
      "metadata": {
        "id": "ejpcS_Zf8bCs"
      },
      "execution_count": null,
      "outputs": []
    }
  ]
}