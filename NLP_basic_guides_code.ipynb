{
  "nbformat": 4,
  "nbformat_minor": 0,
  "metadata": {
    "colab": {
      "provenance": [],
      "authorship_tag": "ABX9TyOeZ4gZh1s6569/vlDt8iG8",
      "include_colab_link": true
    },
    "kernelspec": {
      "name": "python3",
      "display_name": "Python 3"
    },
    "language_info": {
      "name": "python"
    }
  },
  "cells": [
    {
      "cell_type": "markdown",
      "metadata": {
        "id": "view-in-github",
        "colab_type": "text"
      },
      "source": [
        "<a href=\"https://colab.research.google.com/github/DeepakRautella/google_collab/blob/main/NLP_basic_guides_code.ipynb\" target=\"_parent\"><img src=\"https://colab.research.google.com/assets/colab-badge.svg\" alt=\"Open In Colab\"/></a>"
      ]
    },
    {
      "cell_type": "code",
      "execution_count": null,
      "metadata": {
        "id": "NknAFg-9yVWY"
      },
      "outputs": [],
      "source": []
    },
    {
      "cell_type": "markdown",
      "source": [
        "**NLP Preprocessing**\n",
        "Natural language processing (NLP) is the ability of a computer program to understand human language as it is spoken and written -- \n",
        "referred to as natural language. It is a component of artificial intelligence (AI).\n",
        "\n",
        "NLP has existed for more than 50 years and has roots in the field of linguistics. It has a variety of real-world applications in a number of fields, including medical research, search engines and business intelligence."
      ],
      "metadata": {
        "id": "BUNmkFkKynzd"
      }
    },
    {
      "cell_type": "code",
      "source": [
        "#python is a case sensitive language, it treats What and what differently so its better to lower case each text or uppercase"
      ],
      "metadata": {
        "id": "ZlZBgXwUysS4"
      },
      "execution_count": 2,
      "outputs": []
    },
    {
      "cell_type": "code",
      "source": [
        "import requests\n",
        "import json\n",
        "import pandas as pd\n"
      ],
      "metadata": {
        "id": "vw36C1h2zAsz"
      },
      "execution_count": 3,
      "outputs": []
    },
    {
      "cell_type": "code",
      "source": [
        "\n",
        "raw_data=requests.get('https://api.themoviedb.org/3/movie/top_rated?api_key=ac54c3cbbf7d6d30db1572077606adda&language=en-US&page=1')"
      ],
      "metadata": {
        "id": "fOfOiSyBzYCo"
      },
      "execution_count": 4,
      "outputs": []
    },
    {
      "cell_type": "code",
      "source": [
        "pd.DataFrame(raw_data.json()['results'])"
      ],
      "metadata": {
        "colab": {
          "base_uri": "https://localhost:8080/",
          "height": 1000
        },
        "id": "7dA4QNaE028o",
        "outputId": "16b7dcdd-6dde-40f9-9a82-4c45f9bd005d"
      },
      "execution_count": 5,
      "outputs": [
        {
          "output_type": "execute_result",
          "data": {
            "text/plain": [
              "    adult                     backdrop_path         genre_ids      id  \\\n",
              "0   False  /rl7Jw8PjhSIjArOlDNv0JQPL1ZV.jpg       [10749, 18]  851644   \n",
              "1   False  /rSPw7tgCH9c6NqICZef4kZjFOQ5.jpg          [18, 80]     238   \n",
              "2   False  /kXfqcdQKsToO0OUXHcrrNCHDBzO.jpg          [18, 80]     278   \n",
              "3   False  /poec6RqOKY9iSiIUmfyfPfiLtvB.jpg          [18, 80]     240   \n",
              "4   False  /bxSBOAD8AuMHYMdW3jso9npAkgt.jpg       [10751, 18]  667257   \n",
              "5   False  /vI3aUGTuRRdM7J78KIdW98LdxE5.jpg   [35, 18, 10749]   19404   \n",
              "6   False  /zb6fM1CX41D9rF9hdgclu0peUmy.jpg   [18, 36, 10752]     424   \n",
              "7   False  /aVFx1VtlOxR3v0ADEatalXOvwbu.jpg      [16, 14, 28]  620249   \n",
              "8   False  /Ab8mkHmkYADjU7wQiOkia9BzGvS.jpg   [16, 10751, 14]     129   \n",
              "9   False  /3RMLbSEXOn1CzLoNT7xFeLfdxhq.jpg       [10749, 16]  372754   \n",
              "10  False  /qqHQsStV6exghCM7zbObuYBiYxw.jpg              [18]     389   \n",
              "11  False  /mMtUybQ6hL24FXo0F3Z4j2KG7kZ.jpg   [10749, 16, 18]  372058   \n",
              "12  False   /TU9NIjwzjoKPwQHoHshkFcQUCG.jpg      [35, 53, 18]  496243   \n",
              "13  False  /l6hQWH9eDksNJNiXWYRkWqikOdu.jpg      [14, 18, 80]     497   \n",
              "14  False  /nMKdUUepR0i5zn0y1T4CsSB5chy.jpg  [18, 28, 80, 53]     155   \n",
              "15  False  /jtAI6OJIWLWiRItNSZoWjrsUtmi.jpg           [10749]  724089   \n",
              "16  False  /w2uGvCpMtvRqZg6waC1hvLyZoJa.jpg           [10749]  696374   \n",
              "17  False  /aQ7444JX7gefPhGJTlvilj3zG2S.jpg           [10402]  553512   \n",
              "18  False  /suaEOtk1N1sgg2MTM7oZd2cfVp3.jpg          [53, 80]     680   \n",
              "19  False  /x4biAVdPVCghBlsVIzB6NmbghIz.jpg              [37]     429   \n",
              "\n",
              "   original_language                   original_title  \\\n",
              "0                 ko                          20세기 소녀   \n",
              "1                 en                    The Godfather   \n",
              "2                 en         The Shawshank Redemption   \n",
              "3                 en            The Godfather Part II   \n",
              "4                 es                 Cosas imposibles   \n",
              "5                 hi     दिलवाले दुल्हनिया ले जायेंगे   \n",
              "6                 en                 Schindler's List   \n",
              "7                 zh                            罗小黑战记   \n",
              "8                 ja                         千と千尋の神隠し   \n",
              "9                 ja                              同級生   \n",
              "10                en                     12 Angry Men   \n",
              "11                ja                            君の名は。   \n",
              "12                ko                              기생충   \n",
              "13                en                   The Green Mile   \n",
              "14                en                  The Dark Knight   \n",
              "15                en       Gabriel's Inferno: Part II   \n",
              "16                en                Gabriel's Inferno   \n",
              "17                ko                   번 더 스테이지: 더 무비   \n",
              "18                en                     Pulp Fiction   \n",
              "19                it  Il buono, il brutto, il cattivo   \n",
              "\n",
              "                                             overview  popularity  \\\n",
              "0   Yeon-du asks her best friend Bora to collect a...     357.953   \n",
              "1   Spanning the years 1945 to 1955, a chronicle o...      87.788   \n",
              "2   Framed in the 1940s for the double murder of h...      70.269   \n",
              "3   In the continuing saga of the Corleone crime f...      46.115   \n",
              "4   Matilde is a woman who, after the death of her...      25.406   \n",
              "5   Raj is a rich, carefree, happy-go-lucky second...      24.569   \n",
              "6   The true story of how businessman Oskar Schind...      49.350   \n",
              "7   In the bustling human world, spirits live peac...      14.358   \n",
              "8   A young girl, Chihiro, becomes trapped in a st...      88.225   \n",
              "9   Rihito Sajo, an honor student with a perfect s...      13.222   \n",
              "10  The defense and the prosecution have rested an...      43.446   \n",
              "11  High schoolers Mitsuha and Taki are complete s...     110.358   \n",
              "12  All unemployed, Ki-taek's family takes peculia...      69.073   \n",
              "13  A supernatural tale set on death row in a Sout...      76.090   \n",
              "14  Batman raises the stakes in his war on crime. ...      80.337   \n",
              "15  Professor Gabriel Emerson finally learns the t...      13.322   \n",
              "16  An intriguing and sinful exploration of seduct...      13.930   \n",
              "17  A documentary following the worldwide famous m...      19.671   \n",
              "18  A burger-loving hit man, his philosophical par...      84.069   \n",
              "19  While the Civil War rages on between the Union...      41.285   \n",
              "\n",
              "                         poster_path release_date  \\\n",
              "0   /od22ftNnyag0TTxcnJhlsu3aLoU.jpg   2022-10-06   \n",
              "1   /3bhkrj58Vtu7enYsRolD1fZdja1.jpg   1972-03-14   \n",
              "2   /q6y0Go1tsGEsmtFryDOJo3dEmqu.jpg   1994-09-23   \n",
              "3   /hek3koDUyRQk7FIhPXsa6mT2Zc3.jpg   1974-12-20   \n",
              "4   /t2Ew8NZ8Ci2kqmoecZUNQUFDJnQ.jpg   2021-06-17   \n",
              "5   /2CAL2433ZeIihfX1Hb2139CX0pW.jpg   1995-10-19   \n",
              "6   /sF1U4EUQS8YHUYjNl3pMGNIQyr0.jpg   1993-12-15   \n",
              "7   /aLv87NgRJUPkQ6sVLP72IisDdt4.jpg   2019-08-27   \n",
              "8   /39wmItIWsg5sZMyRUHLkWBcuVCM.jpg   2001-07-20   \n",
              "9   /cIfRCA5wEvj9tApca4UDUagQEiM.jpg   2016-02-20   \n",
              "10  /ppd84D2i9W8jXmsyInGyihiSyqz.jpg   1957-04-10   \n",
              "11  /q719jXXEzOoYaps6babgKnONONX.jpg   2016-08-26   \n",
              "12  /7IiTTgloJzvGI1TAYymCfbfl3vT.jpg   2019-05-30   \n",
              "13  /velWPhVMQeQKcxggNEU8YmIo52R.jpg   1999-12-10   \n",
              "14  /qJ2tW6WMUDux911r6m7haRef0WH.jpg   2008-07-14   \n",
              "15  /x5o8cLZfEXMoZczTYWLrUo1P7UJ.jpg   2020-07-31   \n",
              "16  /oyG9TL7FcRP4EZ9Vid6uKzwdndz.jpg   2020-05-29   \n",
              "17  /pJKy1yvnKh8UjcuYeG3Rt35xHFA.jpg   2018-11-15   \n",
              "18  /fIE3lAGcZDV1G6XM5KmuWnNsPp1.jpg   1994-09-10   \n",
              "19  /bX2xnavhMYjWDoZp1VM6VnU1xwe.jpg   1966-12-23   \n",
              "\n",
              "                             title  video  vote_average  vote_count  \n",
              "0                20th Century Girl  False           8.7         262  \n",
              "1                    The Godfather  False           8.7       16936  \n",
              "2         The Shawshank Redemption  False           8.7       22687  \n",
              "3            The Godfather Part II  False           8.6       10269  \n",
              "4                Impossible Things  False           8.6         280  \n",
              "5      Dilwale Dulhania Le Jayenge  False           8.6        3951  \n",
              "6                 Schindler's List  False           8.6       13462  \n",
              "7                The Legend of Hei  False           8.5         211  \n",
              "8                    Spirited Away  False           8.5       13570  \n",
              "9         Dou kyu sei – Classmates  False           8.5         261  \n",
              "10                    12 Angry Men  False           8.5        6806  \n",
              "11                      Your Name.  False           8.5        9237  \n",
              "12                        Parasite  False           8.5       14727  \n",
              "13                  The Green Mile  False           8.5       14639  \n",
              "14                 The Dark Knight  False           8.5       28612  \n",
              "15      Gabriel's Inferno: Part II  False           8.5        1442  \n",
              "16               Gabriel's Inferno  False           8.5        2298  \n",
              "17       Burn the Stage: The Movie  False           8.5         371  \n",
              "18                    Pulp Fiction  False           8.5       24088  \n",
              "19  The Good, the Bad and the Ugly  False           8.5        6987  "
            ],
            "text/html": [
              "\n",
              "  <div id=\"df-36c77ae2-f495-4b51-bf98-b78171a67c26\">\n",
              "    <div class=\"colab-df-container\">\n",
              "      <div>\n",
              "<style scoped>\n",
              "    .dataframe tbody tr th:only-of-type {\n",
              "        vertical-align: middle;\n",
              "    }\n",
              "\n",
              "    .dataframe tbody tr th {\n",
              "        vertical-align: top;\n",
              "    }\n",
              "\n",
              "    .dataframe thead th {\n",
              "        text-align: right;\n",
              "    }\n",
              "</style>\n",
              "<table border=\"1\" class=\"dataframe\">\n",
              "  <thead>\n",
              "    <tr style=\"text-align: right;\">\n",
              "      <th></th>\n",
              "      <th>adult</th>\n",
              "      <th>backdrop_path</th>\n",
              "      <th>genre_ids</th>\n",
              "      <th>id</th>\n",
              "      <th>original_language</th>\n",
              "      <th>original_title</th>\n",
              "      <th>overview</th>\n",
              "      <th>popularity</th>\n",
              "      <th>poster_path</th>\n",
              "      <th>release_date</th>\n",
              "      <th>title</th>\n",
              "      <th>video</th>\n",
              "      <th>vote_average</th>\n",
              "      <th>vote_count</th>\n",
              "    </tr>\n",
              "  </thead>\n",
              "  <tbody>\n",
              "    <tr>\n",
              "      <th>0</th>\n",
              "      <td>False</td>\n",
              "      <td>/rl7Jw8PjhSIjArOlDNv0JQPL1ZV.jpg</td>\n",
              "      <td>[10749, 18]</td>\n",
              "      <td>851644</td>\n",
              "      <td>ko</td>\n",
              "      <td>20세기 소녀</td>\n",
              "      <td>Yeon-du asks her best friend Bora to collect a...</td>\n",
              "      <td>357.953</td>\n",
              "      <td>/od22ftNnyag0TTxcnJhlsu3aLoU.jpg</td>\n",
              "      <td>2022-10-06</td>\n",
              "      <td>20th Century Girl</td>\n",
              "      <td>False</td>\n",
              "      <td>8.7</td>\n",
              "      <td>262</td>\n",
              "    </tr>\n",
              "    <tr>\n",
              "      <th>1</th>\n",
              "      <td>False</td>\n",
              "      <td>/rSPw7tgCH9c6NqICZef4kZjFOQ5.jpg</td>\n",
              "      <td>[18, 80]</td>\n",
              "      <td>238</td>\n",
              "      <td>en</td>\n",
              "      <td>The Godfather</td>\n",
              "      <td>Spanning the years 1945 to 1955, a chronicle o...</td>\n",
              "      <td>87.788</td>\n",
              "      <td>/3bhkrj58Vtu7enYsRolD1fZdja1.jpg</td>\n",
              "      <td>1972-03-14</td>\n",
              "      <td>The Godfather</td>\n",
              "      <td>False</td>\n",
              "      <td>8.7</td>\n",
              "      <td>16936</td>\n",
              "    </tr>\n",
              "    <tr>\n",
              "      <th>2</th>\n",
              "      <td>False</td>\n",
              "      <td>/kXfqcdQKsToO0OUXHcrrNCHDBzO.jpg</td>\n",
              "      <td>[18, 80]</td>\n",
              "      <td>278</td>\n",
              "      <td>en</td>\n",
              "      <td>The Shawshank Redemption</td>\n",
              "      <td>Framed in the 1940s for the double murder of h...</td>\n",
              "      <td>70.269</td>\n",
              "      <td>/q6y0Go1tsGEsmtFryDOJo3dEmqu.jpg</td>\n",
              "      <td>1994-09-23</td>\n",
              "      <td>The Shawshank Redemption</td>\n",
              "      <td>False</td>\n",
              "      <td>8.7</td>\n",
              "      <td>22687</td>\n",
              "    </tr>\n",
              "    <tr>\n",
              "      <th>3</th>\n",
              "      <td>False</td>\n",
              "      <td>/poec6RqOKY9iSiIUmfyfPfiLtvB.jpg</td>\n",
              "      <td>[18, 80]</td>\n",
              "      <td>240</td>\n",
              "      <td>en</td>\n",
              "      <td>The Godfather Part II</td>\n",
              "      <td>In the continuing saga of the Corleone crime f...</td>\n",
              "      <td>46.115</td>\n",
              "      <td>/hek3koDUyRQk7FIhPXsa6mT2Zc3.jpg</td>\n",
              "      <td>1974-12-20</td>\n",
              "      <td>The Godfather Part II</td>\n",
              "      <td>False</td>\n",
              "      <td>8.6</td>\n",
              "      <td>10269</td>\n",
              "    </tr>\n",
              "    <tr>\n",
              "      <th>4</th>\n",
              "      <td>False</td>\n",
              "      <td>/bxSBOAD8AuMHYMdW3jso9npAkgt.jpg</td>\n",
              "      <td>[10751, 18]</td>\n",
              "      <td>667257</td>\n",
              "      <td>es</td>\n",
              "      <td>Cosas imposibles</td>\n",
              "      <td>Matilde is a woman who, after the death of her...</td>\n",
              "      <td>25.406</td>\n",
              "      <td>/t2Ew8NZ8Ci2kqmoecZUNQUFDJnQ.jpg</td>\n",
              "      <td>2021-06-17</td>\n",
              "      <td>Impossible Things</td>\n",
              "      <td>False</td>\n",
              "      <td>8.6</td>\n",
              "      <td>280</td>\n",
              "    </tr>\n",
              "    <tr>\n",
              "      <th>5</th>\n",
              "      <td>False</td>\n",
              "      <td>/vI3aUGTuRRdM7J78KIdW98LdxE5.jpg</td>\n",
              "      <td>[35, 18, 10749]</td>\n",
              "      <td>19404</td>\n",
              "      <td>hi</td>\n",
              "      <td>दिलवाले दुल्हनिया ले जायेंगे</td>\n",
              "      <td>Raj is a rich, carefree, happy-go-lucky second...</td>\n",
              "      <td>24.569</td>\n",
              "      <td>/2CAL2433ZeIihfX1Hb2139CX0pW.jpg</td>\n",
              "      <td>1995-10-19</td>\n",
              "      <td>Dilwale Dulhania Le Jayenge</td>\n",
              "      <td>False</td>\n",
              "      <td>8.6</td>\n",
              "      <td>3951</td>\n",
              "    </tr>\n",
              "    <tr>\n",
              "      <th>6</th>\n",
              "      <td>False</td>\n",
              "      <td>/zb6fM1CX41D9rF9hdgclu0peUmy.jpg</td>\n",
              "      <td>[18, 36, 10752]</td>\n",
              "      <td>424</td>\n",
              "      <td>en</td>\n",
              "      <td>Schindler's List</td>\n",
              "      <td>The true story of how businessman Oskar Schind...</td>\n",
              "      <td>49.350</td>\n",
              "      <td>/sF1U4EUQS8YHUYjNl3pMGNIQyr0.jpg</td>\n",
              "      <td>1993-12-15</td>\n",
              "      <td>Schindler's List</td>\n",
              "      <td>False</td>\n",
              "      <td>8.6</td>\n",
              "      <td>13462</td>\n",
              "    </tr>\n",
              "    <tr>\n",
              "      <th>7</th>\n",
              "      <td>False</td>\n",
              "      <td>/aVFx1VtlOxR3v0ADEatalXOvwbu.jpg</td>\n",
              "      <td>[16, 14, 28]</td>\n",
              "      <td>620249</td>\n",
              "      <td>zh</td>\n",
              "      <td>罗小黑战记</td>\n",
              "      <td>In the bustling human world, spirits live peac...</td>\n",
              "      <td>14.358</td>\n",
              "      <td>/aLv87NgRJUPkQ6sVLP72IisDdt4.jpg</td>\n",
              "      <td>2019-08-27</td>\n",
              "      <td>The Legend of Hei</td>\n",
              "      <td>False</td>\n",
              "      <td>8.5</td>\n",
              "      <td>211</td>\n",
              "    </tr>\n",
              "    <tr>\n",
              "      <th>8</th>\n",
              "      <td>False</td>\n",
              "      <td>/Ab8mkHmkYADjU7wQiOkia9BzGvS.jpg</td>\n",
              "      <td>[16, 10751, 14]</td>\n",
              "      <td>129</td>\n",
              "      <td>ja</td>\n",
              "      <td>千と千尋の神隠し</td>\n",
              "      <td>A young girl, Chihiro, becomes trapped in a st...</td>\n",
              "      <td>88.225</td>\n",
              "      <td>/39wmItIWsg5sZMyRUHLkWBcuVCM.jpg</td>\n",
              "      <td>2001-07-20</td>\n",
              "      <td>Spirited Away</td>\n",
              "      <td>False</td>\n",
              "      <td>8.5</td>\n",
              "      <td>13570</td>\n",
              "    </tr>\n",
              "    <tr>\n",
              "      <th>9</th>\n",
              "      <td>False</td>\n",
              "      <td>/3RMLbSEXOn1CzLoNT7xFeLfdxhq.jpg</td>\n",
              "      <td>[10749, 16]</td>\n",
              "      <td>372754</td>\n",
              "      <td>ja</td>\n",
              "      <td>同級生</td>\n",
              "      <td>Rihito Sajo, an honor student with a perfect s...</td>\n",
              "      <td>13.222</td>\n",
              "      <td>/cIfRCA5wEvj9tApca4UDUagQEiM.jpg</td>\n",
              "      <td>2016-02-20</td>\n",
              "      <td>Dou kyu sei – Classmates</td>\n",
              "      <td>False</td>\n",
              "      <td>8.5</td>\n",
              "      <td>261</td>\n",
              "    </tr>\n",
              "    <tr>\n",
              "      <th>10</th>\n",
              "      <td>False</td>\n",
              "      <td>/qqHQsStV6exghCM7zbObuYBiYxw.jpg</td>\n",
              "      <td>[18]</td>\n",
              "      <td>389</td>\n",
              "      <td>en</td>\n",
              "      <td>12 Angry Men</td>\n",
              "      <td>The defense and the prosecution have rested an...</td>\n",
              "      <td>43.446</td>\n",
              "      <td>/ppd84D2i9W8jXmsyInGyihiSyqz.jpg</td>\n",
              "      <td>1957-04-10</td>\n",
              "      <td>12 Angry Men</td>\n",
              "      <td>False</td>\n",
              "      <td>8.5</td>\n",
              "      <td>6806</td>\n",
              "    </tr>\n",
              "    <tr>\n",
              "      <th>11</th>\n",
              "      <td>False</td>\n",
              "      <td>/mMtUybQ6hL24FXo0F3Z4j2KG7kZ.jpg</td>\n",
              "      <td>[10749, 16, 18]</td>\n",
              "      <td>372058</td>\n",
              "      <td>ja</td>\n",
              "      <td>君の名は。</td>\n",
              "      <td>High schoolers Mitsuha and Taki are complete s...</td>\n",
              "      <td>110.358</td>\n",
              "      <td>/q719jXXEzOoYaps6babgKnONONX.jpg</td>\n",
              "      <td>2016-08-26</td>\n",
              "      <td>Your Name.</td>\n",
              "      <td>False</td>\n",
              "      <td>8.5</td>\n",
              "      <td>9237</td>\n",
              "    </tr>\n",
              "    <tr>\n",
              "      <th>12</th>\n",
              "      <td>False</td>\n",
              "      <td>/TU9NIjwzjoKPwQHoHshkFcQUCG.jpg</td>\n",
              "      <td>[35, 53, 18]</td>\n",
              "      <td>496243</td>\n",
              "      <td>ko</td>\n",
              "      <td>기생충</td>\n",
              "      <td>All unemployed, Ki-taek's family takes peculia...</td>\n",
              "      <td>69.073</td>\n",
              "      <td>/7IiTTgloJzvGI1TAYymCfbfl3vT.jpg</td>\n",
              "      <td>2019-05-30</td>\n",
              "      <td>Parasite</td>\n",
              "      <td>False</td>\n",
              "      <td>8.5</td>\n",
              "      <td>14727</td>\n",
              "    </tr>\n",
              "    <tr>\n",
              "      <th>13</th>\n",
              "      <td>False</td>\n",
              "      <td>/l6hQWH9eDksNJNiXWYRkWqikOdu.jpg</td>\n",
              "      <td>[14, 18, 80]</td>\n",
              "      <td>497</td>\n",
              "      <td>en</td>\n",
              "      <td>The Green Mile</td>\n",
              "      <td>A supernatural tale set on death row in a Sout...</td>\n",
              "      <td>76.090</td>\n",
              "      <td>/velWPhVMQeQKcxggNEU8YmIo52R.jpg</td>\n",
              "      <td>1999-12-10</td>\n",
              "      <td>The Green Mile</td>\n",
              "      <td>False</td>\n",
              "      <td>8.5</td>\n",
              "      <td>14639</td>\n",
              "    </tr>\n",
              "    <tr>\n",
              "      <th>14</th>\n",
              "      <td>False</td>\n",
              "      <td>/nMKdUUepR0i5zn0y1T4CsSB5chy.jpg</td>\n",
              "      <td>[18, 28, 80, 53]</td>\n",
              "      <td>155</td>\n",
              "      <td>en</td>\n",
              "      <td>The Dark Knight</td>\n",
              "      <td>Batman raises the stakes in his war on crime. ...</td>\n",
              "      <td>80.337</td>\n",
              "      <td>/qJ2tW6WMUDux911r6m7haRef0WH.jpg</td>\n",
              "      <td>2008-07-14</td>\n",
              "      <td>The Dark Knight</td>\n",
              "      <td>False</td>\n",
              "      <td>8.5</td>\n",
              "      <td>28612</td>\n",
              "    </tr>\n",
              "    <tr>\n",
              "      <th>15</th>\n",
              "      <td>False</td>\n",
              "      <td>/jtAI6OJIWLWiRItNSZoWjrsUtmi.jpg</td>\n",
              "      <td>[10749]</td>\n",
              "      <td>724089</td>\n",
              "      <td>en</td>\n",
              "      <td>Gabriel's Inferno: Part II</td>\n",
              "      <td>Professor Gabriel Emerson finally learns the t...</td>\n",
              "      <td>13.322</td>\n",
              "      <td>/x5o8cLZfEXMoZczTYWLrUo1P7UJ.jpg</td>\n",
              "      <td>2020-07-31</td>\n",
              "      <td>Gabriel's Inferno: Part II</td>\n",
              "      <td>False</td>\n",
              "      <td>8.5</td>\n",
              "      <td>1442</td>\n",
              "    </tr>\n",
              "    <tr>\n",
              "      <th>16</th>\n",
              "      <td>False</td>\n",
              "      <td>/w2uGvCpMtvRqZg6waC1hvLyZoJa.jpg</td>\n",
              "      <td>[10749]</td>\n",
              "      <td>696374</td>\n",
              "      <td>en</td>\n",
              "      <td>Gabriel's Inferno</td>\n",
              "      <td>An intriguing and sinful exploration of seduct...</td>\n",
              "      <td>13.930</td>\n",
              "      <td>/oyG9TL7FcRP4EZ9Vid6uKzwdndz.jpg</td>\n",
              "      <td>2020-05-29</td>\n",
              "      <td>Gabriel's Inferno</td>\n",
              "      <td>False</td>\n",
              "      <td>8.5</td>\n",
              "      <td>2298</td>\n",
              "    </tr>\n",
              "    <tr>\n",
              "      <th>17</th>\n",
              "      <td>False</td>\n",
              "      <td>/aQ7444JX7gefPhGJTlvilj3zG2S.jpg</td>\n",
              "      <td>[10402]</td>\n",
              "      <td>553512</td>\n",
              "      <td>ko</td>\n",
              "      <td>번 더 스테이지: 더 무비</td>\n",
              "      <td>A documentary following the worldwide famous m...</td>\n",
              "      <td>19.671</td>\n",
              "      <td>/pJKy1yvnKh8UjcuYeG3Rt35xHFA.jpg</td>\n",
              "      <td>2018-11-15</td>\n",
              "      <td>Burn the Stage: The Movie</td>\n",
              "      <td>False</td>\n",
              "      <td>8.5</td>\n",
              "      <td>371</td>\n",
              "    </tr>\n",
              "    <tr>\n",
              "      <th>18</th>\n",
              "      <td>False</td>\n",
              "      <td>/suaEOtk1N1sgg2MTM7oZd2cfVp3.jpg</td>\n",
              "      <td>[53, 80]</td>\n",
              "      <td>680</td>\n",
              "      <td>en</td>\n",
              "      <td>Pulp Fiction</td>\n",
              "      <td>A burger-loving hit man, his philosophical par...</td>\n",
              "      <td>84.069</td>\n",
              "      <td>/fIE3lAGcZDV1G6XM5KmuWnNsPp1.jpg</td>\n",
              "      <td>1994-09-10</td>\n",
              "      <td>Pulp Fiction</td>\n",
              "      <td>False</td>\n",
              "      <td>8.5</td>\n",
              "      <td>24088</td>\n",
              "    </tr>\n",
              "    <tr>\n",
              "      <th>19</th>\n",
              "      <td>False</td>\n",
              "      <td>/x4biAVdPVCghBlsVIzB6NmbghIz.jpg</td>\n",
              "      <td>[37]</td>\n",
              "      <td>429</td>\n",
              "      <td>it</td>\n",
              "      <td>Il buono, il brutto, il cattivo</td>\n",
              "      <td>While the Civil War rages on between the Union...</td>\n",
              "      <td>41.285</td>\n",
              "      <td>/bX2xnavhMYjWDoZp1VM6VnU1xwe.jpg</td>\n",
              "      <td>1966-12-23</td>\n",
              "      <td>The Good, the Bad and the Ugly</td>\n",
              "      <td>False</td>\n",
              "      <td>8.5</td>\n",
              "      <td>6987</td>\n",
              "    </tr>\n",
              "  </tbody>\n",
              "</table>\n",
              "</div>\n",
              "      <button class=\"colab-df-convert\" onclick=\"convertToInteractive('df-36c77ae2-f495-4b51-bf98-b78171a67c26')\"\n",
              "              title=\"Convert this dataframe to an interactive table.\"\n",
              "              style=\"display:none;\">\n",
              "        \n",
              "  <svg xmlns=\"http://www.w3.org/2000/svg\" height=\"24px\"viewBox=\"0 0 24 24\"\n",
              "       width=\"24px\">\n",
              "    <path d=\"M0 0h24v24H0V0z\" fill=\"none\"/>\n",
              "    <path d=\"M18.56 5.44l.94 2.06.94-2.06 2.06-.94-2.06-.94-.94-2.06-.94 2.06-2.06.94zm-11 1L8.5 8.5l.94-2.06 2.06-.94-2.06-.94L8.5 2.5l-.94 2.06-2.06.94zm10 10l.94 2.06.94-2.06 2.06-.94-2.06-.94-.94-2.06-.94 2.06-2.06.94z\"/><path d=\"M17.41 7.96l-1.37-1.37c-.4-.4-.92-.59-1.43-.59-.52 0-1.04.2-1.43.59L10.3 9.45l-7.72 7.72c-.78.78-.78 2.05 0 2.83L4 21.41c.39.39.9.59 1.41.59.51 0 1.02-.2 1.41-.59l7.78-7.78 2.81-2.81c.8-.78.8-2.07 0-2.86zM5.41 20L4 18.59l7.72-7.72 1.47 1.35L5.41 20z\"/>\n",
              "  </svg>\n",
              "      </button>\n",
              "      \n",
              "  <style>\n",
              "    .colab-df-container {\n",
              "      display:flex;\n",
              "      flex-wrap:wrap;\n",
              "      gap: 12px;\n",
              "    }\n",
              "\n",
              "    .colab-df-convert {\n",
              "      background-color: #E8F0FE;\n",
              "      border: none;\n",
              "      border-radius: 50%;\n",
              "      cursor: pointer;\n",
              "      display: none;\n",
              "      fill: #1967D2;\n",
              "      height: 32px;\n",
              "      padding: 0 0 0 0;\n",
              "      width: 32px;\n",
              "    }\n",
              "\n",
              "    .colab-df-convert:hover {\n",
              "      background-color: #E2EBFA;\n",
              "      box-shadow: 0px 1px 2px rgba(60, 64, 67, 0.3), 0px 1px 3px 1px rgba(60, 64, 67, 0.15);\n",
              "      fill: #174EA6;\n",
              "    }\n",
              "\n",
              "    [theme=dark] .colab-df-convert {\n",
              "      background-color: #3B4455;\n",
              "      fill: #D2E3FC;\n",
              "    }\n",
              "\n",
              "    [theme=dark] .colab-df-convert:hover {\n",
              "      background-color: #434B5C;\n",
              "      box-shadow: 0px 1px 3px 1px rgba(0, 0, 0, 0.15);\n",
              "      filter: drop-shadow(0px 1px 2px rgba(0, 0, 0, 0.3));\n",
              "      fill: #FFFFFF;\n",
              "    }\n",
              "  </style>\n",
              "\n",
              "      <script>\n",
              "        const buttonEl =\n",
              "          document.querySelector('#df-36c77ae2-f495-4b51-bf98-b78171a67c26 button.colab-df-convert');\n",
              "        buttonEl.style.display =\n",
              "          google.colab.kernel.accessAllowed ? 'block' : 'none';\n",
              "\n",
              "        async function convertToInteractive(key) {\n",
              "          const element = document.querySelector('#df-36c77ae2-f495-4b51-bf98-b78171a67c26');\n",
              "          const dataTable =\n",
              "            await google.colab.kernel.invokeFunction('convertToInteractive',\n",
              "                                                     [key], {});\n",
              "          if (!dataTable) return;\n",
              "\n",
              "          const docLinkHtml = 'Like what you see? Visit the ' +\n",
              "            '<a target=\"_blank\" href=https://colab.research.google.com/notebooks/data_table.ipynb>data table notebook</a>'\n",
              "            + ' to learn more about interactive tables.';\n",
              "          element.innerHTML = '';\n",
              "          dataTable['output_type'] = 'display_data';\n",
              "          await google.colab.output.renderOutput(dataTable, element);\n",
              "          const docLink = document.createElement('div');\n",
              "          docLink.innerHTML = docLinkHtml;\n",
              "          element.appendChild(docLink);\n",
              "        }\n",
              "      </script>\n",
              "    </div>\n",
              "  </div>\n",
              "  "
            ]
          },
          "metadata": {},
          "execution_count": 5
        }
      ]
    },
    {
      "cell_type": "code",
      "source": [
        "from IPython.utils import text\n",
        "#to import from 500 pages\n",
        "dataset=pd.DataFrame()\n",
        "for i in range(1,500):\n",
        "  raw_data=requests.get('https://api.themoviedb.org/3/movie/top_rated?api_key=ac54c3cbbf7d6d30db1572077606adda&language=en-US&page={}'.format(i))\n",
        "  temp_df=pd.DataFrame(raw_data.json()['results'])\n",
        "  dataset=dataset.append(temp_df,ignore_index=True)\n",
        "  "
      ],
      "metadata": {
        "id": "-uGEm7En2CF7"
      },
      "execution_count": 6,
      "outputs": []
    },
    {
      "cell_type": "code",
      "source": [
        "dataset.head(5)"
      ],
      "metadata": {
        "colab": {
          "base_uri": "https://localhost:8080/",
          "height": 687
        },
        "id": "Y0pCCLtx5gZ4",
        "outputId": "eb759fb2-88e0-4c29-d45e-e5986828db0f"
      },
      "execution_count": 7,
      "outputs": [
        {
          "output_type": "execute_result",
          "data": {
            "text/plain": [
              "   adult                     backdrop_path    genre_ids      id  \\\n",
              "0  False  /rl7Jw8PjhSIjArOlDNv0JQPL1ZV.jpg  [10749, 18]  851644   \n",
              "1  False  /rSPw7tgCH9c6NqICZef4kZjFOQ5.jpg     [18, 80]     238   \n",
              "2  False  /kXfqcdQKsToO0OUXHcrrNCHDBzO.jpg     [18, 80]     278   \n",
              "3  False  /poec6RqOKY9iSiIUmfyfPfiLtvB.jpg     [18, 80]     240   \n",
              "4  False  /bxSBOAD8AuMHYMdW3jso9npAkgt.jpg  [10751, 18]  667257   \n",
              "\n",
              "  original_language            original_title  \\\n",
              "0                ko                   20세기 소녀   \n",
              "1                en             The Godfather   \n",
              "2                en  The Shawshank Redemption   \n",
              "3                en     The Godfather Part II   \n",
              "4                es          Cosas imposibles   \n",
              "\n",
              "                                            overview  popularity  \\\n",
              "0  Yeon-du asks her best friend Bora to collect a...     357.953   \n",
              "1  Spanning the years 1945 to 1955, a chronicle o...      87.788   \n",
              "2  Framed in the 1940s for the double murder of h...      70.269   \n",
              "3  In the continuing saga of the Corleone crime f...      46.115   \n",
              "4  Matilde is a woman who, after the death of her...      25.406   \n",
              "\n",
              "                        poster_path release_date                     title  \\\n",
              "0  /od22ftNnyag0TTxcnJhlsu3aLoU.jpg   2022-10-06         20th Century Girl   \n",
              "1  /3bhkrj58Vtu7enYsRolD1fZdja1.jpg   1972-03-14             The Godfather   \n",
              "2  /q6y0Go1tsGEsmtFryDOJo3dEmqu.jpg   1994-09-23  The Shawshank Redemption   \n",
              "3  /hek3koDUyRQk7FIhPXsa6mT2Zc3.jpg   1974-12-20     The Godfather Part II   \n",
              "4  /t2Ew8NZ8Ci2kqmoecZUNQUFDJnQ.jpg   2021-06-17         Impossible Things   \n",
              "\n",
              "   video  vote_average  vote_count  \n",
              "0  False           8.7         262  \n",
              "1  False           8.7       16936  \n",
              "2  False           8.7       22687  \n",
              "3  False           8.6       10269  \n",
              "4  False           8.6         280  "
            ],
            "text/html": [
              "\n",
              "  <div id=\"df-0c61cb85-1033-40b7-a213-098029159b8b\">\n",
              "    <div class=\"colab-df-container\">\n",
              "      <div>\n",
              "<style scoped>\n",
              "    .dataframe tbody tr th:only-of-type {\n",
              "        vertical-align: middle;\n",
              "    }\n",
              "\n",
              "    .dataframe tbody tr th {\n",
              "        vertical-align: top;\n",
              "    }\n",
              "\n",
              "    .dataframe thead th {\n",
              "        text-align: right;\n",
              "    }\n",
              "</style>\n",
              "<table border=\"1\" class=\"dataframe\">\n",
              "  <thead>\n",
              "    <tr style=\"text-align: right;\">\n",
              "      <th></th>\n",
              "      <th>adult</th>\n",
              "      <th>backdrop_path</th>\n",
              "      <th>genre_ids</th>\n",
              "      <th>id</th>\n",
              "      <th>original_language</th>\n",
              "      <th>original_title</th>\n",
              "      <th>overview</th>\n",
              "      <th>popularity</th>\n",
              "      <th>poster_path</th>\n",
              "      <th>release_date</th>\n",
              "      <th>title</th>\n",
              "      <th>video</th>\n",
              "      <th>vote_average</th>\n",
              "      <th>vote_count</th>\n",
              "    </tr>\n",
              "  </thead>\n",
              "  <tbody>\n",
              "    <tr>\n",
              "      <th>0</th>\n",
              "      <td>False</td>\n",
              "      <td>/rl7Jw8PjhSIjArOlDNv0JQPL1ZV.jpg</td>\n",
              "      <td>[10749, 18]</td>\n",
              "      <td>851644</td>\n",
              "      <td>ko</td>\n",
              "      <td>20세기 소녀</td>\n",
              "      <td>Yeon-du asks her best friend Bora to collect a...</td>\n",
              "      <td>357.953</td>\n",
              "      <td>/od22ftNnyag0TTxcnJhlsu3aLoU.jpg</td>\n",
              "      <td>2022-10-06</td>\n",
              "      <td>20th Century Girl</td>\n",
              "      <td>False</td>\n",
              "      <td>8.7</td>\n",
              "      <td>262</td>\n",
              "    </tr>\n",
              "    <tr>\n",
              "      <th>1</th>\n",
              "      <td>False</td>\n",
              "      <td>/rSPw7tgCH9c6NqICZef4kZjFOQ5.jpg</td>\n",
              "      <td>[18, 80]</td>\n",
              "      <td>238</td>\n",
              "      <td>en</td>\n",
              "      <td>The Godfather</td>\n",
              "      <td>Spanning the years 1945 to 1955, a chronicle o...</td>\n",
              "      <td>87.788</td>\n",
              "      <td>/3bhkrj58Vtu7enYsRolD1fZdja1.jpg</td>\n",
              "      <td>1972-03-14</td>\n",
              "      <td>The Godfather</td>\n",
              "      <td>False</td>\n",
              "      <td>8.7</td>\n",
              "      <td>16936</td>\n",
              "    </tr>\n",
              "    <tr>\n",
              "      <th>2</th>\n",
              "      <td>False</td>\n",
              "      <td>/kXfqcdQKsToO0OUXHcrrNCHDBzO.jpg</td>\n",
              "      <td>[18, 80]</td>\n",
              "      <td>278</td>\n",
              "      <td>en</td>\n",
              "      <td>The Shawshank Redemption</td>\n",
              "      <td>Framed in the 1940s for the double murder of h...</td>\n",
              "      <td>70.269</td>\n",
              "      <td>/q6y0Go1tsGEsmtFryDOJo3dEmqu.jpg</td>\n",
              "      <td>1994-09-23</td>\n",
              "      <td>The Shawshank Redemption</td>\n",
              "      <td>False</td>\n",
              "      <td>8.7</td>\n",
              "      <td>22687</td>\n",
              "    </tr>\n",
              "    <tr>\n",
              "      <th>3</th>\n",
              "      <td>False</td>\n",
              "      <td>/poec6RqOKY9iSiIUmfyfPfiLtvB.jpg</td>\n",
              "      <td>[18, 80]</td>\n",
              "      <td>240</td>\n",
              "      <td>en</td>\n",
              "      <td>The Godfather Part II</td>\n",
              "      <td>In the continuing saga of the Corleone crime f...</td>\n",
              "      <td>46.115</td>\n",
              "      <td>/hek3koDUyRQk7FIhPXsa6mT2Zc3.jpg</td>\n",
              "      <td>1974-12-20</td>\n",
              "      <td>The Godfather Part II</td>\n",
              "      <td>False</td>\n",
              "      <td>8.6</td>\n",
              "      <td>10269</td>\n",
              "    </tr>\n",
              "    <tr>\n",
              "      <th>4</th>\n",
              "      <td>False</td>\n",
              "      <td>/bxSBOAD8AuMHYMdW3jso9npAkgt.jpg</td>\n",
              "      <td>[10751, 18]</td>\n",
              "      <td>667257</td>\n",
              "      <td>es</td>\n",
              "      <td>Cosas imposibles</td>\n",
              "      <td>Matilde is a woman who, after the death of her...</td>\n",
              "      <td>25.406</td>\n",
              "      <td>/t2Ew8NZ8Ci2kqmoecZUNQUFDJnQ.jpg</td>\n",
              "      <td>2021-06-17</td>\n",
              "      <td>Impossible Things</td>\n",
              "      <td>False</td>\n",
              "      <td>8.6</td>\n",
              "      <td>280</td>\n",
              "    </tr>\n",
              "  </tbody>\n",
              "</table>\n",
              "</div>\n",
              "      <button class=\"colab-df-convert\" onclick=\"convertToInteractive('df-0c61cb85-1033-40b7-a213-098029159b8b')\"\n",
              "              title=\"Convert this dataframe to an interactive table.\"\n",
              "              style=\"display:none;\">\n",
              "        \n",
              "  <svg xmlns=\"http://www.w3.org/2000/svg\" height=\"24px\"viewBox=\"0 0 24 24\"\n",
              "       width=\"24px\">\n",
              "    <path d=\"M0 0h24v24H0V0z\" fill=\"none\"/>\n",
              "    <path d=\"M18.56 5.44l.94 2.06.94-2.06 2.06-.94-2.06-.94-.94-2.06-.94 2.06-2.06.94zm-11 1L8.5 8.5l.94-2.06 2.06-.94-2.06-.94L8.5 2.5l-.94 2.06-2.06.94zm10 10l.94 2.06.94-2.06 2.06-.94-2.06-.94-.94-2.06-.94 2.06-2.06.94z\"/><path d=\"M17.41 7.96l-1.37-1.37c-.4-.4-.92-.59-1.43-.59-.52 0-1.04.2-1.43.59L10.3 9.45l-7.72 7.72c-.78.78-.78 2.05 0 2.83L4 21.41c.39.39.9.59 1.41.59.51 0 1.02-.2 1.41-.59l7.78-7.78 2.81-2.81c.8-.78.8-2.07 0-2.86zM5.41 20L4 18.59l7.72-7.72 1.47 1.35L5.41 20z\"/>\n",
              "  </svg>\n",
              "      </button>\n",
              "      \n",
              "  <style>\n",
              "    .colab-df-container {\n",
              "      display:flex;\n",
              "      flex-wrap:wrap;\n",
              "      gap: 12px;\n",
              "    }\n",
              "\n",
              "    .colab-df-convert {\n",
              "      background-color: #E8F0FE;\n",
              "      border: none;\n",
              "      border-radius: 50%;\n",
              "      cursor: pointer;\n",
              "      display: none;\n",
              "      fill: #1967D2;\n",
              "      height: 32px;\n",
              "      padding: 0 0 0 0;\n",
              "      width: 32px;\n",
              "    }\n",
              "\n",
              "    .colab-df-convert:hover {\n",
              "      background-color: #E2EBFA;\n",
              "      box-shadow: 0px 1px 2px rgba(60, 64, 67, 0.3), 0px 1px 3px 1px rgba(60, 64, 67, 0.15);\n",
              "      fill: #174EA6;\n",
              "    }\n",
              "\n",
              "    [theme=dark] .colab-df-convert {\n",
              "      background-color: #3B4455;\n",
              "      fill: #D2E3FC;\n",
              "    }\n",
              "\n",
              "    [theme=dark] .colab-df-convert:hover {\n",
              "      background-color: #434B5C;\n",
              "      box-shadow: 0px 1px 3px 1px rgba(0, 0, 0, 0.15);\n",
              "      filter: drop-shadow(0px 1px 2px rgba(0, 0, 0, 0.3));\n",
              "      fill: #FFFFFF;\n",
              "    }\n",
              "  </style>\n",
              "\n",
              "      <script>\n",
              "        const buttonEl =\n",
              "          document.querySelector('#df-0c61cb85-1033-40b7-a213-098029159b8b button.colab-df-convert');\n",
              "        buttonEl.style.display =\n",
              "          google.colab.kernel.accessAllowed ? 'block' : 'none';\n",
              "\n",
              "        async function convertToInteractive(key) {\n",
              "          const element = document.querySelector('#df-0c61cb85-1033-40b7-a213-098029159b8b');\n",
              "          const dataTable =\n",
              "            await google.colab.kernel.invokeFunction('convertToInteractive',\n",
              "                                                     [key], {});\n",
              "          if (!dataTable) return;\n",
              "\n",
              "          const docLinkHtml = 'Like what you see? Visit the ' +\n",
              "            '<a target=\"_blank\" href=https://colab.research.google.com/notebooks/data_table.ipynb>data table notebook</a>'\n",
              "            + ' to learn more about interactive tables.';\n",
              "          element.innerHTML = '';\n",
              "          dataTable['output_type'] = 'display_data';\n",
              "          await google.colab.output.renderOutput(dataTable, element);\n",
              "          const docLink = document.createElement('div');\n",
              "          docLink.innerHTML = docLinkHtml;\n",
              "          element.appendChild(docLink);\n",
              "        }\n",
              "      </script>\n",
              "    </div>\n",
              "  </div>\n",
              "  "
            ]
          },
          "metadata": {},
          "execution_count": 7
        }
      ]
    },
    {
      "cell_type": "code",
      "source": [
        "limited_data=dataset[['original_title','overview','genre_ids']]"
      ],
      "metadata": {
        "id": "6ldd673e7DI0"
      },
      "execution_count": 8,
      "outputs": []
    },
    {
      "cell_type": "code",
      "source": [
        "limited_data.head(3)"
      ],
      "metadata": {
        "colab": {
          "base_uri": "https://localhost:8080/",
          "height": 143
        },
        "id": "FYDvNhm985ih",
        "outputId": "2d379fa3-6ff3-47ef-8863-72cbed8b8acd"
      },
      "execution_count": 9,
      "outputs": [
        {
          "output_type": "execute_result",
          "data": {
            "text/plain": [
              "             original_title  \\\n",
              "0                   20세기 소녀   \n",
              "1             The Godfather   \n",
              "2  The Shawshank Redemption   \n",
              "\n",
              "                                            overview    genre_ids  \n",
              "0  Yeon-du asks her best friend Bora to collect a...  [10749, 18]  \n",
              "1  Spanning the years 1945 to 1955, a chronicle o...     [18, 80]  \n",
              "2  Framed in the 1940s for the double murder of h...     [18, 80]  "
            ],
            "text/html": [
              "\n",
              "  <div id=\"df-929aba95-4dc5-45e1-ac74-5292cd7f7eab\">\n",
              "    <div class=\"colab-df-container\">\n",
              "      <div>\n",
              "<style scoped>\n",
              "    .dataframe tbody tr th:only-of-type {\n",
              "        vertical-align: middle;\n",
              "    }\n",
              "\n",
              "    .dataframe tbody tr th {\n",
              "        vertical-align: top;\n",
              "    }\n",
              "\n",
              "    .dataframe thead th {\n",
              "        text-align: right;\n",
              "    }\n",
              "</style>\n",
              "<table border=\"1\" class=\"dataframe\">\n",
              "  <thead>\n",
              "    <tr style=\"text-align: right;\">\n",
              "      <th></th>\n",
              "      <th>original_title</th>\n",
              "      <th>overview</th>\n",
              "      <th>genre_ids</th>\n",
              "    </tr>\n",
              "  </thead>\n",
              "  <tbody>\n",
              "    <tr>\n",
              "      <th>0</th>\n",
              "      <td>20세기 소녀</td>\n",
              "      <td>Yeon-du asks her best friend Bora to collect a...</td>\n",
              "      <td>[10749, 18]</td>\n",
              "    </tr>\n",
              "    <tr>\n",
              "      <th>1</th>\n",
              "      <td>The Godfather</td>\n",
              "      <td>Spanning the years 1945 to 1955, a chronicle o...</td>\n",
              "      <td>[18, 80]</td>\n",
              "    </tr>\n",
              "    <tr>\n",
              "      <th>2</th>\n",
              "      <td>The Shawshank Redemption</td>\n",
              "      <td>Framed in the 1940s for the double murder of h...</td>\n",
              "      <td>[18, 80]</td>\n",
              "    </tr>\n",
              "  </tbody>\n",
              "</table>\n",
              "</div>\n",
              "      <button class=\"colab-df-convert\" onclick=\"convertToInteractive('df-929aba95-4dc5-45e1-ac74-5292cd7f7eab')\"\n",
              "              title=\"Convert this dataframe to an interactive table.\"\n",
              "              style=\"display:none;\">\n",
              "        \n",
              "  <svg xmlns=\"http://www.w3.org/2000/svg\" height=\"24px\"viewBox=\"0 0 24 24\"\n",
              "       width=\"24px\">\n",
              "    <path d=\"M0 0h24v24H0V0z\" fill=\"none\"/>\n",
              "    <path d=\"M18.56 5.44l.94 2.06.94-2.06 2.06-.94-2.06-.94-.94-2.06-.94 2.06-2.06.94zm-11 1L8.5 8.5l.94-2.06 2.06-.94-2.06-.94L8.5 2.5l-.94 2.06-2.06.94zm10 10l.94 2.06.94-2.06 2.06-.94-2.06-.94-.94-2.06-.94 2.06-2.06.94z\"/><path d=\"M17.41 7.96l-1.37-1.37c-.4-.4-.92-.59-1.43-.59-.52 0-1.04.2-1.43.59L10.3 9.45l-7.72 7.72c-.78.78-.78 2.05 0 2.83L4 21.41c.39.39.9.59 1.41.59.51 0 1.02-.2 1.41-.59l7.78-7.78 2.81-2.81c.8-.78.8-2.07 0-2.86zM5.41 20L4 18.59l7.72-7.72 1.47 1.35L5.41 20z\"/>\n",
              "  </svg>\n",
              "      </button>\n",
              "      \n",
              "  <style>\n",
              "    .colab-df-container {\n",
              "      display:flex;\n",
              "      flex-wrap:wrap;\n",
              "      gap: 12px;\n",
              "    }\n",
              "\n",
              "    .colab-df-convert {\n",
              "      background-color: #E8F0FE;\n",
              "      border: none;\n",
              "      border-radius: 50%;\n",
              "      cursor: pointer;\n",
              "      display: none;\n",
              "      fill: #1967D2;\n",
              "      height: 32px;\n",
              "      padding: 0 0 0 0;\n",
              "      width: 32px;\n",
              "    }\n",
              "\n",
              "    .colab-df-convert:hover {\n",
              "      background-color: #E2EBFA;\n",
              "      box-shadow: 0px 1px 2px rgba(60, 64, 67, 0.3), 0px 1px 3px 1px rgba(60, 64, 67, 0.15);\n",
              "      fill: #174EA6;\n",
              "    }\n",
              "\n",
              "    [theme=dark] .colab-df-convert {\n",
              "      background-color: #3B4455;\n",
              "      fill: #D2E3FC;\n",
              "    }\n",
              "\n",
              "    [theme=dark] .colab-df-convert:hover {\n",
              "      background-color: #434B5C;\n",
              "      box-shadow: 0px 1px 3px 1px rgba(0, 0, 0, 0.15);\n",
              "      filter: drop-shadow(0px 1px 2px rgba(0, 0, 0, 0.3));\n",
              "      fill: #FFFFFF;\n",
              "    }\n",
              "  </style>\n",
              "\n",
              "      <script>\n",
              "        const buttonEl =\n",
              "          document.querySelector('#df-929aba95-4dc5-45e1-ac74-5292cd7f7eab button.colab-df-convert');\n",
              "        buttonEl.style.display =\n",
              "          google.colab.kernel.accessAllowed ? 'block' : 'none';\n",
              "\n",
              "        async function convertToInteractive(key) {\n",
              "          const element = document.querySelector('#df-929aba95-4dc5-45e1-ac74-5292cd7f7eab');\n",
              "          const dataTable =\n",
              "            await google.colab.kernel.invokeFunction('convertToInteractive',\n",
              "                                                     [key], {});\n",
              "          if (!dataTable) return;\n",
              "\n",
              "          const docLinkHtml = 'Like what you see? Visit the ' +\n",
              "            '<a target=\"_blank\" href=https://colab.research.google.com/notebooks/data_table.ipynb>data table notebook</a>'\n",
              "            + ' to learn more about interactive tables.';\n",
              "          element.innerHTML = '';\n",
              "          dataTable['output_type'] = 'display_data';\n",
              "          await google.colab.output.renderOutput(dataTable, element);\n",
              "          const docLink = document.createElement('div');\n",
              "          docLink.innerHTML = docLinkHtml;\n",
              "          element.appendChild(docLink);\n",
              "        }\n",
              "      </script>\n",
              "    </div>\n",
              "  </div>\n",
              "  "
            ]
          },
          "metadata": {},
          "execution_count": 9
        }
      ]
    },
    {
      "cell_type": "code",
      "source": [
        "limited_data['overview']=limited_data['overview'].str.lower()"
      ],
      "metadata": {
        "colab": {
          "base_uri": "https://localhost:8080/"
        },
        "id": "KGT2GD0z-pGO",
        "outputId": "f7221f8a-a898-4388-c39e-2d3039937747"
      },
      "execution_count": 10,
      "outputs": [
        {
          "output_type": "stream",
          "name": "stderr",
          "text": [
            "/usr/local/lib/python3.7/dist-packages/ipykernel_launcher.py:1: SettingWithCopyWarning: \n",
            "A value is trying to be set on a copy of a slice from a DataFrame.\n",
            "Try using .loc[row_indexer,col_indexer] = value instead\n",
            "\n",
            "See the caveats in the documentation: https://pandas.pydata.org/pandas-docs/stable/user_guide/indexing.html#returning-a-view-versus-a-copy\n",
            "  \"\"\"Entry point for launching an IPython kernel.\n"
          ]
        }
      ]
    },
    {
      "cell_type": "code",
      "source": [
        "limited_data['overview']"
      ],
      "metadata": {
        "colab": {
          "base_uri": "https://localhost:8080/"
        },
        "id": "WJjyngfx9-2M",
        "outputId": "a284bc77-43d3-421d-98ff-d98f6f0acacc"
      },
      "execution_count": 11,
      "outputs": [
        {
          "output_type": "execute_result",
          "data": {
            "text/plain": [
              "0       yeon-du asks her best friend bora to collect a...\n",
              "1       spanning the years 1945 to 1955, a chronicle o...\n",
              "2       framed in the 1940s for the double murder of h...\n",
              "3       in the continuing saga of the corleone crime f...\n",
              "4       matilde is a woman who, after the death of her...\n",
              "                              ...                        \n",
              "9975    with their women having been enslaved by a pac...\n",
              "9976    amy, an 11-year-old girl, joins a group of dan...\n",
              "9977    a team of parapsychologists sets out to invest...\n",
              "9978    officially, apollo 17 was the last manned miss...\n",
              "9979    michel, who's crazy about jazz, has just found...\n",
              "Name: overview, Length: 9980, dtype: object"
            ]
          },
          "metadata": {},
          "execution_count": 11
        }
      ]
    },
    {
      "cell_type": "code",
      "source": [
        "#remove regular expressions\n",
        "limited_data['overview'][0]"
      ],
      "metadata": {
        "colab": {
          "base_uri": "https://localhost:8080/",
          "height": 90
        },
        "id": "xIyb_oaz_Hx4",
        "outputId": "a6c438dd-dd55-4fbd-dd75-0bb112ef43d1"
      },
      "execution_count": 12,
      "outputs": [
        {
          "output_type": "execute_result",
          "data": {
            "text/plain": [
              "\"yeon-du asks her best friend bora to collect all the information she can about baek hyun-jin while she is away in the u.s. for heart surgery. bora decides to get close to baek's best friend, pung woon-ho first. however, bora's clumsy plan unfolds in an unexpected direction. in 1999, a year before the new century, bora, who turns seventeen, falls into the fever of first love.\""
            ],
            "application/vnd.google.colaboratory.intrinsic+json": {
              "type": "string"
            }
          },
          "metadata": {},
          "execution_count": 12
        }
      ]
    },
    {
      "cell_type": "code",
      "source": [
        "limited_data['overview'][1]"
      ],
      "metadata": {
        "colab": {
          "base_uri": "https://localhost:8080/",
          "height": 72
        },
        "id": "QUJFX7xGFvFj",
        "outputId": "d5cf572f-a9c0-4156-c0d1-b6162dfa5de7"
      },
      "execution_count": 13,
      "outputs": [
        {
          "output_type": "execute_result",
          "data": {
            "text/plain": [
              "'spanning the years 1945 to 1955, a chronicle of the fictional italian-american corleone crime family. when organized crime family patriarch, vito corleone barely survives an attempt on his life, his youngest son, michael steps in to take care of the would-be killers, launching a campaign of bloody revenge.'"
            ],
            "application/vnd.google.colaboratory.intrinsic+json": {
              "type": "string"
            }
          },
          "metadata": {},
          "execution_count": 13
        }
      ]
    },
    {
      "cell_type": "code",
      "source": [
        "#if any regular exxpression use re\n",
        "import re\n",
        "def remove_html_tags(text):\n",
        "  pattern=re.compile(\"<.*?>\")\n",
        "  return pattern.sub(r'',text)\n"
      ],
      "metadata": {
        "id": "gr_60ut8F16Y"
      },
      "execution_count": 14,
      "outputs": []
    },
    {
      "cell_type": "code",
      "source": [
        "example=\"<h1> this is a sample for removing html tags </h1><p>dsagdkjashdkjashdkjashdksjahdkjashd</p>\"\n",
        "remove_html_tags(example)"
      ],
      "metadata": {
        "colab": {
          "base_uri": "https://localhost:8080/",
          "height": 36
        },
        "id": "7nkIDfirGZSt",
        "outputId": "05792355-d0fc-468a-da09-d579de4348bf"
      },
      "execution_count": 15,
      "outputs": [
        {
          "output_type": "execute_result",
          "data": {
            "text/plain": [
              "' this is a sample for removing html tags dsagdkjashdkjashdkjashdksjahdkjashd'"
            ],
            "application/vnd.google.colaboratory.intrinsic+json": {
              "type": "string"
            }
          },
          "metadata": {},
          "execution_count": 15
        }
      ]
    },
    {
      "cell_type": "code",
      "source": [
        "#remove urls from text data"
      ],
      "metadata": {
        "id": "WR-mmS89GuFS"
      },
      "execution_count": 16,
      "outputs": []
    },
    {
      "cell_type": "code",
      "source": [
        "example=\"for movie dataset link given as https://api.themoviedb.org/3/movie/top_rated?api_key=<<apikeys>>&language=en-US&page=1\"\n",
        "example1=\"google site www.google.co.in\"\n",
        "example2=\"link for non credential sites starts http://sdhaslkdjslakd.sdklaskd/\"\n"
      ],
      "metadata": {
        "id": "cx7y3PMrHRRi"
      },
      "execution_count": 17,
      "outputs": []
    },
    {
      "cell_type": "code",
      "source": [
        "def remove_url_tags(text):\n",
        "  pattern= re.compile(r'https?://\\S+|www\\.\\S+')\n",
        "  return pattern.sub(r'',text)"
      ],
      "metadata": {
        "id": "aqggfAufHj0M"
      },
      "execution_count": 18,
      "outputs": []
    },
    {
      "cell_type": "code",
      "source": [
        "remove_url_tags(example)"
      ],
      "metadata": {
        "colab": {
          "base_uri": "https://localhost:8080/",
          "height": 36
        },
        "id": "oKPL8Cs9IbJj",
        "outputId": "c8c3975b-5077-46c1-b44a-56ee9ab3ecb5"
      },
      "execution_count": 19,
      "outputs": [
        {
          "output_type": "execute_result",
          "data": {
            "text/plain": [
              "'for movie dataset link given as '"
            ],
            "application/vnd.google.colaboratory.intrinsic+json": {
              "type": "string"
            }
          },
          "metadata": {},
          "execution_count": 19
        }
      ]
    },
    {
      "cell_type": "code",
      "source": [
        "remove_url_tags(example1)"
      ],
      "metadata": {
        "colab": {
          "base_uri": "https://localhost:8080/",
          "height": 36
        },
        "id": "Vogw0VA2IjPT",
        "outputId": "f8234d06-942c-4582-e599-11371322221b"
      },
      "execution_count": 20,
      "outputs": [
        {
          "output_type": "execute_result",
          "data": {
            "text/plain": [
              "'google site '"
            ],
            "application/vnd.google.colaboratory.intrinsic+json": {
              "type": "string"
            }
          },
          "metadata": {},
          "execution_count": 20
        }
      ]
    },
    {
      "cell_type": "code",
      "source": [
        "remove_url_tags(example2)"
      ],
      "metadata": {
        "colab": {
          "base_uri": "https://localhost:8080/",
          "height": 36
        },
        "id": "6jD_jbLIIlbo",
        "outputId": "bb8feef2-8999-4179-e345-66e8e2a5db9d"
      },
      "execution_count": 21,
      "outputs": [
        {
          "output_type": "execute_result",
          "data": {
            "text/plain": [
              "'link for non credential sites starts '"
            ],
            "application/vnd.google.colaboratory.intrinsic+json": {
              "type": "string"
            }
          },
          "metadata": {},
          "execution_count": 21
        }
      ]
    },
    {
      "cell_type": "code",
      "source": [
        "#remove punctuation\n",
        "#during tokenization it will work as seperate token               #or may be it will attach to others and treat same words different\n",
        "#example : hello hello!\n"
      ],
      "metadata": {
        "id": "nwYFupcaInCk"
      },
      "execution_count": 22,
      "outputs": []
    },
    {
      "cell_type": "code",
      "source": [
        "import string,time"
      ],
      "metadata": {
        "id": "q3wVYDv6JG-L"
      },
      "execution_count": 23,
      "outputs": []
    },
    {
      "cell_type": "code",
      "source": [
        "exclude=string.punctuation"
      ],
      "metadata": {
        "id": "jRFORVQEJKwa"
      },
      "execution_count": 24,
      "outputs": []
    },
    {
      "cell_type": "code",
      "source": [
        "def remove_punc(text):\n",
        "  for char in exclude:\n",
        "    text=text.replace(char,\"\")\n",
        "  return text\n"
      ],
      "metadata": {
        "id": "LONWgtZjJPQH"
      },
      "execution_count": 25,
      "outputs": []
    },
    {
      "cell_type": "code",
      "source": [
        "text=\"string. hello hello! me? what?\"\n",
        "start=time.time()\n",
        "print(remove_punc(text))\n",
        "time1=time.time()-start\n",
        "print(time1)\n"
      ],
      "metadata": {
        "colab": {
          "base_uri": "https://localhost:8080/"
        },
        "id": "uDs9Xow7JhMy",
        "outputId": "345847ea-3869-4d33-afeb-39a84063322b"
      },
      "execution_count": 26,
      "outputs": [
        {
          "output_type": "stream",
          "name": "stdout",
          "text": [
            "string hello hello me what\n",
            "0.00022149085998535156\n"
          ]
        }
      ]
    },
    {
      "cell_type": "code",
      "source": [
        "#its slow best way is to use \n",
        "def remove_punc1(text):\n",
        "  return text.translate(str.maketrans('','',exclude))"
      ],
      "metadata": {
        "id": "dSTDuhRBJrCM"
      },
      "execution_count": 27,
      "outputs": []
    },
    {
      "cell_type": "code",
      "source": [
        "text=\"string. hello hello! me? what?\"\n",
        "start=time.time()\n",
        "print(remove_punc1(text))\n",
        "time1=time.time()-start\n",
        "print(time1)"
      ],
      "metadata": {
        "colab": {
          "base_uri": "https://localhost:8080/"
        },
        "id": "_t1QBIalK8r_",
        "outputId": "3734270a-5854-4e57-d0e4-61be70a58aa1"
      },
      "execution_count": 28,
      "outputs": [
        {
          "output_type": "stream",
          "name": "stdout",
          "text": [
            "string hello hello me what\n",
            "0.00020813941955566406\n"
          ]
        }
      ]
    },
    {
      "cell_type": "code",
      "source": [
        "limited_data['overview']=limited_data['overview'].apply(remove_punc1)"
      ],
      "metadata": {
        "colab": {
          "base_uri": "https://localhost:8080/"
        },
        "id": "8YfJf1PgLD--",
        "outputId": "48264fe6-667d-4f72-abea-75efab4cab4b"
      },
      "execution_count": 29,
      "outputs": [
        {
          "output_type": "stream",
          "name": "stderr",
          "text": [
            "/usr/local/lib/python3.7/dist-packages/ipykernel_launcher.py:1: SettingWithCopyWarning: \n",
            "A value is trying to be set on a copy of a slice from a DataFrame.\n",
            "Try using .loc[row_indexer,col_indexer] = value instead\n",
            "\n",
            "See the caveats in the documentation: https://pandas.pydata.org/pandas-docs/stable/user_guide/indexing.html#returning-a-view-versus-a-copy\n",
            "  \"\"\"Entry point for launching an IPython kernel.\n"
          ]
        }
      ]
    },
    {
      "cell_type": "code",
      "source": [
        "limited_data['overview'][1]"
      ],
      "metadata": {
        "colab": {
          "base_uri": "https://localhost:8080/",
          "height": 72
        },
        "id": "v5teIZXKLZCS",
        "outputId": "4f3962a1-1a8a-41f1-f87f-c2db2f5bb270"
      },
      "execution_count": 30,
      "outputs": [
        {
          "output_type": "execute_result",
          "data": {
            "text/plain": [
              "'spanning the years 1945 to 1955 a chronicle of the fictional italianamerican corleone crime family when organized crime family patriarch vito corleone barely survives an attempt on his life his youngest son michael steps in to take care of the wouldbe killers launching a campaign of bloody revenge'"
            ],
            "application/vnd.google.colaboratory.intrinsic+json": {
              "type": "string"
            }
          },
          "metadata": {},
          "execution_count": 30
        }
      ]
    },
    {
      "cell_type": "code",
      "source": [
        "chat_words=requests.get('https://raw.githubusercontent.com/DeepakRautella/sms_slang/main/slang')"
      ],
      "metadata": {
        "id": "ir_V2Dg_sWG9"
      },
      "execution_count": 108,
      "outputs": []
    },
    {
      "cell_type": "code",
      "source": [
        "chat_words=chat_words.text.split('\\n')"
      ],
      "metadata": {
        "id": "eLJ-6_s7v4nr"
      },
      "execution_count": 109,
      "outputs": []
    },
    {
      "cell_type": "code",
      "source": [
        "chat_words=chat_words[:-1]"
      ],
      "metadata": {
        "id": "qKRDiXyf0aCg"
      },
      "execution_count": 110,
      "outputs": []
    },
    {
      "cell_type": "code",
      "source": [
        "chat_words"
      ],
      "metadata": {
        "colab": {
          "base_uri": "https://localhost:8080/"
        },
        "id": "pv_opuZB1JFF",
        "outputId": "54837623-c5c2-4b42-b169-43a2e9d0a279"
      },
      "execution_count": 111,
      "outputs": [
        {
          "output_type": "execute_result",
          "data": {
            "text/plain": [
              "['AFAIK=As Far As I Know',\n",
              " 'AFK=Away From Keyboard',\n",
              " 'ASAP=As Soon As Possible',\n",
              " 'ATK=At The Keyboard',\n",
              " 'ATM=At The Moment',\n",
              " 'A3=Anytime, Anywhere, Anyplace',\n",
              " 'BAK=Back At Keyboard',\n",
              " 'BBL=Be Back Later',\n",
              " 'BBS=Be Back Soon',\n",
              " 'BFN=Bye For Now',\n",
              " 'B4N=Bye For Now',\n",
              " 'BRB=Be Right Back',\n",
              " 'BRT=Be Right There',\n",
              " 'BTW=By The Way',\n",
              " 'B4=Before',\n",
              " 'B4N=Bye For Now',\n",
              " 'CU=See You',\n",
              " 'CUL8R=See You Later',\n",
              " 'CYA=See You',\n",
              " 'FAQ=Frequently Asked Questions',\n",
              " 'FC=Fingers Crossed',\n",
              " \"FWIW=For What It's Worth\",\n",
              " 'FYI=For Your Information',\n",
              " 'GAL=Get A Life',\n",
              " 'GG=Good Game',\n",
              " 'GN=Good Night',\n",
              " 'GMTA=Great Minds Think Alike',\n",
              " 'GR8=Great!',\n",
              " 'G9=Genius',\n",
              " 'IC=I See',\n",
              " 'ICQ=I Seek you (also a chat program)',\n",
              " 'ILU=ILU: I Love You',\n",
              " 'IMHO=In My Honest/Humble Opinion',\n",
              " 'IMO=In My Opinion',\n",
              " 'IOW=In Other Words',\n",
              " 'IRL=In Real Life',\n",
              " 'KISS=Keep It Simple, Stupid',\n",
              " 'LDR=Long Distance Relationship',\n",
              " 'LMAO=Laugh My A.. Off',\n",
              " 'LOL=Laughing Out Loud',\n",
              " 'LTNS=Long Time No See',\n",
              " 'L8R=Later',\n",
              " 'MTE=My Thoughts Exactly',\n",
              " 'M8=Mate',\n",
              " 'NRN=No Reply Necessary',\n",
              " 'OIC=Oh I See',\n",
              " 'PITA=Pain In The A..',\n",
              " 'PRT=Party',\n",
              " 'PRW=Parents Are Watching',\n",
              " 'QPSA=Que Pasa',\n",
              " 'ROFL=Rolling On The Floor Laughing',\n",
              " 'ROFLOL=Rolling On The Floor Laughing Out Loud',\n",
              " 'ROTFLMAO=Rolling On The Floor Laughing My A.. Off',\n",
              " 'SK8=Skate',\n",
              " 'STATS=Your sex and age',\n",
              " 'ASL=Age, Sex, Location',\n",
              " 'THX=Thank You',\n",
              " 'TTFN=Ta-Ta For Now!',\n",
              " 'TTYL=Talk To You Later',\n",
              " 'U=You',\n",
              " 'U2=You Too',\n",
              " 'U4E=Yours For Ever',\n",
              " 'WB=Welcome Back',\n",
              " 'WTF=What The F...',\n",
              " 'WTG=Way To Go!',\n",
              " 'WUF=Where Are You From?',\n",
              " 'W8=Wait...',\n",
              " '7K=Sick:-D Laugher']"
            ]
          },
          "metadata": {},
          "execution_count": 111
        }
      ]
    },
    {
      "cell_type": "code",
      "source": [
        "chat_words_dict={}\n",
        "for words in chat_words:\n",
        "  words=words.split('=')\n",
        "  chat_words_dict[words[0]]=words[1]"
      ],
      "metadata": {
        "id": "AAVDBJD2yF_g"
      },
      "execution_count": 112,
      "outputs": []
    },
    {
      "cell_type": "code",
      "source": [
        "chat_words_dict"
      ],
      "metadata": {
        "colab": {
          "base_uri": "https://localhost:8080/"
        },
        "id": "9h4rx74ot708",
        "outputId": "a165acaf-6001-41c7-a4b7-782c56ac55dc"
      },
      "execution_count": 103,
      "outputs": [
        {
          "output_type": "execute_result",
          "data": {
            "text/plain": [
              "{'AFAIK': 'As Far As I Know',\n",
              " 'AFK': 'Away From Keyboard',\n",
              " 'ASAP': 'As Soon As Possible',\n",
              " 'ATK': 'At The Keyboard',\n",
              " 'ATM': 'At The Moment',\n",
              " 'A3': 'Anytime, Anywhere, Anyplace',\n",
              " 'BAK': 'Back At Keyboard',\n",
              " 'BBL': 'Be Back Later',\n",
              " 'BBS': 'Be Back Soon',\n",
              " 'BFN': 'Bye For Now',\n",
              " 'B4N': 'Bye For Now',\n",
              " 'BRB': 'Be Right Back',\n",
              " 'BRT': 'Be Right There',\n",
              " 'BTW': 'By The Way',\n",
              " 'B4': 'Before',\n",
              " 'CU': 'See You',\n",
              " 'CUL8R': 'See You Later',\n",
              " 'CYA': 'See You',\n",
              " 'FAQ': 'Frequently Asked Questions',\n",
              " 'FC': 'Fingers Crossed',\n",
              " 'FWIW': \"For What It's Worth\",\n",
              " 'FYI': 'For Your Information',\n",
              " 'GAL': 'Get A Life',\n",
              " 'GG': 'Good Game',\n",
              " 'GN': 'Good Night',\n",
              " 'GMTA': 'Great Minds Think Alike',\n",
              " 'GR8': 'Great!',\n",
              " 'G9': 'Genius',\n",
              " 'IC': 'I See',\n",
              " 'ICQ': 'I Seek you (also a chat program)',\n",
              " 'ILU': 'ILU: I Love You',\n",
              " 'IMHO': 'In My Honest/Humble Opinion',\n",
              " 'IMO': 'In My Opinion',\n",
              " 'IOW': 'In Other Words',\n",
              " 'IRL': 'In Real Life',\n",
              " 'KISS': 'Keep It Simple, Stupid',\n",
              " 'LDR': 'Long Distance Relationship',\n",
              " 'LMAO': 'Laugh My A.. Off',\n",
              " 'LOL': 'Laughing Out Loud',\n",
              " 'LTNS': 'Long Time No See',\n",
              " 'L8R': 'Later',\n",
              " 'MTE': 'My Thoughts Exactly',\n",
              " 'M8': 'Mate',\n",
              " 'NRN': 'No Reply Necessary',\n",
              " 'OIC': 'Oh I See',\n",
              " 'PITA': 'Pain In The A..',\n",
              " 'PRT': 'Party',\n",
              " 'PRW': 'Parents Are Watching',\n",
              " 'QPSA': 'Que Pasa',\n",
              " 'ROFL': 'Rolling On The Floor Laughing',\n",
              " 'ROFLOL': 'Rolling On The Floor Laughing Out Loud',\n",
              " 'ROTFLMAO': 'Rolling On The Floor Laughing My A.. Off',\n",
              " 'SK8': 'Skate',\n",
              " 'STATS': 'Your sex and age',\n",
              " 'ASL': 'Age, Sex, Location',\n",
              " 'THX': 'Thank You',\n",
              " 'TTFN': 'Ta-Ta For Now!',\n",
              " 'TTYL': 'Talk To You Later',\n",
              " 'U': 'You',\n",
              " 'U2': 'You Too',\n",
              " 'U4E': 'Yours For Ever',\n",
              " 'WB': 'Welcome Back',\n",
              " 'WTF': 'What The F...',\n",
              " 'WTG': 'Way To Go!',\n",
              " 'WUF': 'Where Are You From?',\n",
              " 'W8': 'Wait...',\n",
              " '7K': 'Sick:-D Laugher'}"
            ]
          },
          "metadata": {},
          "execution_count": 103
        }
      ]
    },
    {
      "cell_type": "code",
      "source": [
        "#chat words treatment short form words like rofl lol gn etc\n",
        "def chat_conv(text):\n",
        "  new_text=[]\n",
        "  for w in text.split():\n",
        "    if w.upper() in chat_words_dict:\n",
        "      new_text.append(chat_words_dict[w.upper()])\n",
        "    else:\n",
        "      new_text.append(w)\n",
        "  return \" \".join(new_text)"
      ],
      "metadata": {
        "id": "RiOsID1iLirN"
      },
      "execution_count": 106,
      "outputs": []
    },
    {
      "cell_type": "code",
      "source": [
        "chat_conv('lol what! really you steeped on poop')"
      ],
      "metadata": {
        "colab": {
          "base_uri": "https://localhost:8080/",
          "height": 36
        },
        "id": "IH5cn-OaMWbg",
        "outputId": "497d0b05-f3ea-41b0-8cfc-4256454b9696"
      },
      "execution_count": 107,
      "outputs": [
        {
          "output_type": "execute_result",
          "data": {
            "text/plain": [
              "'Laughing Out Loud what! really you steeped on poop'"
            ],
            "application/vnd.google.colaboratory.intrinsic+json": {
              "type": "string"
            }
          },
          "metadata": {},
          "execution_count": 107
        }
      ]
    },
    {
      "cell_type": "code",
      "source": [
        "limited_data['overview']=limited_data['overview'].apply(chat_conv)"
      ],
      "metadata": {
        "colab": {
          "base_uri": "https://localhost:8080/"
        },
        "id": "L5iCZjA5re-P",
        "outputId": "419397d5-a80b-4732-f3c2-c9e8b17dea14"
      },
      "execution_count": 114,
      "outputs": [
        {
          "output_type": "stream",
          "name": "stderr",
          "text": [
            "/usr/local/lib/python3.7/dist-packages/ipykernel_launcher.py:1: SettingWithCopyWarning: \n",
            "A value is trying to be set on a copy of a slice from a DataFrame.\n",
            "Try using .loc[row_indexer,col_indexer] = value instead\n",
            "\n",
            "See the caveats in the documentation: https://pandas.pydata.org/pandas-docs/stable/user_guide/indexing.html#returning-a-view-versus-a-copy\n",
            "  \"\"\"Entry point for launching an IPython kernel.\n"
          ]
        }
      ]
    },
    {
      "cell_type": "code",
      "source": [
        "# spelling correction"
      ],
      "metadata": {
        "id": "kRtcBVvU69zc"
      },
      "execution_count": 115,
      "outputs": []
    },
    {
      "cell_type": "code",
      "source": [
        "from textblob import TextBlob"
      ],
      "metadata": {
        "id": "sjsqc0wY7FrW"
      },
      "execution_count": 116,
      "outputs": []
    },
    {
      "cell_type": "code",
      "source": [
        "incorrect_text=\"certain conditionas during several ggenerations aare moodified in the saame process\""
      ],
      "metadata": {
        "id": "rptZZ1Qh7P3j"
      },
      "execution_count": 117,
      "outputs": []
    },
    {
      "cell_type": "code",
      "source": [
        "textblb=TextBlob(incorrect_text)\n",
        "textblb.correct().string"
      ],
      "metadata": {
        "colab": {
          "base_uri": "https://localhost:8080/",
          "height": 36
        },
        "id": "KwDVcxCO7jZ7",
        "outputId": "6047de75-afbe-4730-bb42-ee704b16a8c6"
      },
      "execution_count": 118,
      "outputs": [
        {
          "output_type": "execute_result",
          "data": {
            "text/plain": [
              "'certain conditions during several generations are modified in the same process'"
            ],
            "application/vnd.google.colaboratory.intrinsic+json": {
              "type": "string"
            }
          },
          "metadata": {},
          "execution_count": 118
        }
      ]
    },
    {
      "cell_type": "code",
      "source": [
        "limited_data['overview']=limited_data['overview'].apply(TextBlob.correct)  #time taking"
      ],
      "metadata": {
        "colab": {
          "base_uri": "https://localhost:8080/",
          "height": 323
        },
        "id": "DMeOrq707viX",
        "outputId": "608d764e-bc98-4c51-fbaf-73b7ea61249b"
      },
      "execution_count": 122,
      "outputs": [
        {
          "output_type": "error",
          "ename": "KeyboardInterrupt",
          "evalue": "ignored",
          "traceback": [
            "\u001b[0;31m---------------------------------------------------------------------------\u001b[0m",
            "\u001b[0;31mKeyboardInterrupt\u001b[0m                         Traceback (most recent call last)",
            "\u001b[0;32m<ipython-input-122-5ac063733bba>\u001b[0m in \u001b[0;36m<module>\u001b[0;34m\u001b[0m\n\u001b[0;32m----> 1\u001b[0;31m \u001b[0mlimited_data\u001b[0m\u001b[0;34m[\u001b[0m\u001b[0;34m'overview'\u001b[0m\u001b[0;34m]\u001b[0m\u001b[0;34m=\u001b[0m\u001b[0mlimited_data\u001b[0m\u001b[0;34m[\u001b[0m\u001b[0;34m'overview'\u001b[0m\u001b[0;34m]\u001b[0m\u001b[0;34m.\u001b[0m\u001b[0mapply\u001b[0m\u001b[0;34m(\u001b[0m\u001b[0mTextBlob\u001b[0m\u001b[0;34m.\u001b[0m\u001b[0mcorrect\u001b[0m\u001b[0;34m)\u001b[0m\u001b[0;34m\u001b[0m\u001b[0;34m\u001b[0m\u001b[0m\n\u001b[0m",
            "\u001b[0;32m/usr/local/lib/python3.7/dist-packages/pandas/core/series.py\u001b[0m in \u001b[0;36mapply\u001b[0;34m(self, func, convert_dtype, args, **kwargs)\u001b[0m\n\u001b[1;32m   4355\u001b[0m         \u001b[0mdtype\u001b[0m\u001b[0;34m:\u001b[0m \u001b[0mfloat64\u001b[0m\u001b[0;34m\u001b[0m\u001b[0;34m\u001b[0m\u001b[0m\n\u001b[1;32m   4356\u001b[0m         \"\"\"\n\u001b[0;32m-> 4357\u001b[0;31m         \u001b[0;32mreturn\u001b[0m \u001b[0mSeriesApply\u001b[0m\u001b[0;34m(\u001b[0m\u001b[0mself\u001b[0m\u001b[0;34m,\u001b[0m \u001b[0mfunc\u001b[0m\u001b[0;34m,\u001b[0m \u001b[0mconvert_dtype\u001b[0m\u001b[0;34m,\u001b[0m \u001b[0margs\u001b[0m\u001b[0;34m,\u001b[0m \u001b[0mkwargs\u001b[0m\u001b[0;34m)\u001b[0m\u001b[0;34m.\u001b[0m\u001b[0mapply\u001b[0m\u001b[0;34m(\u001b[0m\u001b[0;34m)\u001b[0m\u001b[0;34m\u001b[0m\u001b[0;34m\u001b[0m\u001b[0m\n\u001b[0m\u001b[1;32m   4358\u001b[0m \u001b[0;34m\u001b[0m\u001b[0m\n\u001b[1;32m   4359\u001b[0m     def _reduce(\n",
            "\u001b[0;32m/usr/local/lib/python3.7/dist-packages/pandas/core/apply.py\u001b[0m in \u001b[0;36mapply\u001b[0;34m(self)\u001b[0m\n\u001b[1;32m   1041\u001b[0m             \u001b[0;32mreturn\u001b[0m \u001b[0mself\u001b[0m\u001b[0;34m.\u001b[0m\u001b[0mapply_str\u001b[0m\u001b[0;34m(\u001b[0m\u001b[0;34m)\u001b[0m\u001b[0;34m\u001b[0m\u001b[0;34m\u001b[0m\u001b[0m\n\u001b[1;32m   1042\u001b[0m \u001b[0;34m\u001b[0m\u001b[0m\n\u001b[0;32m-> 1043\u001b[0;31m         \u001b[0;32mreturn\u001b[0m \u001b[0mself\u001b[0m\u001b[0;34m.\u001b[0m\u001b[0mapply_standard\u001b[0m\u001b[0;34m(\u001b[0m\u001b[0;34m)\u001b[0m\u001b[0;34m\u001b[0m\u001b[0;34m\u001b[0m\u001b[0m\n\u001b[0m\u001b[1;32m   1044\u001b[0m \u001b[0;34m\u001b[0m\u001b[0m\n\u001b[1;32m   1045\u001b[0m     \u001b[0;32mdef\u001b[0m \u001b[0magg\u001b[0m\u001b[0;34m(\u001b[0m\u001b[0mself\u001b[0m\u001b[0;34m)\u001b[0m\u001b[0;34m:\u001b[0m\u001b[0;34m\u001b[0m\u001b[0;34m\u001b[0m\u001b[0m\n",
            "\u001b[0;32m/usr/local/lib/python3.7/dist-packages/pandas/core/apply.py\u001b[0m in \u001b[0;36mapply_standard\u001b[0;34m(self)\u001b[0m\n\u001b[1;32m   1099\u001b[0m                     \u001b[0mvalues\u001b[0m\u001b[0;34m,\u001b[0m\u001b[0;34m\u001b[0m\u001b[0;34m\u001b[0m\u001b[0m\n\u001b[1;32m   1100\u001b[0m                     \u001b[0mf\u001b[0m\u001b[0;34m,\u001b[0m  \u001b[0;31m# type: ignore[arg-type]\u001b[0m\u001b[0;34m\u001b[0m\u001b[0;34m\u001b[0m\u001b[0m\n\u001b[0;32m-> 1101\u001b[0;31m                     \u001b[0mconvert\u001b[0m\u001b[0;34m=\u001b[0m\u001b[0mself\u001b[0m\u001b[0;34m.\u001b[0m\u001b[0mconvert_dtype\u001b[0m\u001b[0;34m,\u001b[0m\u001b[0;34m\u001b[0m\u001b[0;34m\u001b[0m\u001b[0m\n\u001b[0m\u001b[1;32m   1102\u001b[0m                 )\n\u001b[1;32m   1103\u001b[0m \u001b[0;34m\u001b[0m\u001b[0m\n",
            "\u001b[0;32m/usr/local/lib/python3.7/dist-packages/pandas/_libs/lib.pyx\u001b[0m in \u001b[0;36mpandas._libs.lib.map_infer\u001b[0;34m()\u001b[0m\n",
            "\u001b[0;32m/usr/local/lib/python3.7/dist-packages/textblob/blob.py\u001b[0m in \u001b[0;36mcorrect\u001b[0;34m(self)\u001b[0m\n\u001b[1;32m    578\u001b[0m         \u001b[0mtokens\u001b[0m \u001b[0;34m=\u001b[0m \u001b[0mnltk\u001b[0m\u001b[0;34m.\u001b[0m\u001b[0mtokenize\u001b[0m\u001b[0;34m.\u001b[0m\u001b[0mregexp_tokenize\u001b[0m\u001b[0;34m(\u001b[0m\u001b[0mself\u001b[0m\u001b[0;34m.\u001b[0m\u001b[0mraw\u001b[0m\u001b[0;34m,\u001b[0m \u001b[0;34mr\"\\w+|[^\\w\\s]|\\s\"\u001b[0m\u001b[0;34m)\u001b[0m\u001b[0;34m\u001b[0m\u001b[0;34m\u001b[0m\u001b[0m\n\u001b[1;32m    579\u001b[0m         \u001b[0mcorrected\u001b[0m \u001b[0;34m=\u001b[0m \u001b[0;34m(\u001b[0m\u001b[0mWord\u001b[0m\u001b[0;34m(\u001b[0m\u001b[0mw\u001b[0m\u001b[0;34m)\u001b[0m\u001b[0;34m.\u001b[0m\u001b[0mcorrect\u001b[0m\u001b[0;34m(\u001b[0m\u001b[0;34m)\u001b[0m \u001b[0;32mfor\u001b[0m \u001b[0mw\u001b[0m \u001b[0;32min\u001b[0m \u001b[0mtokens\u001b[0m\u001b[0;34m)\u001b[0m\u001b[0;34m\u001b[0m\u001b[0;34m\u001b[0m\u001b[0m\n\u001b[0;32m--> 580\u001b[0;31m         \u001b[0mret\u001b[0m \u001b[0;34m=\u001b[0m \u001b[0;34m''\u001b[0m\u001b[0;34m.\u001b[0m\u001b[0mjoin\u001b[0m\u001b[0;34m(\u001b[0m\u001b[0mcorrected\u001b[0m\u001b[0;34m)\u001b[0m\u001b[0;34m\u001b[0m\u001b[0;34m\u001b[0m\u001b[0m\n\u001b[0m\u001b[1;32m    581\u001b[0m         \u001b[0;32mreturn\u001b[0m \u001b[0mself\u001b[0m\u001b[0;34m.\u001b[0m\u001b[0m__class__\u001b[0m\u001b[0;34m(\u001b[0m\u001b[0mret\u001b[0m\u001b[0;34m)\u001b[0m\u001b[0;34m\u001b[0m\u001b[0;34m\u001b[0m\u001b[0m\n\u001b[1;32m    582\u001b[0m \u001b[0;34m\u001b[0m\u001b[0m\n",
            "\u001b[0;32m/usr/local/lib/python3.7/dist-packages/textblob/blob.py\u001b[0m in \u001b[0;36m<genexpr>\u001b[0;34m(.0)\u001b[0m\n\u001b[1;32m    577\u001b[0m         \u001b[0;31m# regex matches: word or punctuation or whitespace\u001b[0m\u001b[0;34m\u001b[0m\u001b[0;34m\u001b[0m\u001b[0;34m\u001b[0m\u001b[0m\n\u001b[1;32m    578\u001b[0m         \u001b[0mtokens\u001b[0m \u001b[0;34m=\u001b[0m \u001b[0mnltk\u001b[0m\u001b[0;34m.\u001b[0m\u001b[0mtokenize\u001b[0m\u001b[0;34m.\u001b[0m\u001b[0mregexp_tokenize\u001b[0m\u001b[0;34m(\u001b[0m\u001b[0mself\u001b[0m\u001b[0;34m.\u001b[0m\u001b[0mraw\u001b[0m\u001b[0;34m,\u001b[0m \u001b[0;34mr\"\\w+|[^\\w\\s]|\\s\"\u001b[0m\u001b[0;34m)\u001b[0m\u001b[0;34m\u001b[0m\u001b[0;34m\u001b[0m\u001b[0m\n\u001b[0;32m--> 579\u001b[0;31m         \u001b[0mcorrected\u001b[0m \u001b[0;34m=\u001b[0m \u001b[0;34m(\u001b[0m\u001b[0mWord\u001b[0m\u001b[0;34m(\u001b[0m\u001b[0mw\u001b[0m\u001b[0;34m)\u001b[0m\u001b[0;34m.\u001b[0m\u001b[0mcorrect\u001b[0m\u001b[0;34m(\u001b[0m\u001b[0;34m)\u001b[0m \u001b[0;32mfor\u001b[0m \u001b[0mw\u001b[0m \u001b[0;32min\u001b[0m \u001b[0mtokens\u001b[0m\u001b[0;34m)\u001b[0m\u001b[0;34m\u001b[0m\u001b[0;34m\u001b[0m\u001b[0m\n\u001b[0m\u001b[1;32m    580\u001b[0m         \u001b[0mret\u001b[0m \u001b[0;34m=\u001b[0m \u001b[0;34m''\u001b[0m\u001b[0;34m.\u001b[0m\u001b[0mjoin\u001b[0m\u001b[0;34m(\u001b[0m\u001b[0mcorrected\u001b[0m\u001b[0;34m)\u001b[0m\u001b[0;34m\u001b[0m\u001b[0;34m\u001b[0m\u001b[0m\n\u001b[1;32m    581\u001b[0m         \u001b[0;32mreturn\u001b[0m \u001b[0mself\u001b[0m\u001b[0;34m.\u001b[0m\u001b[0m__class__\u001b[0m\u001b[0;34m(\u001b[0m\u001b[0mret\u001b[0m\u001b[0;34m)\u001b[0m\u001b[0;34m\u001b[0m\u001b[0;34m\u001b[0m\u001b[0m\n",
            "\u001b[0;32m/usr/local/lib/python3.7/dist-packages/textblob/blob.py\u001b[0m in \u001b[0;36mcorrect\u001b[0;34m(self)\u001b[0m\n\u001b[1;32m    125\u001b[0m         \u001b[0;34m.\u001b[0m\u001b[0;34m.\u001b[0m \u001b[0mversionadded\u001b[0m\u001b[0;34m:\u001b[0m\u001b[0;34m:\u001b[0m \u001b[0;36m0.6\u001b[0m\u001b[0;36m.0\u001b[0m\u001b[0;34m\u001b[0m\u001b[0;34m\u001b[0m\u001b[0m\n\u001b[1;32m    126\u001b[0m         '''\n\u001b[0;32m--> 127\u001b[0;31m         \u001b[0;32mreturn\u001b[0m \u001b[0mWord\u001b[0m\u001b[0;34m(\u001b[0m\u001b[0mself\u001b[0m\u001b[0;34m.\u001b[0m\u001b[0mspellcheck\u001b[0m\u001b[0;34m(\u001b[0m\u001b[0;34m)\u001b[0m\u001b[0;34m[\u001b[0m\u001b[0;36m0\u001b[0m\u001b[0;34m]\u001b[0m\u001b[0;34m[\u001b[0m\u001b[0;36m0\u001b[0m\u001b[0;34m]\u001b[0m\u001b[0;34m)\u001b[0m\u001b[0;34m\u001b[0m\u001b[0;34m\u001b[0m\u001b[0m\n\u001b[0m\u001b[1;32m    128\u001b[0m \u001b[0;34m\u001b[0m\u001b[0m\n\u001b[1;32m    129\u001b[0m     \u001b[0;34m@\u001b[0m\u001b[0mcached_property\u001b[0m\u001b[0;34m\u001b[0m\u001b[0;34m\u001b[0m\u001b[0m\n",
            "\u001b[0;32m/usr/local/lib/python3.7/dist-packages/textblob/blob.py\u001b[0m in \u001b[0;36mspellcheck\u001b[0;34m(self)\u001b[0m\n\u001b[1;32m    117\u001b[0m         \u001b[0;34m.\u001b[0m\u001b[0;34m.\u001b[0m \u001b[0mversionadded\u001b[0m\u001b[0;34m:\u001b[0m\u001b[0;34m:\u001b[0m \u001b[0;36m0.6\u001b[0m\u001b[0;36m.0\u001b[0m\u001b[0;34m\u001b[0m\u001b[0;34m\u001b[0m\u001b[0m\n\u001b[1;32m    118\u001b[0m         '''\n\u001b[0;32m--> 119\u001b[0;31m         \u001b[0;32mreturn\u001b[0m \u001b[0msuggest\u001b[0m\u001b[0;34m(\u001b[0m\u001b[0mself\u001b[0m\u001b[0;34m.\u001b[0m\u001b[0mstring\u001b[0m\u001b[0;34m)\u001b[0m\u001b[0;34m\u001b[0m\u001b[0;34m\u001b[0m\u001b[0m\n\u001b[0m\u001b[1;32m    120\u001b[0m \u001b[0;34m\u001b[0m\u001b[0m\n\u001b[1;32m    121\u001b[0m     \u001b[0;32mdef\u001b[0m \u001b[0mcorrect\u001b[0m\u001b[0;34m(\u001b[0m\u001b[0mself\u001b[0m\u001b[0;34m)\u001b[0m\u001b[0;34m:\u001b[0m\u001b[0;34m\u001b[0m\u001b[0;34m\u001b[0m\u001b[0m\n",
            "\u001b[0;32m/usr/local/lib/python3.7/dist-packages/textblob/en/__init__.py\u001b[0m in \u001b[0;36msuggest\u001b[0;34m(w)\u001b[0m\n\u001b[1;32m    121\u001b[0m     \"\"\" Returns a list of (word, confidence)-tuples of spelling corrections.\n\u001b[1;32m    122\u001b[0m     \"\"\"\n\u001b[0;32m--> 123\u001b[0;31m     \u001b[0;32mreturn\u001b[0m \u001b[0mspelling\u001b[0m\u001b[0;34m.\u001b[0m\u001b[0msuggest\u001b[0m\u001b[0;34m(\u001b[0m\u001b[0mw\u001b[0m\u001b[0;34m)\u001b[0m\u001b[0;34m\u001b[0m\u001b[0;34m\u001b[0m\u001b[0m\n\u001b[0m\u001b[1;32m    124\u001b[0m \u001b[0;34m\u001b[0m\u001b[0m\n\u001b[1;32m    125\u001b[0m \u001b[0;32mdef\u001b[0m \u001b[0mpolarity\u001b[0m\u001b[0;34m(\u001b[0m\u001b[0ms\u001b[0m\u001b[0;34m,\u001b[0m \u001b[0;34m**\u001b[0m\u001b[0mkwargs\u001b[0m\u001b[0;34m)\u001b[0m\u001b[0;34m:\u001b[0m\u001b[0;34m\u001b[0m\u001b[0;34m\u001b[0m\u001b[0m\n",
            "\u001b[0;32m/usr/local/lib/python3.7/dist-packages/textblob/_text.py\u001b[0m in \u001b[0;36msuggest\u001b[0;34m(self, w)\u001b[0m\n\u001b[1;32m   1396\u001b[0m         \u001b[0mcandidates\u001b[0m \u001b[0;34m=\u001b[0m \u001b[0mself\u001b[0m\u001b[0;34m.\u001b[0m\u001b[0m_known\u001b[0m\u001b[0;34m(\u001b[0m\u001b[0;34m[\u001b[0m\u001b[0mw\u001b[0m\u001b[0;34m]\u001b[0m\u001b[0;34m)\u001b[0m\u001b[0;31m \u001b[0m\u001b[0;31m\\\u001b[0m\u001b[0;34m\u001b[0m\u001b[0;34m\u001b[0m\u001b[0m\n\u001b[1;32m   1397\u001b[0m                   \u001b[0;32mor\u001b[0m \u001b[0mself\u001b[0m\u001b[0;34m.\u001b[0m\u001b[0m_known\u001b[0m\u001b[0;34m(\u001b[0m\u001b[0mself\u001b[0m\u001b[0;34m.\u001b[0m\u001b[0m_edit1\u001b[0m\u001b[0;34m(\u001b[0m\u001b[0mw\u001b[0m\u001b[0;34m)\u001b[0m\u001b[0;34m)\u001b[0m\u001b[0;31m \u001b[0m\u001b[0;31m\\\u001b[0m\u001b[0;34m\u001b[0m\u001b[0;34m\u001b[0m\u001b[0m\n\u001b[0;32m-> 1398\u001b[0;31m                   \u001b[0;32mor\u001b[0m \u001b[0mself\u001b[0m\u001b[0;34m.\u001b[0m\u001b[0m_known\u001b[0m\u001b[0;34m(\u001b[0m\u001b[0mself\u001b[0m\u001b[0;34m.\u001b[0m\u001b[0m_edit2\u001b[0m\u001b[0;34m(\u001b[0m\u001b[0mw\u001b[0m\u001b[0;34m)\u001b[0m\u001b[0;34m)\u001b[0m\u001b[0;31m \u001b[0m\u001b[0;31m\\\u001b[0m\u001b[0;34m\u001b[0m\u001b[0;34m\u001b[0m\u001b[0m\n\u001b[0m\u001b[1;32m   1399\u001b[0m                   \u001b[0;32mor\u001b[0m \u001b[0;34m[\u001b[0m\u001b[0mw\u001b[0m\u001b[0;34m]\u001b[0m\u001b[0;34m\u001b[0m\u001b[0;34m\u001b[0m\u001b[0m\n\u001b[1;32m   1400\u001b[0m         \u001b[0mcandidates\u001b[0m \u001b[0;34m=\u001b[0m \u001b[0;34m[\u001b[0m\u001b[0;34m(\u001b[0m\u001b[0mself\u001b[0m\u001b[0;34m.\u001b[0m\u001b[0mget\u001b[0m\u001b[0;34m(\u001b[0m\u001b[0mc\u001b[0m\u001b[0;34m,\u001b[0m \u001b[0;36m0.0\u001b[0m\u001b[0;34m)\u001b[0m\u001b[0;34m,\u001b[0m \u001b[0mc\u001b[0m\u001b[0;34m)\u001b[0m \u001b[0;32mfor\u001b[0m \u001b[0mc\u001b[0m \u001b[0;32min\u001b[0m \u001b[0mcandidates\u001b[0m\u001b[0;34m]\u001b[0m\u001b[0;34m\u001b[0m\u001b[0;34m\u001b[0m\u001b[0m\n",
            "\u001b[0;32m/usr/local/lib/python3.7/dist-packages/textblob/_text.py\u001b[0m in \u001b[0;36m_edit2\u001b[0;34m(self, w)\u001b[0m\n\u001b[1;32m   1373\u001b[0m         \u001b[0;31m# Of all spelling errors, 99% is covered by edit distance 2.\u001b[0m\u001b[0;34m\u001b[0m\u001b[0;34m\u001b[0m\u001b[0;34m\u001b[0m\u001b[0m\n\u001b[1;32m   1374\u001b[0m         \u001b[0;31m# Only keep candidates that are actually known words (20% speedup).\u001b[0m\u001b[0;34m\u001b[0m\u001b[0;34m\u001b[0m\u001b[0;34m\u001b[0m\u001b[0m\n\u001b[0;32m-> 1375\u001b[0;31m         \u001b[0;32mreturn\u001b[0m \u001b[0mset\u001b[0m\u001b[0;34m(\u001b[0m\u001b[0me2\u001b[0m \u001b[0;32mfor\u001b[0m \u001b[0me1\u001b[0m \u001b[0;32min\u001b[0m \u001b[0mself\u001b[0m\u001b[0;34m.\u001b[0m\u001b[0m_edit1\u001b[0m\u001b[0;34m(\u001b[0m\u001b[0mw\u001b[0m\u001b[0;34m)\u001b[0m \u001b[0;32mfor\u001b[0m \u001b[0me2\u001b[0m \u001b[0;32min\u001b[0m \u001b[0mself\u001b[0m\u001b[0;34m.\u001b[0m\u001b[0m_edit1\u001b[0m\u001b[0;34m(\u001b[0m\u001b[0me1\u001b[0m\u001b[0;34m)\u001b[0m \u001b[0;32mif\u001b[0m \u001b[0me2\u001b[0m \u001b[0;32min\u001b[0m \u001b[0mself\u001b[0m\u001b[0;34m)\u001b[0m\u001b[0;34m\u001b[0m\u001b[0;34m\u001b[0m\u001b[0m\n\u001b[0m\u001b[1;32m   1376\u001b[0m \u001b[0;34m\u001b[0m\u001b[0m\n\u001b[1;32m   1377\u001b[0m     \u001b[0;32mdef\u001b[0m \u001b[0m_known\u001b[0m\u001b[0;34m(\u001b[0m\u001b[0mself\u001b[0m\u001b[0;34m,\u001b[0m \u001b[0mwords\u001b[0m\u001b[0;34m=\u001b[0m\u001b[0;34m[\u001b[0m\u001b[0;34m]\u001b[0m\u001b[0;34m)\u001b[0m\u001b[0;34m:\u001b[0m\u001b[0;34m\u001b[0m\u001b[0;34m\u001b[0m\u001b[0m\n",
            "\u001b[0;32m/usr/local/lib/python3.7/dist-packages/textblob/_text.py\u001b[0m in \u001b[0;36m<genexpr>\u001b[0;34m(.0)\u001b[0m\n\u001b[1;32m   1373\u001b[0m         \u001b[0;31m# Of all spelling errors, 99% is covered by edit distance 2.\u001b[0m\u001b[0;34m\u001b[0m\u001b[0;34m\u001b[0m\u001b[0;34m\u001b[0m\u001b[0m\n\u001b[1;32m   1374\u001b[0m         \u001b[0;31m# Only keep candidates that are actually known words (20% speedup).\u001b[0m\u001b[0;34m\u001b[0m\u001b[0;34m\u001b[0m\u001b[0;34m\u001b[0m\u001b[0m\n\u001b[0;32m-> 1375\u001b[0;31m         \u001b[0;32mreturn\u001b[0m \u001b[0mset\u001b[0m\u001b[0;34m(\u001b[0m\u001b[0me2\u001b[0m \u001b[0;32mfor\u001b[0m \u001b[0me1\u001b[0m \u001b[0;32min\u001b[0m \u001b[0mself\u001b[0m\u001b[0;34m.\u001b[0m\u001b[0m_edit1\u001b[0m\u001b[0;34m(\u001b[0m\u001b[0mw\u001b[0m\u001b[0;34m)\u001b[0m \u001b[0;32mfor\u001b[0m \u001b[0me2\u001b[0m \u001b[0;32min\u001b[0m \u001b[0mself\u001b[0m\u001b[0;34m.\u001b[0m\u001b[0m_edit1\u001b[0m\u001b[0;34m(\u001b[0m\u001b[0me1\u001b[0m\u001b[0;34m)\u001b[0m \u001b[0;32mif\u001b[0m \u001b[0me2\u001b[0m \u001b[0;32min\u001b[0m \u001b[0mself\u001b[0m\u001b[0;34m)\u001b[0m\u001b[0;34m\u001b[0m\u001b[0;34m\u001b[0m\u001b[0m\n\u001b[0m\u001b[1;32m   1376\u001b[0m \u001b[0;34m\u001b[0m\u001b[0m\n\u001b[1;32m   1377\u001b[0m     \u001b[0;32mdef\u001b[0m \u001b[0m_known\u001b[0m\u001b[0;34m(\u001b[0m\u001b[0mself\u001b[0m\u001b[0;34m,\u001b[0m \u001b[0mwords\u001b[0m\u001b[0;34m=\u001b[0m\u001b[0;34m[\u001b[0m\u001b[0;34m]\u001b[0m\u001b[0;34m)\u001b[0m\u001b[0;34m:\u001b[0m\u001b[0;34m\u001b[0m\u001b[0;34m\u001b[0m\u001b[0m\n",
            "\u001b[0;32m/usr/local/lib/python3.7/dist-packages/textblob/_text.py\u001b[0m in \u001b[0;36m__contains__\u001b[0;34m(self, *args)\u001b[0m\n\u001b[1;32m     94\u001b[0m         \u001b[0;32mreturn\u001b[0m \u001b[0mself\u001b[0m\u001b[0;34m.\u001b[0m\u001b[0m_lazy\u001b[0m\u001b[0;34m(\u001b[0m\u001b[0;34m\"__iter__\"\u001b[0m\u001b[0;34m)\u001b[0m\u001b[0;34m\u001b[0m\u001b[0;34m\u001b[0m\u001b[0m\n\u001b[1;32m     95\u001b[0m     \u001b[0;32mdef\u001b[0m \u001b[0m__contains__\u001b[0m\u001b[0;34m(\u001b[0m\u001b[0mself\u001b[0m\u001b[0;34m,\u001b[0m \u001b[0;34m*\u001b[0m\u001b[0margs\u001b[0m\u001b[0;34m)\u001b[0m\u001b[0;34m:\u001b[0m\u001b[0;34m\u001b[0m\u001b[0;34m\u001b[0m\u001b[0m\n\u001b[0;32m---> 96\u001b[0;31m         \u001b[0;32mreturn\u001b[0m \u001b[0mself\u001b[0m\u001b[0;34m.\u001b[0m\u001b[0m_lazy\u001b[0m\u001b[0;34m(\u001b[0m\u001b[0;34m\"__contains__\"\u001b[0m\u001b[0;34m,\u001b[0m \u001b[0;34m*\u001b[0m\u001b[0margs\u001b[0m\u001b[0;34m)\u001b[0m\u001b[0;34m\u001b[0m\u001b[0;34m\u001b[0m\u001b[0m\n\u001b[0m\u001b[1;32m     97\u001b[0m     \u001b[0;32mdef\u001b[0m \u001b[0m__getitem__\u001b[0m\u001b[0;34m(\u001b[0m\u001b[0mself\u001b[0m\u001b[0;34m,\u001b[0m \u001b[0;34m*\u001b[0m\u001b[0margs\u001b[0m\u001b[0;34m)\u001b[0m\u001b[0;34m:\u001b[0m\u001b[0;34m\u001b[0m\u001b[0;34m\u001b[0m\u001b[0m\n\u001b[1;32m     98\u001b[0m         \u001b[0;32mreturn\u001b[0m \u001b[0mself\u001b[0m\u001b[0;34m.\u001b[0m\u001b[0m_lazy\u001b[0m\u001b[0;34m(\u001b[0m\u001b[0;34m\"__getitem__\"\u001b[0m\u001b[0;34m,\u001b[0m \u001b[0;34m*\u001b[0m\u001b[0margs\u001b[0m\u001b[0;34m)\u001b[0m\u001b[0;34m\u001b[0m\u001b[0;34m\u001b[0m\u001b[0m\n",
            "\u001b[0;31mKeyboardInterrupt\u001b[0m: "
          ]
        }
      ]
    },
    {
      "cell_type": "code",
      "source": [
        "limited_data['overview'][0]"
      ],
      "metadata": {
        "colab": {
          "base_uri": "https://localhost:8080/"
        },
        "id": "2XC0NjLx8EQ-",
        "outputId": "146ed939-d443-484d-b416-eb2cb8c5e9b6"
      },
      "execution_count": 123,
      "outputs": [
        {
          "output_type": "execute_result",
          "data": {
            "text/plain": [
              "TextBlob(\"yeondu asks her best friend bora to collect all the information she can about baek hyunjin while she is away in the us for heart surgery bora decides to get close to baeks best friend pung woonho first however boras clumsy plan unfolds in an unexpected direction in 1999 a year before the new century bora who turns seventeen falls into the fever of first love\")"
            ]
          },
          "metadata": {},
          "execution_count": 123
        }
      ]
    },
    {
      "cell_type": "code",
      "source": [
        "!pip install nltk"
      ],
      "metadata": {
        "colab": {
          "base_uri": "https://localhost:8080/"
        },
        "id": "9bpZ47a1A8Lf",
        "outputId": "0d7bc894-6d01-4da3-a929-b5eb82455205"
      },
      "execution_count": 125,
      "outputs": [
        {
          "output_type": "stream",
          "name": "stdout",
          "text": [
            "Looking in indexes: https://pypi.org/simple, https://us-python.pkg.dev/colab-wheels/public/simple/\n",
            "Requirement already satisfied: nltk in /usr/local/lib/python3.7/dist-packages (3.7)\n",
            "Requirement already satisfied: click in /usr/local/lib/python3.7/dist-packages (from nltk) (7.1.2)\n",
            "Requirement already satisfied: regex>=2021.8.3 in /usr/local/lib/python3.7/dist-packages (from nltk) (2022.6.2)\n",
            "Requirement already satisfied: joblib in /usr/local/lib/python3.7/dist-packages (from nltk) (1.2.0)\n",
            "Requirement already satisfied: tqdm in /usr/local/lib/python3.7/dist-packages (from nltk) (4.64.1)\n"
          ]
        }
      ]
    },
    {
      "cell_type": "code",
      "source": [
        "#Removing Stop words\n",
        "import nltk\n",
        "nltk.download('stopwords')\n",
        "from nltk.corpus import stopwords\n",
        "stopwords.words('english')"
      ],
      "metadata": {
        "colab": {
          "base_uri": "https://localhost:8080/"
        },
        "id": "hhcVYkE28O_6",
        "outputId": "2b2ea224-b0b4-4d14-bb0d-b2ec05f62637"
      },
      "execution_count": 128,
      "outputs": [
        {
          "output_type": "stream",
          "name": "stderr",
          "text": [
            "[nltk_data] Downloading package stopwords to /root/nltk_data...\n",
            "[nltk_data]   Unzipping corpora/stopwords.zip.\n"
          ]
        },
        {
          "output_type": "execute_result",
          "data": {
            "text/plain": [
              "['i',\n",
              " 'me',\n",
              " 'my',\n",
              " 'myself',\n",
              " 'we',\n",
              " 'our',\n",
              " 'ours',\n",
              " 'ourselves',\n",
              " 'you',\n",
              " \"you're\",\n",
              " \"you've\",\n",
              " \"you'll\",\n",
              " \"you'd\",\n",
              " 'your',\n",
              " 'yours',\n",
              " 'yourself',\n",
              " 'yourselves',\n",
              " 'he',\n",
              " 'him',\n",
              " 'his',\n",
              " 'himself',\n",
              " 'she',\n",
              " \"she's\",\n",
              " 'her',\n",
              " 'hers',\n",
              " 'herself',\n",
              " 'it',\n",
              " \"it's\",\n",
              " 'its',\n",
              " 'itself',\n",
              " 'they',\n",
              " 'them',\n",
              " 'their',\n",
              " 'theirs',\n",
              " 'themselves',\n",
              " 'what',\n",
              " 'which',\n",
              " 'who',\n",
              " 'whom',\n",
              " 'this',\n",
              " 'that',\n",
              " \"that'll\",\n",
              " 'these',\n",
              " 'those',\n",
              " 'am',\n",
              " 'is',\n",
              " 'are',\n",
              " 'was',\n",
              " 'were',\n",
              " 'be',\n",
              " 'been',\n",
              " 'being',\n",
              " 'have',\n",
              " 'has',\n",
              " 'had',\n",
              " 'having',\n",
              " 'do',\n",
              " 'does',\n",
              " 'did',\n",
              " 'doing',\n",
              " 'a',\n",
              " 'an',\n",
              " 'the',\n",
              " 'and',\n",
              " 'but',\n",
              " 'if',\n",
              " 'or',\n",
              " 'because',\n",
              " 'as',\n",
              " 'until',\n",
              " 'while',\n",
              " 'of',\n",
              " 'at',\n",
              " 'by',\n",
              " 'for',\n",
              " 'with',\n",
              " 'about',\n",
              " 'against',\n",
              " 'between',\n",
              " 'into',\n",
              " 'through',\n",
              " 'during',\n",
              " 'before',\n",
              " 'after',\n",
              " 'above',\n",
              " 'below',\n",
              " 'to',\n",
              " 'from',\n",
              " 'up',\n",
              " 'down',\n",
              " 'in',\n",
              " 'out',\n",
              " 'on',\n",
              " 'off',\n",
              " 'over',\n",
              " 'under',\n",
              " 'again',\n",
              " 'further',\n",
              " 'then',\n",
              " 'once',\n",
              " 'here',\n",
              " 'there',\n",
              " 'when',\n",
              " 'where',\n",
              " 'why',\n",
              " 'how',\n",
              " 'all',\n",
              " 'any',\n",
              " 'both',\n",
              " 'each',\n",
              " 'few',\n",
              " 'more',\n",
              " 'most',\n",
              " 'other',\n",
              " 'some',\n",
              " 'such',\n",
              " 'no',\n",
              " 'nor',\n",
              " 'not',\n",
              " 'only',\n",
              " 'own',\n",
              " 'same',\n",
              " 'so',\n",
              " 'than',\n",
              " 'too',\n",
              " 'very',\n",
              " 's',\n",
              " 't',\n",
              " 'can',\n",
              " 'will',\n",
              " 'just',\n",
              " 'don',\n",
              " \"don't\",\n",
              " 'should',\n",
              " \"should've\",\n",
              " 'now',\n",
              " 'd',\n",
              " 'll',\n",
              " 'm',\n",
              " 'o',\n",
              " 're',\n",
              " 've',\n",
              " 'y',\n",
              " 'ain',\n",
              " 'aren',\n",
              " \"aren't\",\n",
              " 'couldn',\n",
              " \"couldn't\",\n",
              " 'didn',\n",
              " \"didn't\",\n",
              " 'doesn',\n",
              " \"doesn't\",\n",
              " 'hadn',\n",
              " \"hadn't\",\n",
              " 'hasn',\n",
              " \"hasn't\",\n",
              " 'haven',\n",
              " \"haven't\",\n",
              " 'isn',\n",
              " \"isn't\",\n",
              " 'ma',\n",
              " 'mightn',\n",
              " \"mightn't\",\n",
              " 'mustn',\n",
              " \"mustn't\",\n",
              " 'needn',\n",
              " \"needn't\",\n",
              " 'shan',\n",
              " \"shan't\",\n",
              " 'shouldn',\n",
              " \"shouldn't\",\n",
              " 'wasn',\n",
              " \"wasn't\",\n",
              " 'weren',\n",
              " \"weren't\",\n",
              " 'won',\n",
              " \"won't\",\n",
              " 'wouldn',\n",
              " \"wouldn't\"]"
            ]
          },
          "metadata": {},
          "execution_count": 128
        }
      ]
    },
    {
      "cell_type": "code",
      "source": [
        "def remove_stopwords(text):\n",
        "  new_text=[]\n",
        "\n",
        "  for words in text.split():\n",
        "    if words in stopwords.words('english'):\n",
        "      new_text.append(' ')\n",
        "    else:\n",
        "      new_text.append(words)\n",
        "  x=new_text[:]\n",
        "  new_text.clear()\n",
        "  return \" \".join(x)"
      ],
      "metadata": {
        "id": "sEaP2Ptq8_Vg"
      },
      "execution_count": 129,
      "outputs": []
    },
    {
      "cell_type": "code",
      "source": [
        "remove_stopwords(\"probably my all time favourite movie, a story of  selflessness, sacrifice abd dedication to a noble cause \")"
      ],
      "metadata": {
        "colab": {
          "base_uri": "https://localhost:8080/",
          "height": 36
        },
        "id": "4dVasx7n9vyO",
        "outputId": "6f6f243a-16aa-4053-d3f4-8c39a557800a"
      },
      "execution_count": 130,
      "outputs": [
        {
          "output_type": "execute_result",
          "data": {
            "text/plain": [
              "'probably     time favourite movie,   story   selflessness, sacrifice abd dedication     noble cause'"
            ],
            "application/vnd.google.colaboratory.intrinsic+json": {
              "type": "string"
            }
          },
          "metadata": {},
          "execution_count": 130
        }
      ]
    },
    {
      "cell_type": "code",
      "source": [
        "limited_data['overview']=limited_data['overview'].apply(remove_stopwords)"
      ],
      "metadata": {
        "colab": {
          "base_uri": "https://localhost:8080/"
        },
        "id": "2GT0QU26-B9-",
        "outputId": "8900fae0-be30-4e9c-f133-f4e03fbbc1fb"
      },
      "execution_count": 131,
      "outputs": [
        {
          "output_type": "stream",
          "name": "stderr",
          "text": [
            "/usr/local/lib/python3.7/dist-packages/ipykernel_launcher.py:1: SettingWithCopyWarning: \n",
            "A value is trying to be set on a copy of a slice from a DataFrame.\n",
            "Try using .loc[row_indexer,col_indexer] = value instead\n",
            "\n",
            "See the caveats in the documentation: https://pandas.pydata.org/pandas-docs/stable/user_guide/indexing.html#returning-a-view-versus-a-copy\n",
            "  \"\"\"Entry point for launching an IPython kernel.\n"
          ]
        }
      ]
    },
    {
      "cell_type": "code",
      "source": [
        "limited_data['overview'][0]"
      ],
      "metadata": {
        "colab": {
          "base_uri": "https://localhost:8080/",
          "height": 72
        },
        "id": "Pnkvr9QvBXaM",
        "outputId": "56b392cd-044c-4a4d-e67c-29f731e80e48"
      },
      "execution_count": 132,
      "outputs": [
        {
          "output_type": "execute_result",
          "data": {
            "text/plain": [
              "'yeondu asks   best friend bora   collect     information       baek hyunjin       away     us   heart surgery bora decides   get close   baeks best friend pung woonho first however boras clumsy plan unfolds     unexpected direction   1999   year     new century bora   turns seventeen falls     fever   first love'"
            ],
            "application/vnd.google.colaboratory.intrinsic+json": {
              "type": "string"
            }
          },
          "metadata": {},
          "execution_count": 132
        }
      ]
    },
    {
      "cell_type": "code",
      "source": [
        "#handling Emojis\n",
        "#either remove or use library to transform it to other type\n",
        "!pip install emoji\n",
        "import emoji\n",
        "print(emoji.demojize(\"this is 😀\" ))"
      ],
      "metadata": {
        "colab": {
          "base_uri": "https://localhost:8080/"
        },
        "id": "2drHgo8NBrwi",
        "outputId": "13bc68ac-0462-488d-ef92-c4cc0353280f"
      },
      "execution_count": 135,
      "outputs": [
        {
          "output_type": "stream",
          "name": "stdout",
          "text": [
            "Looking in indexes: https://pypi.org/simple, https://us-python.pkg.dev/colab-wheels/public/simple/\n",
            "Collecting emoji\n",
            "  Downloading emoji-2.2.0.tar.gz (240 kB)\n",
            "\u001b[K     |████████████████████████████████| 240 kB 23.8 MB/s \n",
            "\u001b[?25hBuilding wheels for collected packages: emoji\n",
            "  Building wheel for emoji (setup.py) ... \u001b[?25l\u001b[?25hdone\n",
            "  Created wheel for emoji: filename=emoji-2.2.0-py3-none-any.whl size=234926 sha256=af7cab404330ce5bc3f5758be5fb2d899162b8d466beffaa0fa1af39bbac11be\n",
            "  Stored in directory: /root/.cache/pip/wheels/f3/e3/f2/1de1c2e3ed742e1df73e0f15d58864e50c7e64f607b548d6cf\n",
            "Successfully built emoji\n",
            "Installing collected packages: emoji\n",
            "Successfully installed emoji-2.2.0\n",
            "this is :grinning_face:\n"
          ]
        }
      ]
    },
    {
      "cell_type": "code",
      "source": [
        "print(emoji.demojize(\"this is 😀😅\" ))"
      ],
      "metadata": {
        "colab": {
          "base_uri": "https://localhost:8080/"
        },
        "id": "6SUYE4l4HsEk",
        "outputId": "eaf6704d-7dd6-49db-acfc-e71d44761397"
      },
      "execution_count": 136,
      "outputs": [
        {
          "output_type": "stream",
          "name": "stdout",
          "text": [
            "this is :grinning_face::grinning_face_with_sweat:\n"
          ]
        }
      ]
    },
    {
      "cell_type": "code",
      "source": [
        "def remove_emoji(string):\n",
        "    emoji_pattern = re.compile(\"[\"\n",
        "                           u\"\\U0001F600-\\U0001F64F\"  # emoticons\n",
        "                           u\"\\U0001F300-\\U0001F5FF\"  # symbols & pictographs\n",
        "                           u\"\\U0001F680-\\U0001F6FF\"  # transport & map symbols\n",
        "                           u\"\\U0001F1E0-\\U0001F1FF\"  # flags (iOS)\n",
        "                           u\"\\U00002702-\\U000027B0\"\n",
        "                           u\"\\U000024C2-\\U0001F251\"\n",
        "                           \"]+\", flags=re.UNICODE)\n",
        "    return emoji_pattern.sub(r'', string)"
      ],
      "metadata": {
        "id": "hPgyxFwXHQcs"
      },
      "execution_count": 137,
      "outputs": []
    },
    {
      "cell_type": "code",
      "source": [
        "remove_emoji(\"this is a 😅\")"
      ],
      "metadata": {
        "colab": {
          "base_uri": "https://localhost:8080/",
          "height": 36
        },
        "id": "3BLGIss-H5Fz",
        "outputId": "e06fda78-b97e-4613-ddb0-c7179d0b2914"
      },
      "execution_count": 139,
      "outputs": [
        {
          "output_type": "execute_result",
          "data": {
            "text/plain": [
              "'this is a '"
            ],
            "application/vnd.google.colaboratory.intrinsic+json": {
              "type": "string"
            }
          },
          "metadata": {},
          "execution_count": 139
        }
      ]
    },
    {
      "cell_type": "code",
      "source": [
        "#tokenization\n",
        "#1using split"
      ],
      "metadata": {
        "id": "tdzlhNVxH73D"
      },
      "execution_count": 140,
      "outputs": []
    },
    {
      "cell_type": "code",
      "source": [
        "limited_data['overview'][0].split()"
      ],
      "metadata": {
        "colab": {
          "base_uri": "https://localhost:8080/"
        },
        "id": "OJ1fPO01IDkv",
        "outputId": "4ede96fb-699a-4b0d-9d83-eb4021806978"
      },
      "execution_count": 144,
      "outputs": [
        {
          "output_type": "execute_result",
          "data": {
            "text/plain": [
              "['yeondu',\n",
              " 'asks',\n",
              " 'best',\n",
              " 'friend',\n",
              " 'bora',\n",
              " 'collect',\n",
              " 'information',\n",
              " 'baek',\n",
              " 'hyunjin',\n",
              " 'away',\n",
              " 'us',\n",
              " 'heart',\n",
              " 'surgery',\n",
              " 'bora',\n",
              " 'decides',\n",
              " 'get',\n",
              " 'close',\n",
              " 'baeks',\n",
              " 'best',\n",
              " 'friend',\n",
              " 'pung',\n",
              " 'woonho',\n",
              " 'first',\n",
              " 'however',\n",
              " 'boras',\n",
              " 'clumsy',\n",
              " 'plan',\n",
              " 'unfolds',\n",
              " 'unexpected',\n",
              " 'direction',\n",
              " '1999',\n",
              " 'year',\n",
              " 'new',\n",
              " 'century',\n",
              " 'bora',\n",
              " 'turns',\n",
              " 'seventeen',\n",
              " 'falls',\n",
              " 'fever',\n",
              " 'first',\n",
              " 'love']"
            ]
          },
          "metadata": {},
          "execution_count": 144
        }
      ]
    },
    {
      "cell_type": "code",
      "source": [
        "#2 using regular expression\n",
        "text=\" i am going delhi\"\n",
        "re.findall(\"[\\w']+\",text)"
      ],
      "metadata": {
        "colab": {
          "base_uri": "https://localhost:8080/"
        },
        "id": "fTew_hREIUFW",
        "outputId": "277caa4f-1495-4ce3-e4f0-5a4d8a6f372d"
      },
      "execution_count": 145,
      "outputs": [
        {
          "output_type": "execute_result",
          "data": {
            "text/plain": [
              "['i', 'am', 'going', 'delhi']"
            ]
          },
          "metadata": {},
          "execution_count": 145
        }
      ]
    },
    {
      "cell_type": "code",
      "source": [
        "#3 NLTK METHOD\n",
        "import nltk\n",
        "nltk.download('punkt')\n",
        "from nltk.tokenize import word_tokenize,sent_tokenize"
      ],
      "metadata": {
        "colab": {
          "base_uri": "https://localhost:8080/"
        },
        "id": "yGGdqKxqJDWZ",
        "outputId": "cc4205b6-4529-4f32-ebe7-7ae92cf984bd"
      },
      "execution_count": 148,
      "outputs": [
        {
          "output_type": "stream",
          "name": "stderr",
          "text": [
            "[nltk_data] Downloading package punkt to /root/nltk_data...\n",
            "[nltk_data]   Unzipping tokenizers/punkt.zip.\n"
          ]
        }
      ]
    },
    {
      "cell_type": "code",
      "source": [
        "word_tokenize(text)"
      ],
      "metadata": {
        "colab": {
          "base_uri": "https://localhost:8080/"
        },
        "id": "X7aaEJjIJhIT",
        "outputId": "9b4319de-75b6-4004-f951-44975ab6dd7d"
      },
      "execution_count": 149,
      "outputs": [
        {
          "output_type": "execute_result",
          "data": {
            "text/plain": [
              "['i', 'am', 'going', 'delhi']"
            ]
          },
          "metadata": {},
          "execution_count": 149
        }
      ]
    },
    {
      "cell_type": "code",
      "source": [
        "sent_tokenize(\"i live in delhi. i live in kolkata. i like uttrakhand.\")"
      ],
      "metadata": {
        "colab": {
          "base_uri": "https://localhost:8080/"
        },
        "id": "ptqX8oXgJmMR",
        "outputId": "33e4778b-5442-4599-9f57-0652fb1961a8"
      },
      "execution_count": 150,
      "outputs": [
        {
          "output_type": "execute_result",
          "data": {
            "text/plain": [
              "['i live in delhi.', 'i live in kolkata.', 'i like uttrakhand.']"
            ]
          },
          "metadata": {},
          "execution_count": 150
        }
      ]
    },
    {
      "cell_type": "code",
      "source": [
        "#problem with nltk\n",
        "word_tokenize(\"my email id is deepak.sdksakdjsak@gmail.com\")"
      ],
      "metadata": {
        "colab": {
          "base_uri": "https://localhost:8080/"
        },
        "id": "sqHP9clsJ_Xx",
        "outputId": "4ed2dbe5-bde5-423a-84cb-67358fb554dd"
      },
      "execution_count": 152,
      "outputs": [
        {
          "output_type": "execute_result",
          "data": {
            "text/plain": [
              "['my', 'email', 'id', 'is', 'deepak.sdksakdjsak', '@', 'gmail.com']"
            ]
          },
          "metadata": {},
          "execution_count": 152
        }
      ]
    },
    {
      "cell_type": "code",
      "source": [
        "word_tokenize(\"i spent $5 last week\")    # 5$ need to be together"
      ],
      "metadata": {
        "colab": {
          "base_uri": "https://localhost:8080/"
        },
        "id": "NJPT4JDUKMdP",
        "outputId": "da809a11-8bcf-4ea1-947c-94662fa5af5e"
      },
      "execution_count": 153,
      "outputs": [
        {
          "output_type": "execute_result",
          "data": {
            "text/plain": [
              "['i', 'spent', '$', '5', 'last', 'week']"
            ]
          },
          "metadata": {},
          "execution_count": 153
        }
      ]
    },
    {
      "cell_type": "code",
      "source": [
        "#4 spacy\n",
        "!pip install spacy"
      ],
      "metadata": {
        "colab": {
          "base_uri": "https://localhost:8080/"
        },
        "id": "9L3J4yJ7Kflr",
        "outputId": "22a522a4-1161-45b7-cf7c-80da820cb608"
      },
      "execution_count": 154,
      "outputs": [
        {
          "output_type": "stream",
          "name": "stdout",
          "text": [
            "Looking in indexes: https://pypi.org/simple, https://us-python.pkg.dev/colab-wheels/public/simple/\n",
            "Requirement already satisfied: spacy in /usr/local/lib/python3.7/dist-packages (3.4.3)\n",
            "Requirement already satisfied: typer<0.8.0,>=0.3.0 in /usr/local/lib/python3.7/dist-packages (from spacy) (0.7.0)\n",
            "Requirement already satisfied: cymem<2.1.0,>=2.0.2 in /usr/local/lib/python3.7/dist-packages (from spacy) (2.0.7)\n",
            "Requirement already satisfied: pathy>=0.3.5 in /usr/local/lib/python3.7/dist-packages (from spacy) (0.8.1)\n",
            "Requirement already satisfied: typing-extensions<4.2.0,>=3.7.4 in /usr/local/lib/python3.7/dist-packages (from spacy) (4.1.1)\n",
            "Requirement already satisfied: packaging>=20.0 in /usr/local/lib/python3.7/dist-packages (from spacy) (21.3)\n",
            "Requirement already satisfied: numpy>=1.15.0 in /usr/local/lib/python3.7/dist-packages (from spacy) (1.21.6)\n",
            "Requirement already satisfied: murmurhash<1.1.0,>=0.28.0 in /usr/local/lib/python3.7/dist-packages (from spacy) (1.0.9)\n",
            "Requirement already satisfied: wasabi<1.1.0,>=0.9.1 in /usr/local/lib/python3.7/dist-packages (from spacy) (0.10.1)\n",
            "Requirement already satisfied: srsly<3.0.0,>=2.4.3 in /usr/local/lib/python3.7/dist-packages (from spacy) (2.4.5)\n",
            "Requirement already satisfied: langcodes<4.0.0,>=3.2.0 in /usr/local/lib/python3.7/dist-packages (from spacy) (3.3.0)\n",
            "Requirement already satisfied: catalogue<2.1.0,>=2.0.6 in /usr/local/lib/python3.7/dist-packages (from spacy) (2.0.8)\n",
            "Requirement already satisfied: jinja2 in /usr/local/lib/python3.7/dist-packages (from spacy) (2.11.3)\n",
            "Requirement already satisfied: preshed<3.1.0,>=3.0.2 in /usr/local/lib/python3.7/dist-packages (from spacy) (3.0.8)\n",
            "Requirement already satisfied: pydantic!=1.8,!=1.8.1,<1.11.0,>=1.7.4 in /usr/local/lib/python3.7/dist-packages (from spacy) (1.10.2)\n",
            "Requirement already satisfied: spacy-loggers<2.0.0,>=1.0.0 in /usr/local/lib/python3.7/dist-packages (from spacy) (1.0.3)\n",
            "Requirement already satisfied: spacy-legacy<3.1.0,>=3.0.10 in /usr/local/lib/python3.7/dist-packages (from spacy) (3.0.10)\n",
            "Requirement already satisfied: thinc<8.2.0,>=8.1.0 in /usr/local/lib/python3.7/dist-packages (from spacy) (8.1.5)\n",
            "Requirement already satisfied: tqdm<5.0.0,>=4.38.0 in /usr/local/lib/python3.7/dist-packages (from spacy) (4.64.1)\n",
            "Requirement already satisfied: requests<3.0.0,>=2.13.0 in /usr/local/lib/python3.7/dist-packages (from spacy) (2.23.0)\n",
            "Requirement already satisfied: setuptools in /usr/local/lib/python3.7/dist-packages (from spacy) (57.4.0)\n",
            "Requirement already satisfied: zipp>=0.5 in /usr/local/lib/python3.7/dist-packages (from catalogue<2.1.0,>=2.0.6->spacy) (3.10.0)\n",
            "Requirement already satisfied: pyparsing!=3.0.5,>=2.0.2 in /usr/local/lib/python3.7/dist-packages (from packaging>=20.0->spacy) (3.0.9)\n",
            "Requirement already satisfied: smart-open<6.0.0,>=5.2.1 in /usr/local/lib/python3.7/dist-packages (from pathy>=0.3.5->spacy) (5.2.1)\n",
            "Requirement already satisfied: chardet<4,>=3.0.2 in /usr/local/lib/python3.7/dist-packages (from requests<3.0.0,>=2.13.0->spacy) (3.0.4)\n",
            "Requirement already satisfied: idna<3,>=2.5 in /usr/local/lib/python3.7/dist-packages (from requests<3.0.0,>=2.13.0->spacy) (2.10)\n",
            "Requirement already satisfied: certifi>=2017.4.17 in /usr/local/lib/python3.7/dist-packages (from requests<3.0.0,>=2.13.0->spacy) (2022.9.24)\n",
            "Requirement already satisfied: urllib3!=1.25.0,!=1.25.1,<1.26,>=1.21.1 in /usr/local/lib/python3.7/dist-packages (from requests<3.0.0,>=2.13.0->spacy) (1.24.3)\n",
            "Requirement already satisfied: blis<0.8.0,>=0.7.8 in /usr/local/lib/python3.7/dist-packages (from thinc<8.2.0,>=8.1.0->spacy) (0.7.9)\n",
            "Requirement already satisfied: confection<1.0.0,>=0.0.1 in /usr/local/lib/python3.7/dist-packages (from thinc<8.2.0,>=8.1.0->spacy) (0.0.3)\n",
            "Requirement already satisfied: click<9.0.0,>=7.1.1 in /usr/local/lib/python3.7/dist-packages (from typer<0.8.0,>=0.3.0->spacy) (7.1.2)\n",
            "Requirement already satisfied: MarkupSafe>=0.23 in /usr/local/lib/python3.7/dist-packages (from jinja2->spacy) (2.0.1)\n"
          ]
        }
      ]
    },
    {
      "cell_type": "code",
      "source": [
        "import spacy\n",
        "tok=spacy.load(\"en_core_web_sm\")"
      ],
      "metadata": {
        "id": "8dE3AHvLKpPR"
      },
      "execution_count": 161,
      "outputs": []
    },
    {
      "cell_type": "code",
      "source": [
        "doc = tok(\"You only live once, but if you do it right, once is enough.\")\n",
        "for token in doc:\n",
        "    print(token.text)"
      ],
      "metadata": {
        "colab": {
          "base_uri": "https://localhost:8080/"
        },
        "id": "nPaGDHkCK6u_",
        "outputId": "56d6a0b7-138f-45f0-9ffc-3e5c6887c32d"
      },
      "execution_count": 162,
      "outputs": [
        {
          "output_type": "stream",
          "name": "stdout",
          "text": [
            "You\n",
            "only\n",
            "live\n",
            "once\n",
            ",\n",
            "but\n",
            "if\n",
            "you\n",
            "do\n",
            "it\n",
            "right\n",
            ",\n",
            "once\n",
            "is\n",
            "enough\n",
            ".\n"
          ]
        }
      ]
    },
    {
      "cell_type": "code",
      "source": [
        "doc = tok(\"i spent 5$ last week. i completed my ph.d last month. my gmail id is sa@gmail.com .\")\n",
        "for token in doc:\n",
        "    print(token.text)"
      ],
      "metadata": {
        "colab": {
          "base_uri": "https://localhost:8080/"
        },
        "id": "idMEBAePOCWP",
        "outputId": "07ee7956-a663-42c6-a479-3fabbcc4b735"
      },
      "execution_count": 164,
      "outputs": [
        {
          "output_type": "stream",
          "name": "stdout",
          "text": [
            "i\n",
            "spent\n",
            "5\n",
            "$\n",
            "last\n",
            "week\n",
            ".\n",
            "i\n",
            "completed\n",
            "my\n",
            "ph.d\n",
            "last\n",
            "month\n",
            ".\n",
            "my\n",
            "gmail\n",
            "i\n",
            "d\n",
            "is\n",
            "sa@gmail.com\n",
            ".\n"
          ]
        }
      ]
    },
    {
      "cell_type": "markdown",
      "source": [
        "**Stemming** is the process of reducing a word to its word stem that affixes to suffixes and prefixes or to the roots of words known as a lemma. Stemming is important in natural language understanding (NLU) and natural language processing (NLP)."
      ],
      "metadata": {
        "id": "qTfkv9gzPKsg"
      }
    },
    {
      "cell_type": "code",
      "source": [
        "from nltk.stem.porter import PorterStemmer\n",
        "ps=PorterStemmer()\n",
        "def stem_words(text):\n",
        "  return\" \".join([ps.stem(word) for word in text.split()])\n"
      ],
      "metadata": {
        "id": "ozjGrHL_Oe31"
      },
      "execution_count": 167,
      "outputs": []
    },
    {
      "cell_type": "code",
      "source": [
        "sample=\"i have been running for a while\"\n",
        "stem_words(sample)"
      ],
      "metadata": {
        "colab": {
          "base_uri": "https://localhost:8080/",
          "height": 36
        },
        "id": "EzIQpwFnP8wg",
        "outputId": "2504a1ee-ee90-4c5f-f39a-299b8c4f3d85"
      },
      "execution_count": 168,
      "outputs": [
        {
          "output_type": "execute_result",
          "data": {
            "text/plain": [
              "'i have been run for a while'"
            ],
            "application/vnd.google.colaboratory.intrinsic+json": {
              "type": "string"
            }
          },
          "metadata": {},
          "execution_count": 168
        }
      ]
    },
    {
      "cell_type": "code",
      "source": [
        "ps.stem(\"run\")"
      ],
      "metadata": {
        "colab": {
          "base_uri": "https://localhost:8080/",
          "height": 36
        },
        "id": "11cblan6QGX8",
        "outputId": "6a4d3b30-4629-49bd-87bb-f3b0501154ef"
      },
      "execution_count": 169,
      "outputs": [
        {
          "output_type": "execute_result",
          "data": {
            "text/plain": [
              "'run'"
            ],
            "application/vnd.google.colaboratory.intrinsic+json": {
              "type": "string"
            }
          },
          "metadata": {},
          "execution_count": 169
        }
      ]
    },
    {
      "cell_type": "code",
      "source": [
        "ps.stem(\"sleeping\")"
      ],
      "metadata": {
        "colab": {
          "base_uri": "https://localhost:8080/",
          "height": 36
        },
        "id": "EOx7mW9sQcyU",
        "outputId": "c4583016-376d-4536-eaee-076709aedd6b"
      },
      "execution_count": 170,
      "outputs": [
        {
          "output_type": "execute_result",
          "data": {
            "text/plain": [
              "'sleep'"
            ],
            "application/vnd.google.colaboratory.intrinsic+json": {
              "type": "string"
            }
          },
          "metadata": {},
          "execution_count": 170
        }
      ]
    },
    {
      "cell_type": "code",
      "source": [
        "ps.stem(\"swimming\")"
      ],
      "metadata": {
        "colab": {
          "base_uri": "https://localhost:8080/",
          "height": 36
        },
        "id": "kPaZe6yoQhed",
        "outputId": "fb52511f-c1c2-4187-a4d5-d6279068d28b"
      },
      "execution_count": 171,
      "outputs": [
        {
          "output_type": "execute_result",
          "data": {
            "text/plain": [
              "'swim'"
            ],
            "application/vnd.google.colaboratory.intrinsic+json": {
              "type": "string"
            }
          },
          "metadata": {},
          "execution_count": 171
        }
      ]
    },
    {
      "cell_type": "code",
      "source": [
        "ps.stem(\"movie\")#sometime it stem words which not needed"
      ],
      "metadata": {
        "colab": {
          "base_uri": "https://localhost:8080/",
          "height": 36
        },
        "id": "VFuzo1O5Qmdu",
        "outputId": "0c90f463-2009-4fd5-85a1-2665dc623bc8"
      },
      "execution_count": 172,
      "outputs": [
        {
          "output_type": "execute_result",
          "data": {
            "text/plain": [
              "'movi'"
            ],
            "application/vnd.google.colaboratory.intrinsic+json": {
              "type": "string"
            }
          },
          "metadata": {},
          "execution_count": 172
        }
      ]
    },
    {
      "cell_type": "markdown",
      "source": [
        "**Lemmatization**What is Lemmatization in NLP? Lemmatization is a text normalization technique used in Natural Language Processing (NLP), that switches any kind of a word to its base root mode. Lemmatization is responsible for grouping different inflected forms of words into the root form, having the same meaning.\n",
        "\n",
        "\n",
        "\n"
      ],
      "metadata": {
        "id": "Hmrsy9dESjs_"
      }
    },
    {
      "cell_type": "code",
      "source": [
        "#lemma (dict based comparision) slow compare to spacy (algo based)"
      ],
      "metadata": {
        "id": "2I7tJKx5Qt6K"
      },
      "execution_count": 173,
      "outputs": []
    },
    {
      "cell_type": "code",
      "source": [
        "import nltk\n",
        "nltk.download('wordnet')\n",
        "nltk.download('omw-1.4')\n",
        "from nltk.stem import WordNetLemmatizer\n",
        "word_net_lemma=WordNetLemmatizer()"
      ],
      "metadata": {
        "colab": {
          "base_uri": "https://localhost:8080/"
        },
        "id": "Vz_LXdpfS9ny",
        "outputId": "4dffa639-478b-48e4-9550-48dc7492d13c"
      },
      "execution_count": 180,
      "outputs": [
        {
          "output_type": "stream",
          "name": "stderr",
          "text": [
            "[nltk_data] Downloading package wordnet to /root/nltk_data...\n",
            "[nltk_data]   Package wordnet is already up-to-date!\n",
            "[nltk_data] Downloading package omw-1.4 to /root/nltk_data...\n"
          ]
        }
      ]
    },
    {
      "cell_type": "code",
      "source": [
        "word_net_lemma.lemmatize(\"running\",pos='v')"
      ],
      "metadata": {
        "colab": {
          "base_uri": "https://localhost:8080/",
          "height": 36
        },
        "id": "wcSZeV3rTOVW",
        "outputId": "7d016204-5334-48fb-8479-12bc2b4d8803"
      },
      "execution_count": 183,
      "outputs": [
        {
          "output_type": "execute_result",
          "data": {
            "text/plain": [
              "'run'"
            ],
            "application/vnd.google.colaboratory.intrinsic+json": {
              "type": "string"
            }
          },
          "metadata": {},
          "execution_count": 183
        }
      ]
    },
    {
      "cell_type": "code",
      "source": [
        "word_net_lemma.lemmatize(\"swimming\",pos='v')"
      ],
      "metadata": {
        "colab": {
          "base_uri": "https://localhost:8080/",
          "height": 36
        },
        "id": "4uhBCVF6Th8k",
        "outputId": "b97b7b70-742d-4991-bb7f-5b9c880764fb"
      },
      "execution_count": 184,
      "outputs": [
        {
          "output_type": "execute_result",
          "data": {
            "text/plain": [
              "'swim'"
            ],
            "application/vnd.google.colaboratory.intrinsic+json": {
              "type": "string"
            }
          },
          "metadata": {},
          "execution_count": 184
        }
      ]
    },
    {
      "cell_type": "code",
      "source": [
        "word_net_lemma.lemmatize(\"movie\",pos='v')"
      ],
      "metadata": {
        "colab": {
          "base_uri": "https://localhost:8080/",
          "height": 36
        },
        "id": "oe8WdzjYT3GY",
        "outputId": "1b91428c-b527-4a97-b289-60cb977669fd"
      },
      "execution_count": 185,
      "outputs": [
        {
          "output_type": "execute_result",
          "data": {
            "text/plain": [
              "'movie'"
            ],
            "application/vnd.google.colaboratory.intrinsic+json": {
              "type": "string"
            }
          },
          "metadata": {},
          "execution_count": 185
        }
      ]
    },
    {
      "cell_type": "code",
      "source": [
        "#lemma used to show user\n",
        "#spacy fast if not needed to show data to user"
      ],
      "metadata": {
        "id": "49uZeiJvUMMZ"
      },
      "execution_count": 186,
      "outputs": []
    },
    {
      "cell_type": "code",
      "source": [],
      "metadata": {
        "id": "54rNyZEPUaIz"
      },
      "execution_count": null,
      "outputs": []
    }
  ]
}