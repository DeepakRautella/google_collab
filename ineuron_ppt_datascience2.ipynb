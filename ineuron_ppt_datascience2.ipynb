{
  "nbformat": 4,
  "nbformat_minor": 0,
  "metadata": {
    "colab": {
      "provenance": [],
      "authorship_tag": "ABX9TyOatq7UWONSGntMWIKrn590",
      "include_colab_link": true
    },
    "kernelspec": {
      "name": "python3",
      "display_name": "Python 3"
    },
    "language_info": {
      "name": "python"
    }
  },
  "cells": [
    {
      "cell_type": "markdown",
      "metadata": {
        "id": "view-in-github",
        "colab_type": "text"
      },
      "source": [
        "<a href=\"https://colab.research.google.com/github/DeepakRautella/google_collab/blob/main/ineuron_ppt_datascience2.ipynb\" target=\"_parent\"><img src=\"https://colab.research.google.com/assets/colab-badge.svg\" alt=\"Open In Colab\"/></a>"
      ]
    },
    {
      "cell_type": "code",
      "execution_count": null,
      "metadata": {
        "id": "H5_5cDgBOUFj"
      },
      "outputs": [],
      "source": []
    },
    {
      "cell_type": "markdown",
      "source": [
        "\n",
        "\n",
        "1. Scenario: A company wants to analyze the sales performance of its products in different regions. They have collected the following data:\n",
        "   Region A: [10, 15, 12, 8, 14]\n",
        "   Region B: [18, 20, 16, 22, 25]\n",
        "   Calculate the mean sales for each region.\n",
        "\n",
        "2. Scenario: A survey is conducted to measure customer satisfaction on a scale of 1 to 5. The data collected is as follows:\n",
        "   [4, 5, 2, 3, 5, 4, 3, 2, 4, 5]\n",
        "   Calculate the mode of the survey responses.\n",
        "\n",
        "3. Scenario: A company wants to compare the salaries of two departments. The salary data for Department A and Department B are as follows:\n",
        "   Department A: [5000, 6000, 5500, 7000]\n",
        "   Department B: [4500, 5500, 5800, 6000, 5200]\n",
        "   Calculate the median salary for each department.\n",
        "\n",
        "4. Scenario: A data analyst wants to determine the variability in the daily stock prices of a company. The data collected is as follows:\n",
        "   [25.5, 24.8, 26.1, 25.3, 24.9]\n",
        "   Calculate the range of the stock prices.\n",
        "\n",
        "5. Scenario: A study is conducted to compare the performance of two different teaching methods. The test scores of the students in each group are as follows:\n",
        "   Group A: [85, 90, 92, 88, 91]\n",
        "   Group B: [82, 88, 90, 86, 87]\n",
        "   Perform a t-test to determine if there is a significant difference in the mean scores between the two groups.\n",
        "\n",
        "6. Scenario: A company wants to analyze the relationship between advertising expenditure and sales. The data collected is as follows:\n",
        "   Advertising Expenditure (in thousands): [10, 15, 12, 8, 14]\n",
        "   Sales (in thousands): [25, 30, 28, 20, 26]\n",
        "   Calculate the correlation coefficient between advertising expenditure and sales.\n",
        "\n",
        "7. Scenario: A survey is conducted to measure the heights of a group of people. The data collected is as follows:\n",
        "   [160, 170, 165, 155, 175, 180, 170]\n",
        "   Calculate the standard deviation of the heights.\n",
        "\n",
        "8. Scenario: A company wants to analyze the relationship between employee tenure and job satisfaction. The data collected is as follows:\n",
        "   Employee Tenure (in years): [2, 3, 5, 4, 6, 2, 4]\n",
        "   Job Satisfaction (on a scale of 1 to 10): [7, 8, 6, 9, 5, 7, 6]\n",
        "   Perform a linear regression analysis to predict job satisfaction based on employee tenure.\n",
        "\n",
        "9. Scenario: A study is conducted to compare the effectiveness of two different medications. The recovery times of the patients in each group are as follows:\n",
        "   Medication A: [10, 12, 14, 11, 13]\n",
        "   Medication B: [15, 17, 16, 14, 18]\n",
        "   Perform an analysis of variance (ANOVA) to determine if there is a significant difference in the mean recovery times between the two medications.\n",
        "\n",
        "10. Scenario: A company wants to analyze customer feedback ratings on a scale of 1 to 10. The data collected is\n",
        "\n",
        " as follows:\n",
        "    [8, 9, 7, 6, 8, 10, 9, 8, 7, 8]\n",
        "    Calculate the 75th percentile of the feedback ratings.\n",
        "\n",
        "11. Scenario: A quality control department wants to test the weight consistency of a product. The weights of a sample of products are as follows:\n",
        "    [10.2, 9.8, 10.0, 10.5, 10.3, 10.1]\n",
        "    Perform a hypothesis test to determine if the mean weight differs significantly from 10 grams.\n",
        "\n",
        "12. Scenario: A company wants to analyze the click-through rates of two different website designs. The number of clicks for each design is as follows:\n",
        "    Design A: [100, 120, 110, 90, 95]\n",
        "    Design B: [80, 85, 90, 95, 100]\n",
        "    Perform a chi-square test to determine if there is a significant difference in the click-through rates between the two designs.\n",
        "\n",
        "13. Scenario: A survey is conducted to measure customer satisfaction with a product on a scale of 1 to 10. The data collected is as follows:\n",
        "    [7, 9, 6, 8, 10, 7, 8, 9, 7, 8]\n",
        "    Calculate the 95% confidence interval for the population mean satisfaction score.\n",
        "\n",
        "14. Scenario: A company wants to analyze the effect of temperature on product performance. The data collected is as follows:\n",
        "    Temperature (in degrees Celsius): [20, 22, 23, 19, 21]\n",
        "    Performance (on a scale of 1 to 10): [8, 7, 9, 6, 8]\n",
        "    Perform a simple linear regression to predict performance based on temperature.\n",
        "\n",
        "15. Scenario: A study is conducted to compare the preferences of two groups of participants. The preferences are measured on a Likert scale from 1 to 5. The data collected is as follows:\n",
        "    Group A: [4, 3, 5, 2, 4]\n",
        "    Group B: [3, 2, 4, 3, 3]\n",
        "    Perform a Mann-Whitney U test to determine if there is a significant difference in the median preferences between the two groups.\n",
        "\n",
        "16. Scenario: A company wants to analyze the distribution of customer ages. The data collected is as follows:\n",
        "    [25, 30, 35, 40, 45, 50, 55, 60, 65, 70]\n",
        "    Calculate the interquartile range (IQR) of the ages.\n",
        "\n",
        "17. Scenario: A study is conducted to compare the performance of three different machine learning algorithms. The accuracy scores for each algorithm are as follows:\n",
        "    Algorithm A: [0.85, 0.80, 0.82, 0.87, 0.83]\n",
        "    Algorithm B: [0.78, 0.82, 0.84, 0.80, 0.79]\n",
        "    Algorithm C: [0.90, 0.88, 0.89, 0.86, 0.87]\n",
        "    Perform a Kruskal-Wallis test to determine if there is a significant difference in the median accuracy scores between the algorithms.\n",
        "\n",
        "18. Scenario: A company wants to analyze the effect of price on sales. The data collected is as follows:\n",
        "    Price (in dollars): [10, 15, 12, 8, 14]\n",
        "    Sales: [100, 80, 90, 110, 95]\n",
        "    Perform a simple linear regression to predict\n",
        "\n",
        " sales based on price.\n",
        "\n",
        "19. Scenario: A survey is conducted to measure the satisfaction levels of customers with a new product. The data collected is as follows:\n",
        "    [7, 8, 9, 6, 8, 7, 9, 7, 8, 7]\n",
        "    Calculate the standard error of the mean satisfaction score.\n",
        "\n",
        "20. Scenario: A company wants to analyze the relationship between advertising expenditure and sales. The data collected is as follows:\n",
        "    Advertising Expenditure (in thousands): [10, 15, 12, 8, 14]\n",
        "    Sales (in thousands): [25, 30, 28, 20, 26]\n",
        "    Perform a multiple regression analysis to predict sales based on advertising expenditure.\n",
        "\n",
        "\n"
      ],
      "metadata": {
        "id": "ItFbXXkHOvyu"
      }
    },
    {
      "cell_type": "code",
      "source": [],
      "metadata": {
        "id": "r_uOgTvaOwR3"
      },
      "execution_count": null,
      "outputs": []
    },
    {
      "cell_type": "code",
      "source": [
        "def calculate_mean(sales):\n",
        "    if len(sales) == 0:\n",
        "        return 0\n",
        "\n",
        "    total_sales = sum(sales)\n",
        "    mean = total_sales / len(sales)\n",
        "    return mean\n",
        "\n",
        "# Sales data for Region A\n",
        "region_a_sales = [10, 15, 12, 8, 14]\n",
        "mean_a = calculate_mean(region_a_sales)\n",
        "\n",
        "# Sales data for Region B\n",
        "region_b_sales = [18, 20, 16, 22, 25]\n",
        "mean_b = calculate_mean(region_b_sales)\n",
        "\n",
        "# Display the mean sales for each region\n",
        "print(\"Mean sales for Region A:\", mean_a)\n",
        "print(\"Mean sales for Region B:\", mean_b)\n"
      ],
      "metadata": {
        "colab": {
          "base_uri": "https://localhost:8080/"
        },
        "id": "oYAaXs8UOxSU",
        "outputId": "cded561b-7eab-435d-d1ae-e9f1d7f8be6e"
      },
      "execution_count": 1,
      "outputs": [
        {
          "output_type": "stream",
          "name": "stdout",
          "text": [
            "Mean sales for Region A: 11.8\n",
            "Mean sales for Region B: 20.2\n"
          ]
        }
      ]
    },
    {
      "cell_type": "code",
      "source": [
        "rating=[4, 5, 2, 3, 5, 4, 3, 2, 4, 5]\n",
        "counter={}\n",
        "for item in rating:\n",
        "  if item in counter.keys():\n",
        "    counter[item]+=1\n",
        "  else:\n",
        "    counter[item]=1\n",
        "mode_count=max(counter.values())\n",
        "for key,value in counter.items():\n",
        "  if value==mode_count:\n",
        "    print(key)\n",
        "    break\n",
        "\n"
      ],
      "metadata": {
        "colab": {
          "base_uri": "https://localhost:8080/"
        },
        "id": "5TD06SMMOzU5",
        "outputId": "a67ca2ec-f691-40f8-9f58-bea411d7aeac"
      },
      "execution_count": 18,
      "outputs": [
        {
          "output_type": "stream",
          "name": "stdout",
          "text": [
            "4\n"
          ]
        }
      ]
    },
    {
      "cell_type": "code",
      "source": [
        "def calculate_median(salaries):\n",
        "    sorted_salaries = sorted(salaries)\n",
        "    n = len(sorted_salaries)\n",
        "\n",
        "    if n % 2 == 1:\n",
        "        median = sorted_salaries[n // 2]\n",
        "    else:\n",
        "        middle1 = sorted_salaries[n // 2 - 1]\n",
        "        middle2 = sorted_salaries[n // 2]\n",
        "        median = (middle1 + middle2) / 2\n",
        "\n",
        "    return median\n",
        "\n",
        "# Salary data for Department A\n",
        "department_a_salaries = [5000, 6000, 5500, 7000]\n",
        "median_a = calculate_median(department_a_salaries)\n",
        "\n",
        "# Salary data for Department B\n",
        "department_b_salaries = [4500, 5500, 5800, 6000, 5200]\n",
        "median_b = calculate_median(department_b_salaries)\n",
        "\n",
        "# Display the median salary for each department\n",
        "print(\"Median salary for Department A:\", median_a)\n",
        "print(\"Median salary for Department B:\", median_b)\n"
      ],
      "metadata": {
        "colab": {
          "base_uri": "https://localhost:8080/"
        },
        "id": "3vqa4FXlPxoU",
        "outputId": "881271b1-beab-4580-86de-9846f35f2fce"
      },
      "execution_count": 19,
      "outputs": [
        {
          "output_type": "stream",
          "name": "stdout",
          "text": [
            "Median salary for Department A: 5750.0\n",
            "Median salary for Department B: 5500\n"
          ]
        }
      ]
    },
    {
      "cell_type": "code",
      "source": [
        "def calculate_range(stock_prices):\n",
        "    min_price = min(stock_prices)\n",
        "    max_price = max(stock_prices)\n",
        "    price_range = max_price - min_price\n",
        "    return price_range\n",
        "\n",
        "# Stock price data\n",
        "stock_prices = [25.5, 24.8, 26.1, 25.3, 24.9]\n",
        "price_range = calculate_range(stock_prices)\n",
        "\n",
        "# Display the range of the stock prices\n",
        "print(\"Range of stock prices:\", price_range)\n"
      ],
      "metadata": {
        "colab": {
          "base_uri": "https://localhost:8080/"
        },
        "id": "VWRFvFPqQXP6",
        "outputId": "35176efa-2d0d-4a55-d825-9da7f5b53ab1"
      },
      "execution_count": 20,
      "outputs": [
        {
          "output_type": "stream",
          "name": "stdout",
          "text": [
            "Range of stock prices: 1.3000000000000007\n"
          ]
        }
      ]
    },
    {
      "cell_type": "code",
      "source": [
        "from scipy import stats\n",
        "\n",
        "def perform_t_test(group_a, group_b):\n",
        "    t_statistic, p_value = stats.ttest_ind(group_a, group_b)\n",
        "    return t_statistic, p_value\n",
        "\n",
        "# Test scores for Group A and Group B\n",
        "group_a_scores = [85, 90, 92, 88, 91]\n",
        "group_b_scores = [82, 88, 90, 86, 87]\n",
        "\n",
        "# Perform the t-test\n",
        "t_stat, p_val = perform_t_test(group_a_scores, group_b_scores)\n",
        "\n",
        "# Display the results\n",
        "print(\"T-statistic:\", t_stat)\n",
        "print(\"P-value:\", p_val)\n"
      ],
      "metadata": {
        "colab": {
          "base_uri": "https://localhost:8080/"
        },
        "id": "kyZdM1p_SP0O",
        "outputId": "83d5d5a0-c1fd-49ca-deae-5be73f116ecf"
      },
      "execution_count": 21,
      "outputs": [
        {
          "output_type": "stream",
          "name": "stdout",
          "text": [
            "T-statistic: 1.4312528946642733\n",
            "P-value: 0.19023970239078333\n"
          ]
        }
      ]
    },
    {
      "cell_type": "code",
      "source": [
        "import numpy as np\n",
        "\n",
        "def calculate_correlation(advertising_expenditure, sales):\n",
        "    correlation_coefficient = np.corrcoef(advertising_expenditure, sales)[0, 1]\n",
        "    return correlation_coefficient\n",
        "\n",
        "# Advertising Expenditure and Sales data\n",
        "advertising_expenditure = [10, 15, 12, 8, 14]\n",
        "sales = [25, 30, 28, 20, 26]\n",
        "\n",
        "# Calculate the correlation coefficient\n",
        "correlation = calculate_correlation(advertising_expenditure, sales)\n",
        "\n",
        "# Display the correlation coefficient\n",
        "print(\"Correlation coefficient:\", correlation)\n"
      ],
      "metadata": {
        "colab": {
          "base_uri": "https://localhost:8080/"
        },
        "id": "vY5CONC3Sjug",
        "outputId": "9c177297-030e-411e-a09d-8258b1349878"
      },
      "execution_count": 26,
      "outputs": [
        {
          "output_type": "stream",
          "name": "stdout",
          "text": [
            "Correlation coefficient: 0.8757511375750132\n"
          ]
        }
      ]
    },
    {
      "cell_type": "code",
      "source": [
        "import statistics\n",
        "\n",
        "def calculate_standard_deviation(heights):\n",
        "    standard_dev = statistics.stdev(heights)\n",
        "    return standard_dev\n",
        "\n",
        "# Heights data\n",
        "heights = [160, 170, 165, 155, 175, 180, 170]\n",
        "\n",
        "# Calculate the standard deviation\n",
        "standard_deviation = calculate_standard_deviation(heights)\n",
        "\n",
        "# Display the standard deviation of the heights\n",
        "print(\"Standard deviation of heights:\", standard_deviation)\n"
      ],
      "metadata": {
        "colab": {
          "base_uri": "https://localhost:8080/"
        },
        "id": "hVEea0VZS73K",
        "outputId": "fb0c39e6-1bfb-459b-d487-64f0b5e2504a"
      },
      "execution_count": 24,
      "outputs": [
        {
          "output_type": "stream",
          "name": "stdout",
          "text": [
            "Standard deviation of heights: 8.591246929842246\n"
          ]
        }
      ]
    },
    {
      "cell_type": "code",
      "source": [
        "import numpy as np\n",
        "from sklearn.linear_model import LinearRegression\n",
        "\n",
        "def perform_linear_regression(tenure, satisfaction):\n",
        "    X = np.array(tenure).reshape(-1, 1)\n",
        "    y = np.array(satisfaction)\n",
        "\n",
        "    model = LinearRegression()\n",
        "    model.fit(X, y)\n",
        "\n",
        "    return model\n",
        "\n",
        "# Employee Tenure and Job Satisfaction data\n",
        "tenure = [2, 3, 5, 4, 6, 2, 4]\n",
        "satisfaction = [7, 8, 6, 9, 5, 7, 6]\n",
        "\n",
        "# Perform linear regression analysis\n",
        "regression_model = perform_linear_regression(tenure, satisfaction)\n",
        "\n",
        "# Predict job satisfaction for a new tenure value\n",
        "new_tenure = 7\n",
        "predicted_satisfaction = regression_model.predict([[new_tenure]])\n",
        "\n",
        "# Display the predicted job satisfaction\n",
        "print(\"Predicted job satisfaction for tenure\", new_tenure, \":\", predicted_satisfaction[0])\n"
      ],
      "metadata": {
        "colab": {
          "base_uri": "https://localhost:8080/"
        },
        "id": "r55mV8khTZJS",
        "outputId": "a1854eda-bb68-4d7f-e653-8151bef41639"
      },
      "execution_count": 27,
      "outputs": [
        {
          "output_type": "stream",
          "name": "stdout",
          "text": [
            "Predicted job satisfaction for tenure 7 : 5.319148936170212\n"
          ]
        }
      ]
    },
    {
      "cell_type": "code",
      "source": [
        "import scipy.stats as stats\n",
        "\n",
        "def perform_anova(medication_a, medication_b):\n",
        "    _, p_value = stats.f_oneway(medication_a, medication_b)\n",
        "    return p_value\n",
        "\n",
        "# Recovery times for Medication A and Medication B\n",
        "medication_a_times = [10, 12, 14, 11, 13]\n",
        "medication_b_times = [15, 17, 16, 14, 18]\n",
        "\n",
        "# Perform ANOVA\n",
        "p_value = perform_anova(medication_a_times, medication_b_times)\n",
        "\n",
        "# Display the p-value\n",
        "print(\"P-value:\", p_value)\n"
      ],
      "metadata": {
        "colab": {
          "base_uri": "https://localhost:8080/"
        },
        "id": "YMt-dI2QTw-R",
        "outputId": "d915e189-3cee-449d-ee61-14b4b07abcd0"
      },
      "execution_count": 28,
      "outputs": [
        {
          "output_type": "stream",
          "name": "stdout",
          "text": [
            "P-value: 0.003949772803445326\n"
          ]
        }
      ]
    },
    {
      "cell_type": "code",
      "source": [
        "import numpy as np\n",
        "\n",
        "def calculate_percentile(ratings, percentile):\n",
        "    percentile_value = np.percentile(ratings, percentile)\n",
        "    return percentile_value\n",
        "\n",
        "# Feedback ratings data\n",
        "ratings = [8, 9, 7, 6, 8, 10, 9, 8, 7, 8]\n",
        "\n",
        "# Calculate the 75th percentile\n",
        "percentile_75 = calculate_percentile(ratings, 75)\n",
        "\n",
        "# Display the 75th percentile of the feedback ratings\n",
        "print(\"75th percentile of the feedback ratings:\", percentile_75)\n"
      ],
      "metadata": {
        "colab": {
          "base_uri": "https://localhost:8080/"
        },
        "id": "Mu25GVe-UJYL",
        "outputId": "920bbb5e-4b90-431e-9b0b-472850322a14"
      },
      "execution_count": 29,
      "outputs": [
        {
          "output_type": "stream",
          "name": "stdout",
          "text": [
            "75th percentile of the feedback ratings: 8.75\n"
          ]
        }
      ]
    },
    {
      "cell_type": "code",
      "source": [
        "import scipy.stats as stats\n",
        "\n",
        "def perform_hypothesis_test(sample, population_mean):\n",
        "    t_statistic, p_value = stats.ttest_1samp(sample, population_mean)\n",
        "    return t_statistic, p_value\n",
        "\n",
        "# Weight data for the sample\n",
        "sample_weights = [10.2, 9.8, 10.0, 10.5, 10.3, 10.1]\n",
        "\n",
        "# Population mean\n",
        "population_mean = 10\n",
        "\n",
        "# Perform the hypothesis test\n",
        "t_stat, p_val = perform_hypothesis_test(sample_weights, population_mean)\n",
        "\n",
        "# Display the results\n",
        "print(\"T-statistic:\", t_stat)\n",
        "print(\"P-value:\", p_val)\n"
      ],
      "metadata": {
        "colab": {
          "base_uri": "https://localhost:8080/"
        },
        "id": "jEfFdOKcUZYm",
        "outputId": "b89dea5a-86d5-482b-e9de-a95fc910c31d"
      },
      "execution_count": 30,
      "outputs": [
        {
          "output_type": "stream",
          "name": "stdout",
          "text": [
            "T-statistic: 1.5126584522688367\n",
            "P-value: 0.19077595151110102\n"
          ]
        }
      ]
    },
    {
      "cell_type": "code",
      "source": [
        "import numpy as np\n",
        "from scipy.stats import chi2_contingency\n",
        "\n",
        "def perform_chi_square_test(design_a, design_b):\n",
        "    contingency_table = np.array([design_a, design_b])\n",
        "    chi2_stat, p_value, _, _ = chi2_contingency(contingency_table)\n",
        "    return chi2_stat, p_value\n",
        "\n",
        "# Click-through rates for Design A and Design B\n",
        "design_a_clicks = [100, 120, 110, 90, 95]\n",
        "design_b_clicks = [80, 85, 90, 95, 100]\n",
        "\n",
        "# Perform the chi-square test\n",
        "chi2_stat, p_val = perform_chi_square_test(design_a_clicks, design_b_clicks)\n",
        "\n",
        "# Display the results\n",
        "print(\"Chi-square statistic:\", chi2_stat)\n",
        "print(\"P-value:\", p_val)\n"
      ],
      "metadata": {
        "colab": {
          "base_uri": "https://localhost:8080/"
        },
        "id": "RhK9oQP9UqBo",
        "outputId": "3043ed5e-920c-4af0-8a6b-8b3dccf12af4"
      },
      "execution_count": 31,
      "outputs": [
        {
          "output_type": "stream",
          "name": "stdout",
          "text": [
            "Chi-square statistic: 6.110658166925435\n",
            "P-value: 0.19103526314060293\n"
          ]
        }
      ]
    },
    {
      "cell_type": "code",
      "source": [
        "import numpy as np\n",
        "import scipy.stats as stats\n",
        "\n",
        "def calculate_confidence_interval(data, confidence=0.95):\n",
        "    sample_mean = np.mean(data)\n",
        "    z_critical = stats.norm.ppf((1 + confidence) / 2)\n",
        "    standard_error = stats.sem(data)\n",
        "    margin_of_error = z_critical * standard_error\n",
        "    confidence_interval = (sample_mean - margin_of_error, sample_mean + margin_of_error)\n",
        "    return confidence_interval\n",
        "\n",
        "# Customer satisfaction data\n",
        "satisfaction_scores = [7, 9, 6, 8, 10, 7, 8, 9, 7, 8]\n",
        "\n",
        "# Calculate the confidence interval\n",
        "confidence_interval = calculate_confidence_interval(satisfaction_scores)\n",
        "print(confidence_interval)\n"
      ],
      "metadata": {
        "colab": {
          "base_uri": "https://localhost:8080/"
        },
        "id": "-B02v0CsVD6V",
        "outputId": "b32b893b-97df-4c12-b628-18c8276e0c15"
      },
      "execution_count": 34,
      "outputs": [
        {
          "output_type": "stream",
          "name": "stdout",
          "text": [
            "(7.157969611381835, 8.642030388618165)\n"
          ]
        }
      ]
    },
    {
      "cell_type": "code",
      "source": [
        "import numpy as np\n",
        "from sklearn.linear_model import LinearRegression\n",
        "\n",
        "def perform_linear_regression(temperature, performance):\n",
        "    X = np.array(temperature).reshape(-1, 1)\n",
        "    y = np.array(performance)\n",
        "\n",
        "    model = LinearRegression()\n",
        "    model.fit(X, y)\n",
        "\n",
        "    return model\n",
        "\n",
        "# Temperature and Performance data\n",
        "temperature = [20, 22, 23, 19, 21]\n",
        "performance = [8, 7, 9, 6, 8]\n",
        "\n",
        "# Perform linear regression analysis\n",
        "regression_model = perform_linear_regression(temperature, performance)\n",
        "\n",
        "# Predict performance for a new temperature value\n",
        "new_temperature = 24\n",
        "predicted_performance = regression_model.predict([[new_temperature]])\n",
        "\n",
        "# Display the predicted performance\n",
        "print(\"Predicted performance for temperature\", new_temperature, \":\", predicted_performance[0])\n"
      ],
      "metadata": {
        "colab": {
          "base_uri": "https://localhost:8080/"
        },
        "id": "LrwnWetXVQna",
        "outputId": "c9325b1b-005f-4a87-8604-0455b5974548"
      },
      "execution_count": 35,
      "outputs": [
        {
          "output_type": "stream",
          "name": "stdout",
          "text": [
            "Predicted performance for temperature 24 : 9.099999999999998\n"
          ]
        }
      ]
    },
    {
      "cell_type": "code",
      "source": [
        "import scipy.stats as stats\n",
        "\n",
        "def perform_mann_whitneyu_test(group_a, group_b):\n",
        "    _, p_value = stats.mannwhitneyu(group_a, group_b)\n",
        "    return p_value\n",
        "\n",
        "# Preferences data for Group A and Group B\n",
        "group_a_preferences = [4, 3, 5, 2, 4]\n",
        "group_b_preferences = [3, 2, 4, 3, 3]\n",
        "\n",
        "# Perform the Mann-Whitney U test\n",
        "p_value = perform_mann_whitneyu_test(group_a_preferences, group_b_preferences)\n",
        "\n",
        "# Display the p-value\n",
        "print(\"P-value:\", p_value)\n"
      ],
      "metadata": {
        "colab": {
          "base_uri": "https://localhost:8080/"
        },
        "id": "WZSejo9FVzmF",
        "outputId": "9e371580-2f67-4f50-9fec-d08a49642e1b"
      },
      "execution_count": 36,
      "outputs": [
        {
          "output_type": "stream",
          "name": "stdout",
          "text": [
            "P-value: 0.380836480306712\n"
          ]
        }
      ]
    },
    {
      "cell_type": "code",
      "source": [
        "import numpy as np\n",
        "\n",
        "def calculate_iqr(ages):\n",
        "    q1 = np.percentile(ages, 25)\n",
        "    q3 = np.percentile(ages, 75)\n",
        "    iqr = q3 - q1\n",
        "    return iqr\n",
        "\n",
        "# Customer ages data\n",
        "ages = [25, 30, 35, 40, 45, 50, 55, 60, 65, 70]\n",
        "\n",
        "# Calculate the interquartile range\n",
        "iqr = calculate_iqr(ages)\n",
        "\n",
        "# Display the interquartile range of the ages\n",
        "print(\"Interquartile range (IQR) of the ages:\", iqr)\n"
      ],
      "metadata": {
        "colab": {
          "base_uri": "https://localhost:8080/"
        },
        "id": "pWsLzTBCWEHN",
        "outputId": "1f9536de-fa05-4603-fde0-2630cfa8a7ad"
      },
      "execution_count": 37,
      "outputs": [
        {
          "output_type": "stream",
          "name": "stdout",
          "text": [
            "Interquartile range (IQR) of the ages: 22.5\n"
          ]
        }
      ]
    },
    {
      "cell_type": "code",
      "source": [
        "import scipy.stats as stats\n",
        "\n",
        "def perform_kruskal_wallis_test(algorithm_a, algorithm_b, algorithm_c):\n",
        "    _, p_value = stats.kruskal(algorithm_a, algorithm_b, algorithm_c)\n",
        "    return p_value\n",
        "\n",
        "# Accuracy scores for each algorithm\n",
        "algorithm_a_scores = [0.85, 0.80, 0.82, 0.87, 0.83]\n",
        "algorithm_b_scores = [0.78, 0.82, 0.84, 0.80, 0.79]\n",
        "algorithm_c_scores = [0.90, 0.88, 0.89, 0.86, 0.87]\n",
        "\n",
        "# Perform the Kruskal-Wallis test\n",
        "p_value = perform_kruskal_wallis_test(algorithm_a_scores, algorithm_b_scores, algorithm_c_scores)\n",
        "\n",
        "# Display the p-value\n",
        "print(\"P-value:\", p_value)\n"
      ],
      "metadata": {
        "colab": {
          "base_uri": "https://localhost:8080/"
        },
        "id": "h2pNwOeBWZF5",
        "outputId": "c3d77591-02c4-4df5-8a90-049a7c63a699"
      },
      "execution_count": 38,
      "outputs": [
        {
          "output_type": "stream",
          "name": "stdout",
          "text": [
            "P-value: 0.007840333026249539\n"
          ]
        }
      ]
    },
    {
      "cell_type": "code",
      "source": [
        "import numpy as np\n",
        "from sklearn.linear_model import LinearRegression\n",
        "\n",
        "def perform_linear_regression(price, sales):\n",
        "    X = np.array(price).reshape(-1, 1)\n",
        "    y = np.array(sales)\n",
        "\n",
        "    model = LinearRegression()\n",
        "    model.fit(X, y)\n",
        "\n",
        "    return model\n",
        "\n",
        "# Price and Sales data\n",
        "price = [10, 15, 12, 8, 14]\n",
        "sales = [100, 80, 90, 110, 95]\n",
        "\n",
        "# Perform linear regression analysis\n",
        "regression_model = perform_linear_regression(price, sales)\n",
        "\n",
        "# Predict sales for a new price value\n",
        "new_price = 11\n",
        "predicted_sales = regression_model.predict([[new_price]])\n",
        "\n",
        "# Display the predicted sales\n",
        "print(\"Predicted sales for price\", new_price, \":\", predicted_sales[0])\n"
      ],
      "metadata": {
        "colab": {
          "base_uri": "https://localhost:8080/"
        },
        "id": "-fybHFGGWngD",
        "outputId": "57e391da-0935-48fb-bd87-eb972edffd44"
      },
      "execution_count": 39,
      "outputs": [
        {
          "output_type": "stream",
          "name": "stdout",
          "text": [
            "Predicted sales for price 11 : 97.8048780487805\n"
          ]
        }
      ]
    },
    {
      "cell_type": "code",
      "source": [
        "import numpy as np\n",
        "\n",
        "def calculate_standard_error(data):\n",
        "    sample_mean = np.mean(data)\n",
        "    standard_deviation = np.std(data, ddof=1)\n",
        "    sample_size = len(data)\n",
        "    standard_error = standard_deviation / np.sqrt(sample_size)\n",
        "    return standard_error\n",
        "\n",
        "# Satisfaction scores data\n",
        "satisfaction_scores = [7, 8, 9, 6, 8, 7, 9, 7, 8, 7]\n",
        "\n",
        "# Calculate the standard error of the mean\n",
        "standard_error = calculate_standard_error(satisfaction_scores)\n",
        "\n",
        "# Display the standard error of the mean satisfaction score\n",
        "print(\"Standard Error of the Mean:\", standard_error)\n"
      ],
      "metadata": {
        "colab": {
          "base_uri": "https://localhost:8080/"
        },
        "id": "E4YnVGXWW2Ta",
        "outputId": "37d4c7aa-a416-48b5-f6f2-c366e6d26957"
      },
      "execution_count": 40,
      "outputs": [
        {
          "output_type": "stream",
          "name": "stdout",
          "text": [
            "Standard Error of the Mean: 0.30550504633038933\n"
          ]
        }
      ]
    },
    {
      "cell_type": "code",
      "source": [
        "import numpy as np\n",
        "import statsmodels.api as sm\n",
        "\n",
        "def perform_multiple_regression(advertising_expenditure, sales):\n",
        "    X = sm.add_constant(np.array(advertising_expenditure))\n",
        "    y = np.array(sales)\n",
        "\n",
        "    model = sm.OLS(y, X)\n",
        "    results = model.fit()\n",
        "\n",
        "    return results\n",
        "\n",
        "# Advertising Expenditure and Sales data\n",
        "advertising_expenditure = [10, 15, 12, 8, 14]\n",
        "sales = [25, 30, 28, 20, 26]\n",
        "\n",
        "# Perform multiple regression analysis\n",
        "regression_results = perform_multiple_regression(advertising_expenditure, sales)\n",
        "\n",
        "# Display the regression results\n",
        "print(regression_results.summary())\n"
      ],
      "metadata": {
        "colab": {
          "base_uri": "https://localhost:8080/"
        },
        "id": "izO8cU1CXJ2T",
        "outputId": "05261cfc-9487-467f-97c7-2a6cda6a9daf"
      },
      "execution_count": 41,
      "outputs": [
        {
          "output_type": "stream",
          "name": "stdout",
          "text": [
            "                            OLS Regression Results                            \n",
            "==============================================================================\n",
            "Dep. Variable:                      y   R-squared:                       0.767\n",
            "Model:                            OLS   Adj. R-squared:                  0.689\n",
            "Method:                 Least Squares   F-statistic:                     9.872\n",
            "Date:                Mon, 10 Jul 2023   Prob (F-statistic):             0.0516\n",
            "Time:                        05:54:51   Log-Likelihood:                -9.5288\n",
            "No. Observations:                   5   AIC:                             23.06\n",
            "Df Residuals:                       3   BIC:                             22.28\n",
            "Df Model:                           1                                         \n",
            "Covariance Type:            nonrobust                                         \n",
            "==============================================================================\n",
            "                 coef    std err          t      P>|t|      [0.025      0.975]\n",
            "------------------------------------------------------------------------------\n",
            "const         12.2012      4.429      2.755      0.070      -1.893      26.296\n",
            "x1             1.1524      0.367      3.142      0.052      -0.015       2.320\n",
            "==============================================================================\n",
            "Omnibus:                          nan   Durbin-Watson:                   1.136\n",
            "Prob(Omnibus):                    nan   Jarque-Bera (JB):                0.546\n",
            "Skew:                          -0.267   Prob(JB):                        0.761\n",
            "Kurtosis:                       1.471   Cond. No.                         57.3\n",
            "==============================================================================\n",
            "\n",
            "Notes:\n",
            "[1] Standard Errors assume that the covariance matrix of the errors is correctly specified.\n"
          ]
        },
        {
          "output_type": "stream",
          "name": "stderr",
          "text": [
            "/usr/local/lib/python3.10/dist-packages/statsmodels/stats/stattools.py:74: ValueWarning: omni_normtest is not valid with less than 8 observations; 5 samples were given.\n",
            "  warn(\"omni_normtest is not valid with less than 8 observations; %i \"\n"
          ]
        }
      ]
    },
    {
      "cell_type": "code",
      "source": [],
      "metadata": {
        "id": "t1FzigHqXek7"
      },
      "execution_count": null,
      "outputs": []
    }
  ]
}