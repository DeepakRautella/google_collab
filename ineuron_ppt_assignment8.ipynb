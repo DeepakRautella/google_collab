{
  "nbformat": 4,
  "nbformat_minor": 0,
  "metadata": {
    "colab": {
      "provenance": [],
      "authorship_tag": "ABX9TyO3eU0bUyImPu2JPlUJ130v",
      "include_colab_link": true
    },
    "kernelspec": {
      "name": "python3",
      "display_name": "Python 3"
    },
    "language_info": {
      "name": "python"
    }
  },
  "cells": [
    {
      "cell_type": "markdown",
      "metadata": {
        "id": "view-in-github",
        "colab_type": "text"
      },
      "source": [
        "<a href=\"https://colab.research.google.com/github/DeepakRautella/google_collab/blob/main/ineuron_ppt_assignment8.ipynb\" target=\"_parent\"><img src=\"https://colab.research.google.com/assets/colab-badge.svg\" alt=\"Open In Colab\"/></a>"
      ]
    },
    {
      "cell_type": "code",
      "execution_count": null,
      "metadata": {
        "id": "3KB_kgbhyZeG"
      },
      "outputs": [],
      "source": []
    },
    {
      "cell_type": "markdown",
      "source": [
        "<aside>\n",
        "💡 **Question 1**\n",
        "\n",
        "Given two strings s1 and s2, return *the lowest **ASCII** sum of deleted characters to make two strings equal*.\n",
        "\n",
        "**Example 1:**\n",
        "\n",
        "**Input:** s1 = \"sea\", s2 = \"eat\"\n",
        "\n",
        "**Output:** 231\n",
        "\n",
        "**Explanation:** Deleting \"s\" from \"sea\" adds the ASCII value of \"s\" (115) to the sum.\n",
        "\n",
        "Deleting \"t\" from \"eat\" adds 116 to the sum.\n",
        "\n",
        "At the end, both strings are equal, and 115 + 116 = 231 is the minimum sum possible to achieve this.\n",
        "\n",
        "</aside>"
      ],
      "metadata": {
        "id": "9vbrupwsCZuo"
      }
    },
    {
      "cell_type": "code",
      "source": [
        "def minimumDeleteSum(str1,str2):\n",
        "  l1=list(str1)\n",
        "  l2=list(str2)\n",
        "\n",
        "  result1 = [ch for ch in l1 if ch not in l2]\n",
        "  result2=  [ch for ch in l2 if ch not in l1]\n",
        "  result=result1+result2\n",
        "  num_list=[]\n",
        "  for ch in result:\n",
        "    num_list.append(ord(ch))\n",
        "  sums=sum(num_list)\n",
        "  return(sums)"
      ],
      "metadata": {
        "id": "GMAkXgRJCbqU"
      },
      "execution_count": 9,
      "outputs": []
    },
    {
      "cell_type": "code",
      "source": [
        "s1 = \"sea\"\n",
        "s2 = \"eat\"\n",
        "result = minimumDeleteSum(s1, s2)\n",
        "print(result)  # Output: 231\n"
      ],
      "metadata": {
        "colab": {
          "base_uri": "https://localhost:8080/"
        },
        "id": "djG3UiijCzY4",
        "outputId": "bf9d1de6-a821-46b2-912d-5eee4750ea7a"
      },
      "execution_count": 10,
      "outputs": [
        {
          "output_type": "stream",
          "name": "stdout",
          "text": [
            "231\n"
          ]
        }
      ]
    },
    {
      "cell_type": "markdown",
      "source": [
        "<aside>\n",
        "💡 **Question 2**\n",
        "\n",
        "Given a string s containing only three types of characters: '(', ')' and '*', return true *if* s *is **valid***.\n",
        "\n",
        "The following rules define a **valid** string:\n",
        "\n",
        "- Any left parenthesis '(' must have a corresponding right parenthesis ')'.\n",
        "- Any right parenthesis ')' must have a corresponding left parenthesis '('.\n",
        "- Left parenthesis '(' must go before the corresponding right parenthesis ')'.\n",
        "- '*' could be treated as a single right parenthesis ')' or a single left parenthesis '(' or an empty string \"\".\n",
        "\n",
        "**Example 1:**\n",
        "\n",
        "**Input:** s = \"()\"\n",
        "\n",
        "**Output:**\n",
        "\n",
        "true\n",
        "\n",
        "</aside>"
      ],
      "metadata": {
        "id": "c4WemEm_FvMs"
      }
    },
    {
      "cell_type": "code",
      "source": [
        "class Solution(object):\n",
        "    def checkValidString(self, s):\n",
        "        lo = hi = 0\n",
        "        for c in s:\n",
        "            lo += 1 if c == '(' else -1\n",
        "            hi += 1 if c != ')' else -1\n",
        "            if hi < 0: break\n",
        "            lo = max(lo, 0)\n",
        "\n",
        "        return lo == 0"
      ],
      "metadata": {
        "id": "rIGvb1J6F682"
      },
      "execution_count": 12,
      "outputs": []
    },
    {
      "cell_type": "code",
      "source": [
        "s=Solution()\n",
        "s.checkValidString(\"()\")"
      ],
      "metadata": {
        "colab": {
          "base_uri": "https://localhost:8080/"
        },
        "id": "5FpJoysdGi9g",
        "outputId": "a81b284f-b7db-4061-8771-fd5cc9199b41"
      },
      "execution_count": 14,
      "outputs": [
        {
          "output_type": "execute_result",
          "data": {
            "text/plain": [
              "True"
            ]
          },
          "metadata": {},
          "execution_count": 14
        }
      ]
    },
    {
      "cell_type": "code",
      "source": [],
      "metadata": {
        "id": "gA6t6atjGjX1"
      },
      "execution_count": 14,
      "outputs": []
    },
    {
      "cell_type": "markdown",
      "source": [
        "<aside>\n",
        "💡 **Question 3**\n",
        "\n",
        "Given two strings word1 and word2, return *the minimum number of **steps** required to make* word1 *and* word2 *the same*.\n",
        "\n",
        "In one **step**, you can delete exactly one character in either string.\n",
        "\n",
        "**Example 1:**\n",
        "\n",
        "**Input:** word1 = \"sea\", word2 = \"eat\"\n",
        "\n",
        "**Output:** 2\n",
        "\n",
        "**Explanation:** You need one step to make \"sea\" to \"ea\" and another step to make \"eat\" to \"ea\".\n",
        "\n",
        "</aside>"
      ],
      "metadata": {
        "id": "Wq-NOPVUGjvC"
      }
    },
    {
      "cell_type": "code",
      "source": [
        "def minDistance(word1, word2):\n",
        "    m, n = len(word1), len(word2)\n",
        "    dp = [[0] * (n + 1) for _ in range(m + 1)]\n",
        "\n",
        "    # Initialize base cases\n",
        "    for i in range(1, m + 1):\n",
        "        dp[i][0] = i\n",
        "    for j in range(1, n + 1):\n",
        "        dp[0][j] = j\n",
        "\n",
        "    # Fill in the dp array\n",
        "    for i in range(1, m + 1):\n",
        "        for j in range(1, n + 1):\n",
        "            if word1[i - 1] == word2[j - 1]:\n",
        "                dp[i][j] = dp[i - 1][j - 1]\n",
        "            else:\n",
        "                dp[i][j] = min(dp[i - 1][j], dp[i][j - 1]) + 1\n",
        "\n",
        "    return dp[m][n]\n"
      ],
      "metadata": {
        "id": "EzEtQ7Q1Gkab"
      },
      "execution_count": 17,
      "outputs": []
    },
    {
      "cell_type": "code",
      "source": [
        "word1 = \"sea\"\n",
        "word2 = \"eat\"\n",
        "result = minDistance(word1, word2)\n",
        "print(result)  # Output: 2\n"
      ],
      "metadata": {
        "colab": {
          "base_uri": "https://localhost:8080/"
        },
        "id": "mjMCTvaMHeAT",
        "outputId": "db131af0-0239-40e8-95cc-ffc0600bd64e"
      },
      "execution_count": 18,
      "outputs": [
        {
          "output_type": "stream",
          "name": "stdout",
          "text": [
            "2\n"
          ]
        }
      ]
    },
    {
      "cell_type": "code",
      "source": [],
      "metadata": {
        "id": "shYyODU2HeoC"
      },
      "execution_count": null,
      "outputs": []
    },
    {
      "cell_type": "markdown",
      "source": [
        "<aside>\n",
        "💡 **Question 4**\n",
        "\n",
        "You need to construct a binary tree from a string consisting of parenthesis and integers.\n",
        "\n",
        "The whole input represents a binary tree. It contains an integer followed by zero, one or two pairs of parenthesis. The integer represents the root's value and a pair of parenthesis contains a child binary tree with the same structure.\n",
        "You always start to construct the **left** child node of the parent first if it exists.\n",
        "\n",
        "**Input:** s = \"4(2(3)(1))(6(5))\"\n",
        "\n",
        "**Output:** [4,2,6,3,1,5]\n",
        "</aside>"
      ],
      "metadata": {
        "id": "PYxShh4mHe8a"
      }
    },
    {
      "cell_type": "code",
      "source": [
        "class TreeNode:\n",
        "    def __init__(self, val=0, left=None, right=None):\n",
        "        self.val = val\n",
        "        self.left = left\n",
        "        self.right = right\n",
        "\n",
        "\n",
        "def constructTreeFromString(s):\n",
        "    if not s:\n",
        "        return None\n",
        "\n",
        "    # Find the value of the root node\n",
        "    root_val = \"\"\n",
        "    i = 0\n",
        "    while i < len(s) and s[i] != \"(\":\n",
        "        root_val += s[i]\n",
        "        i += 1\n",
        "    root_val = int(root_val)\n",
        "\n",
        "    # Check if there are child nodes\n",
        "    if i == len(s):\n",
        "        return TreeNode(root_val)\n",
        "\n",
        "    # Find the index of the closing parenthesis for the root node\n",
        "    open_count = 0\n",
        "    j = i\n",
        "    while j < len(s):\n",
        "        if s[j] == \"(\":\n",
        "            open_count += 1\n",
        "        elif s[j] == \")\":\n",
        "            open_count -= 1\n",
        "            if open_count == 0:\n",
        "                break\n",
        "        j += 1\n",
        "\n",
        "    # Extract the left and right subtrees\n",
        "    left_subtree_str = s[i+1:j]\n",
        "    right_subtree_str = s[j+2:-1]\n",
        "\n",
        "    # Recursively construct the left and right child nodes\n",
        "    left_child = constructTreeFromString(left_subtree_str)\n",
        "    right_child = constructTreeFromString(right_subtree_str)\n",
        "\n",
        "    # Create the root node with the constructed child nodes\n",
        "    root = TreeNode(root_val, left_child, right_child)\n",
        "    return root\n",
        "\n",
        "\n",
        "# Test the function with an example input\n",
        "s = \"4(2(3)(1))(6(5))\"\n",
        "root = constructTreeFromString(s)\n",
        "\n",
        "# Verify the constructed tree\n",
        "print(root.val)  # Output: 4\n",
        "print(root.left.val)  # Output: 2\n",
        "print(root.right.val)  # Output: 6\n",
        "print(root.left.left.val)  # Output: 3\n",
        "print(root.left.right.val)  # Output: 1\n",
        "print(root.right.left.val)  # Output: 5\n"
      ],
      "metadata": {
        "colab": {
          "base_uri": "https://localhost:8080/"
        },
        "id": "JNROllZFIiiJ",
        "outputId": "39ff6ef5-cf0d-4a79-88e4-2c99ec70c53c"
      },
      "execution_count": 20,
      "outputs": [
        {
          "output_type": "stream",
          "name": "stdout",
          "text": [
            "4\n",
            "2\n",
            "6\n",
            "3\n",
            "1\n",
            "5\n"
          ]
        }
      ]
    },
    {
      "cell_type": "code",
      "source": [],
      "metadata": {
        "id": "RvqJaIQIIvjq"
      },
      "execution_count": 20,
      "outputs": []
    },
    {
      "cell_type": "markdown",
      "source": [
        "<aside>\n",
        "💡 **Question 5**\n",
        "\n",
        "Given an array of characters chars, compress it using the following algorithm:\n",
        "\n",
        "Begin with an empty string s. For each group of **consecutive repeating characters** in chars:\n",
        "\n",
        "- If the group's length is 1, append the character to s.\n",
        "- Otherwise, append the character followed by the group's length.\n",
        "\n",
        "The compressed string s **should not be returned separately**, but instead, be stored **in the input character array chars**. Note that group lengths that are 10 or longer will be split into multiple characters in chars.\n",
        "\n",
        "After you are done **modifying the input array,** return *the new length of the array*.\n",
        "\n",
        "You must write an algorithm that uses only constant extra space.\n",
        "\n",
        "**Example 1:**\n",
        "\n",
        "**Input:** chars = [\"a\",\"a\",\"b\",\"b\",\"c\",\"c\",\"c\"]\n",
        "\n",
        "**Output:** Return 6, and the first 6 characters of the input array should be: [\"a\",\"2\",\"b\",\"2\",\"c\",\"3\"]\n",
        "\n",
        "**Explanation:**\n",
        "\n",
        "The groups are \"aa\", \"bb\", and \"ccc\". This compresses to \"a2b2c3\".\n",
        "\n",
        "</aside>"
      ],
      "metadata": {
        "id": "h5Zld3mxJC9F"
      }
    },
    {
      "cell_type": "code",
      "source": [
        "def compress(chars):\n",
        "    read = 0\n",
        "    write = 0\n",
        "\n",
        "    while read < len(chars):\n",
        "        currentChar = chars[read]\n",
        "        count = 0\n",
        "\n",
        "        while read < len(chars) and chars[read] == currentChar:\n",
        "            read += 1\n",
        "            count += 1\n",
        "\n",
        "        chars[write] = currentChar\n",
        "        write += 1\n",
        "\n",
        "        if count > 1:\n",
        "            countStr = str(count)\n",
        "            for digit in countStr:\n",
        "                chars[write] = digit\n",
        "                write += 1\n",
        "\n",
        "    return write\n"
      ],
      "metadata": {
        "id": "RFXJL6DuJrnD"
      },
      "execution_count": 23,
      "outputs": []
    },
    {
      "cell_type": "code",
      "source": [
        "chars = [\"a\", \"a\", \"b\", \"b\", \"c\", \"c\", \"c\"]\n",
        "length = compress(chars)\n",
        "print(length)  # Output: 6\n",
        "print(chars[:length])  # Output: [\"a\", \"2\", \"b\", \"2\", \"c\", \"3\"]\n"
      ],
      "metadata": {
        "colab": {
          "base_uri": "https://localhost:8080/"
        },
        "id": "SqxVXbxNJr1e",
        "outputId": "124b546d-b978-46be-f4cf-746a5e9d2c68"
      },
      "execution_count": 24,
      "outputs": [
        {
          "output_type": "stream",
          "name": "stdout",
          "text": [
            "6\n",
            "['a', '2', 'b', '2', 'c', '3']\n"
          ]
        }
      ]
    },
    {
      "cell_type": "code",
      "source": [],
      "metadata": {
        "id": "rDeQDUUsJvQG"
      },
      "execution_count": 24,
      "outputs": []
    },
    {
      "cell_type": "markdown",
      "source": [
        "<aside>\n",
        "💡 **Question 6**\n",
        "\n",
        "Given two strings s and p, return *an array of all the start indices of* p*'s anagrams in* s. You may return the answer in **any order**.\n",
        "\n",
        "An **Anagram** is a word or phrase formed by rearranging the letters of a different word or phrase, typically using all the original letters exactly once.\n",
        "\n",
        "**Example 1:**\n",
        "\n",
        "**Input:** s = \"cbaebabacd\", p = \"abc\"\n",
        "\n",
        "**Output:** [0,6]\n",
        "\n",
        "**Explanation:**\n",
        "\n",
        "The substring with start index = 0 is \"cba\", which is an anagram of \"abc\".\n",
        "\n",
        "The substring with start index = 6 is \"bac\", which is an anagram of \"abc\".\n",
        "\n",
        "</aside>"
      ],
      "metadata": {
        "id": "dfUjG7xbJvy-"
      }
    },
    {
      "cell_type": "code",
      "source": [
        "from collections import Counter\n",
        "\n",
        "def findAnagrams(s, p):\n",
        "    result = []\n",
        "    target_freq = Counter(p)\n",
        "    window_freq = Counter()\n",
        "\n",
        "    left = 0\n",
        "    right = 0\n",
        "    matches = 0\n",
        "\n",
        "    while right < len(s):\n",
        "        char_right = s[right]\n",
        "        window_freq[char_right] += 1\n",
        "\n",
        "        if window_freq[char_right] == target_freq[char_right]:\n",
        "            matches += 1\n",
        "\n",
        "        if right - left + 1 == len(p):\n",
        "            if matches == len(target_freq):\n",
        "                result.append(left)\n",
        "\n",
        "            char_left = s[left]\n",
        "            window_freq[char_left] -= 1\n",
        "\n",
        "            if window_freq[char_left] < target_freq[char_left]:\n",
        "                matches -= 1\n",
        "\n",
        "            left += 1\n",
        "\n",
        "        right += 1\n",
        "\n",
        "    return result\n"
      ],
      "metadata": {
        "id": "BF33UIC-J8mk"
      },
      "execution_count": 27,
      "outputs": []
    },
    {
      "cell_type": "code",
      "source": [
        "s = \"cbaebabacd\"\n",
        "p = \"abc\"\n",
        "result = findAnagrams(s, p)\n",
        "print(result)  # Output: [0, 6]\n"
      ],
      "metadata": {
        "colab": {
          "base_uri": "https://localhost:8080/"
        },
        "id": "gg1DWw97J9N1",
        "outputId": "c4fc0ecd-5b81-4d0e-abb7-d2e99f8f986b"
      },
      "execution_count": 28,
      "outputs": [
        {
          "output_type": "stream",
          "name": "stdout",
          "text": [
            "[0, 6]\n"
          ]
        }
      ]
    },
    {
      "cell_type": "markdown",
      "source": [
        "<aside>\n",
        "💡 **Question 7**\n",
        "\n",
        "Given an encoded string, return its decoded string.\n",
        "\n",
        "The encoding rule is: k[encoded_string], where the encoded_string inside the square brackets is being repeated exactly k times. Note that k is guaranteed to be a positive integer.\n",
        "\n",
        "You may assume that the input string is always valid; there are no extra white spaces, square brackets are well-formed, etc. Furthermore, you may assume that the original data does not contain any digits and that digits are only for those repeat numbers, k. For example, there will not be input like 3a or 2[4].\n",
        "\n",
        "The test cases are generated so that the length of the output will never exceed 105.\n",
        "\n",
        "**Example 1:**\n",
        "\n",
        "**Input:** s = \"3[a]2[bc]\"\n",
        "\n",
        "**Output:** \"aaabcbc\"\n",
        "\n",
        "</aside>"
      ],
      "metadata": {
        "id": "MfEmXOvbKBQX"
      }
    },
    {
      "cell_type": "code",
      "source": [
        "def decodeString(s):\n",
        "    stack = []\n",
        "    curr_str = \"\"\n",
        "    curr_num = 0\n",
        "\n",
        "    for c in s:\n",
        "        if c.isdigit():\n",
        "            curr_num = curr_num * 10 + int(c)\n",
        "        elif c == \"[\":\n",
        "            stack.append(curr_num)\n",
        "            stack.append(curr_str)\n",
        "            curr_num = 0\n",
        "            curr_str = \"\"\n",
        "        elif c == \"]\":\n",
        "            prev_str = stack.pop()\n",
        "            prev_num = stack.pop()\n",
        "            curr_str = prev_str + prev_num * curr_str\n",
        "        else:\n",
        "            curr_str += c\n",
        "\n",
        "    return curr_str\n"
      ],
      "metadata": {
        "id": "xx3ZEa-VKBq7"
      },
      "execution_count": 31,
      "outputs": []
    },
    {
      "cell_type": "code",
      "source": [
        "s = \"3[a]2[bc]\"\n",
        "result = decodeString(s)\n",
        "print(result)  # Output: \"aaabcbc\"\n"
      ],
      "metadata": {
        "colab": {
          "base_uri": "https://localhost:8080/"
        },
        "id": "1oHpUHjNKCSt",
        "outputId": "90693b2e-715c-4c54-e251-91de34f711d7"
      },
      "execution_count": 32,
      "outputs": [
        {
          "output_type": "stream",
          "name": "stdout",
          "text": [
            "aaabcbc\n"
          ]
        }
      ]
    },
    {
      "cell_type": "markdown",
      "source": [
        "<aside>\n",
        "💡 **Question 8**\n",
        "\n",
        "Given two strings s and goal, return true *if you can swap two letters in* s *so the result is equal to* goal*, otherwise, return* false*.*\n",
        "\n",
        "Swapping letters is defined as taking two indices i and j (0-indexed) such that i != j and swapping the characters at s[i] and s[j].\n",
        "\n",
        "- For example, swapping at indices 0 and 2 in \"abcd\" results in \"cbad\".\n",
        "\n",
        "**Example 1:**\n",
        "\n",
        "**Input:** s = \"ab\", goal = \"ba\"\n",
        "\n",
        "**Output:** true\n",
        "\n",
        "**Explanation:** You can swap s[0] = 'a' and s[1] = 'b' to get \"ba\", which is equal to goal.\n",
        "\n",
        "</aside>"
      ],
      "metadata": {
        "id": "vpR91s8KKC3M"
      }
    },
    {
      "cell_type": "code",
      "source": [
        "def buddyStrings(s, goal):\n",
        "    if len(s) != len(goal):\n",
        "        return False\n",
        "\n",
        "    mismatch_indices = []\n",
        "    mismatch_chars = []\n",
        "\n",
        "    for i in range(len(s)):\n",
        "        if s[i] != goal[i]:\n",
        "            mismatch_indices.append(i)\n",
        "            mismatch_chars.append((s[i], goal[i]))\n",
        "\n",
        "    if len(mismatch_indices) != 2:\n",
        "        return False\n",
        "\n",
        "    return mismatch_chars[0][0] == mismatch_chars[1][1] and mismatch_chars[0][1] == mismatch_chars[1][0]\n"
      ],
      "metadata": {
        "id": "W9pNl51AKGTc"
      },
      "execution_count": 33,
      "outputs": []
    },
    {
      "cell_type": "code",
      "source": [
        "s = \"ab\"\n",
        "goal = \"ba\"\n",
        "result = buddyStrings(s, goal)\n",
        "print(result)  # Output: True\n"
      ],
      "metadata": {
        "colab": {
          "base_uri": "https://localhost:8080/"
        },
        "id": "z0y8bdlbL3Ou",
        "outputId": "39138b35-a5a8-4edd-d1c3-648074b1649c"
      },
      "execution_count": 34,
      "outputs": [
        {
          "output_type": "stream",
          "name": "stdout",
          "text": [
            "True\n"
          ]
        }
      ]
    },
    {
      "cell_type": "code",
      "source": [],
      "metadata": {
        "id": "QIm0sfDwL6La"
      },
      "execution_count": null,
      "outputs": []
    }
  ]
}