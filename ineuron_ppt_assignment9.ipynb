{
  "nbformat": 4,
  "nbformat_minor": 0,
  "metadata": {
    "colab": {
      "provenance": [],
      "authorship_tag": "ABX9TyMlK39DoNn1xTgATm5LCBzl",
      "include_colab_link": true
    },
    "kernelspec": {
      "name": "python3",
      "display_name": "Python 3"
    },
    "language_info": {
      "name": "python"
    }
  },
  "cells": [
    {
      "cell_type": "markdown",
      "metadata": {
        "id": "view-in-github",
        "colab_type": "text"
      },
      "source": [
        "<a href=\"https://colab.research.google.com/github/DeepakRautella/google_collab/blob/main/ineuron_ppt_assignment9.ipynb\" target=\"_parent\"><img src=\"https://colab.research.google.com/assets/colab-badge.svg\" alt=\"Open In Colab\"/></a>"
      ]
    },
    {
      "cell_type": "code",
      "execution_count": null,
      "metadata": {
        "id": "Udk_8_8MMMqn"
      },
      "outputs": [],
      "source": []
    },
    {
      "cell_type": "markdown",
      "source": [
        "<aside>\n",
        "💡 **Question 1**\n",
        "\n",
        "Given an integer `n`, return *`true` if it is a power of two. Otherwise, return `false`*.\n",
        "\n",
        "An integer `n` is a power of two, if there exists an integer `x` such that `n == 2x`.\n",
        "\n",
        "**Example 1:**\n",
        "Input: n = 1\n",
        "\n",
        "Output: true\n",
        "\n",
        "**Example 2:**\n",
        "Input: n = 16\n",
        "\n",
        "Output: true\n",
        "\n",
        "**Example 3:**\n",
        "Input: n = 3\n",
        "\n",
        "Output: false\n",
        "\n",
        "</aside>"
      ],
      "metadata": {
        "id": "gcPBpAaTi2Wi"
      }
    },
    {
      "cell_type": "code",
      "source": [
        "def is_power_of_two_recursive(n):\n",
        "    if n == 1:\n",
        "        return True\n",
        "    elif n <= 0 or n % 2 != 0:\n",
        "        return False\n",
        "    else:\n",
        "        return is_power_of_two_recursive(n // 2)\n"
      ],
      "metadata": {
        "id": "9VSZOPeHi21s"
      },
      "execution_count": 7,
      "outputs": []
    },
    {
      "cell_type": "code",
      "source": [
        "is_power_of_two_recursive(1)"
      ],
      "metadata": {
        "colab": {
          "base_uri": "https://localhost:8080/"
        },
        "id": "as6lplMijEvy",
        "outputId": "79c0dc2d-b95c-43b0-d032-88408004a843"
      },
      "execution_count": 12,
      "outputs": [
        {
          "output_type": "execute_result",
          "data": {
            "text/plain": [
              "True"
            ]
          },
          "metadata": {},
          "execution_count": 12
        }
      ]
    },
    {
      "cell_type": "code",
      "source": [
        "is_power_of_two_recursive(16)"
      ],
      "metadata": {
        "colab": {
          "base_uri": "https://localhost:8080/"
        },
        "id": "dDx4w_6bjI1-",
        "outputId": "35d62d3d-0c3a-4f32-bff5-85e8bf421680"
      },
      "execution_count": 13,
      "outputs": [
        {
          "output_type": "execute_result",
          "data": {
            "text/plain": [
              "True"
            ]
          },
          "metadata": {},
          "execution_count": 13
        }
      ]
    },
    {
      "cell_type": "code",
      "source": [
        "is_power_of_two_recursive(3)"
      ],
      "metadata": {
        "colab": {
          "base_uri": "https://localhost:8080/"
        },
        "id": "nyKEDA8BjLmG",
        "outputId": "f12c083a-5c52-443d-9826-a6f1f7464be7"
      },
      "execution_count": 11,
      "outputs": [
        {
          "output_type": "execute_result",
          "data": {
            "text/plain": [
              "False"
            ]
          },
          "metadata": {},
          "execution_count": 11
        }
      ]
    },
    {
      "cell_type": "code",
      "source": [],
      "metadata": {
        "id": "2SxJO4YXjM4d"
      },
      "execution_count": null,
      "outputs": []
    },
    {
      "cell_type": "markdown",
      "source": [
        "<aside>\n",
        "💡 **Question 2**\n",
        "\n",
        "Given a number n, find the sum of the first natural numbers.\n",
        "\n",
        "**Example 1:**\n",
        "\n",
        "Input: n = 3\n",
        "\n",
        "Output: 6\n",
        "\n",
        "**Example 2:**\n",
        "\n",
        "Input  : 5\n",
        "\n",
        "Output : 15\n",
        "\n",
        "</aside>"
      ],
      "metadata": {
        "id": "7U-jVfsVjcNc"
      }
    },
    {
      "cell_type": "code",
      "source": [
        "def sum_of_natural_numbers(n):\n",
        "    return (n * (n + 1)) // 2\n"
      ],
      "metadata": {
        "id": "9X_kD9QjjenQ"
      },
      "execution_count": 5,
      "outputs": []
    },
    {
      "cell_type": "code",
      "source": [
        "sum_of_natural_numbers(5)"
      ],
      "metadata": {
        "colab": {
          "base_uri": "https://localhost:8080/"
        },
        "id": "lNfg7hcbjkfP",
        "outputId": "9c1eb101-0812-4e1b-c178-28fa41ae143d"
      },
      "execution_count": 6,
      "outputs": [
        {
          "output_type": "execute_result",
          "data": {
            "text/plain": [
              "15"
            ]
          },
          "metadata": {},
          "execution_count": 6
        }
      ]
    },
    {
      "cell_type": "code",
      "source": [],
      "metadata": {
        "id": "pybNV2JGjnb2"
      },
      "execution_count": null,
      "outputs": []
    },
    {
      "cell_type": "markdown",
      "source": [
        "<aside>\n",
        "💡 **Question 3**\n",
        "\n",
        "****Given a positive integer, N. Find the factorial of N.\n",
        "\n",
        "**Example 1:**\n",
        "\n",
        "Input: N = 5\n",
        "\n",
        "Output: 120\n",
        "\n",
        "**Example 2:**\n",
        "\n",
        "Input: N = 4\n",
        "\n",
        "Output: 24\n",
        "\n",
        "</aside>"
      ],
      "metadata": {
        "id": "kwz-Te6_lctu"
      }
    },
    {
      "cell_type": "code",
      "source": [
        "def factorial(n):\n",
        "    if n == 0:\n",
        "        return 1\n",
        "    else:\n",
        "        return n * factorial(n - 1)\n"
      ],
      "metadata": {
        "id": "YANpZJX_lfj1"
      },
      "execution_count": 14,
      "outputs": []
    },
    {
      "cell_type": "code",
      "source": [
        "factorial(5)"
      ],
      "metadata": {
        "colab": {
          "base_uri": "https://localhost:8080/"
        },
        "id": "h77TGNpgmL1_",
        "outputId": "9e76352e-509f-46be-8644-a1b17345b9ab"
      },
      "execution_count": 15,
      "outputs": [
        {
          "output_type": "execute_result",
          "data": {
            "text/plain": [
              "120"
            ]
          },
          "metadata": {},
          "execution_count": 15
        }
      ]
    },
    {
      "cell_type": "code",
      "source": [
        "factorial(4)"
      ],
      "metadata": {
        "colab": {
          "base_uri": "https://localhost:8080/"
        },
        "id": "5cylkjDImOM9",
        "outputId": "32ed148f-f79a-4a4f-c25e-2da47bc0c630"
      },
      "execution_count": 16,
      "outputs": [
        {
          "output_type": "execute_result",
          "data": {
            "text/plain": [
              "24"
            ]
          },
          "metadata": {},
          "execution_count": 16
        }
      ]
    },
    {
      "cell_type": "code",
      "source": [],
      "metadata": {
        "id": "lvc7GCdfmPi6"
      },
      "execution_count": null,
      "outputs": []
    },
    {
      "cell_type": "markdown",
      "source": [
        "<aside>\n",
        "💡 **Question 4**\n",
        "\n",
        "Given a number N and a power P, the task is to find the exponent of this number raised to the given power, i.e. N^P.\n",
        "\n",
        "**Example 1 :**\n",
        "\n",
        "Input: N = 5, P = 2\n",
        "\n",
        "Output: 25\n",
        "\n",
        "**Example 2 :**\n",
        "Input: N = 2, P = 5\n",
        "\n",
        "Output: 32\n",
        "\n",
        "</aside>"
      ],
      "metadata": {
        "id": "GhpyIrS7mQVX"
      }
    },
    {
      "cell_type": "code",
      "source": [
        "def power(N, P):\n",
        "    if P == 0:\n",
        "        return 1\n",
        "    else:\n",
        "        return N * power(N, P - 1)\n"
      ],
      "metadata": {
        "id": "dPnaPXPSmTG3"
      },
      "execution_count": 17,
      "outputs": []
    },
    {
      "cell_type": "code",
      "source": [
        "power(5,2)"
      ],
      "metadata": {
        "colab": {
          "base_uri": "https://localhost:8080/"
        },
        "id": "9EolcJ9Vman1",
        "outputId": "31093c63-4b70-4391-97b0-4ffbb6067861"
      },
      "execution_count": 18,
      "outputs": [
        {
          "output_type": "execute_result",
          "data": {
            "text/plain": [
              "25"
            ]
          },
          "metadata": {},
          "execution_count": 18
        }
      ]
    },
    {
      "cell_type": "markdown",
      "source": [
        "<aside>\n",
        "💡 **Question 5**\n",
        "\n",
        "Given an array of integers **arr**, the task is to find maximum element of that array using recursion.\n",
        "\n",
        "**Example 1:**\n",
        "\n",
        "Input: arr = {1, 4, 3, -5, -4, 8, 6};\n",
        "Output: 8\n",
        "\n",
        "**Example 2:**\n",
        "\n",
        "Input: arr = {1, 4, 45, 6, 10, -8};\n",
        "Output: 45\n",
        "\n",
        "</aside>"
      ],
      "metadata": {
        "id": "LVhz8fg7ma0w"
      }
    },
    {
      "cell_type": "code",
      "source": [
        "def find_max(arr):\n",
        "    if len(arr) == 1:\n",
        "        return arr[0]\n",
        "    else:\n",
        "        return max(arr[0], find_max(arr[1:]))\n"
      ],
      "metadata": {
        "id": "IcTxxcEDmdMv"
      },
      "execution_count": 22,
      "outputs": []
    },
    {
      "cell_type": "code",
      "source": [
        "find_max([1, 4, 45, 6, 10, -8])"
      ],
      "metadata": {
        "colab": {
          "base_uri": "https://localhost:8080/"
        },
        "id": "J3NCUBjem3-Z",
        "outputId": "e216d612-5e19-4a36-f91c-3affa85b6e62"
      },
      "execution_count": 23,
      "outputs": [
        {
          "output_type": "execute_result",
          "data": {
            "text/plain": [
              "45"
            ]
          },
          "metadata": {},
          "execution_count": 23
        }
      ]
    },
    {
      "cell_type": "markdown",
      "source": [
        "<aside>\n",
        "💡 **Question 6**\n",
        "\n",
        "Given first term (a), common difference (d) and a integer N of the Arithmetic Progression series, the task is to find Nth term of the series.\n",
        "\n",
        "**Example 1:**\n",
        "\n",
        "Input : a = 2 d = 1 N = 5\n",
        "Output : 6\n",
        "The 5th term of the series is : 6\n",
        "\n",
        "**Example 2:**\n",
        "\n",
        "Input : a = 5 d = 2 N = 10\n",
        "Output : 23\n",
        "The 10th term of the series is : 23\n",
        "\n",
        "</aside>"
      ],
      "metadata": {
        "id": "c232ER0lm4OK"
      }
    },
    {
      "cell_type": "code",
      "source": [
        "def nth_term(a, d, N):\n",
        "    if N == 1:\n",
        "        return a\n",
        "    else:\n",
        "        return nth_term(a + d, d, N - 1)\n"
      ],
      "metadata": {
        "id": "lqBPue9Jm4q_"
      },
      "execution_count": 24,
      "outputs": []
    },
    {
      "cell_type": "code",
      "source": [
        "nth_term(2,5,10)"
      ],
      "metadata": {
        "colab": {
          "base_uri": "https://localhost:8080/"
        },
        "id": "KejJvkGFnZtg",
        "outputId": "ac32a7e8-fd15-4212-d5d8-1ee1815fd7d8"
      },
      "execution_count": 25,
      "outputs": [
        {
          "output_type": "execute_result",
          "data": {
            "text/plain": [
              "47"
            ]
          },
          "metadata": {},
          "execution_count": 25
        }
      ]
    },
    {
      "cell_type": "markdown",
      "source": [
        "<aside>\n",
        "💡 **Question 7**\n",
        "\n",
        "Given a string S, the task is to write a program to print all permutations of a given string.\n",
        "\n",
        "**Example 1:**\n",
        "\n",
        "***Input:***\n",
        "\n",
        "*S = “ABC”*\n",
        "\n",
        "***Output:***\n",
        "\n",
        "*“ABC”, “ACB”, “BAC”, “BCA”, “CBA”, “CAB”*\n",
        "\n",
        "**Example 2:**\n",
        "\n",
        "***Input:***\n",
        "\n",
        "*S = “XY”*\n",
        "\n",
        "***Output:***\n",
        "\n",
        "*“XY”, “YX”*\n",
        "\n",
        "</aside>"
      ],
      "metadata": {
        "id": "Qt7XBA8ZnZ9q"
      }
    },
    {
      "cell_type": "code",
      "source": [
        "def permutations(S, left, right):\n",
        "    if left == right:\n",
        "        print(''.join(S))\n",
        "    else:\n",
        "        for i in range(left, right + 1):\n",
        "            S[left], S[i] = S[i], S[left]  # Swap characters\n",
        "            permutations(S, left + 1, right)  # Recursive call\n",
        "            S[left], S[i] = S[i], S[left]  # Backtrack, restore original order\n",
        "\n",
        "# Main function to call the permutations function\n",
        "def generate_permutations(S):\n",
        "    permutations(list(S), 0, len(S) - 1)\n"
      ],
      "metadata": {
        "id": "vgW2pZtEnaZH"
      },
      "execution_count": 28,
      "outputs": []
    },
    {
      "cell_type": "code",
      "source": [
        "generate_permutations(\"ABC\")"
      ],
      "metadata": {
        "colab": {
          "base_uri": "https://localhost:8080/"
        },
        "id": "hGXnNzVdnn6b",
        "outputId": "a979ac22-6915-4092-d3f8-1e7b08f595d9"
      },
      "execution_count": 29,
      "outputs": [
        {
          "output_type": "stream",
          "name": "stdout",
          "text": [
            "ABC\n",
            "ACB\n",
            "BAC\n",
            "BCA\n",
            "CBA\n",
            "CAB\n"
          ]
        }
      ]
    },
    {
      "cell_type": "markdown",
      "source": [
        "<aside>\n",
        "💡 **Question 8**\n",
        "\n",
        "Given an array, find a product of all array elements.\n",
        "\n",
        "**Example 1:**\n",
        "\n",
        "Input  : arr[] = {1, 2, 3, 4, 5}\n",
        "Output : 120\n",
        "**Example 2:**\n",
        "\n",
        "Input  : arr[] = {1, 6, 3}\n",
        "Output : 18\n",
        "\n",
        "</aside>"
      ],
      "metadata": {
        "id": "ICNr6GuCnoIp"
      }
    },
    {
      "cell_type": "code",
      "source": [
        "def array_product(arr, index):\n",
        "    if index == len(arr):\n",
        "        return 1\n",
        "    else:\n",
        "        return arr[index] * array_product(arr, index + 1)\n"
      ],
      "metadata": {
        "id": "Bep8_VUlnqTk"
      },
      "execution_count": 30,
      "outputs": []
    },
    {
      "cell_type": "code",
      "source": [
        "array_product([1,2,3,4,5],0)"
      ],
      "metadata": {
        "colab": {
          "base_uri": "https://localhost:8080/"
        },
        "id": "6Pj3NzKfo1SE",
        "outputId": "ae667f96-3644-4af8-c811-7f3c4591678b"
      },
      "execution_count": 32,
      "outputs": [
        {
          "output_type": "execute_result",
          "data": {
            "text/plain": [
              "120"
            ]
          },
          "metadata": {},
          "execution_count": 32
        }
      ]
    },
    {
      "cell_type": "code",
      "source": [],
      "metadata": {
        "id": "6Qdj_VH0o60A"
      },
      "execution_count": null,
      "outputs": []
    }
  ]
}