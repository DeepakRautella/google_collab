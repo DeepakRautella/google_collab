{
  "nbformat": 4,
  "nbformat_minor": 0,
  "metadata": {
    "colab": {
      "provenance": [],
      "authorship_tag": "ABX9TyPOyGI8hgxZNB27ATsKfGqa",
      "include_colab_link": true
    },
    "kernelspec": {
      "name": "python3",
      "display_name": "Python 3"
    },
    "language_info": {
      "name": "python"
    }
  },
  "cells": [
    {
      "cell_type": "markdown",
      "metadata": {
        "id": "view-in-github",
        "colab_type": "text"
      },
      "source": [
        "<a href=\"https://colab.research.google.com/github/DeepakRautella/google_collab/blob/main/ineuron_ppt_asignment14.ipynb\" target=\"_parent\"><img src=\"https://colab.research.google.com/assets/colab-badge.svg\" alt=\"Open In Colab\"/></a>"
      ]
    },
    {
      "cell_type": "code",
      "execution_count": null,
      "metadata": {
        "id": "4M0zPPIgzFqs"
      },
      "outputs": [],
      "source": []
    },
    {
      "cell_type": "markdown",
      "source": [
        "<aside>\n",
        "💡 **Question 1**\n",
        "\n",
        "Given a linked list of **N** nodes such that it may contain a loop.\n",
        "\n",
        "A loop here means that the last node of the link list is connected to the node at position X(1-based index). If the link list does not have any loop, X=0.\n",
        "\n",
        "Remove the loop from the linked list, if it is present, i.e. unlink the last node which is forming the loop.\n",
        "Input:\n",
        "N = 3\n",
        "value[] = {1,3,4}\n",
        "X = 2\n",
        "Output:1\n",
        "Explanation:The link list looks like\n",
        "1 -> 3 -> 4\n",
        "     ^    |\n",
        "     |____|\n",
        "A loop is present. If you remove it\n",
        "successfully, the answer will be 1.\n",
        "\n",
        "</aside>"
      ],
      "metadata": {
        "id": "mNJPrXcLzzL6"
      }
    },
    {
      "cell_type": "code",
      "source": [
        "class Node:\n",
        "    def __init__(self, data):\n",
        "        self.data = data\n",
        "        self.next = None\n",
        "\n",
        "def detectAndRemoveLoop(head):\n",
        "    slow = head\n",
        "    fast = head\n",
        "\n",
        "    # Find the meeting point\n",
        "    while fast and fast.next:\n",
        "        slow = slow.next\n",
        "        fast = fast.next.next\n",
        "        if slow == fast:\n",
        "            break\n",
        "\n",
        "    # No loop found\n",
        "    if slow != fast:\n",
        "        return\n",
        "\n",
        "    # Reset slow pointer to the head and move both pointers\n",
        "    slow = head\n",
        "    while slow.next != fast.next:\n",
        "        slow = slow.next\n",
        "        fast = fast.next\n",
        "\n",
        "    # Remove the loop\n",
        "    fast.next = None\n",
        "\n",
        "    return head\n",
        "\n",
        "# Create a linked list with a loop\n",
        "head = Node(1)\n",
        "head.next = Node(3)\n",
        "head.next.next = Node(4)\n",
        "head.next.next.next = head.next  # Creating a loop\n",
        "\n",
        "# Remove the loop\n",
        "head = detectAndRemoveLoop(head)\n",
        "\n",
        "# Print the resulting linked list\n",
        "current = head\n",
        "while current:\n",
        "    print(current.data, end=\" \")\n",
        "    current = current.next\n"
      ],
      "metadata": {
        "colab": {
          "base_uri": "https://localhost:8080/"
        },
        "id": "bJzPzGu5z11V",
        "outputId": "6cb83b8b-6fa0-4013-b97f-f85f0afbb7cb"
      },
      "execution_count": 1,
      "outputs": [
        {
          "output_type": "stream",
          "name": "stdout",
          "text": [
            "1 3 4 "
          ]
        }
      ]
    },
    {
      "cell_type": "code",
      "source": [],
      "metadata": {
        "id": "EyJRzcW5z-cm"
      },
      "execution_count": null,
      "outputs": []
    },
    {
      "cell_type": "markdown",
      "source": [
        "<aside>\n",
        "💡 **Question 2**\n",
        "\n",
        "A number **N** is represented in Linked List such that each digit corresponds to a node in linked list. You need to add 1 to it.\n",
        "\n",
        "**Example 1:**\n",
        "Input:\n",
        "LinkedList: 4->5->6\n",
        "Output:457\n",
        "\n",
        "</aside>"
      ],
      "metadata": {
        "id": "aO9sKkZi0BaK"
      }
    },
    {
      "cell_type": "code",
      "source": [
        "class Node:\n",
        "    def __init__(self, data):\n",
        "        self.data = data\n",
        "        self.next = None\n",
        "\n",
        "def reverseLinkedList(head):\n",
        "    prev = None\n",
        "    current = head\n",
        "\n",
        "    while current:\n",
        "        next_node = current.next\n",
        "        current.next = prev\n",
        "        prev = current\n",
        "        current = next_node\n",
        "\n",
        "    return prev\n",
        "\n",
        "def addOne(head):\n",
        "    # Reverse the linked list\n",
        "    head = reverseLinkedList(head)\n",
        "\n",
        "    current = head\n",
        "    carry = 1\n",
        "\n",
        "    while current:\n",
        "        sum = current.data + carry\n",
        "        current.data = sum % 10\n",
        "        carry = sum // 10\n",
        "\n",
        "        if carry == 0:\n",
        "            break\n",
        "\n",
        "        current = current.next\n",
        "\n",
        "    # Reverse the linked list back to its original order\n",
        "    head = reverseLinkedList(head)\n",
        "\n",
        "    return head\n",
        "\n",
        "# Create the linked list\n",
        "head = Node(4)\n",
        "head.next = Node(5)\n",
        "head.next.next = Node(6)\n",
        "\n",
        "# Add 1 to the number represented by the linked list\n",
        "head = addOne(head)\n",
        "\n",
        "# Print the resulting number\n",
        "current = head\n",
        "while current:\n",
        "    print(current.data, end=\"\")\n",
        "    current = current.next\n",
        "\n"
      ],
      "metadata": {
        "colab": {
          "base_uri": "https://localhost:8080/"
        },
        "id": "zBmZmttA0KWF",
        "outputId": "8e9d2729-4c8e-4322-a2c6-93b43b5e7234"
      },
      "execution_count": 2,
      "outputs": [
        {
          "output_type": "stream",
          "name": "stdout",
          "text": [
            "457"
          ]
        }
      ]
    },
    {
      "cell_type": "markdown",
      "source": [
        "<aside>\n",
        "💡 **Question 3**\n",
        "\n",
        "Given a Linked List of size N, where every node represents a sub-linked-list and contains two pointers:(i) a **next** pointer to the next node,(ii) a **bottom** pointer to a linked list where this node is head.Each of the sub-linked-list is in sorted order.Flatten the Link List such that all the nodes appear in a single level while maintaining the sorted order. **Note:** The flattened list will be printed using the bottom pointer instead of next pointer.\n",
        "\n",
        "**Example 1:**\n",
        "Input:\n",
        "5 -> 10 -> 19 -> 28\n",
        "|     |     |     |\n",
        "7     20    22   35\n",
        "|           |     |\n",
        "8          50    40\n",
        "|                 |\n",
        "30               45\n",
        "Output: 5-> 7-> 8- > 10 -> 19-> 20->\n",
        "22-> 28-> 30-> 35-> 40-> 45-> 50.\n",
        "Explanation:\n",
        "The resultant linked lists has every\n",
        "node in a single level.(Note:| represents the bottom pointer.)\n",
        "\n",
        "</aside>"
      ],
      "metadata": {
        "id": "USodln9P0K9M"
      }
    },
    {
      "cell_type": "code",
      "source": [
        "class Node:\n",
        "    def __init__(self, data):\n",
        "        self.data = data\n",
        "        self.next = None\n",
        "        self.bottom = None\n",
        "\n",
        "def mergeLists(a, b):\n",
        "    # Base cases\n",
        "    if a is None:\n",
        "        return b\n",
        "    if b is None:\n",
        "        return a\n",
        "\n",
        "    # Compare the data of the nodes\n",
        "    if a.data < b.data:\n",
        "        result = a\n",
        "        result.bottom = mergeLists(a.bottom, b)\n",
        "    else:\n",
        "        result = b\n",
        "        result.bottom = mergeLists(a, b.bottom)\n",
        "\n",
        "    return result\n",
        "\n",
        "def flattenLinkedList(root):\n",
        "    # Base case\n",
        "    if root is None or root.next is None:\n",
        "        return root\n",
        "\n",
        "    # Merge the current list with the flattened list of the next node\n",
        "    root.next = flattenLinkedList(root.next)\n",
        "\n",
        "    # Merge the resulting list with the list at the bottom pointer\n",
        "    root = mergeLists(root, root.next)\n",
        "\n",
        "    # Return the flattened list\n",
        "    return root\n",
        "\n",
        "# Create the linked list\n",
        "head = Node(5)\n",
        "head.next = Node(10)\n",
        "head.next.next = Node(19)\n",
        "head.next.next.next = Node(28)\n",
        "\n",
        "head.bottom = Node(7)\n",
        "head.bottom.bottom = Node(8)\n",
        "head.bottom.bottom.bottom = Node(30)\n",
        "\n",
        "head.next.bottom = Node(20)\n",
        "\n",
        "head.next.next.bottom = Node(22)\n",
        "head.next.next.next.bottom = Node(35)\n",
        "\n",
        "head.bottom.next = Node(50)\n",
        "\n",
        "head.next.next.bottom.next = Node(40)\n",
        "head.next.next.next.bottom.next = Node(45)\n",
        "\n",
        "# Flatten the linked list\n",
        "head = flattenLinkedList(head)\n",
        "\n",
        "# Print the flattened list\n",
        "current = head\n",
        "while current:\n",
        "    print(current.data, end=\" \")\n",
        "    current = current.bottom\n",
        "\n"
      ],
      "metadata": {
        "colab": {
          "base_uri": "https://localhost:8080/"
        },
        "id": "GEet01DK0OkW",
        "outputId": "9a49fbbc-9612-43bc-d842-417c4483b6f4"
      },
      "execution_count": 3,
      "outputs": [
        {
          "output_type": "stream",
          "name": "stdout",
          "text": [
            "5 7 8 10 19 20 22 28 30 35 "
          ]
        }
      ]
    },
    {
      "cell_type": "markdown",
      "source": [
        "<aside>\n",
        "💡 **Question 4**\n",
        "\n",
        "You are given a special linked list with **N** nodes where each node has a next pointer pointing to its next node. You are also given **M** random pointers, where you will be given **M** number of pairs denoting two nodes **a** and **b**  **i.e. a->arb = b** (arb is pointer to random node)**.**\n",
        "\n",
        "Construct a copy of the given list. The copy should consist of exactly **N** new nodes, where each new node has its value set to the value of its corresponding original node. Both the next and random pointer of the new nodes should point to new nodes in the copied list such that the pointers in the original list and copied list represent the same list state. None of the pointers in the new list should point to nodes in the original list.\n",
        "\n",
        "For example, if there are two nodes **X** and **Y** in the original list, where **X.arb** **-->** **Y**, then for the corresponding two nodes **x** and **y** in the copied list, **x.arb --> y.**\n",
        "\n",
        "Return the head of the copied linked list.\n",
        "\n",
        "Example1.\n",
        "Input:\n",
        "N = 4, M = 2\n",
        "value = {1,2,3,4}\n",
        "pairs = {{1,2},{2,4}}\n",
        "Output:1\n",
        "Explanation:In this test case, there\n",
        "are 4 nodes in linked list.  Among these\n",
        "4 nodes,  2 nodes have arbitrary pointer\n",
        "set, rest two nodes have arbitrary pointer\n",
        "as NULL. Second line tells us the value\n",
        "of four nodes. The third line gives the\n",
        "information about arbitrary pointers.\n",
        "The first node arbitrary pointer is set to\n",
        "node 2.  The second node arbitrary pointer\n",
        "is set to node 4.\n",
        "\n",
        "</aside>"
      ],
      "metadata": {
        "id": "xggL8di70xOt"
      }
    },
    {
      "cell_type": "code",
      "source": [
        "class Node:\n",
        "    def __init__(self, data):\n",
        "        self.data = data\n",
        "        self.next = None\n",
        "        self.random = None\n",
        "\n",
        "def copyRandomList(head):\n",
        "    if not head:\n",
        "        return None\n",
        "\n",
        "    # Step 1: Create a copy of each node and insert it next to the original node\n",
        "    current = head\n",
        "    while current:\n",
        "        new_node = Node(current.data)\n",
        "        new_node.next = current.next\n",
        "        current.next = new_node\n",
        "        current = new_node.next\n",
        "\n",
        "    # Step 2: Update the random pointers of the copied nodes\n",
        "    current = head\n",
        "    while current:\n",
        "        if current.random:\n",
        "            current.next.random = current.random.next\n",
        "        current = current.next.next\n",
        "\n",
        "    # Step 3: Separate the original and copied linked lists\n",
        "    original = head\n",
        "    copied = head.next\n",
        "    new_head = copied\n",
        "\n",
        "    while original:\n",
        "        original.next = original.next.next\n",
        "        if copied.next:\n",
        "            copied.next = copied.next.next\n",
        "        original = original.next\n",
        "        copied = copied.next\n",
        "\n",
        "    return new_head\n",
        "\n",
        "# Create the original linked list\n",
        "head = Node(1)\n",
        "head.next = Node(2)\n",
        "head.next.next = Node(3)\n",
        "head.next.next.next = Node(4)\n",
        "\n",
        "# Set the random pointers\n",
        "head.random = head.next.next\n",
        "head.next.random = head.next.next.next\n",
        "\n",
        "# Copy the linked list\n",
        "copied_head = copyRandomList(head)\n",
        "\n",
        "# Print the copied linked list\n",
        "current = copied_head\n",
        "while current:\n",
        "    print(current.data, end=\" \")\n",
        "    current = current.next\n",
        "\n"
      ],
      "metadata": {
        "colab": {
          "base_uri": "https://localhost:8080/"
        },
        "id": "SklpU-rh1oGr",
        "outputId": "027c8161-38bd-4f87-bc22-0d3bf1610b0a"
      },
      "execution_count": 4,
      "outputs": [
        {
          "output_type": "stream",
          "name": "stdout",
          "text": [
            "1 2 3 4 "
          ]
        }
      ]
    },
    {
      "cell_type": "markdown",
      "source": [
        "<aside>\n",
        "💡 **Question 5**\n",
        "\n",
        "Given the `head` of a singly linked list, group all the nodes with odd indices together followed by the nodes with even indices, and return *the reordered list*.\n",
        "\n",
        "The **first** node is considered **odd**, and the **second** node is **even**, and so on.\n",
        "\n",
        "Note that the relative order inside both the even and odd groups should remain as it was in the input.\n",
        "\n",
        "You must solve the problem in `O(1)` extra space complexity and `O(n)` time complexity.\n",
        "\n",
        "**Example 1:**\n",
        "Input: head = [1,2,3,4,5]\n",
        "Output: [1,3,5,2,4]\n",
        "\n",
        "</aside>"
      ],
      "metadata": {
        "id": "RJK_MZ9y1oX9"
      }
    },
    {
      "cell_type": "code",
      "source": [
        "class ListNode:\n",
        "    def __init__(self, val=0, next=None):\n",
        "        self.val = val\n",
        "        self.next = next\n",
        "\n",
        "def oddEvenList(head):\n",
        "    if not head or not head.next:\n",
        "        return head\n",
        "\n",
        "    odd_head = odd = head\n",
        "    even_head = even = head.next\n",
        "\n",
        "    while even and even.next:\n",
        "        odd.next = even.next\n",
        "        odd = odd.next\n",
        "        even.next = odd.next\n",
        "        even = even.next\n",
        "\n",
        "    odd.next = even_head\n",
        "\n",
        "    return odd_head\n",
        "\n",
        "# Create the linked list\n",
        "head = ListNode(1)\n",
        "head.next = ListNode(2)\n",
        "head.next.next = ListNode(3)\n",
        "head.next.next.next = ListNode(4)\n",
        "head.next.next.next.next = ListNode(5)\n",
        "\n",
        "# Group the nodes by their indices\n",
        "new_head = oddEvenList(head)\n",
        "\n",
        "# Print the modified linked list\n",
        "current = new_head\n",
        "while current:\n",
        "    print(current.val, end=\" \")\n",
        "    current = current.next\n"
      ],
      "metadata": {
        "colab": {
          "base_uri": "https://localhost:8080/"
        },
        "id": "Xrd4Qasf04J4",
        "outputId": "6b73499d-f30f-44d9-966d-2800decf0b30"
      },
      "execution_count": 5,
      "outputs": [
        {
          "output_type": "stream",
          "name": "stdout",
          "text": [
            "1 3 5 2 4 "
          ]
        }
      ]
    },
    {
      "cell_type": "markdown",
      "source": [
        "<aside>\n",
        "💡 **Question 6**\n",
        "\n",
        "Given a singly linked list of size **N**. The task is to **left-shift** the linked list by **k** nodes, where **k** is a given positive integer smaller than or equal to length of the linked list.\n",
        "\n",
        "**Example 1:**\n",
        "Input:\n",
        "N = 5\n",
        "value[] = {2, 4, 7, 8, 9}\n",
        "k = 3\n",
        "Output:8 9 2 4 7\n",
        "Explanation:Rotate 1:4 -> 7 -> 8 -> 9 -> 2\n",
        "Rotate 2: 7 -> 8 -> 9 -> 2 -> 4\n",
        "Rotate 3: 8 -> 9 -> 2 -> 4 -> 7\n",
        "\n",
        "</aside>"
      ],
      "metadata": {
        "id": "YJ0ilR1G3K-1"
      }
    },
    {
      "cell_type": "code",
      "source": [
        "class ListNode:\n",
        "    def __init__(self, val=0, next=None):\n",
        "        self.val = val\n",
        "        self.next = next\n",
        "\n",
        "def rotateLeft(head, k):\n",
        "    if not head or not head.next:\n",
        "        return head\n",
        "\n",
        "    # Find the length of the linked list\n",
        "    length = 0\n",
        "    current = head\n",
        "    while current:\n",
        "        current = current.next\n",
        "        length += 1\n",
        "\n",
        "    # Adjust the value of k to be within the range of the linked list length\n",
        "    k = k % length\n",
        "\n",
        "    # If k is 0, no rotation is required\n",
        "    if k == 0:\n",
        "        return head\n",
        "\n",
        "    # Find the k+1th node from the beginning\n",
        "    count = 0\n",
        "    current = head\n",
        "    while count < k - 1:\n",
        "        current = current.next\n",
        "        count += 1\n",
        "\n",
        "    # Set the next pointer of the k+1th node to None\n",
        "    new_head = current.next\n",
        "    current.next = None\n",
        "\n",
        "    # Traverse to the end of the original linked list\n",
        "    current = new_head\n",
        "    while current.next:\n",
        "        current = current.next\n",
        "\n",
        "    # Connect the end of the original linked list with the original head\n",
        "    current.next = head\n",
        "\n",
        "    return new_head\n",
        "\n",
        "# Create the linked list\n",
        "head = ListNode(2)\n",
        "head.next = ListNode(4)\n",
        "head.next.next = ListNode(7)\n",
        "head.next.next.next = ListNode(8)\n",
        "head.next.next.next.next = ListNode(9)\n",
        "\n",
        "# Left-shift the linked list by k=3 nodes\n",
        "new_head = rotateLeft(head, 3)\n",
        "\n",
        "# Print the modified linked list\n",
        "current = new_head\n",
        "while current:\n",
        "    print(current.val, end=\" \")\n",
        "    current = current.next\n"
      ],
      "metadata": {
        "colab": {
          "base_uri": "https://localhost:8080/"
        },
        "id": "RbFFlIWP3M5Z",
        "outputId": "959bd9b6-f80c-4cd3-8272-e9c04e932d43"
      },
      "execution_count": 6,
      "outputs": [
        {
          "output_type": "stream",
          "name": "stdout",
          "text": [
            "8 9 2 4 7 "
          ]
        }
      ]
    },
    {
      "cell_type": "markdown",
      "source": [
        "<aside>\n",
        "💡 **Question 7**\n",
        "\n",
        "You are given the `head` of a linked list with `n` nodes.\n",
        "\n",
        "For each node in the list, find the value of the **next greater node**. That is, for each node, find the value of the first node that is next to it and has a **strictly larger** value than it.\n",
        "\n",
        "Return an integer array `answer` where `answer[i]` is the value of the next greater node of the `ith` node (**1-indexed**). If the `ith` node does not have a next greater node, set `answer[i] = 0`.\n",
        "Example1.\n",
        "Input: head = [2,1,5]\n",
        "Output: [5,5,0]\n",
        "\n",
        "</aside>"
      ],
      "metadata": {
        "id": "4qxn0LG03Nj9"
      }
    },
    {
      "cell_type": "code",
      "source": [
        "class ListNode:\n",
        "    def __init__(self, val=0, next=None):\n",
        "        self.val = val\n",
        "        self.next = next\n",
        "\n",
        "def nextLargerNodes(head):\n",
        "    values = []\n",
        "    while head:\n",
        "        values.append(head.val)\n",
        "        head = head.next\n",
        "\n",
        "    stack = []\n",
        "    answer = [0] * len(values)\n",
        "\n",
        "    for i in range(len(values) - 1, -1, -1):\n",
        "        while stack and values[i] >= stack[-1]:\n",
        "            stack.pop()\n",
        "\n",
        "        if stack:\n",
        "            answer[i] = stack[-1]\n",
        "\n",
        "        stack.append(values[i])\n",
        "\n",
        "    return answer\n",
        "\n",
        "# Create the linked list\n",
        "head = ListNode(2)\n",
        "head.next = ListNode(1)\n",
        "head.next.next = ListNode(5)\n",
        "\n",
        "# Find the next greater node for each node\n",
        "result = nextLargerNodes(head)\n",
        "\n",
        "# Print the resulting array\n",
        "print(result)\n"
      ],
      "metadata": {
        "colab": {
          "base_uri": "https://localhost:8080/"
        },
        "id": "h7bW8iBv3WM1",
        "outputId": "5ad9cf8d-c79d-4959-c59e-c428567225d0"
      },
      "execution_count": 7,
      "outputs": [
        {
          "output_type": "stream",
          "name": "stdout",
          "text": [
            "[5, 5, 0]\n"
          ]
        }
      ]
    },
    {
      "cell_type": "markdown",
      "source": [
        "<aside>\n",
        "💡 **Question 8**\n",
        "\n",
        "Given the `head` of a linked list, we repeatedly delete consecutive sequences of nodes that sum to `0` until there are no such sequences.\n",
        "\n",
        "After doing so, return the head of the final linked list.  You may return any such answer.\n",
        "\n",
        "(Note that in the examples below, all sequences are serializations of `ListNode` objects.)\n",
        "\n",
        "**Example 1:**\n",
        "Input: head = [1,2,-3,3,1]\n",
        "Output: [3,1]\n",
        "Note: The answer [1,2,1] would also be accepted.\n",
        "\n",
        "</aside>"
      ],
      "metadata": {
        "id": "urgw5RyT3W2s"
      }
    },
    {
      "cell_type": "code",
      "source": [
        "class ListNode:\n",
        "    def __init__(self, val=0, next=None):\n",
        "        self.val = val\n",
        "        self.next = next\n",
        "\n",
        "def removeZeroSumSublists(head):\n",
        "    # Calculate the prefix sums and store them in a dictionary\n",
        "    prefix_sum = {}\n",
        "    prefix = 0\n",
        "    current = head\n",
        "    while current:\n",
        "        prefix += current.val\n",
        "        if prefix == 0:\n",
        "            head = current.next\n",
        "        else:\n",
        "            if prefix in prefix_sum:\n",
        "                prefix_sum[prefix].next = current.next\n",
        "            else:\n",
        "                prefix_sum[prefix] = current\n",
        "        current = current.next\n",
        "\n",
        "    return head\n",
        "\n",
        "# Create the linked list\n",
        "head = ListNode(1)\n",
        "head.next = ListNode(2)\n",
        "head.next.next = ListNode(-3)\n",
        "head.next.next.next = ListNode(3)\n",
        "head.next.next.next.next = ListNode(1)\n",
        "\n",
        "# Delete consecutive sequences of nodes that sum to 0\n",
        "new_head = removeZeroSumSublists(head)\n",
        "\n",
        "# Print the modified linked list\n",
        "current = new_head\n",
        "while current:\n",
        "    print(current.val, end=\" \")\n",
        "    current = current.next\n"
      ],
      "metadata": {
        "colab": {
          "base_uri": "https://localhost:8080/"
        },
        "id": "8MGQXB803g8R",
        "outputId": "17ef7801-a75c-4577-ecad-7635856dc886"
      },
      "execution_count": 8,
      "outputs": [
        {
          "output_type": "stream",
          "name": "stdout",
          "text": [
            "3 1 "
          ]
        }
      ]
    },
    {
      "cell_type": "code",
      "source": [],
      "metadata": {
        "id": "kOu4MtD754_n"
      },
      "execution_count": null,
      "outputs": []
    }
  ]
}