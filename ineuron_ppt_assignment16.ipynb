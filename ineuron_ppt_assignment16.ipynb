{
  "nbformat": 4,
  "nbformat_minor": 0,
  "metadata": {
    "colab": {
      "provenance": [],
      "authorship_tag": "ABX9TyMfJmaSur6H55DPwObEmrO2",
      "include_colab_link": true
    },
    "kernelspec": {
      "name": "python3",
      "display_name": "Python 3"
    },
    "language_info": {
      "name": "python"
    }
  },
  "cells": [
    {
      "cell_type": "markdown",
      "metadata": {
        "id": "view-in-github",
        "colab_type": "text"
      },
      "source": [
        "<a href=\"https://colab.research.google.com/github/DeepakRautella/google_collab/blob/main/ineuron_ppt_assignment16.ipynb\" target=\"_parent\"><img src=\"https://colab.research.google.com/assets/colab-badge.svg\" alt=\"Open In Colab\"/></a>"
      ]
    },
    {
      "cell_type": "code",
      "execution_count": null,
      "metadata": {
        "id": "G__l7baS_Xeq"
      },
      "outputs": [],
      "source": []
    },
    {
      "cell_type": "markdown",
      "source": [
        "<aside>\n",
        "💡 **Question 1**\n",
        "\n",
        "Given an array, for each element find the value of the nearest element to the right which is having a frequency greater than that of the current element. If there does not exist an answer for a position, then make the value ‘-1’.\n",
        "\n",
        "**Examples:**\n",
        "Input: a[] = [1, 1, 2, 3, 4, 2, 1]\n",
        "Output : [-1, -1, 1, 2, 2, 1, -1]\n",
        "\n",
        "Explanation:\n",
        "Given array a[] = [1, 1, 2, 3, 4, 2, 1]\n",
        "Frequency of each element is: 3, 3, 2, 1, 1, 2, 3\n",
        "\n",
        "Lets calls Next Greater Frequency element as NGF\n",
        "1. For element a[0] = 1 which has a frequency = 3,\n",
        "   As it has frequency of 3 and no other next element\n",
        "   has frequency more than 3 so  '-1'\n",
        "2. For element a[1] = 1 it will be -1 same logic\n",
        "   like a[0]\n",
        "3. For element a[2] = 2 which has frequency = 2,\n",
        "   NGF element is 1 at position = 6  with frequency\n",
        "   of 3 > 2\n",
        "4. For element a[3] = 3 which has frequency = 1,\n",
        "   NGF element is 2 at position = 5 with frequency\n",
        "   of 2 > 1\n",
        "5. For element a[4] = 4 which has frequency = 1,\n",
        "   NGF element is 2 at position = 5 with frequency\n",
        "   of 2 > 1\n",
        "6. For element a[5] = 2 which has frequency = 2,\n",
        "   NGF element is 1 at position = 6 with frequency\n",
        "   of 3 > 2\n",
        "7. For element a[6] = 1 there is no element to its\n",
        "   right, hence -1\n",
        "</aside>"
      ],
      "metadata": {
        "id": "VWrQnB43_gUT"
      }
    },
    {
      "cell_type": "code",
      "source": [
        "def find_nearest_greater_frequency(arr):\n",
        "    frequency = {}\n",
        "    stack = []\n",
        "    output = [-1] * len(arr)\n",
        "\n",
        "    # Calculate the frequency of each element\n",
        "    for num in arr:\n",
        "        frequency[num] = frequency.get(num, 0) + 1\n",
        "\n",
        "    # Iterate over the array from right to left\n",
        "    for i in range(len(arr) - 1, -1, -1):\n",
        "        while stack and frequency[stack[-1]] <= frequency[arr[i]]:\n",
        "            stack.pop()\n",
        "\n",
        "        if stack:\n",
        "            output[i] = stack[-1]\n",
        "\n",
        "        stack.append(arr[i])\n",
        "\n",
        "    return output\n"
      ],
      "metadata": {
        "id": "CGz59yCz_r0Y"
      },
      "execution_count": 9,
      "outputs": []
    },
    {
      "cell_type": "code",
      "source": [
        "arr = [1, 1, 2, 3, 4, 2, 1]\n",
        "result = find_nearest_greater_frequency(arr)\n",
        "print(result)\n"
      ],
      "metadata": {
        "colab": {
          "base_uri": "https://localhost:8080/"
        },
        "id": "pbjAuO8a_5O3",
        "outputId": "c3fdbc2e-9649-4fcc-e968-42c65e4239d0"
      },
      "execution_count": 10,
      "outputs": [
        {
          "output_type": "stream",
          "name": "stdout",
          "text": [
            "[-1, -1, 1, 2, 2, 1, -1]\n"
          ]
        }
      ]
    },
    {
      "cell_type": "markdown",
      "source": [
        "<aside>\n",
        "💡 **Question 2**\n",
        "\n",
        "Given a stack of integers, sort it in ascending order using another temporary stack.\n",
        "\n",
        "**Examples:**\n",
        "Input : [34, 3, 31, 98, 92, 23]\n",
        "Output : [3, 23, 31, 34, 92, 98]\n",
        "\n",
        "Input : [3, 5, 1, 4, 2, 8]\n",
        "Output : [1, 2, 3, 4, 5, 8]\n",
        "</aside>"
      ],
      "metadata": {
        "id": "fNaoWvqT_5ds"
      }
    },
    {
      "cell_type": "code",
      "source": [
        "def sort_stack(stack):\n",
        "    temp_stack = []\n",
        "\n",
        "    while stack:\n",
        "        temp = stack.pop()\n",
        "\n",
        "        while temp_stack and temp_stack[-1] > temp:\n",
        "            stack.append(temp_stack.pop())\n",
        "\n",
        "        temp_stack.append(temp)\n",
        "\n",
        "    while temp_stack:\n",
        "        stack.append(temp_stack.pop())\n",
        "\n",
        "    return stack\n"
      ],
      "metadata": {
        "id": "Qd_iZdTp_77y"
      },
      "execution_count": 15,
      "outputs": []
    },
    {
      "cell_type": "code",
      "source": [
        "stack = [34, 3, 31, 98, 92, 23]\n",
        "result = sort_stack(stack)\n",
        "print(result)\n"
      ],
      "metadata": {
        "colab": {
          "base_uri": "https://localhost:8080/"
        },
        "id": "95VJp2z3AAC5",
        "outputId": "d21cbb7c-6467-41ec-807c-3641a45caf41"
      },
      "execution_count": 16,
      "outputs": [
        {
          "output_type": "stream",
          "name": "stdout",
          "text": [
            "[98, 92, 34, 31, 23, 3]\n"
          ]
        }
      ]
    },
    {
      "cell_type": "markdown",
      "source": [
        "<aside>\n",
        "💡 **Question 3**\n",
        "\n",
        "Given a stack with **push()**, **pop()**, and **empty()** operations, The task is to delete the **middle** element ****of it without using any additional data structure.\n",
        "\n",
        "Input  : Stack[] = [1, 2, 3, 4, 5]\n",
        "\n",
        "Output : Stack[] = [1, 2, 4, 5]\n",
        "\n",
        "Input  : Stack[] = [1, 2, 3, 4, 5, 6]\n",
        "\n",
        "Output : Stack[] = [1, 2, 4, 5, 6]\n",
        "\n",
        "</aside>"
      ],
      "metadata": {
        "id": "tVnrDyyLAAS5"
      }
    },
    {
      "cell_type": "code",
      "source": [
        "def delete_middle(stack):\n",
        "    size = len(stack)\n",
        "\n",
        "    if size == 0:\n",
        "        return stack\n",
        "\n",
        "    mid = size // 2\n",
        "\n",
        "    def delete(stack, curr_index):\n",
        "        if curr_index == mid:\n",
        "            stack.pop()\n",
        "            return\n",
        "\n",
        "        temp = stack.pop()\n",
        "        delete(stack, curr_index + 1)\n",
        "        stack.append(temp)\n",
        "\n",
        "    delete(stack, 0)\n",
        "    return stack\n"
      ],
      "metadata": {
        "id": "yQyDOB94AAiv"
      },
      "execution_count": 17,
      "outputs": []
    },
    {
      "cell_type": "code",
      "source": [
        "stack = [1, 2, 3, 4, 5]\n",
        "result = delete_middle(stack)\n",
        "print(result)\n"
      ],
      "metadata": {
        "colab": {
          "base_uri": "https://localhost:8080/"
        },
        "id": "NSx0iY48ABQf",
        "outputId": "cad862d4-55b8-40b6-899a-e63737b4cad5"
      },
      "execution_count": 18,
      "outputs": [
        {
          "output_type": "stream",
          "name": "stdout",
          "text": [
            "[1, 2, 4, 5]\n"
          ]
        }
      ]
    },
    {
      "cell_type": "markdown",
      "source": [
        "<aside>\n",
        "💡 **Question 4**\n",
        "\n",
        "Given a Queue consisting of first **n** natural numbers (in random order). The task is to check whether the given Queue elements can be arranged in increasing order in another Queue using a stack. The operation allowed are:\n",
        "\n",
        "1. Push and pop elements from the stack\n",
        "2. Pop (Or Dequeue) from the given Queue.\n",
        "3. Push (Or Enqueue) in the another Queue.\n",
        "\n",
        "**Examples :**\n",
        "\n",
        "Input : Queue[] = { 5, 1, 2, 3, 4 }\n",
        "\n",
        "Output : Yes\n",
        "\n",
        "Pop the first element of the given Queue\n",
        "\n",
        "i.e 5. Push 5 into the stack.\n",
        "\n",
        "Now, pop all the elements of the given Queue and push them to second Queue.\n",
        "\n",
        "Now, pop element 5 in the stack and push it to the second Queue.\n",
        "\n",
        "Input : Queue[] = { 5, 1, 2, 6, 3, 4 }\n",
        "\n",
        "Output : No\n",
        "\n",
        "Push 5 to stack.\n",
        "\n",
        "Pop 1, 2 from given Queue and push it to another Queue.\n",
        "\n",
        "Pop 6 from given Queue and push to stack.\n",
        "\n",
        "Pop 3, 4 from given Queue and push to second Queue.\n",
        "\n",
        "Now, from using any of above operation, we cannot push 5 into the second Queue because it is below the 6 in the stack.\n",
        "\n",
        "</aside>"
      ],
      "metadata": {
        "id": "Zg-Jq_cSABeA"
      }
    },
    {
      "cell_type": "code",
      "source": [
        "from queue import Queue\n",
        "\n",
        "def check_queue_sort(queue):\n",
        "    stack = []\n",
        "    second_queue = Queue()\n",
        "\n",
        "    while not queue.empty():\n",
        "        current = queue.get()\n",
        "\n",
        "        if not stack or stack[-1] < current:\n",
        "            stack.append(current)\n",
        "        else:\n",
        "            while stack and stack[-1] >= current:\n",
        "                second_queue.put(stack.pop())\n",
        "            second_queue.put(current)\n",
        "\n",
        "    while stack:\n",
        "        second_queue.put(stack.pop())\n",
        "\n",
        "    prev = second_queue.get()\n",
        "\n",
        "    while not second_queue.empty():\n",
        "        current = second_queue.get()\n",
        "        if current < prev:\n",
        "            return \"No\"\n",
        "        prev = current\n",
        "\n",
        "    return \"Yes\"\n"
      ],
      "metadata": {
        "id": "HadDMCL5AE2i"
      },
      "execution_count": 3,
      "outputs": []
    },
    {
      "cell_type": "code",
      "source": [
        "queue = Queue()\n",
        "queue.put(5)\n",
        "queue.put(1)\n",
        "queue.put(2)\n",
        "queue.put(3)\n",
        "queue.put(4)\n",
        "result = check_queue_sort(queue)\n",
        "print(result)\n"
      ],
      "metadata": {
        "colab": {
          "base_uri": "https://localhost:8080/"
        },
        "id": "-B04w2qbAFrU",
        "outputId": "2e4683ce-60c0-4fe5-996e-4a8657466d1c"
      },
      "execution_count": 4,
      "outputs": [
        {
          "output_type": "stream",
          "name": "stdout",
          "text": [
            "No\n"
          ]
        }
      ]
    },
    {
      "cell_type": "markdown",
      "source": [
        "<aside>\n",
        "💡 **Question 5**\n",
        "\n",
        "Given a number , write a program to reverse this number using stack.\n",
        "\n",
        "**Examples:**\n",
        "Input : 365\n",
        "Output : 563\n",
        "\n",
        "Input : 6899\n",
        "Output : 9986\n",
        "</aside>"
      ],
      "metadata": {
        "id": "xGyaWZxgAF9O"
      }
    },
    {
      "cell_type": "code",
      "source": [
        "def reverse_number(number):\n",
        "    number_str = str(number)\n",
        "    stack = []\n",
        "\n",
        "    for digit in number_str:\n",
        "        stack.append(digit)\n",
        "\n",
        "    reversed_str = \"\"\n",
        "    while stack:\n",
        "        reversed_str += stack.pop()\n",
        "\n",
        "    reversed_number = int(reversed_str)\n",
        "\n",
        "    return reversed_number\n"
      ],
      "metadata": {
        "id": "en0K8tUkALRQ"
      },
      "execution_count": 5,
      "outputs": []
    },
    {
      "cell_type": "code",
      "source": [
        "number = 365\n",
        "result = reverse_number(number)\n",
        "print(result)\n"
      ],
      "metadata": {
        "colab": {
          "base_uri": "https://localhost:8080/"
        },
        "id": "KlgLPpmhAL_k",
        "outputId": "ecc86dbc-fc24-461e-a822-e41530d8dca3"
      },
      "execution_count": 6,
      "outputs": [
        {
          "output_type": "stream",
          "name": "stdout",
          "text": [
            "563\n"
          ]
        }
      ]
    },
    {
      "cell_type": "markdown",
      "source": [
        "<aside>\n",
        "💡 **Question 6**\n",
        "\n",
        "Given an integer k and a **[queue](https://www.geeksforgeeks.org/queue-data-structure/)** of integers, The task is to reverse the order of the first **k** elements of the queue, leaving the other elements in the same relative order.\n",
        "\n",
        "Only following standard operations are allowed on queue.\n",
        "\n",
        "- **enqueue(x) :** Add an item x to rear of queue\n",
        "- **dequeue() :** Remove an item from front of queue\n",
        "- **size() :** Returns number of elements in queue.\n",
        "- **front() :** Finds front item.\n",
        "</aside>"
      ],
      "metadata": {
        "id": "ANwbCEhmAMPA"
      }
    },
    {
      "cell_type": "code",
      "source": [
        "from queue import Queue\n",
        "\n",
        "def reverse_k_elements(queue, k):\n",
        "    stack = []\n",
        "\n",
        "    # Dequeue the first k elements and push them onto the stack\n",
        "    for _ in range(k):\n",
        "        stack.append(queue.get())\n",
        "\n",
        "    temp_queue = Queue()\n",
        "\n",
        "    # Enqueue the remaining elements into the temporary queue\n",
        "    while not queue.empty():\n",
        "        temp_queue.put(queue.get())\n",
        "\n",
        "    # Enqueue the elements from the stack back into the original queue\n",
        "    while stack:\n",
        "        queue.put(stack.pop())\n",
        "\n",
        "    # Enqueue the elements from the temporary queue back into the original queue\n",
        "    while not temp_queue.empty():\n",
        "        queue.put(temp_queue.get())\n",
        "\n",
        "    return queue\n"
      ],
      "metadata": {
        "id": "VqCKzTOqAPfg"
      },
      "execution_count": 7,
      "outputs": []
    },
    {
      "cell_type": "code",
      "source": [
        "queue = Queue()\n",
        "queue.put(1)\n",
        "queue.put(2)\n",
        "queue.put(3)\n",
        "queue.put(4)\n",
        "queue.put(5)\n",
        "k = 3\n",
        "result = reverse_k_elements(queue, k)\n",
        "\n",
        "# Print the modified queue\n",
        "while not result.empty():\n",
        "    print(result.get())\n"
      ],
      "metadata": {
        "colab": {
          "base_uri": "https://localhost:8080/"
        },
        "id": "T9PvYdZbAQKl",
        "outputId": "a04d2938-29c9-43a0-ba1a-aaee82a575d3"
      },
      "execution_count": 8,
      "outputs": [
        {
          "output_type": "stream",
          "name": "stdout",
          "text": [
            "3\n",
            "2\n",
            "1\n",
            "4\n",
            "5\n"
          ]
        }
      ]
    },
    {
      "cell_type": "markdown",
      "source": [
        "<aside>\n",
        "💡 **Question 7**\n",
        "\n",
        "Given a sequence of n strings, the task is to check if any two similar words come together and then destroy each other then print the number of words left in the sequence after this pairwise destruction.\n",
        "\n",
        "**Examples:**\n",
        "\n",
        "Input : ab aa aa bcd ab\n",
        "\n",
        "Output : 3\n",
        "\n",
        "*As aa, aa destroys each other so,*\n",
        "\n",
        "*ab bcd ab is the new sequence.*\n",
        "\n",
        "Input :  tom jerry jerry tom\n",
        "\n",
        "Output : 0\n",
        "\n",
        "*As first both jerry will destroy each other.*\n",
        "\n",
        "*Then sequence will be tom, tom they will also destroy*\n",
        "\n",
        "*each other. So, the final sequence doesn’t contain any*\n",
        "\n",
        "*word.*\n",
        "\n",
        "</aside>"
      ],
      "metadata": {
        "id": "So3ZI9PvATqQ"
      }
    },
    {
      "cell_type": "code",
      "source": [
        "def count_remaining_words(sequence):\n",
        "    stack = []\n",
        "\n",
        "    for word in sequence:\n",
        "        if not stack or word != stack[-1]:\n",
        "            stack.append(word)\n",
        "        else:\n",
        "            stack.pop()\n",
        "\n",
        "    return len(stack)\n"
      ],
      "metadata": {
        "id": "Lf7jc69RAUHh"
      },
      "execution_count": 9,
      "outputs": []
    },
    {
      "cell_type": "code",
      "source": [
        "sequence = [\"ab\", \"aa\", \"aa\", \"bcd\", \"ab\"]\n",
        "result = count_remaining_words(sequence)\n",
        "print(result)\n"
      ],
      "metadata": {
        "colab": {
          "base_uri": "https://localhost:8080/"
        },
        "id": "O8l2eAPYAUrx",
        "outputId": "9907b6cf-2578-499a-d615-acbd0b8d5d4a"
      },
      "execution_count": 10,
      "outputs": [
        {
          "output_type": "stream",
          "name": "stdout",
          "text": [
            "3\n"
          ]
        }
      ]
    },
    {
      "cell_type": "code",
      "source": [
        "sequence = [\"tom\", \"jerry\", \"jerry\", \"tom\"]\n",
        "result = count_remaining_words(sequence)\n",
        "print(result)\n"
      ],
      "metadata": {
        "colab": {
          "base_uri": "https://localhost:8080/"
        },
        "id": "_TgBFYSX9HqY",
        "outputId": "788da2a8-3865-44e5-e91c-a71291c935dd"
      },
      "execution_count": 11,
      "outputs": [
        {
          "output_type": "stream",
          "name": "stdout",
          "text": [
            "0\n"
          ]
        }
      ]
    },
    {
      "cell_type": "markdown",
      "source": [
        "<aside>\n",
        "💡 **Question 8**\n",
        "\n",
        "Given an array of integers, the task is to find the maximum absolute difference between the nearest left and the right smaller element of every element in the array.\n",
        "\n",
        "**Note:** If there is no smaller element on right side or left side of any element then we take zero as the smaller element. For example for the leftmost element, the nearest smaller element on the left side is considered as 0. Similarly, for rightmost elements, the smaller element on the right side is considered as 0.\n",
        "\n",
        "**Examples:**\n",
        "Input : arr[] = {2, 1, 8}\n",
        "Output : 1\n",
        "Left smaller  LS[] {0, 0, 1}\n",
        "Right smaller RS[] {1, 0, 0}\n",
        "Maximum Diff of abs(LS[i] - RS[i]) = 1\n",
        "\n",
        "Input  : arr[] = {2, 4, 8, 7, 7, 9, 3}\n",
        "Output : 4\n",
        "Left smaller   LS[] = {0, 2, 4, 4, 4, 7, 2}\n",
        "Right smaller  RS[] = {0, 3, 7, 3, 3, 3, 0}\n",
        "Maximum Diff of abs(LS[i] - RS[i]) = 7 - 3 = 4\n",
        "\n",
        "Input : arr[] = {5, 1, 9, 2, 5, 1, 7}\n",
        "Output : 1\n",
        "</aside>"
      ],
      "metadata": {
        "id": "REm2C7OpAU58"
      }
    },
    {
      "cell_type": "code",
      "source": [
        "def max_absolute_difference(arr):\n",
        "    n = len(arr)\n",
        "    left_smaller = [0] * n\n",
        "    right_smaller = [0] * n\n",
        "\n",
        "    left_smaller[0] = 0\n",
        "    for i in range(1, n):\n",
        "        if arr[i] > arr[i-1]:\n",
        "            left_smaller[i] = arr[i-1]\n",
        "        else:\n",
        "            j = i-1\n",
        "            while j > 0 and arr[j] >= arr[i]:\n",
        "                j = left_smaller[j]\n",
        "            left_smaller[i] = arr[j] if arr[j] < arr[i] else 0\n",
        "\n",
        "    right_smaller[n-1] = 0\n",
        "    for i in range(n-2, -1, -1):\n",
        "        if arr[i] > arr[i+1]:\n",
        "            right_smaller[i] = arr[i+1]\n",
        "        else:\n",
        "            j = i+1\n",
        "            while j < n-1 and arr[j] >= arr[i]:\n",
        "                j = right_smaller[j]\n",
        "            right_smaller[i] = arr[j] if arr[j] < arr[i] else 0\n",
        "\n",
        "    max_diff = 0\n",
        "    for i in range(n):\n",
        "        diff = abs(left_smaller[i] - right_smaller[i])\n",
        "        max_diff = max(max_diff, diff)\n",
        "\n",
        "    return max_diff\n"
      ],
      "metadata": {
        "id": "P_FG7RknAZqQ"
      },
      "execution_count": 16,
      "outputs": []
    },
    {
      "cell_type": "code",
      "source": [
        "arr = [2, 1, 8]\n",
        "result = max_absolute_difference(arr)\n",
        "print(result)\n"
      ],
      "metadata": {
        "colab": {
          "base_uri": "https://localhost:8080/"
        },
        "id": "vaywu4Ou9MKz",
        "outputId": "45fddcf2-318e-4d49-bfa0-d4abe9e84c53"
      },
      "execution_count": 17,
      "outputs": [
        {
          "output_type": "stream",
          "name": "stdout",
          "text": [
            "1\n"
          ]
        }
      ]
    },
    {
      "cell_type": "code",
      "source": [],
      "metadata": {
        "id": "_2oJQWcy9Zna"
      },
      "execution_count": null,
      "outputs": []
    }
  ]
}