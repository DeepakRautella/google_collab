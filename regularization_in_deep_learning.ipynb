{
  "nbformat": 4,
  "nbformat_minor": 0,
  "metadata": {
    "colab": {
      "provenance": [],
      "collapsed_sections": [],
      "authorship_tag": "ABX9TyN6rLV9AD4z05lxJ1668VvY",
      "include_colab_link": true
    },
    "kernelspec": {
      "name": "python3",
      "display_name": "Python 3"
    },
    "language_info": {
      "name": "python"
    },
    "accelerator": "GPU",
    "gpuClass": "standard"
  },
  "cells": [
    {
      "cell_type": "markdown",
      "metadata": {
        "id": "view-in-github",
        "colab_type": "text"
      },
      "source": [
        "<a href=\"https://colab.research.google.com/github/DeepakRautella/google_collab/blob/main/regularization_in_deep_learning.ipynb\" target=\"_parent\"><img src=\"https://colab.research.google.com/assets/colab-badge.svg\" alt=\"Open In Colab\"/></a>"
      ]
    },
    {
      "cell_type": "code",
      "execution_count": 1,
      "metadata": {
        "id": "J2bhQLwIQFvY"
      },
      "outputs": [],
      "source": [
        "#when to use ?\n",
        "#to overcome overfitting\n",
        "# add more data -- add more rows  -- data augmentation\n",
        "#reduce complexity model --dropout --early stopping --regularization(l1,l2,l1+l2)\n"
      ]
    },
    {
      "cell_type": "code",
      "source": [
        "#regularization add penalty to our loss/cost function\n",
        "# c= 1/n(Σl(yi,y^))+ penalty"
      ],
      "metadata": {
        "id": "5N7lfn1tSbpP"
      },
      "execution_count": 2,
      "outputs": []
    },
    {
      "cell_type": "code",
      "source": [
        "import numpy as np\n",
        "import matplotlib.pyplot as plt\n",
        "from sklearn.datasets import make_moons\n",
        "import seaborn as sns\n",
        "from mlxtend.plotting import plot_decision_regions\n",
        "\n",
        "import tensorflow\n",
        "from tensorflow.keras.models import Sequential\n",
        "from tensorflow.keras.layers import Dense\n",
        "from tensorflow.keras.layers import Dropout\n",
        "from tensorflow.keras.optimizers import Adam"
      ],
      "metadata": {
        "id": "WoS4h6LnUerT"
      },
      "execution_count": 3,
      "outputs": []
    },
    {
      "cell_type": "code",
      "source": [
        "X, y = make_moons(100, noise=0.25,random_state=2)"
      ],
      "metadata": {
        "id": "XdCnJ6pPVa4A"
      },
      "execution_count": 4,
      "outputs": []
    },
    {
      "cell_type": "code",
      "source": [
        "import matplotlib.pyplot as plt\n",
        "plt.scatter(X[:,0], X[:,1], c=y)\n",
        "plt.show()"
      ],
      "metadata": {
        "colab": {
          "base_uri": "https://localhost:8080/",
          "height": 265
        },
        "id": "dv0PAlLxbR3Q",
        "outputId": "99bfb2e6-1983-4338-c79f-ddb41faf5151"
      },
      "execution_count": 5,
      "outputs": [
        {
          "output_type": "display_data",
          "data": {
            "text/plain": [
              "<Figure size 432x288 with 1 Axes>"
            ],
            "image/png": "[encoded data removed]"
          },
          "metadata": {
            "needs_background": "light"
          }
        }
      ]
    },
    {
      "cell_type": "code",
      "source": [
        "model1 = Sequential()\n",
        "\n",
        "model1.add(Dense(128,input_dim=2, activation=\"relu\"))\n",
        "model1.add(Dense(128, activation=\"relu\"))\n",
        "model1.add(Dense(1,activation='sigmoid'))\n",
        "\n",
        "model1.summary()"
      ],
      "metadata": {
        "colab": {
          "base_uri": "https://localhost:8080/"
        },
        "id": "VP5ZAfO5bURz",
        "outputId": "22795c28-42e9-4dea-fff2-7c4bfd6e6b7f"
      },
      "execution_count": 6,
      "outputs": [
        {
          "output_type": "stream",
          "name": "stdout",
          "text": [
            "Model: \"sequential\"\n",
            "_________________________________________________________________\n",
            " Layer (type)                Output Shape              Param #   \n",
            "=================================================================\n",
            " dense (Dense)               (None, 128)               384       \n",
            "                                                                 \n",
            " dense_1 (Dense)             (None, 128)               16512     \n",
            "                                                                 \n",
            " dense_2 (Dense)             (None, 1)                 129       \n",
            "                                                                 \n",
            "=================================================================\n",
            "Total params: 17,025\n",
            "Trainable params: 17,025\n",
            "Non-trainable params: 0\n",
            "_________________________________________________________________\n"
          ]
        }
      ]
    },
    {
      "cell_type": "code",
      "source": [
        "adam = Adam(learning_rate=0.01)\n",
        "model1.compile(loss='binary_crossentropy', optimizer=adam, metrics=['accuracy'])\n",
        "\n",
        "history1 = model1.fit(X, y, epochs=2000, validation_split = 0.2,verbose=0)"
      ],
      "metadata": {
        "id": "7l4UcVYjbXy5"
      },
      "execution_count": 7,
      "outputs": []
    },
    {
      "cell_type": "code",
      "source": [
        "plot_decision_regions(X, y.astype('int'), clf=model1, legend=2)\n",
        "plt.xlim(-2,3)\n",
        "plt.ylim(-1.5,2)\n",
        "plt.show()"
      ],
      "metadata": {
        "colab": {
          "base_uri": "https://localhost:8080/",
          "height": 344
        },
        "id": "kAFardqMbb20",
        "outputId": "72267f6c-d33f-42d6-b760-6a21e542eeff"
      },
      "execution_count": 8,
      "outputs": [
        {
          "output_type": "stream",
          "name": "stdout",
          "text": [
            "3888/3888 [==============================] - 6s 2ms/step\n"
          ]
        },
        {
          "output_type": "stream",
          "name": "stderr",
          "text": [
            "/usr/local/lib/python3.7/dist-packages/mlxtend/plotting/decision_regions.py:244: MatplotlibDeprecationWarning: Passing unsupported keyword arguments to axis() will raise a TypeError in 3.3.\n",
            "  ax.axis(xmin=xx.min(), xmax=xx.max(), y_min=yy.min(), y_max=yy.max())\n"
          ]
        },
        {
          "output_type": "display_data",
          "data": {
            "text/plain": [
              "<Figure size 432x288 with 1 Axes>"
            ],
            "image/png": "[encoded data removed]"
          },
          "metadata": {
            "needs_background": "light"
          }
        }
      ]
    },
    {
      "cell_type": "code",
      "source": [
        "plt.plot(history1.history['loss'])\n",
        "plt.plot(history1.history['val_loss'])"
      ],
      "metadata": {
        "colab": {
          "base_uri": "https://localhost:8080/",
          "height": 283
        },
        "id": "Alzr-8IIbhyC",
        "outputId": "26ad5906-c658-4abe-f6c1-e094c16436fd"
      },
      "execution_count": 9,
      "outputs": [
        {
          "output_type": "execute_result",
          "data": {
            "text/plain": [
              "[<matplotlib.lines.Line2D at 0x7f92c6140ad0>]"
            ]
          },
          "metadata": {},
          "execution_count": 9
        },
        {
          "output_type": "display_data",
          "data": {
            "text/plain": [
              "<Figure size 432x288 with 1 Axes>"
            ],
            "image/png": "[encoded data removed]"
          },
          "metadata": {
            "needs_background": "light"
          }
        }
      ]
    },
    {
      "cell_type": "code",
      "source": [
        "# l1 regularization"
      ],
      "metadata": {
        "id": "mXJoRUUfdvFO"
      },
      "execution_count": 38,
      "outputs": []
    },
    {
      "cell_type": "code",
      "source": [
        "model2 = Sequential()\n",
        "\n",
        "model2.add(Dense(128,input_dim=2, activation=\"relu\",kernel_regularizer=tensorflow.keras.regularizers.l1(0.001)))\n",
        "model2.add(Dense(128, activation=\"relu\",kernel_regularizer=tensorflow.keras.regularizers.l1(0.001)))\n",
        "model2.add(Dense(1,activation='sigmoid'))\n",
        "\n",
        "model2.summary()"
      ],
      "metadata": {
        "colab": {
          "base_uri": "https://localhost:8080/"
        },
        "id": "JEClLobFblVr",
        "outputId": "7051dd15-6a71-4026-f81c-e551405a1276"
      },
      "execution_count": 10,
      "outputs": [
        {
          "output_type": "stream",
          "name": "stdout",
          "text": [
            "Model: \"sequential_1\"\n",
            "_________________________________________________________________\n",
            " Layer (type)                Output Shape              Param #   \n",
            "=================================================================\n",
            " dense_3 (Dense)             (None, 128)               384       \n",
            "                                                                 \n",
            " dense_4 (Dense)             (None, 128)               16512     \n",
            "                                                                 \n",
            " dense_5 (Dense)             (None, 1)                 129       \n",
            "                                                                 \n",
            "=================================================================\n",
            "Total params: 17,025\n",
            "Trainable params: 17,025\n",
            "Non-trainable params: 0\n",
            "_________________________________________________________________\n"
          ]
        }
      ]
    },
    {
      "cell_type": "code",
      "source": [
        "adam = Adam(learning_rate=0.01)\n",
        "model2.compile(loss='binary_crossentropy', optimizer=adam, metrics=['accuracy'])\n",
        "\n",
        "history2 = model2.fit(X, y, epochs=2000, validation_split = 0.2,verbose=0)"
      ],
      "metadata": {
        "id": "QHUi_-SGbqFc"
      },
      "execution_count": 11,
      "outputs": []
    },
    {
      "cell_type": "code",
      "source": [
        "plot_decision_regions(X, y.astype('int'), clf=model2, legend=2)\n",
        "plt.xlim(-2,3)\n",
        "plt.ylim(-1.5,2)\n",
        "plt.show()"
      ],
      "metadata": {
        "colab": {
          "base_uri": "https://localhost:8080/",
          "height": 287
        },
        "id": "H2aDKFPNbsu7",
        "outputId": "bcf40f72-12dc-4f32-8200-53fa6301784b"
      },
      "execution_count": 12,
      "outputs": [
        {
          "output_type": "stream",
          "name": "stdout",
          "text": [
            "3888/3888 [==============================] - 7s 2ms/step\n"
          ]
        },
        {
          "output_type": "display_data",
          "data": {
            "text/plain": [
              "<Figure size 432x288 with 1 Axes>"
            ],
            "image/png": "[encoded data removed]"
          },
          "metadata": {
            "needs_background": "light"
          }
        }
      ]
    },
    {
      "cell_type": "code",
      "source": [
        "plt.plot(history2.history['loss'])\n",
        "plt.plot(history2.history['val_loss'])"
      ],
      "metadata": {
        "colab": {
          "base_uri": "https://localhost:8080/",
          "height": 283
        },
        "id": "buxxpGhbbu5M",
        "outputId": "f171b4ad-6915-4d0d-88f4-469d50e7850f"
      },
      "execution_count": 13,
      "outputs": [
        {
          "output_type": "execute_result",
          "data": {
            "text/plain": [
              "[<matplotlib.lines.Line2D at 0x7f92ae48a610>]"
            ]
          },
          "metadata": {},
          "execution_count": 13
        },
        {
          "output_type": "display_data",
          "data": {
            "text/plain": [
              "<Figure size 432x288 with 1 Axes>"
            ],
            "image/png": "[encoded data removed]"
          },
          "metadata": {
            "needs_background": "light"
          }
        }
      ]
    },
    {
      "cell_type": "code",
      "source": [
        "model1_weight_layer1 = model1.get_weights()[0].reshape(256)\n",
        "model2_weight_layer1 = model2.get_weights()[0].reshape(256)"
      ],
      "metadata": {
        "id": "AbfT98jFbz__"
      },
      "execution_count": 14,
      "outputs": []
    },
    {
      "cell_type": "code",
      "source": [
        "sns.boxplot(model1_weight_layer1)"
      ],
      "metadata": {
        "colab": {
          "base_uri": "https://localhost:8080/",
          "height": 340
        },
        "id": "gQeFLMr4b3by",
        "outputId": "da11a234-d6c2-4f02-9895-d7ca03342c71"
      },
      "execution_count": 15,
      "outputs": [
        {
          "output_type": "stream",
          "name": "stderr",
          "text": [
            "/usr/local/lib/python3.7/dist-packages/seaborn/_decorators.py:43: FutureWarning: Pass the following variable as a keyword arg: x. From version 0.12, the only valid positional argument will be `data`, and passing other arguments without an explicit keyword will result in an error or misinterpretation.\n",
            "  FutureWarning\n"
          ]
        },
        {
          "output_type": "execute_result",
          "data": {
            "text/plain": [
              "<matplotlib.axes._subplots.AxesSubplot at 0x7f92ae447210>"
            ]
          },
          "metadata": {},
          "execution_count": 15
        },
        {
          "output_type": "display_data",
          "data": {
            "text/plain": [
              "<Figure size 432x288 with 1 Axes>"
            ],
            "image/png": "[encoded data removed]"
          },
          "metadata": {
            "needs_background": "light"
          }
        }
      ]
    },
    {
      "cell_type": "code",
      "source": [
        "sns.boxplot(model2_weight_layer1)"
      ],
      "metadata": {
        "colab": {
          "base_uri": "https://localhost:8080/",
          "height": 340
        },
        "id": "aBgsOybZb5c_",
        "outputId": "080ffe6c-1937-44c2-96c0-8c7a579725fb"
      },
      "execution_count": 16,
      "outputs": [
        {
          "output_type": "stream",
          "name": "stderr",
          "text": [
            "/usr/local/lib/python3.7/dist-packages/seaborn/_decorators.py:43: FutureWarning: Pass the following variable as a keyword arg: x. From version 0.12, the only valid positional argument will be `data`, and passing other arguments without an explicit keyword will result in an error or misinterpretation.\n",
            "  FutureWarning\n"
          ]
        },
        {
          "output_type": "execute_result",
          "data": {
            "text/plain": [
              "<matplotlib.axes._subplots.AxesSubplot at 0x7f92ae3a3a50>"
            ]
          },
          "metadata": {},
          "execution_count": 16
        },
        {
          "output_type": "display_data",
          "data": {
            "text/plain": [
              "<Figure size 432x288 with 1 Axes>"
            ],
            "image/png": "[encoded data removed]"
          },
          "metadata": {
            "needs_background": "light"
          }
        }
      ]
    },
    {
      "cell_type": "code",
      "source": [
        "model1_weight_layer1.min()"
      ],
      "metadata": {
        "colab": {
          "base_uri": "https://localhost:8080/"
        },
        "id": "3CIaY7Ufb8fa",
        "outputId": "d47bfb32-d445-4e47-8b2f-3077ffd2f4bc"
      },
      "execution_count": 17,
      "outputs": [
        {
          "output_type": "execute_result",
          "data": {
            "text/plain": [
              "-2.3152268"
            ]
          },
          "metadata": {},
          "execution_count": 17
        }
      ]
    },
    {
      "cell_type": "code",
      "source": [
        "model2_weight_layer1.min()"
      ],
      "metadata": {
        "colab": {
          "base_uri": "https://localhost:8080/"
        },
        "id": "8OmRVMMScE6S",
        "outputId": "383112fe-5914-4309-f9fa-88c89c97117b"
      },
      "execution_count": 18,
      "outputs": [
        {
          "output_type": "execute_result",
          "data": {
            "text/plain": [
              "-2.285005"
            ]
          },
          "metadata": {},
          "execution_count": 18
        }
      ]
    },
    {
      "cell_type": "code",
      "source": [
        "sns.distplot(model1_weight_layer1)\n",
        "sns.distplot(model2_weight_layer1)"
      ],
      "metadata": {
        "colab": {
          "base_uri": "https://localhost:8080/",
          "height": 376
        },
        "id": "-3vlXSONcGgB",
        "outputId": "d8b5813b-3183-4e43-966f-e18b60408d9d"
      },
      "execution_count": 19,
      "outputs": [
        {
          "output_type": "stream",
          "name": "stderr",
          "text": [
            "/usr/local/lib/python3.7/dist-packages/seaborn/distributions.py:2619: FutureWarning: `distplot` is a deprecated function and will be removed in a future version. Please adapt your code to use either `displot` (a figure-level function with similar flexibility) or `histplot` (an axes-level function for histograms).\n",
            "  warnings.warn(msg, FutureWarning)\n",
            "/usr/local/lib/python3.7/dist-packages/seaborn/distributions.py:2619: FutureWarning: `distplot` is a deprecated function and will be removed in a future version. Please adapt your code to use either `displot` (a figure-level function with similar flexibility) or `histplot` (an axes-level function for histograms).\n",
            "  warnings.warn(msg, FutureWarning)\n"
          ]
        },
        {
          "output_type": "execute_result",
          "data": {
            "text/plain": [
              "<matplotlib.axes._subplots.AxesSubplot at 0x7f92ae331590>"
            ]
          },
          "metadata": {},
          "execution_count": 19
        },
        {
          "output_type": "display_data",
          "data": {
            "text/plain": [
              "<Figure size 432x288 with 1 Axes>"
            ],
            "image/png": "[encoded data removed]"
          },
          "metadata": {
            "needs_background": "light"
          }
        }
      ]
    },
    {
      "cell_type": "code",
      "source": [
        "model1.get_weights()[0].reshape(256)"
      ],
      "metadata": {
        "colab": {
          "base_uri": "https://localhost:8080/"
        },
        "id": "dW7Q2X5ccJay",
        "outputId": "35fc9467-cd35-4e04-f056-b4562a98aee5"
      },
      "execution_count": 20,
      "outputs": [
        {
          "output_type": "execute_result",
          "data": {
            "text/plain": [
              "array([-2.2571723e-01,  2.1680924e-01, -4.8025206e-01, -6.4227745e-02,\n",
              "        2.9576695e-01,  2.7470261e-01, -4.6834984e-01,  7.7466309e-02,\n",
              "       -4.6233699e-01,  2.5229633e-01, -2.2033934e-01, -2.2240640e-01,\n",
              "       -3.9490265e-01, -5.0525957e-01,  2.4598250e-01, -1.9765563e-01,\n",
              "        6.9816753e-02,  4.2289592e-02, -1.2976716e-01, -3.8134787e-02,\n",
              "       -4.8036000e-01, -3.8046047e-01, -1.4110306e-01, -3.9666972e-01,\n",
              "        1.8363546e-01,  2.5907576e-01,  9.6211266e-03,  8.2525827e-02,\n",
              "       -4.3054681e-02, -2.0196781e-01,  2.0582955e-01,  3.1817820e-02,\n",
              "       -1.6695927e-01, -1.6126264e-02, -2.6754001e-01, -4.9333954e-01,\n",
              "        5.6042269e-02, -4.8729634e-01,  2.1095197e-03,  2.3146708e-01,\n",
              "        9.1463640e-02,  6.5941513e-02, -5.0503541e-02,  2.7865067e-01,\n",
              "        2.0282505e-01, -3.8456672e-01, -2.8695801e-01, -1.9890730e-01,\n",
              "       -4.1353565e-01, -1.9773729e-01,  2.9679149e-01, -4.0559459e-01,\n",
              "        2.6646420e-01, -1.3270177e-01, -3.2028452e-01,  2.5787902e-01,\n",
              "        2.5200230e-01, -2.0828581e-01, -2.0216626e-01,  4.1910946e-02,\n",
              "       -3.4439063e-01,  9.7063936e-02, -4.9066469e-01,  4.2660061e-01,\n",
              "       -3.7371194e-01, -8.7479241e-02, -2.9486904e-01, -3.6923566e-01,\n",
              "        2.5519133e-01, -3.6923441e-01, -3.0975679e-01,  2.4455135e-01,\n",
              "        3.6244255e-02,  1.3246681e-01, -2.8986585e-01,  1.8985368e-01,\n",
              "       -3.5256583e-02, -2.5945204e-01, -1.5914728e-01, -1.6657005e-01,\n",
              "       -2.2929545e-01, -2.5466490e-01, -3.1062767e-01, -4.7132865e-02,\n",
              "       -1.5874977e-01, -2.0400615e-01,  3.2897756e-01, -3.1174213e-01,\n",
              "       -3.4220600e-01,  6.8124406e-02, -5.1119149e-01, -4.6795404e-01,\n",
              "        3.1397745e-01, -5.4940517e-04,  9.6821874e-02, -4.2055121e-01,\n",
              "        2.6040903e-01, -2.1201654e-01,  2.4526632e-01,  2.7951789e-01,\n",
              "        3.3358327e-01, -3.2934171e-01, -4.4446027e-01,  2.1105857e-01,\n",
              "       -3.4093934e-01, -1.7236559e-01, -1.9183925e-01, -4.4565988e-01,\n",
              "       -4.5273975e-01,  7.1526566e-03,  1.7310601e-01, -4.1782656e-01,\n",
              "       -3.3428726e-01,  3.2501990e-01, -2.2272259e-01, -5.6184057e-02,\n",
              "        7.6182172e-02,  3.0758923e-01,  3.0558380e-01, -4.2996563e-02,\n",
              "       -1.9683239e-01,  2.4246757e-01,  3.0464393e-01, -2.9379651e-01,\n",
              "        4.2543420e-01,  3.2316330e-01, -3.2414529e-01, -4.0913296e-01,\n",
              "        3.0759960e-01,  4.6725318e-01, -6.4812191e-02, -6.5457952e-01,\n",
              "       -9.2515610e-02, -2.0467752e-01, -3.4292608e-02,  1.4922211e-01,\n",
              "        3.2067023e-02, -4.6980935e-01,  2.9998782e-01,  1.1073612e-01,\n",
              "        1.8001018e-02, -4.2263232e-03, -1.7323801e-01,  2.7040589e-01,\n",
              "        2.8626820e-01,  5.8381572e-02,  1.9010304e-01, -4.7942668e-02,\n",
              "       -5.9805151e-02, -4.7001776e-01, -1.2053617e+00,  1.8866183e-02,\n",
              "        8.1751019e-02,  6.7576343e-01,  2.1217197e-01, -1.7379580e-01,\n",
              "        1.6505285e-01,  1.0208642e-01, -2.9006696e-01, -1.2683360e-01,\n",
              "        2.2937171e-01,  1.5071307e-01,  1.6695723e-01, -2.8840790e-02,\n",
              "       -6.8726069e-01, -5.3721562e-02, -1.0902374e+00, -3.7583795e-01,\n",
              "       -2.4404380e-01,  1.6005955e+00,  2.5624916e-01, -2.4975037e-02,\n",
              "        3.7658051e-02, -2.0827638e-02,  1.2926492e-01,  2.7154669e-01,\n",
              "       -2.6041565e-02,  5.1759297e-01,  5.4570403e-02, -3.9277948e-02,\n",
              "        4.7888514e-02,  2.5379246e-01,  1.8696570e-01, -1.5887207e-01,\n",
              "       -1.2280702e-01, -2.3152268e+00,  2.1104696e-01,  5.3135318e-01,\n",
              "       -1.8492911e-03,  1.2967234e+00, -7.6362841e-02,  4.7285341e-02,\n",
              "       -2.7482715e-01,  2.3449288e-01, -3.4266332e-01, -3.3822533e-01,\n",
              "       -1.8788940e-01, -3.6092398e-01, -8.8755012e-02, -1.3174674e-01,\n",
              "       -1.2046332e+00,  2.2390667e-01,  4.3763015e-02, -8.8153318e-02,\n",
              "       -1.4059331e+00,  1.6446529e-01,  2.2036120e-01,  2.2896960e-01,\n",
              "       -8.0268663e-01,  1.3863279e-01,  1.7727719e-01, -1.0061878e-01,\n",
              "        2.4123193e-01,  1.6689460e-01,  3.4194965e-02, -2.3515970e-01,\n",
              "        1.8973745e-01,  8.7678649e-02, -7.4360214e-02, -3.5562173e-02,\n",
              "       -3.4461502e-02,  4.9812119e-02,  2.8048899e+00, -4.7246043e-02,\n",
              "       -1.6234693e-01,  2.9012263e-01, -1.3101172e-01,  4.6991876e-01,\n",
              "       -1.6512917e-02, -7.7575423e-02, -2.0300806e-02, -2.3262022e-01,\n",
              "       -3.6514562e-01,  2.3631164e-01,  2.6375273e-01, -2.6026366e-02,\n",
              "       -1.0276843e-02, -1.2798258e+00,  1.0468602e-01,  1.8165193e-01,\n",
              "       -8.4913915e-01,  3.1716637e-02,  3.0306020e-01,  2.9832259e-01,\n",
              "        1.7279757e+00,  1.7693609e-01, -2.9214604e-02,  5.5936933e-01,\n",
              "        2.6904556e-01, -4.1287071e-01,  1.2551343e-02, -3.6180204e-01,\n",
              "        1.0584497e-01,  7.7925250e-02,  1.9007243e-01, -3.9999190e-01],\n",
              "      dtype=float32)"
            ]
          },
          "metadata": {},
          "execution_count": 20
        }
      ]
    },
    {
      "cell_type": "code",
      "source": [
        "#l2 regularization"
      ],
      "metadata": {
        "id": "-h6Kq9_wd4dp"
      },
      "execution_count": 39,
      "outputs": []
    },
    {
      "cell_type": "code",
      "source": [
        "model3 = Sequential()\n",
        "\n",
        "model3.add(Dense(128,input_dim=2, activation=\"relu\",kernel_regularizer=tensorflow.keras.regularizers.l2(0.001)))\n",
        "model3.add(Dense(128, activation=\"relu\",kernel_regularizer=tensorflow.keras.regularizers.l2(0.001)))\n",
        "model3.add(Dense(1,activation='sigmoid'))\n",
        "\n",
        "model3.summary()"
      ],
      "metadata": {
        "colab": {
          "base_uri": "https://localhost:8080/"
        },
        "id": "OxNWwWk_cPFR",
        "outputId": "0b72cc92-1c18-42a2-fd36-d554db34ab4f"
      },
      "execution_count": 21,
      "outputs": [
        {
          "output_type": "stream",
          "name": "stdout",
          "text": [
            "Model: \"sequential_2\"\n",
            "_________________________________________________________________\n",
            " Layer (type)                Output Shape              Param #   \n",
            "=================================================================\n",
            " dense_6 (Dense)             (None, 128)               384       \n",
            "                                                                 \n",
            " dense_7 (Dense)             (None, 128)               16512     \n",
            "                                                                 \n",
            " dense_8 (Dense)             (None, 1)                 129       \n",
            "                                                                 \n",
            "=================================================================\n",
            "Total params: 17,025\n",
            "Trainable params: 17,025\n",
            "Non-trainable params: 0\n",
            "_________________________________________________________________\n"
          ]
        }
      ]
    },
    {
      "cell_type": "code",
      "source": [
        "adam = Adam(learning_rate=0.01)\n",
        "model3.compile(loss='binary_crossentropy', optimizer=adam, metrics=['accuracy'])\n",
        "\n",
        "history3 = model3.fit(X, y, epochs=2000, validation_split = 0.2,verbose=0)"
      ],
      "metadata": {
        "id": "78WWgyF0cbFx"
      },
      "execution_count": 25,
      "outputs": []
    },
    {
      "cell_type": "code",
      "source": [
        "plot_decision_regions(X, y.astype('int'), clf=model3, legend=2)\n",
        "plt.xlim(-2,3)\n",
        "plt.ylim(-1.5,2)\n",
        "plt.show()"
      ],
      "metadata": {
        "colab": {
          "base_uri": "https://localhost:8080/",
          "height": 344
        },
        "id": "O2pnWPyhcy3f",
        "outputId": "6aac4796-0899-478d-e53e-e6bb520d7207"
      },
      "execution_count": 26,
      "outputs": [
        {
          "output_type": "stream",
          "name": "stdout",
          "text": [
            "3888/3888 [==============================] - 5s 1ms/step\n"
          ]
        },
        {
          "output_type": "stream",
          "name": "stderr",
          "text": [
            "/usr/local/lib/python3.7/dist-packages/mlxtend/plotting/decision_regions.py:244: MatplotlibDeprecationWarning: Passing unsupported keyword arguments to axis() will raise a TypeError in 3.3.\n",
            "  ax.axis(xmin=xx.min(), xmax=xx.max(), y_min=yy.min(), y_max=yy.max())\n"
          ]
        },
        {
          "output_type": "display_data",
          "data": {
            "text/plain": [
              "<Figure size 432x288 with 1 Axes>"
            ],
            "image/png": "[encoded data removed]"
          },
          "metadata": {
            "needs_background": "light"
          }
        }
      ]
    },
    {
      "cell_type": "code",
      "source": [
        "plt.plot(history3.history['loss'])\n",
        "plt.plot(history3.history['val_loss'])"
      ],
      "metadata": {
        "colab": {
          "base_uri": "https://localhost:8080/",
          "height": 283
        },
        "id": "TlajZpe8c4ka",
        "outputId": "f2a17b41-f54e-431e-84aa-5bf70c4805ea"
      },
      "execution_count": 27,
      "outputs": [
        {
          "output_type": "execute_result",
          "data": {
            "text/plain": [
              "[<matplotlib.lines.Line2D at 0x7f929f87b410>]"
            ]
          },
          "metadata": {},
          "execution_count": 27
        },
        {
          "output_type": "display_data",
          "data": {
            "text/plain": [
              "<Figure size 432x288 with 1 Axes>"
            ],
            "image/png": "[encoded data removed]"
          },
          "metadata": {
            "needs_background": "light"
          }
        }
      ]
    },
    {
      "cell_type": "code",
      "source": [
        "model1_weight_layer1 = model1.get_weights()[0].reshape(256)\n",
        "model2_weight_layer1 = model2.get_weights()[0].reshape(256)\n",
        "model3_weight_layer1 = model3.get_weights()[0].reshape(256)"
      ],
      "metadata": {
        "id": "NC6BbMxLc_58"
      },
      "execution_count": 34,
      "outputs": []
    },
    {
      "cell_type": "code",
      "source": [
        "#non regularization"
      ],
      "metadata": {
        "id": "cetPvesdfzbj"
      },
      "execution_count": null,
      "outputs": []
    },
    {
      "cell_type": "code",
      "source": [
        "sns.boxplot(model1_weight_layer1)"
      ],
      "metadata": {
        "colab": {
          "base_uri": "https://localhost:8080/",
          "height": 340
        },
        "id": "rOcDXVhbdG-2",
        "outputId": "c1931e18-b25e-4bf6-841b-aa4d66a0c105"
      },
      "execution_count": 35,
      "outputs": [
        {
          "output_type": "stream",
          "name": "stderr",
          "text": [
            "/usr/local/lib/python3.7/dist-packages/seaborn/_decorators.py:43: FutureWarning: Pass the following variable as a keyword arg: x. From version 0.12, the only valid positional argument will be `data`, and passing other arguments without an explicit keyword will result in an error or misinterpretation.\n",
            "  FutureWarning\n"
          ]
        },
        {
          "output_type": "execute_result",
          "data": {
            "text/plain": [
              "<matplotlib.axes._subplots.AxesSubplot at 0x7f929fd3ef10>"
            ]
          },
          "metadata": {},
          "execution_count": 35
        },
        {
          "output_type": "display_data",
          "data": {
            "text/plain": [
              "<Figure size 432x288 with 1 Axes>"
            ],
            "image/png": "[encoded data removed]"
          },
          "metadata": {
            "needs_background": "light"
          }
        }
      ]
    },
    {
      "cell_type": "code",
      "source": [
        "# non regularization mostly weights are within boxplot and few weights are outlier"
      ],
      "metadata": {
        "id": "COXrzX0vf3Bv"
      },
      "execution_count": null,
      "outputs": []
    },
    {
      "cell_type": "code",
      "source": [
        "#l1 regularization"
      ],
      "metadata": {
        "id": "MtBHGJlwfwwk"
      },
      "execution_count": null,
      "outputs": []
    },
    {
      "cell_type": "code",
      "source": [
        "sns.boxplot(model2_weight_layer1)"
      ],
      "metadata": {
        "colab": {
          "base_uri": "https://localhost:8080/",
          "height": 340
        },
        "id": "KfTlKwKJdNad",
        "outputId": "67df2cac-28a2-4859-dc17-dac0c85af1f3"
      },
      "execution_count": 36,
      "outputs": [
        {
          "output_type": "stream",
          "name": "stderr",
          "text": [
            "/usr/local/lib/python3.7/dist-packages/seaborn/_decorators.py:43: FutureWarning: Pass the following variable as a keyword arg: x. From version 0.12, the only valid positional argument will be `data`, and passing other arguments without an explicit keyword will result in an error or misinterpretation.\n",
            "  FutureWarning\n"
          ]
        },
        {
          "output_type": "execute_result",
          "data": {
            "text/plain": [
              "<matplotlib.axes._subplots.AxesSubplot at 0x7f92ae55b050>"
            ]
          },
          "metadata": {},
          "execution_count": 36
        },
        {
          "output_type": "display_data",
          "data": {
            "text/plain": [
              "<Figure size 432x288 with 1 Axes>"
            ],
            "image/png": "[encoded data removed]"
          },
          "metadata": {
            "needs_background": "light"
          }
        }
      ]
    },
    {
      "cell_type": "code",
      "source": [
        "#some values of weight tends to zero in l1 regularization and all weights near to zero or equal to zero compare to non nregularization"
      ],
      "metadata": {
        "id": "3k2_ww0Mfh7k"
      },
      "execution_count": null,
      "outputs": []
    },
    {
      "cell_type": "code",
      "source": [
        "#l2 regulization"
      ],
      "metadata": {
        "id": "r-AHOG8NfMTs"
      },
      "execution_count": null,
      "outputs": []
    },
    {
      "cell_type": "code",
      "source": [
        "sns.boxplot(model3_weight_layer1)"
      ],
      "metadata": {
        "colab": {
          "base_uri": "https://localhost:8080/",
          "height": 340
        },
        "id": "DK64104ndOvt",
        "outputId": "a7c7b61d-ef2c-4b78-d2db-577f2880abde"
      },
      "execution_count": 37,
      "outputs": [
        {
          "output_type": "stream",
          "name": "stderr",
          "text": [
            "/usr/local/lib/python3.7/dist-packages/seaborn/_decorators.py:43: FutureWarning: Pass the following variable as a keyword arg: x. From version 0.12, the only valid positional argument will be `data`, and passing other arguments without an explicit keyword will result in an error or misinterpretation.\n",
            "  FutureWarning\n"
          ]
        },
        {
          "output_type": "execute_result",
          "data": {
            "text/plain": [
              "<matplotlib.axes._subplots.AxesSubplot at 0x7f929fd53f50>"
            ]
          },
          "metadata": {},
          "execution_count": 37
        },
        {
          "output_type": "display_data",
          "data": {
            "text/plain": [
              "<Figure size 432x288 with 1 Axes>"
            ],
            "image/png": "[encoded data removed]"
          },
          "metadata": {
            "needs_background": "light"
          }
        }
      ]
    },
    {
      "cell_type": "code",
      "source": [
        "# more value nearer to zero but not actual zero (density of nearer to zero is higher compare to l1 )"
      ],
      "metadata": {
        "id": "90UgNN4LfPHH"
      },
      "execution_count": null,
      "outputs": []
    },
    {
      "cell_type": "code",
      "source": [
        "sns.distplot(model1_weight_layer1,color='yellow')\n",
        "sns.distplot(model2_weight_layer1,color='red')\n",
        "sns.distplot(model3_weight_layer1,color='blue')"
      ],
      "metadata": {
        "colab": {
          "base_uri": "https://localhost:8080/",
          "height": 413
        },
        "id": "Wtx-4LlIdPuY",
        "outputId": "5b7dd0ed-f13c-4123-b363-baee21c50539"
      },
      "execution_count": 43,
      "outputs": [
        {
          "output_type": "stream",
          "name": "stderr",
          "text": [
            "/usr/local/lib/python3.7/dist-packages/seaborn/distributions.py:2619: FutureWarning: `distplot` is a deprecated function and will be removed in a future version. Please adapt your code to use either `displot` (a figure-level function with similar flexibility) or `histplot` (an axes-level function for histograms).\n",
            "  warnings.warn(msg, FutureWarning)\n",
            "/usr/local/lib/python3.7/dist-packages/seaborn/distributions.py:2619: FutureWarning: `distplot` is a deprecated function and will be removed in a future version. Please adapt your code to use either `displot` (a figure-level function with similar flexibility) or `histplot` (an axes-level function for histograms).\n",
            "  warnings.warn(msg, FutureWarning)\n",
            "/usr/local/lib/python3.7/dist-packages/seaborn/distributions.py:2619: FutureWarning: `distplot` is a deprecated function and will be removed in a future version. Please adapt your code to use either `displot` (a figure-level function with similar flexibility) or `histplot` (an axes-level function for histograms).\n",
            "  warnings.warn(msg, FutureWarning)\n"
          ]
        },
        {
          "output_type": "execute_result",
          "data": {
            "text/plain": [
              "<matplotlib.axes._subplots.AxesSubplot at 0x7f929d259710>"
            ]
          },
          "metadata": {},
          "execution_count": 43
        },
        {
          "output_type": "display_data",
          "data": {
            "text/plain": [
              "<Figure size 432x288 with 1 Axes>"
            ],
            "image/png": "[encoded data removed]"
          },
          "metadata": {
            "needs_background": "light"
          }
        }
      ]
    },
    {
      "cell_type": "code",
      "source": [],
      "metadata": {
        "id": "WALvGSRcd_JT"
      },
      "execution_count": null,
      "outputs": []
    }
  ]
}