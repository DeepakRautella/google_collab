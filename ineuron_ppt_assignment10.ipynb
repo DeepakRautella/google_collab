{
  "nbformat": 4,
  "nbformat_minor": 0,
  "metadata": {
    "colab": {
      "provenance": [],
      "authorship_tag": "ABX9TyOL48XqiKcYoJrsys0hIgLu",
      "include_colab_link": true
    },
    "kernelspec": {
      "name": "python3",
      "display_name": "Python 3"
    },
    "language_info": {
      "name": "python"
    }
  },
  "cells": [
    {
      "cell_type": "markdown",
      "metadata": {
        "id": "view-in-github",
        "colab_type": "text"
      },
      "source": [
        "<a href=\"https://colab.research.google.com/github/DeepakRautella/google_collab/blob/main/ineuron_ppt_assignment10.ipynb\" target=\"_parent\"><img src=\"https://colab.research.google.com/assets/colab-badge.svg\" alt=\"Open In Colab\"/></a>"
      ]
    },
    {
      "cell_type": "code",
      "execution_count": null,
      "metadata": {
        "id": "QEHApdcapRNU"
      },
      "outputs": [],
      "source": []
    },
    {
      "cell_type": "markdown",
      "source": [
        "<aside>\n",
        "💡 **Question 1**\n",
        "\n",
        "Given an integer `n`, return *`true` if it is a power of three. Otherwise, return `false`*.\n",
        "\n",
        "An integer `n` is a power of three, if there exists an integer `x` such that `n == 3x`.\n",
        "\n",
        "**Example 1:**\n",
        "\n",
        "```\n",
        "Input: n = 27\n",
        "Output: true\n",
        "Explanation: 27 = 33\n",
        "```\n",
        "\n",
        "**Example 2:**\n",
        "\n",
        "```\n",
        "Input: n = 0\n",
        "Output: false\n",
        "Explanation: There is no x where 3x = 0.\n",
        "\n",
        "```\n",
        "\n",
        "**Example 3:**\n",
        "\n",
        "</aside>"
      ],
      "metadata": {
        "id": "rp8F9ob3pkEs"
      }
    },
    {
      "cell_type": "code",
      "source": [
        "def is_power_of_three(n):\n",
        "    if n==3:\n",
        "      return False\n",
        "    if n == 1:\n",
        "        return True\n",
        "    elif n <= 0 or n % 3 != 0:\n",
        "        return False\n",
        "    else:\n",
        "        return is_power_of_three(n // 3)\n"
      ],
      "metadata": {
        "id": "dKtmORYLpyMi"
      },
      "execution_count": 4,
      "outputs": []
    },
    {
      "cell_type": "code",
      "source": [
        "is_power_of_three(3)"
      ],
      "metadata": {
        "colab": {
          "base_uri": "https://localhost:8080/"
        },
        "id": "saCF2qTkpyi1",
        "outputId": "82d466f8-7a38-44cb-c3f8-c9b3e3941edb"
      },
      "execution_count": 5,
      "outputs": [
        {
          "output_type": "execute_result",
          "data": {
            "text/plain": [
              "False"
            ]
          },
          "metadata": {},
          "execution_count": 5
        }
      ]
    },
    {
      "cell_type": "code",
      "source": [
        "is_power_of_three(9)"
      ],
      "metadata": {
        "colab": {
          "base_uri": "https://localhost:8080/"
        },
        "id": "OHxwG1dsqfLa",
        "outputId": "349bc718-1bcd-4ace-ba49-53c2dced4e42"
      },
      "execution_count": 6,
      "outputs": [
        {
          "output_type": "execute_result",
          "data": {
            "text/plain": [
              "False"
            ]
          },
          "metadata": {},
          "execution_count": 6
        }
      ]
    },
    {
      "cell_type": "code",
      "source": [
        "is_power_of_three(42)"
      ],
      "metadata": {
        "colab": {
          "base_uri": "https://localhost:8080/"
        },
        "id": "UkPye6l2qr_g",
        "outputId": "b2595351-e0cc-4aa9-970b-cafa26f8eaaa"
      },
      "execution_count": 7,
      "outputs": [
        {
          "output_type": "execute_result",
          "data": {
            "text/plain": [
              "False"
            ]
          },
          "metadata": {},
          "execution_count": 7
        }
      ]
    },
    {
      "cell_type": "markdown",
      "source": [
        "<aside>\n",
        "💡 **Question 2**\n",
        "\n",
        "You have a list `arr` of all integers in the range `[1, n]` sorted in a strictly increasing order. Apply the following algorithm on `arr`:\n",
        "\n",
        "- Starting from left to right, remove the first number and every other number afterward until you reach the end of the list.\n",
        "- Repeat the previous step again, but this time from right to left, remove the rightmost number and every other number from the remaining numbers.\n",
        "- Keep repeating the steps again, alternating left to right and right to left, until a single number remains.\n",
        "\n",
        "Given the integer `n`, return *the last number that remains in* `arr`.\n",
        "\n",
        "**Example 1:**\n",
        "\n",
        "```\n",
        "Input: n = 9\n",
        "Output: 6\n",
        "Explanation:\n",
        "arr = [1, 2,3, 4,5, 6,7, 8,9]\n",
        "arr = [2,4, 6,8]\n",
        "arr = [2, 6]\n",
        "arr = [6]\n",
        "\n",
        "```\n",
        "\n",
        "**Example 2:**\n",
        "\n",
        "</aside>"
      ],
      "metadata": {
        "id": "AqKjG2-Xpy6G"
      }
    },
    {
      "cell_type": "code",
      "source": [
        "def last_remaining_number(arr):\n",
        "    if len(arr) == 1:\n",
        "        return arr[0]\n",
        "    else:\n",
        "        next_arr = []\n",
        "        for i in range(1, len(arr), 2):\n",
        "            next_arr.append(arr[i])\n",
        "        return last_remaining_number(next_arr[::-1])\n"
      ],
      "metadata": {
        "id": "vHVa2TB2pngr"
      },
      "execution_count": 8,
      "outputs": []
    },
    {
      "cell_type": "code",
      "source": [
        "last_remaining_number([1,2,3,4,5,6,7,8,9])"
      ],
      "metadata": {
        "colab": {
          "base_uri": "https://localhost:8080/"
        },
        "id": "VbqUb5fKqvjb",
        "outputId": "83a27f3c-bae5-4dda-d71f-3317701f2cba"
      },
      "execution_count": 10,
      "outputs": [
        {
          "output_type": "execute_result",
          "data": {
            "text/plain": [
              "6"
            ]
          },
          "metadata": {},
          "execution_count": 10
        }
      ]
    },
    {
      "cell_type": "markdown",
      "source": [
        "<aside>\n",
        "💡 **Question 3**\n",
        "\n",
        "****Given a set represented as a string, write a recursive code to print all subsets of it. The subsets can be printed in any order.\n",
        "\n",
        "**Example 1:**\n",
        "\n",
        "Input :  set = “abc”\n",
        "\n",
        "Output : { “”, “a”, “b”, “c”, “ab”, “ac”, “bc”, “abc”}\n",
        "\n",
        "**Example 2:**\n",
        "\n",
        "Input : set = “abcd”\n",
        "\n",
        "Output : { “”, “a” ,”ab” ,”abc” ,”abcd”, “abd” ,”ac” ,”acd”, “ad” ,”b”, “bc” ,”bcd” ,”bd” ,”c” ,”cd” ,”d” }\n",
        "\n",
        "</aside>"
      ],
      "metadata": {
        "id": "ZRDPWEZ6qvxd"
      }
    },
    {
      "cell_type": "code",
      "source": [
        "def subsets(set_str):\n",
        "    current_set = \"\"\n",
        "    index = 0\n",
        "    result = []\n",
        "    generate_subsets(set_str, current_set, index, result)\n",
        "    return result\n",
        "\n",
        "def generate_subsets(set_str, current_set, index, result):\n",
        "    if index == len(set_str):\n",
        "        result.append(current_set)\n",
        "        return\n",
        "    generate_subsets(set_str, current_set, index + 1, result)  # Exclude current element\n",
        "    generate_subsets(set_str, current_set + set_str[index], index + 1, result)  # Include current element\n",
        "\n"
      ],
      "metadata": {
        "id": "-l8rwOJJq2p2"
      },
      "execution_count": 11,
      "outputs": []
    },
    {
      "cell_type": "code",
      "source": [
        "subsets(\"abcd\")"
      ],
      "metadata": {
        "colab": {
          "base_uri": "https://localhost:8080/"
        },
        "id": "KKPCE4HrrYAw",
        "outputId": "74f909b1-341c-4876-b205-66c3fc165821"
      },
      "execution_count": 12,
      "outputs": [
        {
          "output_type": "execute_result",
          "data": {
            "text/plain": [
              "['',\n",
              " 'd',\n",
              " 'c',\n",
              " 'cd',\n",
              " 'b',\n",
              " 'bd',\n",
              " 'bc',\n",
              " 'bcd',\n",
              " 'a',\n",
              " 'ad',\n",
              " 'ac',\n",
              " 'acd',\n",
              " 'ab',\n",
              " 'abd',\n",
              " 'abc',\n",
              " 'abcd']"
            ]
          },
          "metadata": {},
          "execution_count": 12
        }
      ]
    },
    {
      "cell_type": "markdown",
      "source": [
        "<aside>\n",
        "💡 **Question 4**\n",
        "\n",
        "Given a string calculate length of the string using recursion.\n",
        "\n",
        "**Examples:**\n",
        "\n",
        "</aside>"
      ],
      "metadata": {
        "id": "egYes_t9rYQf"
      }
    },
    {
      "cell_type": "code",
      "source": [
        "def string_length(string):\n",
        "    if string == '':\n",
        "        return 0\n",
        "    else:\n",
        "        return 1 + string_length(string[1:])\n"
      ],
      "metadata": {
        "id": "mzmv041SsBRK"
      },
      "execution_count": 13,
      "outputs": []
    },
    {
      "cell_type": "code",
      "source": [
        "string_length(\"ineuron\")"
      ],
      "metadata": {
        "colab": {
          "base_uri": "https://localhost:8080/"
        },
        "id": "g9SLXASzsG4x",
        "outputId": "c945f6ac-91ef-4c53-9041-389476902c78"
      },
      "execution_count": 14,
      "outputs": [
        {
          "output_type": "execute_result",
          "data": {
            "text/plain": [
              "7"
            ]
          },
          "metadata": {},
          "execution_count": 14
        }
      ]
    },
    {
      "cell_type": "code",
      "source": [],
      "metadata": {
        "id": "8MZ3QGwHsHYU"
      },
      "execution_count": null,
      "outputs": []
    },
    {
      "cell_type": "markdown",
      "source": [
        "<aside>\n",
        "💡 **Question 5**\n",
        "\n",
        "We are given a string S, we need to find count of all contiguous substrings starting and ending with same character.\n",
        "\n",
        "**Examples :**\n",
        "\n",
        "</aside>"
      ],
      "metadata": {
        "id": "2u-0-MynsHln"
      }
    },
    {
      "cell_type": "code",
      "source": [
        "def count_contiguous_substrings(S):\n",
        "    count = 0\n",
        "    for i in range(len(S)):\n",
        "        for j in range(i, len(S)):\n",
        "            if S[i] == S[j]:\n",
        "                count += 1\n",
        "    return count\n"
      ],
      "metadata": {
        "id": "09fkRYwzsIJa"
      },
      "execution_count": 15,
      "outputs": []
    },
    {
      "cell_type": "code",
      "source": [
        "count_contiguous_substrings(\"abcab\")"
      ],
      "metadata": {
        "colab": {
          "base_uri": "https://localhost:8080/"
        },
        "id": "KTC9pBcIsWvy",
        "outputId": "3458b18e-f01b-4c8b-ac46-8744ad58a5a3"
      },
      "execution_count": 16,
      "outputs": [
        {
          "output_type": "execute_result",
          "data": {
            "text/plain": [
              "7"
            ]
          },
          "metadata": {},
          "execution_count": 16
        }
      ]
    },
    {
      "cell_type": "markdown",
      "source": [
        "<aside>\n",
        "💡 **Question 6**\n",
        "\n",
        "The [tower of Hanoi](https://en.wikipedia.org/wiki/Tower_of_Hanoi) is a famous puzzle where we have three rods and **N** disks. The objective of the puzzle is to move the entire stack to another rod. You are given the number of discs **N**. Initially, these discs are in the rod 1. You need to print all the steps of discs movement so that all the discs reach the 3rd rod. Also, you need to find the total moves.**Note:** The discs are arranged such that the **top disc is numbered 1** and the **bottom-most disc is numbered N**. Also, all the discs have **different sizes** and a bigger disc **cannot** be put on the top of a smaller disc. Refer the provided link to get a better clarity about the puzzle.\n",
        "\n",
        "**Example 1:**\n",
        "\n",
        "</aside>"
      ],
      "metadata": {
        "id": "4zkfHbMXsW-Y"
      }
    },
    {
      "cell_type": "code",
      "source": [
        "def tower_of_hanoi(n, source, auxiliary, destination):\n",
        "    if n == 1:\n",
        "        print(f\"Move disc 1 from rod {source} to rod {destination}\")\n",
        "        return 1\n",
        "    else:\n",
        "        moves = 0\n",
        "        moves += tower_of_hanoi(n-1, source, destination, auxiliary)\n",
        "        print(f\"Move disc {n} from rod {source} to rod {destination}\")\n",
        "        moves += 1\n",
        "        moves += tower_of_hanoi(n-1, auxiliary, source, destination)\n",
        "        return moves\n"
      ],
      "metadata": {
        "id": "ESpfFc63sbnx"
      },
      "execution_count": 17,
      "outputs": []
    },
    {
      "cell_type": "code",
      "source": [
        "tower_of_hanoi(3,1,2,3)"
      ],
      "metadata": {
        "colab": {
          "base_uri": "https://localhost:8080/"
        },
        "id": "oSABXza_scLr",
        "outputId": "9aa5a270-ff58-4c7b-9efb-067d1f0c7cf2"
      },
      "execution_count": 18,
      "outputs": [
        {
          "output_type": "stream",
          "name": "stdout",
          "text": [
            "Move disc 1 from rod 1 to rod 3\n",
            "Move disc 2 from rod 1 to rod 2\n",
            "Move disc 1 from rod 3 to rod 2\n",
            "Move disc 3 from rod 1 to rod 3\n",
            "Move disc 1 from rod 2 to rod 1\n",
            "Move disc 2 from rod 2 to rod 3\n",
            "Move disc 1 from rod 1 to rod 3\n"
          ]
        },
        {
          "output_type": "execute_result",
          "data": {
            "text/plain": [
              "7"
            ]
          },
          "metadata": {},
          "execution_count": 18
        }
      ]
    },
    {
      "cell_type": "code",
      "source": [],
      "metadata": {
        "id": "YDEn_0eVscV6"
      },
      "execution_count": 18,
      "outputs": []
    },
    {
      "cell_type": "markdown",
      "source": [
        "<aside>\n",
        "💡 **Question 7**\n",
        "\n",
        "Given a string **str**, the task is to print all the permutations of **str**. A **permutation** is an arrangement of all or part of a set of objects, with regard to the order of the arrangement. For instance, the words ‘bat’ and ‘tab’ represents two distinct permutation (or arrangements) of a similar three letter word.\n",
        "\n",
        "**Examples:**\n",
        "\n",
        "> Input: str = “cd”\n",
        ">\n",
        ">\n",
        "> **Output:** cd dc\n",
        ">\n",
        "> **Input:** str = “abb”\n",
        ">\n",
        "> **Output:** abb abb bab bba bab bba\n",
        ">\n",
        "</aside>"
      ],
      "metadata": {
        "id": "JgCnRh_-s6PX"
      }
    },
    {
      "cell_type": "code",
      "source": [
        "def permutations(str):\n",
        "    permute(list(str), 0, len(str) - 1)\n",
        "\n",
        "def permute(str_list, left, right):\n",
        "    if left == right:\n",
        "        print(''.join(str_list))\n",
        "    else:\n",
        "        for i in range(left, right + 1):\n",
        "            str_list[left], str_list[i] = str_list[i], str_list[left]  # Swap characters\n",
        "            permute(str_list, left + 1, right)  # Recursive call\n",
        "            str_list[left], str_list[i] = str_list[i], str_list[left]  # Backtrack, restore original order\n",
        "\n"
      ],
      "metadata": {
        "id": "jh1LwQJpteRz"
      },
      "execution_count": 19,
      "outputs": []
    },
    {
      "cell_type": "code",
      "source": [
        "permutations(\"cd\")\n",
        "# Output: cd dc\n",
        "\n",
        "permutations(\"abb\")\n",
        "# Output: abb abb bab bba bab bba\n"
      ],
      "metadata": {
        "colab": {
          "base_uri": "https://localhost:8080/"
        },
        "id": "rUAaoG_zteeN",
        "outputId": "9cdc1ff7-a07c-40c5-be57-74ed46def882"
      },
      "execution_count": 20,
      "outputs": [
        {
          "output_type": "stream",
          "name": "stdout",
          "text": [
            "cd\n",
            "dc\n",
            "abb\n",
            "abb\n",
            "bab\n",
            "bba\n",
            "bba\n",
            "bab\n"
          ]
        }
      ]
    },
    {
      "cell_type": "markdown",
      "source": [
        "<aside>\n",
        "💡 **Question 8**\n",
        "\n",
        "Given a string, count total number of consonants in it. A consonant is an English alphabet character that is not vowel (a, e, i, o and u). Examples of constants are b, c, d, f, and g.\n",
        "\n",
        "**Examples :**\n",
        "\n",
        "</aside>"
      ],
      "metadata": {
        "id": "IYgZ7gYste43"
      }
    },
    {
      "cell_type": "code",
      "source": [
        "def count_consonants(string):\n",
        "    if string == '':\n",
        "        return 0\n",
        "    elif string[0].lower() not in 'aeiou' and string[0].isalpha():\n",
        "        return 1 + count_consonants(string[1:])\n",
        "    else:\n",
        "        return count_consonants(string[1:])\n"
      ],
      "metadata": {
        "id": "PQSd1NHO5lmg"
      },
      "execution_count": 21,
      "outputs": []
    },
    {
      "cell_type": "code",
      "source": [
        "print(count_consonants(''))  # Output: 0\n",
        "print(count_consonants('hello'))  # Output: 3\n",
        "print(count_consonants('OpenAI'))  # Output: 3\n"
      ],
      "metadata": {
        "colab": {
          "base_uri": "https://localhost:8080/"
        },
        "id": "RFYAfcva5l8U",
        "outputId": "76f860ca-748e-4d7e-f8a5-e9e28e7e494a"
      },
      "execution_count": 22,
      "outputs": [
        {
          "output_type": "stream",
          "name": "stdout",
          "text": [
            "0\n",
            "3\n",
            "2\n"
          ]
        }
      ]
    },
    {
      "cell_type": "code",
      "source": [],
      "metadata": {
        "id": "4hCcmmil5oS9"
      },
      "execution_count": null,
      "outputs": []
    }
  ]
}