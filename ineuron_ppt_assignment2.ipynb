{
  "nbformat": 4,
  "nbformat_minor": 0,
  "metadata": {
    "colab": {
      "provenance": [],
      "authorship_tag": "ABX9TyPvFah+7zExb1yoTiSbtNU7",
      "include_colab_link": true
    },
    "kernelspec": {
      "name": "python3",
      "display_name": "Python 3"
    },
    "language_info": {
      "name": "python"
    }
  },
  "cells": [
    {
      "cell_type": "markdown",
      "metadata": {
        "id": "view-in-github",
        "colab_type": "text"
      },
      "source": [
        "<a href=\"https://colab.research.google.com/github/DeepakRautella/google_collab/blob/main/ineuron_ppt_assignment2.ipynb\" target=\"_parent\"><img src=\"https://colab.research.google.com/assets/colab-badge.svg\" alt=\"Open In Colab\"/></a>"
      ]
    },
    {
      "cell_type": "code",
      "execution_count": null,
      "metadata": {
        "id": "dhZawj--ZZ0s"
      },
      "outputs": [],
      "source": []
    },
    {
      "cell_type": "markdown",
      "source": [
        "<aside>\n",
        "💡 **Question 1**\n",
        "Given an integer array nums of 2n integers, group these integers into n pairs (a1, b1), (a2, b2),..., (an, bn) such that the sum of min(ai, bi) for all i is maximized. Return the maximized sum.\n",
        "\n",
        "**Example 1:**\n",
        "Input: nums = [1,4,3,2]\n",
        "Output: 4\n",
        "\n",
        "**Explanation:** All possible pairings (ignoring the ordering of elements) are:\n",
        "\n",
        "1. (1, 4), (2, 3) -> min(1, 4) + min(2, 3) = 1 + 2 = 3\n",
        "2. (1, 3), (2, 4) -> min(1, 3) + min(2, 4) = 1 + 2 = 3\n",
        "3. (1, 2), (3, 4) -> min(1, 2) + min(3, 4) = 1 + 3 = 4\n",
        "So the maximum possible sum is 4\n",
        "</aside>"
      ],
      "metadata": {
        "id": "A09TuooBd1wi"
      }
    },
    {
      "cell_type": "code",
      "source": [
        "def array_pair_sum(nums):\n",
        "    nums.sort()\n",
        "    max_sum = 0\n",
        "    for i in range(0, len(nums), 2):\n",
        "        max_sum += nums[i]\n",
        "    return max_sum\n"
      ],
      "metadata": {
        "id": "GMrwGxgmd2eP"
      },
      "execution_count": 1,
      "outputs": []
    },
    {
      "cell_type": "code",
      "source": [
        "array_pair_sum([1,2,3,4,5,6])"
      ],
      "metadata": {
        "colab": {
          "base_uri": "https://localhost:8080/"
        },
        "id": "vGLOT5_Wd7c_",
        "outputId": "50674a23-a663-47b3-9ab8-6d0a22926b68"
      },
      "execution_count": 2,
      "outputs": [
        {
          "output_type": "execute_result",
          "data": {
            "text/plain": [
              "9"
            ]
          },
          "metadata": {},
          "execution_count": 2
        }
      ]
    },
    {
      "cell_type": "markdown",
      "source": [
        "Question 2\n",
        "Alice has n candies, where the ith candy is of type candyType[i]. Alice noticed that she started to gain weight, so she visited a doctor.\n",
        "\n",
        "The doctor advised Alice to only eat n / 2 of the candies she has (n is always even). Alice likes her candies very much, and she wants to eat the maximum number of different types of candies while still following the doctor's advice.\n",
        "\n",
        "Given the integer array candyType of length n, return the maximum number of different types of candies she can eat if she only eats n / 2 of them.\n",
        "\n",
        "Example 1:\n",
        "Input: candyType = [1,1,2,2,3,3]\n",
        "Output: 3\n",
        "\n",
        "Explanation: Alice can only eat 6 / 2 = 3 candies. Since there are only 3 types, she can eat one of each type."
      ],
      "metadata": {
        "id": "Sk1L_kAleVZg"
      }
    },
    {
      "cell_type": "code",
      "source": [
        "def max_candies(candyType):\n",
        "    unique_candies = set()\n",
        "    for candy in candyType:\n",
        "        unique_candies.add(candy)\n",
        "    max_candies = min(len(unique_candies), len(candyType) // 2)\n",
        "    return max_candies\n"
      ],
      "metadata": {
        "id": "iVu72d5fePMm"
      },
      "execution_count": 3,
      "outputs": []
    },
    {
      "cell_type": "code",
      "source": [
        "max_candies([1,1,2,2,2,3,3,3,4,4,4])"
      ],
      "metadata": {
        "colab": {
          "base_uri": "https://localhost:8080/"
        },
        "id": "5tPQrnv8eaTV",
        "outputId": "f2c322a2-461e-4b64-b5e2-e16517aa2c22"
      },
      "execution_count": 4,
      "outputs": [
        {
          "output_type": "execute_result",
          "data": {
            "text/plain": [
              "4"
            ]
          },
          "metadata": {},
          "execution_count": 4
        }
      ]
    },
    {
      "cell_type": "markdown",
      "source": [
        "Question 3\n",
        "We define a harmonious array as an array where the difference between its maximum value\n",
        "and its minimum value is exactly 1.\n",
        "\n",
        "Given an integer array nums, return the length of its longest harmonious subsequence\n",
        "among all its possible subsequences.\n",
        "\n",
        "A subsequence of an array is a sequence that can be derived from the array by deleting some or no elements without changing the order of the remaining elements.\n",
        "\n",
        "Example 1:\n",
        "Input: nums = [1,3,2,2,5,2,3,7]\n",
        "Output: 5\n",
        "\n",
        "Explanation: The longest harmonious subsequence is [3,2,2,2,3]."
      ],
      "metadata": {
        "id": "w_zPSlo5emOc"
      }
    },
    {
      "cell_type": "code",
      "source": [
        "def findLHS(nums):\n",
        "    num_counts = {}\n",
        "    max_length = 0\n",
        "\n",
        "    # Count the frequency of each number\n",
        "    for num in nums:\n",
        "        num_counts[num] = num_counts.get(num, 0) + 1\n",
        "\n",
        "    # Iterate over the numbers and find the maximum length\n",
        "    for num in num_counts:\n",
        "        if num + 1 in num_counts:\n",
        "            length = num_counts[num] + num_counts[num + 1]\n",
        "            max_length = max(max_length, length)\n",
        "\n",
        "    return max_length\n"
      ],
      "metadata": {
        "id": "ac0mmQ7neg-N"
      },
      "execution_count": 10,
      "outputs": []
    },
    {
      "cell_type": "code",
      "source": [
        "findLHS([1,3,2,2,5,2,3,7])"
      ],
      "metadata": {
        "colab": {
          "base_uri": "https://localhost:8080/"
        },
        "id": "bI_sVSAbfBps",
        "outputId": "e0661f52-9bf3-441e-bea3-b76f6a552927"
      },
      "execution_count": 11,
      "outputs": [
        {
          "output_type": "execute_result",
          "data": {
            "text/plain": [
              "5"
            ]
          },
          "metadata": {},
          "execution_count": 11
        }
      ]
    },
    {
      "cell_type": "markdown",
      "source": [
        "Question 4\n",
        "You have a long flowerbed in which some of the plots are planted, and some are not.\n",
        "However, flowers cannot be planted in adjacent plots.\n",
        "Given an integer array flowerbed containing 0's and 1's, where 0 means empty and 1 means not empty, and an integer n, return true if n new flowers can be planted in the flowerbed without violating the no-adjacent-flowers rule and false otherwise.\n",
        "\n",
        "Example 1:\n",
        "Input: flowerbed = [1,0,0,0,1], n = 1\n",
        "Output: true"
      ],
      "metadata": {
        "id": "Qp7UiPFDkkyc"
      }
    },
    {
      "cell_type": "code",
      "source": [
        "def canPlaceFlowers(flowerbed, n):\n",
        "    count = 0\n",
        "    length = len(flowerbed)\n",
        "    i = 0\n",
        "\n",
        "    while i < length:\n",
        "        if flowerbed[i] == 0 and (i == 0 or flowerbed[i-1] == 0) and (i == length-1 or flowerbed[i+1] == 0):\n",
        "            flowerbed[i] = 1\n",
        "            count += 1\n",
        "            i += 2  # Skip the next position since we can't plant adjacent flowers\n",
        "        else:\n",
        "            i += 1\n",
        "\n",
        "    return count >= n\n"
      ],
      "metadata": {
        "id": "BAmOWWYNg1oJ"
      },
      "execution_count": 12,
      "outputs": []
    },
    {
      "cell_type": "code",
      "source": [
        "canPlaceFlowers([1,0,0,0,1],1)"
      ],
      "metadata": {
        "colab": {
          "base_uri": "https://localhost:8080/"
        },
        "id": "dFhsNqLlkoqL",
        "outputId": "bf03285b-0e3c-4c83-a26f-74e9767e6289"
      },
      "execution_count": 13,
      "outputs": [
        {
          "output_type": "execute_result",
          "data": {
            "text/plain": [
              "True"
            ]
          },
          "metadata": {},
          "execution_count": 13
        }
      ]
    },
    {
      "cell_type": "markdown",
      "source": [
        "Given an integer array nums, find three numbers whose product is maximum and return the maximum product.\n",
        "\n",
        "Example 1:\n",
        "Input: nums = [1,2,3]\n",
        "Output: 6"
      ],
      "metadata": {
        "id": "YEELHwgKkycP"
      }
    },
    {
      "cell_type": "code",
      "source": [
        "def maximumProduct(nums):\n",
        "    nums.sort()\n",
        "    n = len(nums)\n",
        "    return (nums[n-1] * nums[n-2] * nums[n-3])\n"
      ],
      "metadata": {
        "id": "RP_SITxnkwnZ"
      },
      "execution_count": 14,
      "outputs": []
    },
    {
      "cell_type": "code",
      "source": [
        "maximumProduct([-1,-2,1,2,3,4,5,8,2,5,6])"
      ],
      "metadata": {
        "colab": {
          "base_uri": "https://localhost:8080/"
        },
        "id": "FQ-zN2k2l0nb",
        "outputId": "e246ffc7-024d-4cad-8618-f3a3425df25a"
      },
      "execution_count": 15,
      "outputs": [
        {
          "output_type": "execute_result",
          "data": {
            "text/plain": [
              "240"
            ]
          },
          "metadata": {},
          "execution_count": 15
        }
      ]
    },
    {
      "cell_type": "code",
      "source": [],
      "metadata": {
        "id": "Id9NPVDXl61y"
      },
      "execution_count": null,
      "outputs": []
    },
    {
      "cell_type": "markdown",
      "source": [
        "Question 6\n",
        "Given an array of integers nums which is sorted in ascending order, and an integer target,\n",
        "write a function to search target in nums. If target exists, then return its index. Otherwise,\n",
        "return -1.\n",
        "\n",
        "You must write an algorithm with O(log n) runtime complexity.\n",
        "\n",
        "Input: nums = [-1,0,3,5,9,12], target = 9\n",
        "Output: 4\n",
        "\n",
        "Explanation: 9 exists in nums and its index is 4\n"
      ],
      "metadata": {
        "id": "jOrcXLtTmKI5"
      }
    },
    {
      "cell_type": "code",
      "source": [
        "def search(nums, target):\n",
        "    left = 0\n",
        "    right = len(nums) - 1\n",
        "\n",
        "    while left <= right:\n",
        "        mid = (left + right) // 2\n",
        "\n",
        "        if nums[mid] == target:\n",
        "            return mid\n",
        "        elif nums[mid] < target:\n",
        "            left = mid + 1\n",
        "        else:\n",
        "            right = mid - 1\n",
        "\n",
        "    return -1\n",
        "search([-1,0,3,5,9,12],9)"
      ],
      "metadata": {
        "colab": {
          "base_uri": "https://localhost:8080/"
        },
        "id": "T4QkZUHtmK68",
        "outputId": "9d91595f-b7dc-4c7f-d9b4-422ef55ba904"
      },
      "execution_count": 17,
      "outputs": [
        {
          "output_type": "execute_result",
          "data": {
            "text/plain": [
              "4"
            ]
          },
          "metadata": {},
          "execution_count": 17
        }
      ]
    },
    {
      "cell_type": "markdown",
      "source": [
        "Question 7\n",
        "An array is monotonic if it is either monotone increasing or monotone decreasing.\n",
        "\n",
        "An array nums is monotone increasing if for all i <= j, nums[i] <= nums[j]. An array nums is\n",
        "monotone decreasing if for all i <= j, nums[i] >= nums[j].\n",
        "\n",
        "Given an integer array nums, return true if the given array is monotonic, or false otherwise.\n",
        "\n",
        "Example 1:\n",
        "Input: nums = [1,2,2,3]\n",
        "Output: true"
      ],
      "metadata": {
        "id": "L0_jQtxtmP1l"
      }
    },
    {
      "cell_type": "code",
      "source": [
        "def isMonotonic(nums):\n",
        "    isIncreasing = True\n",
        "    isDecreasing = True\n",
        "\n",
        "    for i in range(1, len(nums)):\n",
        "        if nums[i] > nums[i - 1]:\n",
        "            isDecreasing = False\n",
        "        if nums[i] < nums[i - 1]:\n",
        "            isIncreasing = False\n",
        "\n",
        "    return isIncreasing or isDecreasing\n"
      ],
      "metadata": {
        "id": "2awxWiR8mQZ4"
      },
      "execution_count": 18,
      "outputs": []
    },
    {
      "cell_type": "code",
      "source": [
        "isMonotonic([1,2,2,3])"
      ],
      "metadata": {
        "colab": {
          "base_uri": "https://localhost:8080/"
        },
        "id": "pXKE3Zngm7T4",
        "outputId": "0f5c83cf-8dcb-4822-e99e-6a379adc7f9b"
      },
      "execution_count": 19,
      "outputs": [
        {
          "output_type": "execute_result",
          "data": {
            "text/plain": [
              "True"
            ]
          },
          "metadata": {},
          "execution_count": 19
        }
      ]
    },
    {
      "cell_type": "markdown",
      "source": [
        "Question 8\n",
        "You are given an integer array nums and an integer k.\n",
        "\n",
        "In one operation, you can choose any index i where 0 <= i < nums.length and change nums[i] to nums[i] + x where x is an integer from the range [-k, k]. You can apply this operation at most once for each index i.\n",
        "\n",
        "The score of nums is the difference between the maximum and minimum elements in nums.\n",
        "\n",
        "Return the minimum score of nums after applying the mentioned operation at most once for each index in it.\n",
        "\n",
        "Example 1:\n",
        "Input: nums = [1], k = 0\n",
        "Output: 0\n",
        "\n",
        "Explanation: The score is max(nums) - min(nums) = 1 - 1 =0\n"
      ],
      "metadata": {
        "id": "FEl7taw-nE6u"
      }
    },
    {
      "cell_type": "code",
      "source": [
        "def minDifference(nums, k):\n",
        "    min_val = float('inf')\n",
        "    max_val = float('-inf')\n",
        "\n",
        "    for num in nums:\n",
        "        min_val = min(min_val, num)\n",
        "        max_val = max(max_val, num)\n",
        "\n",
        "    if max_val - min_val <= 2 * k:\n",
        "        return 0\n",
        "\n",
        "    new_max = max_val - k\n",
        "    new_min = min_val + k\n",
        "\n",
        "    return new_max - new_min\n"
      ],
      "metadata": {
        "id": "GVFkHvGDm90L"
      },
      "execution_count": 20,
      "outputs": []
    },
    {
      "cell_type": "code",
      "source": [
        "minDifference([1],0)"
      ],
      "metadata": {
        "colab": {
          "base_uri": "https://localhost:8080/"
        },
        "id": "EvtGNc-OnbS7",
        "outputId": "b0c3021e-a9c1-494b-af21-236974bcf674"
      },
      "execution_count": 21,
      "outputs": [
        {
          "output_type": "execute_result",
          "data": {
            "text/plain": [
              "0"
            ]
          },
          "metadata": {},
          "execution_count": 21
        }
      ]
    },
    {
      "cell_type": "code",
      "source": [],
      "metadata": {
        "id": "acNO-itGnh9k"
      },
      "execution_count": null,
      "outputs": []
    }
  ]
}