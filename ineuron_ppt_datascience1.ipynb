{
  "nbformat": 4,
  "nbformat_minor": 0,
  "metadata": {
    "colab": {
      "provenance": [],
      "toc_visible": true,
      "authorship_tag": "ABX9TyOqoFEQPD9/p2bdwXyElvoG",
      "include_colab_link": true
    },
    "kernelspec": {
      "name": "python3",
      "display_name": "Python 3"
    },
    "language_info": {
      "name": "python"
    }
  },
  "cells": [
    {
      "cell_type": "markdown",
      "metadata": {
        "id": "view-in-github",
        "colab_type": "text"
      },
      "source": [
        "<a href=\"https://colab.research.google.com/github/DeepakRautella/google_collab/blob/main/ineuron_ppt_datascience1.ipynb\" target=\"_parent\"><img src=\"https://colab.research.google.com/assets/colab-badge.svg\" alt=\"Open In Colab\"/></a>"
      ]
    },
    {
      "cell_type": "code",
      "execution_count": null,
      "metadata": {
        "id": "8kQIWxPHuM52"
      },
      "outputs": [],
      "source": []
    },
    {
      "cell_type": "markdown",
      "source": [
        "\n",
        "\n",
        "1. Write a Python program to reverse a string without using any built-in string reversal functions.\n",
        "2. Implement a function to check if a given string is a palindrome.\n",
        "3. Write a program to find the largest element in a given list.\n",
        "4. Implement a function to count the occurrence of each element in a list.\n",
        "5. Write a Python program to find the second largest number in a list.\n",
        "6. Implement a function to remove duplicate elements from a list.\n",
        "7. Write a program to calculate the factorial of a given number.\n",
        "8. Implement a function to check if a given number is prime.\n",
        "9. Write a Python program to sort a list of integers in ascending order.\n",
        "10. Implement a function to find the sum of all numbers in a list.\n",
        "11. Write a program to find the common elements between two lists.\n",
        "12. Implement a function to check if a given string is an anagram of another string.\n",
        "13. Write a Python program to generate all permutations of a given string.\n",
        "14. Implement a function to calculate the Fibonacci sequence up to a given number of terms.\n",
        "15. Write a program to find the median of a list of numbers.\n",
        "16. Implement a function to check if a given list is sorted in non-decreasing order.\n",
        "17. Write a Python program to find the intersection of two lists.\n",
        "18. Implement a function to find the maximum subarray sum in a given list.\n",
        "19. Write a program to remove all vowels from a given string.\n",
        "20. Implement a function to reverse the order of words in a given sentence.\n",
        "21. Write a Python program to check if two strings are anagrams of each other.\n",
        "22. Implement a function to find the first non-repeating character in a string.\n",
        "23. Write a program to find the prime factors of a given number.\n",
        "24. Implement a function to check if a given number is a power of two.\n",
        "25. Write a Python program to merge two sorted lists into a single sorted list.\n",
        "26. Implement a function to find the mode of a list of numbers.\n",
        "27. Write a program to find the greatest common divisor (GCD) of two numbers.\n",
        "28. Implement a function to calculate the square root of a given number.\n",
        "29. Write a Python program to check if a given string is a valid palindrome ignoring non-alphanumeric characters.\n",
        "30. Implement a function to find the minimum element in a rotated sorted list.\n",
        "31. Write a program to find the sum of all even numbers in a list.\n",
        "32. Implement a function to calculate the power of a number using recursion.\n",
        "33. Write a Python program to remove duplicates from a list while preserving the order.\n",
        "34. Implement a function to find the longest common prefix among a list of strings.\n",
        "35. Write a program to check if a given number is a perfect square.\n",
        "36. Implement a function to calculate the product of all elements in a list.\n",
        "37. Write a Python program to reverse the order of words in a sentence while preserving the word order.\n",
        "38. Implement a function to find the missing number in a given list of consecutive numbers.\n",
        "39. Write a program to find the sum of digits of a given number.\n",
        "40. Implement a function to check if a given string is a valid palindrome considering case sensitivity.\n",
        "41. Write a Python program to find the smallest missing positive integer in a list.\n",
        "42. Implement a function to find the longest palindrome substring in a given string.\n",
        "43. Write a program to find the number of occurrences of a given element in a list.\n",
        "44. Implement a function to check if a given number is a perfect number.\n",
        "45. Write a Python program to remove all duplicates from a string.\n",
        "46. Implement a function to find the first missing positive\n",
        "\n"
      ],
      "metadata": {
        "id": "cYpdb3GoueHi"
      }
    },
    {
      "cell_type": "code",
      "source": [
        "def reverse_string(string):\n",
        "    reversed_string = ''\n",
        "    for i in range(len(string) - 1, -1, -1):\n",
        "        reversed_string += string[i]\n",
        "    return reversed_string\n",
        "\n",
        "# Example usage\n",
        "input_string = input(\"Enter a string: \")\n",
        "reversed_string = reverse_string(input_string)\n",
        "print(\"Reversed string:\", reversed_string)\n",
        "\n"
      ],
      "metadata": {
        "colab": {
          "base_uri": "https://localhost:8080/",
          "height": 70
        },
        "id": "mt6nk3ukuvQ6",
        "outputId": "721c647e-a9a3-42f1-a190-a80df87a942a"
      },
      "execution_count": 1,
      "outputs": [
        {
          "output_type": "stream",
          "name": "stdout",
          "text": [
            "Enter a string: my name is deepak\n",
            "Reversed string: kapeed si eman ym\n"
          ]
        },
        {
          "output_type": "execute_result",
          "data": {
            "text/plain": [
              "'kapeeD si eman ym'"
            ],
            "application/vnd.google.colaboratory.intrinsic+json": {
              "type": "string"
            }
          },
          "metadata": {},
          "execution_count": 1
        }
      ]
    },
    {
      "cell_type": "code",
      "source": [
        "def is_palindrome(string):\n",
        "    string = string.lower()  # Convert string to lowercase for case-insensitive comparison\n",
        "    left = 0\n",
        "    right = len(string) - 1\n",
        "\n",
        "    while left < right:\n",
        "        if string[left] != string[right]:\n",
        "            return False\n",
        "        left += 1\n",
        "        right -= 1\n",
        "\n",
        "    return True\n",
        "\n",
        "# Example usage\n",
        "input_string = input(\"Enter a string: \")\n",
        "if is_palindrome(input_string):\n",
        "    print(\"The string is a palindrome.\")\n",
        "else:\n",
        "    print(\"The string is not a palindrome.\")\n"
      ],
      "metadata": {
        "colab": {
          "base_uri": "https://localhost:8080/"
        },
        "id": "EpzO9nguu0h2",
        "outputId": "963fc4fe-bdc6-4363-c33f-d1930f427f51"
      },
      "execution_count": 2,
      "outputs": [
        {
          "output_type": "stream",
          "name": "stdout",
          "text": [
            "Enter a string: madam\n",
            "The string is a palindrome.\n"
          ]
        }
      ]
    },
    {
      "cell_type": "code",
      "source": [
        "def find_largest_element(lst):\n",
        "    if not lst:\n",
        "        return None\n",
        "\n",
        "    largest = lst[0]\n",
        "    for num in lst:\n",
        "        if num > largest:\n",
        "            largest = num\n",
        "\n",
        "    return largest\n",
        "\n",
        "# Example usage\n",
        "input_list = input(\"Enter a list of numbers (space-separated): \").split()\n",
        "input_list = [int(num) for num in input_list]  # Convert input strings to integers\n",
        "largest_element = find_largest_element(input_list)\n",
        "print(\"The largest element in the list is:\", largest_element)\n"
      ],
      "metadata": {
        "colab": {
          "base_uri": "https://localhost:8080/"
        },
        "id": "lBO2yVvyvKLR",
        "outputId": "891881f3-fb01-497a-a5e3-20ac1ef6cb2d"
      },
      "execution_count": 4,
      "outputs": [
        {
          "output_type": "stream",
          "name": "stdout",
          "text": [
            "Enter a list of numbers (space-separated): 1 2 3 4 5 6 7 88 99 877\n",
            "The largest element in the list is: 877\n"
          ]
        }
      ]
    },
    {
      "cell_type": "code",
      "source": [
        "def count_occurrences(lst):\n",
        "    occurrences = {}\n",
        "    for element in lst:\n",
        "        if element in occurrences:\n",
        "            occurrences[element] += 1\n",
        "        else:\n",
        "            occurrences[element] = 1\n",
        "    return occurrences\n",
        "\n",
        "# Example usage\n",
        "input_list = input(\"Enter a list of elements (space-separated): \").split()\n",
        "occurrence_counts = count_occurrences(input_list)\n",
        "print(\"Occurrences:\", occurrence_counts)\n"
      ],
      "metadata": {
        "colab": {
          "base_uri": "https://localhost:8080/"
        },
        "id": "XfBSSWJLvgqd",
        "outputId": "8da46e48-14ea-4a71-adf8-90f24dc12e4f"
      },
      "execution_count": 5,
      "outputs": [
        {
          "output_type": "stream",
          "name": "stdout",
          "text": [
            "Enter a list of elements (space-separated): 2 2 3 5 6 7 8 8 9\n",
            "Occurrences: {'2': 2, '3': 1, '5': 1, '6': 1, '7': 1, '8': 2, '9': 1}\n"
          ]
        }
      ]
    },
    {
      "cell_type": "code",
      "source": [
        "def find_second_largest(lst):\n",
        "    if len(lst) < 2:\n",
        "        return None\n",
        "\n",
        "    largest = float('-inf')\n",
        "    second_largest = float('-inf')\n",
        "\n",
        "    for num in lst:\n",
        "        if num > largest:\n",
        "            second_largest = largest\n",
        "            largest = num\n",
        "        elif num > second_largest and num != largest:\n",
        "            second_largest = num\n",
        "\n",
        "    if second_largest == float('-inf'):\n",
        "        return None\n",
        "\n",
        "    return second_largest\n",
        "\n",
        "# Example usage\n",
        "input_list = input(\"Enter a list of numbers (space-separated): \").split()\n",
        "input_list = [int(num) for num in input_list]  # Convert input strings to integers\n",
        "second_largest = find_second_largest(input_list)\n",
        "if second_largest is not None:\n",
        "    print(\"The second largest number in the list is:\", second_largest)\n",
        "else:\n",
        "    print(\"There is no second largest number in the list.\")\n"
      ],
      "metadata": {
        "colab": {
          "base_uri": "https://localhost:8080/"
        },
        "id": "6rvbIVVWv1i1",
        "outputId": "dc632a55-f025-4a3d-8858-74846e51fda5"
      },
      "execution_count": 6,
      "outputs": [
        {
          "output_type": "stream",
          "name": "stdout",
          "text": [
            "Enter a list of numbers (space-separated): 2 3 4 5 6 7 8 8 9 11 12 14\n",
            "The second largest number in the list is: 12\n"
          ]
        }
      ]
    },
    {
      "cell_type": "code",
      "source": [
        "def remove_duplicates(lst):\n",
        "    return list(set(lst))\n",
        "\n",
        "# Example usage\n",
        "input_list = input(\"Enter a list of elements (space-separated): \").split()\n",
        "unique_elements = remove_duplicates(input_list)\n",
        "print(\"List with duplicates removed:\", unique_elements)\n"
      ],
      "metadata": {
        "colab": {
          "base_uri": "https://localhost:8080/"
        },
        "id": "j11w1o6twWNJ",
        "outputId": "e6076f96-1d48-4e87-9d06-4b17cf0dd78b"
      },
      "execution_count": 7,
      "outputs": [
        {
          "output_type": "stream",
          "name": "stdout",
          "text": [
            "Enter a list of elements (space-separated): 1 2 3 4 3 4 5 7 8 9\n",
            "List with duplicates removed: ['9', '3', '8', '4', '5', '2', '7', '1']\n"
          ]
        }
      ]
    },
    {
      "cell_type": "code",
      "source": [
        "def factorial(n):\n",
        "    if n < 0:\n",
        "        return None\n",
        "    elif n == 0:\n",
        "        return 1\n",
        "    else:\n",
        "        result = 1\n",
        "        for i in range(1, n + 1):\n",
        "            result *= i\n",
        "        return result\n",
        "\n",
        "# Example usage\n",
        "input_number = int(input(\"Enter a number: \"))\n",
        "factorial_result = factorial(input_number)\n",
        "\n",
        "if factorial_result is not None:\n",
        "    print(\"The factorial of\", input_number, \"is:\", factorial_result)\n",
        "else:\n",
        "    print(\"Factorial is undefined for negative numbers.\")\n"
      ],
      "metadata": {
        "colab": {
          "base_uri": "https://localhost:8080/"
        },
        "id": "5svyZTZWwwIm",
        "outputId": "482aa65d-cc0b-4146-8957-04790753f50d"
      },
      "execution_count": 8,
      "outputs": [
        {
          "output_type": "stream",
          "name": "stdout",
          "text": [
            "Enter a number: 12\n",
            "The factorial of 12 is: 479001600\n"
          ]
        }
      ]
    },
    {
      "cell_type": "code",
      "source": [
        "def is_prime(n):\n",
        "    if n < 2:\n",
        "        return False\n",
        "\n",
        "    for i in range(2, int(n ** 0.5) + 1):\n",
        "        if n % i == 0:\n",
        "            return False\n",
        "\n",
        "    return True\n",
        "\n",
        "# Example usage\n",
        "input_number = int(input(\"Enter a number: \"))\n",
        "if is_prime(input_number):\n",
        "    print(input_number, \"is a prime number.\")\n",
        "else:\n",
        "    print(input_number, \"is not a prime number.\")\n"
      ],
      "metadata": {
        "colab": {
          "base_uri": "https://localhost:8080/"
        },
        "id": "yfjXL2QrxAbS",
        "outputId": "28bf02c0-d550-4177-8ad4-a714f109ed54"
      },
      "execution_count": 9,
      "outputs": [
        {
          "output_type": "stream",
          "name": "stdout",
          "text": [
            "Enter a number: 13\n",
            "13 is a prime number.\n"
          ]
        }
      ]
    },
    {
      "cell_type": "code",
      "source": [
        "# Example usage\n",
        "input_list = input(\"Enter a list of integers (space-separated): \").split()\n",
        "input_list = [int(num) for num in input_list]  # Convert input strings to integers\n",
        "sorted_list = sorted(input_list)\n",
        "print(\"Sorted list:\", sorted_list)\n"
      ],
      "metadata": {
        "colab": {
          "base_uri": "https://localhost:8080/"
        },
        "id": "I6JDJzOcxMoY",
        "outputId": "a8edae8c-d930-45bc-bb63-3bc783b7fe5a"
      },
      "execution_count": 10,
      "outputs": [
        {
          "output_type": "stream",
          "name": "stdout",
          "text": [
            "Enter a list of integers (space-separated): 2 3 4 5 6 11 2 3 5 6\n",
            "Sorted list: [2, 2, 3, 3, 4, 5, 5, 6, 6, 11]\n"
          ]
        }
      ]
    },
    {
      "cell_type": "code",
      "source": [
        "def find_sum(lst):\n",
        "    total = 0\n",
        "    for num in lst:\n",
        "        total += num\n",
        "    return total\n",
        "\n",
        "# Example usage\n",
        "input_list = input(\"Enter a list of numbers (space-separated): \").split()\n",
        "input_list = [int(num) for num in input_list]  # Convert input strings to integers\n",
        "sum_of_numbers = find_sum(input_list)\n",
        "print(\"Sum of numbers:\", sum_of_numbers)\n"
      ],
      "metadata": {
        "colab": {
          "base_uri": "https://localhost:8080/"
        },
        "id": "3LXrBVxox3y6",
        "outputId": "5ce15faf-9480-40cd-b152-9fca6fc30128"
      },
      "execution_count": 11,
      "outputs": [
        {
          "output_type": "stream",
          "name": "stdout",
          "text": [
            "Enter a list of numbers (space-separated): 1 2 3 4 5 6 7\n",
            "Sum of numbers: 28\n"
          ]
        }
      ]
    },
    {
      "cell_type": "code",
      "source": [
        "def find_common_elements(list1, list2):\n",
        "    common_elements = []\n",
        "    for element in list1:\n",
        "        if element in list2:\n",
        "            common_elements.append(element)\n",
        "    return common_elements\n",
        "\n",
        "# Example usage\n",
        "input_list1 = input(\"Enter the first list of elements (space-separated): \").split()\n",
        "input_list2 = input(\"Enter the second list of elements (space-separated): \").split()\n",
        "list1 = [int(num) for num in input_list1]  # Convert input strings to integers\n",
        "list2 = [int(num) for num in input_list2]  # Convert input strings to integers\n",
        "common_elements = find_common_elements(list1, list2)\n",
        "print(\"Common elements:\", common_elements)\n"
      ],
      "metadata": {
        "colab": {
          "base_uri": "https://localhost:8080/"
        },
        "id": "Iv0zSubMyMiw",
        "outputId": "0e3bdfb3-d34d-4a51-9cb5-4e0ad563850e"
      },
      "execution_count": 12,
      "outputs": [
        {
          "output_type": "stream",
          "name": "stdout",
          "text": [
            "Enter the first list of elements (space-separated): 1 2 3 4 5 6\n",
            "Enter the second list of elements (space-separated): 4 5 6 7 8 9\n",
            "Common elements: [4, 5, 6]\n"
          ]
        }
      ]
    },
    {
      "cell_type": "code",
      "source": [
        "def is_anagram(str1, str2):\n",
        "    str1 = str1.lower().replace(\" \", \"\")  # Convert to lowercase and remove spaces\n",
        "    str2 = str2.lower().replace(\" \", \"\")  # Convert to lowercase and remove spaces\n",
        "\n",
        "    if len(str1) != len(str2):\n",
        "        return False\n",
        "\n",
        "    char_count = {}\n",
        "    for char in str1:\n",
        "        if char in char_count:\n",
        "            char_count[char] += 1\n",
        "        else:\n",
        "            char_count[char] = 1\n",
        "\n",
        "    for char in str2:\n",
        "        if char in char_count:\n",
        "            char_count[char] -= 1\n",
        "        else:\n",
        "            return False\n",
        "\n",
        "    return all(count == 0 for count in char_count.values())\n",
        "\n",
        "# Example usage\n",
        "input_str1 = input(\"Enter the first string: \")\n",
        "input_str2 = input(\"Enter the second string: \")\n",
        "if is_anagram(input_str1, input_str2):\n",
        "    print(\"The strings are anagrams.\")\n",
        "else:\n",
        "    print(\"The strings are not anagrams.\")\n"
      ],
      "metadata": {
        "colab": {
          "base_uri": "https://localhost:8080/"
        },
        "id": "xQR2Kl6wyfx7",
        "outputId": "2c15111a-066e-4b0b-b520-943ff592ffb6"
      },
      "execution_count": 13,
      "outputs": [
        {
          "output_type": "stream",
          "name": "stdout",
          "text": [
            "Enter the first string: deepak\n",
            "Enter the second string: kapeed\n",
            "The strings are anagrams.\n"
          ]
        }
      ]
    },
    {
      "cell_type": "code",
      "source": [
        "def generate_permutations(string):\n",
        "    if len(string) == 0:\n",
        "        return []\n",
        "\n",
        "    if len(string) == 1:\n",
        "        return [string]\n",
        "\n",
        "    permutations = []\n",
        "    for i in range(len(string)):\n",
        "        char = string[i]\n",
        "        remaining_chars = string[:i] + string[i+1:]\n",
        "        for perm in generate_permutations(remaining_chars):\n",
        "            permutations.append(char + perm)\n",
        "    permutations=set(permutations)\n",
        "    return permutations\n",
        "\n",
        "# Example usage\n",
        "input_string = input(\"Enter a string: \")\n",
        "permutations = generate_permutations(input_string)\n",
        "print(\"Permutations:\")\n",
        "for perm in permutations:\n",
        "    print(perm)\n",
        "\n"
      ],
      "metadata": {
        "colab": {
          "base_uri": "https://localhost:8080/"
        },
        "id": "oMyg_QcyzHsv",
        "outputId": "bd4cdd39-dfb6-40d6-fcd5-4242c1f431eb"
      },
      "execution_count": 20,
      "outputs": [
        {
          "output_type": "stream",
          "name": "stdout",
          "text": [
            "Enter a string: deep\n",
            "Permutations:\n",
            "eepd\n",
            "edep\n",
            "edpe\n",
            "eped\n",
            "eedp\n",
            "depe\n",
            "pdee\n",
            "epde\n",
            "deep\n",
            "peed\n",
            "dpee\n",
            "pede\n"
          ]
        }
      ]
    },
    {
      "cell_type": "code",
      "source": [
        "def fibonacci_sequence(n):\n",
        "    sequence = []\n",
        "    if n <= 0:\n",
        "        return sequence\n",
        "\n",
        "    if n == 1:\n",
        "        sequence.append(0)\n",
        "        return sequence\n",
        "\n",
        "    sequence = [0, 1]\n",
        "    while len(sequence) < n:\n",
        "        next_number = sequence[-1] + sequence[-2]\n",
        "        sequence.append(next_number)\n",
        "\n",
        "    return sequence\n",
        "\n",
        "# Example usage\n",
        "input_terms = int(input(\"Enter the number of terms: \"))\n",
        "fibonacci_sequence_terms = fibonacci_sequence(input_terms)\n",
        "print(\"Fibonacci Sequence:\")\n",
        "for term in fibonacci_sequence_terms:\n",
        "    print(term)\n"
      ],
      "metadata": {
        "colab": {
          "base_uri": "https://localhost:8080/"
        },
        "id": "okdFcxQxzd5H",
        "outputId": "96901ef5-7579-49f2-a45b-8d14d0da8f7e"
      },
      "execution_count": 21,
      "outputs": [
        {
          "output_type": "stream",
          "name": "stdout",
          "text": [
            "Enter the number of terms: 5\n",
            "Fibonacci Sequence:\n",
            "0\n",
            "1\n",
            "1\n",
            "2\n",
            "3\n"
          ]
        }
      ]
    },
    {
      "cell_type": "code",
      "source": [
        "def find_median(lst):\n",
        "    sorted_list = sorted(lst)\n",
        "    n = len(sorted_list)\n",
        "    if n % 2 == 0:\n",
        "        mid_index = n // 2\n",
        "        median = (sorted_list[mid_index - 1] + sorted_list[mid_index]) / 2\n",
        "    else:\n",
        "        mid_index = n // 2\n",
        "        median = sorted_list[mid_index]\n",
        "    return median\n",
        "\n",
        "# Example usage\n",
        "input_list = input(\"Enter a list of numbers (space-separated): \").split()\n",
        "input_list = [float(num) for num in input_list]  # Convert input strings to floats\n",
        "median_value = find_median(input_list)\n",
        "print(\"Median:\", median_value)\n",
        "\n"
      ],
      "metadata": {
        "colab": {
          "base_uri": "https://localhost:8080/"
        },
        "id": "LCLq7937A0Gy",
        "outputId": "11be9ebf-d003-4635-c0a3-988213417640"
      },
      "execution_count": 22,
      "outputs": [
        {
          "output_type": "stream",
          "name": "stdout",
          "text": [
            "Enter a list of numbers (space-separated): 1 2 3 4 5 6 7 9 0\n",
            "Median: 4.0\n"
          ]
        }
      ]
    },
    {
      "cell_type": "code",
      "source": [
        "def is_sorted(lst):\n",
        "    for i in range(len(lst) - 1):\n",
        "        if lst[i] > lst[i + 1]:\n",
        "            return False\n",
        "    return True\n",
        "\n",
        "# Example usage\n",
        "input_list = input(\"Enter a list of numbers (space-separated): \").split()\n",
        "input_list = [float(num) for num in input_list]  # Convert input strings to floats\n",
        "if is_sorted(input_list):\n",
        "    print(\"The list is sorted in non-decreasing order.\")\n",
        "else:\n",
        "    print(\"The list is not sorted in non-decreasing order.\")\n"
      ],
      "metadata": {
        "colab": {
          "base_uri": "https://localhost:8080/"
        },
        "id": "xB39n9WGBI21",
        "outputId": "092c8e7d-f844-4ad5-dda9-42d158917506"
      },
      "execution_count": 23,
      "outputs": [
        {
          "output_type": "stream",
          "name": "stdout",
          "text": [
            "Enter a list of numbers (space-separated): 1 2 3 4 5 6 7 8\n",
            "The list is sorted in non-decreasing order.\n"
          ]
        }
      ]
    },
    {
      "cell_type": "code",
      "source": [
        "def find_intersection(list1, list2):\n",
        "    set1 = set(list1)\n",
        "    set2 = set(list2)\n",
        "    intersection = set1.intersection(set2)\n",
        "    return list(intersection)\n",
        "\n",
        "# Example usage\n",
        "input_list1 = input(\"Enter the first list of elements (space-separated): \").split()\n",
        "input_list2 = input(\"Enter the second list of elements (space-separated): \").split()\n",
        "list1 = [int(num) for num in input_list1]  # Convert input strings to integers\n",
        "list2 = [int(num) for num in input_list2]  # Convert input strings to integers\n",
        "intersection = find_intersection(list1, list2)\n",
        "print(\"Intersection:\", intersection)\n"
      ],
      "metadata": {
        "colab": {
          "base_uri": "https://localhost:8080/"
        },
        "id": "u2NayoExBlh0",
        "outputId": "e69e077c-4a0f-440b-a5f1-a2ad05f00aea"
      },
      "execution_count": 24,
      "outputs": [
        {
          "output_type": "stream",
          "name": "stdout",
          "text": [
            "Enter the first list of elements (space-separated): 1 2 3 4 5 6 7 7 8\n",
            "Enter the second list of elements (space-separated): 4 5 6 7 8 8 9 9 1\n",
            "Intersection: [1, 4, 5, 6, 7, 8]\n"
          ]
        }
      ]
    },
    {
      "cell_type": "code",
      "source": [
        "def max_subarray_sum(lst):\n",
        "    if not lst:\n",
        "        return 0\n",
        "\n",
        "    max_sum = lst[0]\n",
        "    current_sum = lst[0]\n",
        "\n",
        "    for num in lst[1:]:\n",
        "        current_sum = max(num, current_sum + num)\n",
        "        max_sum = max(max_sum, current_sum)\n",
        "\n",
        "    return max_sum\n",
        "\n",
        "# Example usage\n",
        "input_list = input(\"Enter a list of numbers (space-separated): \").split()\n",
        "input_list = [int(num) for num in input_list]  # Convert input strings to integers\n",
        "max_sum = max_subarray_sum(input_list)\n",
        "print(\"Maximum subarray sum:\", max_sum)\n"
      ],
      "metadata": {
        "colab": {
          "base_uri": "https://localhost:8080/"
        },
        "id": "-QzavbxVB6Mg",
        "outputId": "4451a1bb-f5d1-435d-9f32-3761b875ad4d"
      },
      "execution_count": 26,
      "outputs": [
        {
          "output_type": "stream",
          "name": "stdout",
          "text": [
            "Enter a list of numbers (space-separated): 1 2 3 6 9 11 15\n",
            "Maximum subarray sum: 47\n"
          ]
        }
      ]
    },
    {
      "cell_type": "code",
      "source": [
        "def remove_vowels(string):\n",
        "    vowels = \"aeiouAEIOU\"\n",
        "    result = \"\"\n",
        "    for char in string:\n",
        "        if char not in vowels:\n",
        "            result += char\n",
        "    return result\n",
        "\n",
        "# Example usage\n",
        "input_string = input(\"Enter a string: \")\n",
        "string_without_vowels = remove_vowels(input_string)\n",
        "print(\"String without vowels:\", string_without_vowels)\n"
      ],
      "metadata": {
        "colab": {
          "base_uri": "https://localhost:8080/"
        },
        "id": "cL54Q6gjCa5x",
        "outputId": "4b39c0de-4bba-40d5-a971-f2da07f5e269"
      },
      "execution_count": 1,
      "outputs": [
        {
          "output_type": "stream",
          "name": "stdout",
          "text": [
            "Enter a string: deepak\n",
            "String without vowels: dpk\n"
          ]
        }
      ]
    },
    {
      "cell_type": "code",
      "source": [
        "def reverse_sentence(sentence):\n",
        "    words = sentence.split()\n",
        "    reversed_words = words[::-1]\n",
        "    reversed_sentence = ' '.join(reversed_words)\n",
        "    return reversed_sentence\n",
        "\n",
        "# Example usage\n",
        "input_sentence = input(\"Enter a sentence: \")\n",
        "reversed_sentence = reverse_sentence(input_sentence)\n",
        "print(\"Reversed sentence:\", reversed_sentence)\n"
      ],
      "metadata": {
        "colab": {
          "base_uri": "https://localhost:8080/"
        },
        "id": "DTbk-9dGDoOp",
        "outputId": "8dc37f70-e932-4084-b8d8-80dac712ea51"
      },
      "execution_count": 2,
      "outputs": [
        {
          "output_type": "stream",
          "name": "stdout",
          "text": [
            "Enter a sentence: deepak rautella\n",
            "Reversed sentence: rautella deepak\n"
          ]
        }
      ]
    },
    {
      "cell_type": "code",
      "source": [
        "def is_anagram(str1, str2):\n",
        "    str1 = str1.lower().replace(\" \", \"\")  # Convert to lowercase and remove spaces\n",
        "    str2 = str2.lower().replace(\" \", \"\")  # Convert to lowercase and remove spaces\n",
        "\n",
        "    if len(str1) != len(str2):\n",
        "        return False\n",
        "\n",
        "    char_count = {}\n",
        "    for char in str1:\n",
        "        if char in char_count:\n",
        "            char_count[char] += 1\n",
        "        else:\n",
        "            char_count[char] = 1\n",
        "\n",
        "    for char in str2:\n",
        "        if char in char_count:\n",
        "            char_count[char] -= 1\n",
        "        else:\n",
        "            return False\n",
        "\n",
        "    return all(count == 0 for count in char_count.values())\n",
        "\n",
        "# Example usage\n",
        "input_str1 = input(\"Enter the first string: \")\n",
        "input_str2 = input(\"Enter the second string: \")\n",
        "if is_anagram(input_str1, input_str2):\n",
        "    print(\"The strings are anagrams.\")\n",
        "else:\n",
        "    print(\"The strings are not anagrams.\")\n"
      ],
      "metadata": {
        "colab": {
          "base_uri": "https://localhost:8080/"
        },
        "id": "IPK-r_5T50fF",
        "outputId": "49804b67-0836-464a-c837-50d64878ef70"
      },
      "execution_count": 4,
      "outputs": [
        {
          "output_type": "stream",
          "name": "stdout",
          "text": [
            "Enter the first string: my name is deepak\n",
            "Enter the second string: deepak is my name\n",
            "The strings are anagrams.\n"
          ]
        }
      ]
    },
    {
      "cell_type": "code",
      "source": [
        "def find_first_non_repeating_char(string):\n",
        "    # Create a dictionary to store character counts\n",
        "    char_count = {}\n",
        "\n",
        "    # Count the occurrences of each character\n",
        "    for char in string:\n",
        "        char_count[char] = char_count.get(char, 0) + 1\n",
        "\n",
        "    # Find the first non-repeating character\n",
        "    for char in string:\n",
        "        if char_count[char] == 1:\n",
        "            return char\n",
        "\n",
        "    # If no non-repeating character is found, return None\n",
        "    return None\n",
        "\n",
        "# Example usage\n",
        "string = input(\"Enter a string: \")\n",
        "result = find_first_non_repeating_char(string)\n",
        "\n",
        "if result:\n",
        "    print(\"The first non-repeating character is:\", result)\n",
        "else:\n",
        "    print(\"No non-repeating character found in the string.\")\n",
        "\n"
      ],
      "metadata": {
        "colab": {
          "base_uri": "https://localhost:8080/"
        },
        "id": "uyx47F8Q7QER",
        "outputId": "4bba28c2-686b-4288-c8c3-8fe60cdf3621"
      },
      "execution_count": 5,
      "outputs": [
        {
          "output_type": "stream",
          "name": "stdout",
          "text": [
            "Enter a string: i will complete my ppt cource\n",
            "The first non-repeating character is: w\n"
          ]
        }
      ]
    },
    {
      "cell_type": "code",
      "source": [
        "def find_prime_factors(num):\n",
        "    prime_factors = []\n",
        "    divisor = 2\n",
        "\n",
        "    while divisor <= num:\n",
        "        if num % divisor == 0:\n",
        "            prime_factors.append(divisor)\n",
        "            num = num / divisor\n",
        "        else:\n",
        "            divisor += 1\n",
        "\n",
        "    return prime_factors\n",
        "\n",
        "# Example usage\n",
        "number = int(input(\"Enter a number: \"))\n",
        "factors = find_prime_factors(number)\n",
        "\n",
        "print(\"Prime factors of\", number, \"are:\", factors)\n"
      ],
      "metadata": {
        "colab": {
          "base_uri": "https://localhost:8080/"
        },
        "id": "V4x6hQIS8BN5",
        "outputId": "229c5f80-ca9c-4baf-ccb0-19894e6acd5e"
      },
      "execution_count": 9,
      "outputs": [
        {
          "output_type": "stream",
          "name": "stdout",
          "text": [
            "Enter a number: 25\n",
            "Prime factors of 25 are: [5, 5]\n"
          ]
        }
      ]
    },
    {
      "cell_type": "code",
      "source": [
        "def is_power_of_two(num):\n",
        "    if num <= 0:\n",
        "        return False\n",
        "\n",
        "    while num > 1:\n",
        "        if num % 2 != 0:\n",
        "            return False\n",
        "        num /= 2\n",
        "\n",
        "    return True\n",
        "\n",
        "# Example usage\n",
        "number = int(input(\"Enter a number: \"))\n",
        "if is_power_of_two(number):\n",
        "    print(number, \"is a power of two.\")\n",
        "else:\n",
        "    print(number, \"is not a power of two.\")\n"
      ],
      "metadata": {
        "colab": {
          "base_uri": "https://localhost:8080/"
        },
        "id": "mjEFsvI28agY",
        "outputId": "fce9c050-74a5-467d-89d6-084d0cbeb62e"
      },
      "execution_count": 10,
      "outputs": [
        {
          "output_type": "stream",
          "name": "stdout",
          "text": [
            "Enter a number: 14\n",
            "14 is not a power of two.\n"
          ]
        }
      ]
    },
    {
      "cell_type": "code",
      "source": [
        "def merge_sorted_lists(list1, list2):\n",
        "    merged_list = []\n",
        "    i = 0  # index for list1\n",
        "    j = 0  # index for list2\n",
        "\n",
        "    while i < len(list1) and j < len(list2):\n",
        "        if list1[i] <= list2[j]:\n",
        "            merged_list.append(list1[i])\n",
        "            i += 1\n",
        "        else:\n",
        "            merged_list.append(list2[j])\n",
        "            j += 1\n",
        "\n",
        "    # Add remaining elements from list1, if any\n",
        "    while i < len(list1):\n",
        "        merged_list.append(list1[i])\n",
        "        i += 1\n",
        "\n",
        "    # Add remaining elements from list2, if any\n",
        "    while j < len(list2):\n",
        "        merged_list.append(list2[j])\n",
        "        j += 1\n",
        "\n",
        "    return merged_list\n",
        "\n",
        "# Example usage\n",
        "list1 = [1, 4, 6, 8]\n",
        "list2 = [2, 3, 5, 7, 9]\n",
        "merged = merge_sorted_lists(list1, list2)\n",
        "\n",
        "print(\"Merged list:\", merged)\n"
      ],
      "metadata": {
        "colab": {
          "base_uri": "https://localhost:8080/"
        },
        "id": "T5PRLQUa85Qx",
        "outputId": "936c522d-19fa-4c08-a5f5-019c23a6ea09"
      },
      "execution_count": 11,
      "outputs": [
        {
          "output_type": "stream",
          "name": "stdout",
          "text": [
            "Merged list: [1, 2, 3, 4, 5, 6, 7, 8, 9]\n"
          ]
        }
      ]
    },
    {
      "cell_type": "code",
      "source": [
        "from collections import Counter\n",
        "\n",
        "def find_mode(numbers):\n",
        "    # Count the occurrences of each number\n",
        "    count = Counter(numbers)\n",
        "\n",
        "    # Find the number(s) with the highest count\n",
        "    max_count = max(count.values())\n",
        "    mode = [num for num, freq in count.items() if freq == max_count]\n",
        "\n",
        "    return mode\n",
        "\n",
        "# Example usage\n",
        "number_list = [1, 2, 3, 4, 2, 2, 5, 5, 5]\n",
        "mode_list = find_mode(number_list)\n",
        "\n",
        "print(\"Mode(s) of the list:\", mode_list)\n"
      ],
      "metadata": {
        "colab": {
          "base_uri": "https://localhost:8080/"
        },
        "id": "DuSg-oLzAEgn",
        "outputId": "e6d7763f-9da4-4565-acec-4ee06c8257c9"
      },
      "execution_count": 12,
      "outputs": [
        {
          "output_type": "stream",
          "name": "stdout",
          "text": [
            "Mode(s) of the list: [2, 5]\n"
          ]
        }
      ]
    },
    {
      "cell_type": "code",
      "source": [
        "def gcd(num1, num2):\n",
        "    # Ensure num1 is greater than or equal to num2\n",
        "    if num1 < num2:\n",
        "        num1, num2 = num2, num1\n",
        "\n",
        "    while num2 != 0:\n",
        "        remainder = num1 % num2\n",
        "        num1 = num2\n",
        "        num2 = remainder\n",
        "\n",
        "    return num1\n",
        "\n",
        "# Example usage\n",
        "number1 = int(input(\"Enter the first number: \"))\n",
        "number2 = int(input(\"Enter the second number: \"))\n",
        "\n",
        "result = gcd(number1, number2)\n",
        "\n",
        "print(\"The greatest common divisor (GCD) is:\", result)\n"
      ],
      "metadata": {
        "colab": {
          "base_uri": "https://localhost:8080/"
        },
        "id": "iqyVugwnAWJ4",
        "outputId": "088e4eec-63ee-49f3-f27b-d1e9cb79a112"
      },
      "execution_count": 14,
      "outputs": [
        {
          "output_type": "stream",
          "name": "stdout",
          "text": [
            "Enter the first number: 35\n",
            "Enter the second number: 21\n",
            "The greatest common divisor (GCD) is: 7\n"
          ]
        }
      ]
    },
    {
      "cell_type": "code",
      "source": [
        "def square_root(number):\n",
        "    if number < 0:\n",
        "        raise ValueError(\"Square root is not defined for negative numbers.\")\n",
        "\n",
        "    if number == 0:\n",
        "        return 0\n",
        "    sqrt=number**0.5\n",
        "    return sqrt\n",
        "\n",
        "# Example usage\n",
        "number = float(input(\"Enter a number: \"))\n",
        "result = square_root(number)\n",
        "\n",
        "print(\"Square root of\", number, \"is:\", result)\n"
      ],
      "metadata": {
        "colab": {
          "base_uri": "https://localhost:8080/"
        },
        "id": "YIpExgdlAsya",
        "outputId": "ebada0c6-9fe6-4614-bb30-91f8b956e807"
      },
      "execution_count": 16,
      "outputs": [
        {
          "output_type": "stream",
          "name": "stdout",
          "text": [
            "Enter a number: 12\n",
            "Square root of 12.0 is: 3.4641016151377544\n"
          ]
        }
      ]
    },
    {
      "cell_type": "code",
      "source": [
        "import re\n",
        "\n",
        "def is_palindrome(string):\n",
        "    # Remove non-alphanumeric characters from the string\n",
        "    string = re.sub(r'\\d+', '', string.lower())\n",
        "\n",
        "    # Check if the string is a palindrome\n",
        "    return string == string[::-1]\n",
        "\n",
        "# Example usage\n",
        "input_string = input(\"Enter a string: \")\n",
        "\n",
        "if is_palindrome(input_string):\n",
        "    print(\"The string is a valid palindrome.\")\n",
        "else:\n",
        "    print(\"The string is not a valid palindrome.\")\n"
      ],
      "metadata": {
        "colab": {
          "base_uri": "https://localhost:8080/"
        },
        "id": "LZGG3G0hBzue",
        "outputId": "be6f557b-5db0-4416-ba64-753c7ebc0565"
      },
      "execution_count": 23,
      "outputs": [
        {
          "output_type": "stream",
          "name": "stdout",
          "text": [
            "Enter a string: race1car\n",
            "The string is a valid palindrome.\n"
          ]
        }
      ]
    },
    {
      "cell_type": "code",
      "source": [
        "def find_minimum_element(nums):\n",
        "    left = 0\n",
        "    right = len(nums) - 1\n",
        "\n",
        "    while left < right:\n",
        "        mid = left + (right - left) // 2\n",
        "\n",
        "        if nums[mid] > nums[right]:\n",
        "            left = mid + 1\n",
        "        else:\n",
        "            right = mid\n",
        "\n",
        "    return nums[left]\n",
        "\n",
        "# Example usage\n",
        "number_list = [4, 5, 6, 7, 0, 1, 2]\n",
        "minimum = find_minimum_element(number_list)\n",
        "\n",
        "print(\"Minimum element:\", minimum)\n"
      ],
      "metadata": {
        "colab": {
          "base_uri": "https://localhost:8080/"
        },
        "id": "b9ijP-YqCZmw",
        "outputId": "e12b2c46-8c4b-4f25-d72a-8b32f3026028"
      },
      "execution_count": 24,
      "outputs": [
        {
          "output_type": "stream",
          "name": "stdout",
          "text": [
            "Minimum element: 0\n"
          ]
        }
      ]
    },
    {
      "cell_type": "code",
      "source": [
        "def sum_even_numbers(numbers):\n",
        "    sum_even = 0\n",
        "\n",
        "    for num in numbers:\n",
        "        if num % 2 == 0:\n",
        "            sum_even += num\n",
        "\n",
        "    return sum_even\n",
        "\n",
        "# Example usage\n",
        "number_list = [1, 2, 3, 4, 5, 6, 7, 8, 9, 10]\n",
        "result = sum_even_numbers(number_list)\n",
        "\n",
        "print(\"Sum of even numbers:\", result)\n"
      ],
      "metadata": {
        "colab": {
          "base_uri": "https://localhost:8080/"
        },
        "id": "PS71OFWtC1xe",
        "outputId": "eb25db2d-bac7-465b-a656-54bb72aa0ca1"
      },
      "execution_count": 25,
      "outputs": [
        {
          "output_type": "stream",
          "name": "stdout",
          "text": [
            "Sum of even numbers: 30\n"
          ]
        }
      ]
    },
    {
      "cell_type": "code",
      "source": [
        "def power(base, exponent):\n",
        "    if exponent == 0:\n",
        "        return 1\n",
        "    elif exponent > 0:\n",
        "        return base * power(base, exponent - 1)\n",
        "    else:\n",
        "        return 1 / (base * power(base, -exponent - 1))\n",
        "\n",
        "# Example usage\n",
        "base = float(input(\"Enter the base number: \"))\n",
        "exponent = int(input(\"Enter the exponent: \"))\n",
        "\n",
        "result = power(base, exponent)\n",
        "\n",
        "print(base, \"raised to the power of\", exponent, \"is:\", result)\n"
      ],
      "metadata": {
        "colab": {
          "base_uri": "https://localhost:8080/"
        },
        "id": "8jcNx435Er0E",
        "outputId": "2cc5b858-973f-4aa1-8028-759932a5125d"
      },
      "execution_count": 26,
      "outputs": [
        {
          "output_type": "stream",
          "name": "stdout",
          "text": [
            "Enter the base number: 3\n",
            "Enter the exponent: 12\n",
            "3.0 raised to the power of 12 is: 531441.0\n"
          ]
        }
      ]
    },
    {
      "cell_type": "code",
      "source": [
        "def remove_duplicates_preserve_order(lst):\n",
        "    seen = set()\n",
        "    result = []\n",
        "\n",
        "    for item in lst:\n",
        "        if item not in seen:\n",
        "            seen.add(item)\n",
        "            result.append(item)\n",
        "\n",
        "    return result\n",
        "\n",
        "# Example usage\n",
        "original_list = [1, 2, 3, 2, 4, 1, 5, 4, 6]\n",
        "unique_list = remove_duplicates_preserve_order(original_list)\n",
        "\n",
        "print(\"Original list:\", original_list)\n",
        "print(\"List with duplicates removed:\", unique_list)\n"
      ],
      "metadata": {
        "colab": {
          "base_uri": "https://localhost:8080/"
        },
        "id": "E7cnswV8E6x9",
        "outputId": "406ce224-a7db-4c60-c1db-728d8fa82d3d"
      },
      "execution_count": 27,
      "outputs": [
        {
          "output_type": "stream",
          "name": "stdout",
          "text": [
            "Original list: [1, 2, 3, 2, 4, 1, 5, 4, 6]\n",
            "List with duplicates removed: [1, 2, 3, 4, 5, 6]\n"
          ]
        }
      ]
    },
    {
      "cell_type": "code",
      "source": [
        "def longest_common_prefix(strs):\n",
        "    if not strs:\n",
        "        return \"\"\n",
        "\n",
        "    # Find the minimum length string in the list\n",
        "    min_len = min(len(s) for s in strs)\n",
        "\n",
        "    # Iterate over each character position up to the minimum length\n",
        "    for i in range(min_len):\n",
        "        # Check if all strings have the same character at the current position\n",
        "        if any(s[i] != strs[0][i] for s in strs):\n",
        "            return strs[0][:i]  # Return the common prefix up to this position\n",
        "\n",
        "    return strs[0][:min_len]  # Return the full common prefix (or the only string in the list)\n",
        "\n",
        "# Example usage\n",
        "string_list = [\"flower\", \"flow\", \"flight\"]\n",
        "prefix = longest_common_prefix(string_list)\n",
        "\n",
        "print(\"Longest common prefix:\", prefix)\n"
      ],
      "metadata": {
        "colab": {
          "base_uri": "https://localhost:8080/"
        },
        "id": "5rFgacT9FHfB",
        "outputId": "01023d8c-dd7c-4b9f-b2bb-d944f22a630f"
      },
      "execution_count": 28,
      "outputs": [
        {
          "output_type": "stream",
          "name": "stdout",
          "text": [
            "Longest common prefix: fl\n"
          ]
        }
      ]
    },
    {
      "cell_type": "code",
      "source": [
        "def perfectsquare(num):\n",
        "  if num<0:\n",
        "    return False\n",
        "  if num==0:\n",
        "    return True\n",
        "\n",
        "  sqrt=num**0.5\n",
        "  if sqrt==int(sqrt):\n",
        "    return True\n",
        "  else:\n",
        "    return False\n",
        "\n",
        "#example\n",
        "number = int(input(\"Enter a number: \"))\n",
        "if perfectsquare(number):\n",
        "    print(number, \"is a perfect square.\")\n",
        "else:\n",
        "    print(number, \"is not a perfect square.\")\n"
      ],
      "metadata": {
        "colab": {
          "base_uri": "https://localhost:8080/"
        },
        "id": "GNec9LGKGIs-",
        "outputId": "102de7ae-bc6c-4511-b793-3e585d5e0b0f"
      },
      "execution_count": 39,
      "outputs": [
        {
          "output_type": "stream",
          "name": "stdout",
          "text": [
            "Enter a number: 24\n",
            "24 is not a perfect square.\n"
          ]
        }
      ]
    },
    {
      "cell_type": "code",
      "source": [
        "def calculate_product(numbers):\n",
        "    product = 1\n",
        "\n",
        "    for num in numbers:\n",
        "        product *= num\n",
        "\n",
        "    return product\n",
        "\n",
        "# Example usage\n",
        "number_list = [2, 3, 4, 5]\n",
        "result = calculate_product(number_list)\n",
        "\n",
        "print(\"Product of the elements:\", result)\n"
      ],
      "metadata": {
        "colab": {
          "base_uri": "https://localhost:8080/"
        },
        "id": "E4sfav42GbaS",
        "outputId": "99396689-f659-406c-f527-236a3791b252"
      },
      "execution_count": 40,
      "outputs": [
        {
          "output_type": "stream",
          "name": "stdout",
          "text": [
            "Product of the elements: 120\n"
          ]
        }
      ]
    },
    {
      "cell_type": "code",
      "source": [
        "def reverse_words(sentence):\n",
        "    words = sentence.split()\n",
        "    reversed_sentence = ' '.join(reversed(words))\n",
        "    return reversed_sentence\n",
        "\n",
        "# Example usage\n",
        "input_sentence = input(\"Enter a sentence: \")\n",
        "reversed_sentence = reverse_words(input_sentence)\n",
        "\n",
        "print(\"Reversed sentence:\", reversed_sentence)\n"
      ],
      "metadata": {
        "colab": {
          "base_uri": "https://localhost:8080/"
        },
        "id": "1wBoy60hIMr9",
        "outputId": "d7461d69-157b-4add-aac9-3e8fd6f59934"
      },
      "execution_count": 41,
      "outputs": [
        {
          "output_type": "stream",
          "name": "stdout",
          "text": [
            "Enter a sentence: deepak rautella\n",
            "Reversed sentence: rautella deepak\n"
          ]
        }
      ]
    },
    {
      "cell_type": "code",
      "source": [
        "def find_missing_number(numbers):\n",
        "    n = len(numbers) + 1\n",
        "    total_sum = n * (n + 1) // 2\n",
        "    actual_sum = sum(numbers)\n",
        "    missing_number = total_sum - actual_sum\n",
        "    return missing_number\n",
        "\n",
        "# Example usage\n",
        "number_list = [1, 2, 3, 5, 6, 7, 8, 9]\n",
        "missing = find_missing_number(number_list)\n",
        "\n",
        "print(\"Missing number:\", missing)\n"
      ],
      "metadata": {
        "colab": {
          "base_uri": "https://localhost:8080/"
        },
        "id": "2KwtDCyWJ00o",
        "outputId": "93e3db1c-100d-4700-92e0-1fd3c0f170aa"
      },
      "execution_count": 42,
      "outputs": [
        {
          "output_type": "stream",
          "name": "stdout",
          "text": [
            "Missing number: 4\n"
          ]
        }
      ]
    },
    {
      "cell_type": "code",
      "source": [
        "def sum_of_digits(number):\n",
        "    sum_digits = 0\n",
        "\n",
        "    # Iterate over each digit of the number\n",
        "    while number > 0:\n",
        "        digit = number % 10  # Extract the last digit\n",
        "        sum_digits += digit\n",
        "        number //= 10  # Remove the last digit\n",
        "\n",
        "    return sum_digits\n",
        "\n",
        "# Example usage\n",
        "number = int(input(\"Enter a number: \"))\n",
        "result = sum_of_digits(number)\n",
        "\n",
        "print(\"Sum of digits:\", result)\n"
      ],
      "metadata": {
        "colab": {
          "base_uri": "https://localhost:8080/"
        },
        "id": "K7jNyP0aKCTO",
        "outputId": "fcf89f48-961f-4cd0-fd08-91bf2b39578e"
      },
      "execution_count": 43,
      "outputs": [
        {
          "output_type": "stream",
          "name": "stdout",
          "text": [
            "Enter a number: 1234\n",
            "Sum of digits: 10\n"
          ]
        }
      ]
    },
    {
      "cell_type": "code",
      "source": [
        "def is_valid_palindrome(string):\n",
        "    # Remove non-alphanumeric characters and convert to lowercase\n",
        "    alphanumeric_string = ''.join(char for char in string if char.isalnum())\n",
        "\n",
        "    # Check if the alphanumeric string is equal to its reverse\n",
        "    return alphanumeric_string == alphanumeric_string[::-1]\n",
        "\n",
        "# Example usage\n",
        "input_string = input(\"Enter a string: \")\n",
        "\n",
        "if is_valid_palindrome(input_string):\n",
        "    print(\"The string is a valid palindrome.\")\n",
        "else:\n",
        "    print(\"The string is not a valid palindrome.\")\n"
      ],
      "metadata": {
        "colab": {
          "base_uri": "https://localhost:8080/"
        },
        "id": "8-nfmZSgKLSY",
        "outputId": "e0bb7119-bc63-4bc9-d6d8-770e17407225"
      },
      "execution_count": 46,
      "outputs": [
        {
          "output_type": "stream",
          "name": "stdout",
          "text": [
            "Enter a string: Madam\n",
            "The string is not a valid palindrome.\n"
          ]
        }
      ]
    },
    {
      "cell_type": "code",
      "source": [
        "def find_smallest_missing_positive(numbers):\n",
        "    n = len(numbers)\n",
        "\n",
        "    # Step 1: Move all positive integers to the correct index\n",
        "    i = 0\n",
        "    while i < n:\n",
        "        if 1 <= numbers[i] <= n and numbers[numbers[i] - 1] != numbers[i]:\n",
        "            numbers[numbers[i] - 1], numbers[i] = numbers[i], numbers[numbers[i] - 1]\n",
        "        else:\n",
        "            i += 1\n",
        "\n",
        "    # Step 2: Find the first index where the value is not equal to the index + 1\n",
        "    for i in range(n):\n",
        "        if numbers[i] != i + 1:\n",
        "            return i + 1\n",
        "\n",
        "    # Step 3: If all indices are filled, the smallest missing positive is n + 1\n",
        "    return n + 1\n",
        "\n",
        "# Example usage\n",
        "number_list = [3, 4, -1, 1]\n",
        "smallest_missing = find_smallest_missing_positive(number_list)\n",
        "\n",
        "print(\"Smallest missing positive integer:\", smallest_missing)\n"
      ],
      "metadata": {
        "colab": {
          "base_uri": "https://localhost:8080/"
        },
        "id": "d8Sz02opKv1C",
        "outputId": "014aab27-d796-4162-8b53-bd6848ec500f"
      },
      "execution_count": 47,
      "outputs": [
        {
          "output_type": "stream",
          "name": "stdout",
          "text": [
            "Smallest missing positive integer: 2\n"
          ]
        }
      ]
    },
    {
      "cell_type": "code",
      "source": [
        "def count_occurrences(numbers, target):\n",
        "    count = 0\n",
        "\n",
        "    for num in numbers:\n",
        "        if num == target:\n",
        "            count += 1\n",
        "\n",
        "    return count\n",
        "\n",
        "# Example usage\n",
        "number_list = [1, 2, 3, 4, 2, 2, 5, 2]\n",
        "target_number = 2\n",
        "occurrences = count_occurrences(number_list, target_number)\n",
        "\n",
        "print(\"Number of occurrences of\", target_number, \":\", occurrences)\n"
      ],
      "metadata": {
        "colab": {
          "base_uri": "https://localhost:8080/"
        },
        "id": "1NypQxd5LOdN",
        "outputId": "3e71e9c2-0b3b-455a-9ed9-f63ba637afcb"
      },
      "execution_count": 50,
      "outputs": [
        {
          "output_type": "stream",
          "name": "stdout",
          "text": [
            "Number of occurrences of 2 : 4\n"
          ]
        }
      ]
    },
    {
      "cell_type": "code",
      "source": [
        "def is_perfect_number(number):\n",
        "    if number <= 0:\n",
        "        return False\n",
        "\n",
        "    divisor_sum = 0\n",
        "\n",
        "    for i in range(1, number):\n",
        "        if number % i == 0:\n",
        "            divisor_sum += i\n",
        "\n",
        "    return divisor_sum == number\n",
        "\n",
        "# Example usage\n",
        "input_number = int(input(\"Enter a number: \"))\n",
        "\n",
        "if is_perfect_number(input_number):\n",
        "    print(input_number, \"is a perfect number.\")\n",
        "else:\n",
        "    print(input_number, \"is not a perfect number.\")\n"
      ],
      "metadata": {
        "colab": {
          "base_uri": "https://localhost:8080/"
        },
        "id": "6oK-PgzbMyli",
        "outputId": "93186846-cb0b-4e91-f6b0-c8e1a4abc134"
      },
      "execution_count": 51,
      "outputs": [
        {
          "output_type": "stream",
          "name": "stdout",
          "text": [
            "Enter a number: 6\n",
            "6 is a perfect number.\n"
          ]
        }
      ]
    },
    {
      "cell_type": "code",
      "source": [
        "def remove_duplicates(string):\n",
        "    unique_chars = []\n",
        "    result = \"\"\n",
        "\n",
        "    for char in string:\n",
        "        if char not in unique_chars:\n",
        "            unique_chars.append(char)\n",
        "            result += char\n",
        "\n",
        "    return result\n",
        "\n",
        "# Example usage\n",
        "input_string = input(\"Enter a string: \")\n",
        "result_string = remove_duplicates(input_string)\n",
        "\n",
        "print(\"String with duplicates removed:\", result_string)\n"
      ],
      "metadata": {
        "colab": {
          "base_uri": "https://localhost:8080/"
        },
        "id": "Y449PP2fNGmQ",
        "outputId": "0bfafa28-46be-4a0e-99e8-f4c90eb8b2bc"
      },
      "execution_count": 52,
      "outputs": [
        {
          "output_type": "stream",
          "name": "stdout",
          "text": [
            "Enter a string: deepak rautella deepak \n",
            "String with duplicates removed: depak rutl\n"
          ]
        }
      ]
    },
    {
      "cell_type": "code",
      "source": [],
      "metadata": {
        "id": "lkWclRTtNncE"
      },
      "execution_count": null,
      "outputs": []
    }
  ]
}