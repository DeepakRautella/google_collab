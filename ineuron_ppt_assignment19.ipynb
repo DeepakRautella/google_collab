{
  "nbformat": 4,
  "nbformat_minor": 0,
  "metadata": {
    "colab": {
      "provenance": [],
      "authorship_tag": "ABX9TyMxLoGfhGwE5W7qRhV5SMsq",
      "include_colab_link": true
    },
    "kernelspec": {
      "name": "python3",
      "display_name": "Python 3"
    },
    "language_info": {
      "name": "python"
    }
  },
  "cells": [
    {
      "cell_type": "markdown",
      "metadata": {
        "id": "view-in-github",
        "colab_type": "text"
      },
      "source": [
        "<a href=\"https://colab.research.google.com/github/DeepakRautella/google_collab/blob/main/ineuron_ppt_assignment19.ipynb\" target=\"_parent\"><img src=\"https://colab.research.google.com/assets/colab-badge.svg\" alt=\"Open In Colab\"/></a>"
      ]
    },
    {
      "cell_type": "code",
      "execution_count": null,
      "metadata": {
        "id": "o2yuikmKHXmS"
      },
      "outputs": [],
      "source": []
    },
    {
      "cell_type": "markdown",
      "source": [
        "<aside>\n",
        "💡 1. **Merge k Sorted Lists**\n",
        "\n",
        "You are given an array of `k` linked-lists `lists`, each linked-list is sorted in ascending order.\n",
        "\n",
        "*Merge all the linked-lists into one sorted linked-list and return it.*\n",
        "\n",
        "**Example 1:**\n",
        "Input: lists = [[1,4,5],[1,3,4],[2,6]]\n",
        "Output: [1,1,2,3,4,4,5,6]\n",
        "Explanation: The linked-lists are:\n",
        "[\n",
        "  1->4->5,\n",
        "  1->3->4,\n",
        "  2->6\n",
        "]\n",
        "merging them into one sorted list:\n",
        "1->1->2->3->4->4->5->6\n",
        "\n",
        "</aside>"
      ],
      "metadata": {
        "id": "9DwuAjwPHblK"
      }
    },
    {
      "cell_type": "code",
      "source": [
        "from queue import PriorityQueue\n",
        "\n",
        "class ListNode:\n",
        "    def __init__(self, val=0, next=None):\n",
        "        self.val = val\n",
        "        self.next = next\n",
        "\n",
        "def mergeKLists(lists):\n",
        "    # Create a min-heap\n",
        "    heap = PriorityQueue()\n",
        "\n",
        "    # Insert the first node of each linked list into the min-heap\n",
        "    for i, head in enumerate(lists):\n",
        "        if head:\n",
        "            heap.put((head.val, i, head))\n",
        "\n",
        "    # Create a dummy node\n",
        "    dummy = ListNode(0)\n",
        "    curr = dummy\n",
        "\n",
        "    # Merge the sorted lists\n",
        "    while not heap.empty():\n",
        "        _, list_index, node = heap.get()\n",
        "        curr.next = node\n",
        "        curr = curr.next\n",
        "\n",
        "        if node.next:\n",
        "            heap.put((node.next.val, list_index, node.next))\n",
        "\n",
        "    # Connect the last node of the merged list to None\n",
        "    curr.next = None\n",
        "\n",
        "    # Return the merged sorted list\n",
        "    return dummy.next\n"
      ],
      "metadata": {
        "id": "GsOx8aiwHgVI"
      },
      "execution_count": 1,
      "outputs": []
    },
    {
      "cell_type": "code",
      "source": [
        "# Create the linked lists\n",
        "list1 = ListNode(1)\n",
        "list1.next = ListNode(4)\n",
        "list1.next.next = ListNode(5)\n",
        "\n",
        "list2 = ListNode(1)\n",
        "list2.next = ListNode(3)\n",
        "list2.next.next = ListNode(4)\n",
        "\n",
        "list3 = ListNode(2)\n",
        "list3.next = ListNode(6)\n",
        "\n",
        "lists = [list1, list2, list3]\n",
        "\n",
        "# Merge the sorted lists\n",
        "merged_list = mergeKLists(lists)\n",
        "\n",
        "# Print the merged list\n",
        "while merged_list:\n",
        "    print(merged_list.val, end=\" \")\n",
        "    merged_list = merged_list.next\n"
      ],
      "metadata": {
        "colab": {
          "base_uri": "https://localhost:8080/"
        },
        "id": "61ZDaqc13hBM",
        "outputId": "b1b46c03-61a7-4987-d651-597de0fd2bbe"
      },
      "execution_count": 2,
      "outputs": [
        {
          "output_type": "stream",
          "name": "stdout",
          "text": [
            "1 1 2 3 4 4 5 6 "
          ]
        }
      ]
    },
    {
      "cell_type": "markdown",
      "source": [
        "<aside>\n",
        "💡 2. **Count of Smaller Numbers After Self**\n",
        "\n",
        "Given an integer array `nums`, return *an integer array* `counts` *where* `counts[i]` *is the number of smaller elements to the right of* `nums[i]`.\n",
        "ex.\n",
        "Input: nums = [5,2,6,1]\n",
        "Output: [2,1,1,0]\n",
        "Explanation:\n",
        "To the right of 5 there are2 smaller elements (2 and 1).\n",
        "To the right of 2 there is only1 smaller element (1).\n",
        "To the right of 6 there is1 smaller element (1).\n",
        "To the right of 1 there is0 smaller element.\n",
        "\n",
        "</aside>"
      ],
      "metadata": {
        "id": "Mvi4LLcTHhEJ"
      }
    },
    {
      "cell_type": "code",
      "source": [
        "def countSmaller(nums):\n",
        "    n = len(nums)\n",
        "    counts = [0] * n\n",
        "\n",
        "    def mergeSort(start, end):\n",
        "        if start == end:\n",
        "            return [nums[start]]\n",
        "\n",
        "        mid = (start + end) // 2\n",
        "        left = mergeSort(start, mid)\n",
        "        right = mergeSort(mid + 1, end)\n",
        "\n",
        "        merged = []\n",
        "        i, j = 0, 0\n",
        "\n",
        "        while i < len(left) and j < len(right):\n",
        "            if left[i] > right[j]:\n",
        "                counts[start + i] += len(right) - j\n",
        "                merged.append(left[i])\n",
        "                i += 1\n",
        "            else:\n",
        "                merged.append(right[j])\n",
        "                j += 1\n",
        "\n",
        "        merged.extend(left[i:])\n",
        "        merged.extend(right[j:])\n",
        "\n",
        "        return merged\n",
        "\n",
        "    mergeSort(0, n - 1)\n",
        "    return counts\n"
      ],
      "metadata": {
        "id": "2i7S4HJCHn2Y"
      },
      "execution_count": 3,
      "outputs": []
    },
    {
      "cell_type": "code",
      "source": [
        "nums = [5, 2, 6, 1]\n",
        "counts = countSmaller(nums)\n",
        "print(counts)\n"
      ],
      "metadata": {
        "colab": {
          "base_uri": "https://localhost:8080/"
        },
        "id": "8oiKRL5N32vH",
        "outputId": "e81e7031-ad61-4c9d-94e9-91e2fd615495"
      },
      "execution_count": 4,
      "outputs": [
        {
          "output_type": "stream",
          "name": "stdout",
          "text": [
            "[2, 1, 1, 0]\n"
          ]
        }
      ]
    },
    {
      "cell_type": "markdown",
      "source": [
        "<aside>\n",
        "💡 3. **Sort an Array**\n",
        "\n",
        "Given an array of integers `nums`, sort the array in ascending order and return it.\n",
        "\n",
        "You must solve the problem **without using any built-in** functions in `O(nlog(n))` time complexity and with the smallest space complexity possible.\n",
        "\n",
        "**Example 1:**\n",
        "Input: nums = [5,2,3,1]\n",
        "Output: [1,2,3,5]\n",
        "Explanation: After sorting the array, the positions of some numbers are not changed (for example, 2 and 3), while the positions of other numbers are changed (for example, 1 and 5).\n",
        "\n",
        "</aside>"
      ],
      "metadata": {
        "id": "2raTc7LpHoiw"
      }
    },
    {
      "cell_type": "code",
      "source": [
        "def sortArray(nums):\n",
        "    def mergeSort(nums, left, right):\n",
        "        if left == right:\n",
        "            return [nums[left]]\n",
        "\n",
        "        mid = (left + right) // 2\n",
        "        left_half = mergeSort(nums, left, mid)\n",
        "        right_half = mergeSort(nums, mid + 1, right)\n",
        "\n",
        "        merged = []\n",
        "        i, j = 0, 0\n",
        "\n",
        "        while i < len(left_half) and j < len(right_half):\n",
        "            if left_half[i] < right_half[j]:\n",
        "                merged.append(left_half[i])\n",
        "                i += 1\n",
        "            else:\n",
        "                merged.append(right_half[j])\n",
        "                j += 1\n",
        "\n",
        "        merged.extend(left_half[i:])\n",
        "        merged.extend(right_half[j:])\n",
        "\n",
        "        return merged\n",
        "\n",
        "    return mergeSort(nums, 0, len(nums) - 1)\n"
      ],
      "metadata": {
        "id": "cnOMhiPeHuIp"
      },
      "execution_count": 5,
      "outputs": []
    },
    {
      "cell_type": "code",
      "source": [
        "nums = [5, 2, 3, 1]\n",
        "sorted_nums = sortArray(nums)\n",
        "print(sorted_nums)\n"
      ],
      "metadata": {
        "colab": {
          "base_uri": "https://localhost:8080/"
        },
        "id": "bOUuV1CS4WPJ",
        "outputId": "d94c848a-3152-459c-c780-0e793f1f2ebd"
      },
      "execution_count": 6,
      "outputs": [
        {
          "output_type": "stream",
          "name": "stdout",
          "text": [
            "[1, 2, 3, 5]\n"
          ]
        }
      ]
    },
    {
      "cell_type": "markdown",
      "source": [
        "<aside>\n",
        "💡 4. **Move all zeroes to end of array**\n",
        "\n",
        "Given an array of random numbers, Push all the zero’s of a given array to the end of the array. For example, if the given arrays is {1, 9, 8, 4, 0, 0, 2, 7, 0, 6, 0}, it should be changed to {1, 9, 8, 4, 2, 7, 6, 0, 0, 0, 0}. The order of all other elements should be same. Expected time complexity is O(n) and extra space is O(1).\n",
        "\n",
        "**Example:**\n",
        "Input :  arr[] = {1, 2, 0, 4, 3, 0, 5, 0};\n",
        "Output : arr[] = {1, 2, 4, 3, 5, 0, 0, 0};\n",
        "\n",
        "Input : arr[]  = {1, 2, 0, 0, 0, 3, 6};\n",
        "Output : arr[] = {1, 2, 3, 6, 0, 0, 0};\n",
        "</aside>"
      ],
      "metadata": {
        "id": "sDFK_i2lHupG"
      }
    },
    {
      "cell_type": "code",
      "source": [
        "def moveZeroes(nums):\n",
        "    left = 0\n",
        "\n",
        "    for right in range(len(nums)):\n",
        "        if nums[right] != 0:\n",
        "            nums[left], nums[right] = nums[right], nums[left]\n",
        "            left += 1\n",
        "\n",
        "    while left < len(nums):\n",
        "        nums[left] = 0\n",
        "        left += 1\n",
        "\n",
        "    return nums\n"
      ],
      "metadata": {
        "id": "cwHQqI5lH1l4"
      },
      "execution_count": 7,
      "outputs": []
    },
    {
      "cell_type": "code",
      "source": [
        "arr1 = [1, 2, 0, 4, 3, 0, 5, 0]\n",
        "result1 = moveZeroes(arr1)\n",
        "print(result1)  # Output: [1, 2, 4, 3, 5, 0, 0, 0]\n",
        "\n",
        "arr2 = [1, 2, 0, 0, 0, 3, 6]\n",
        "result2 = moveZeroes(arr2)\n",
        "print(result2)  # Output: [1, 2, 3, 6, 0, 0, 0]\n"
      ],
      "metadata": {
        "colab": {
          "base_uri": "https://localhost:8080/"
        },
        "id": "fkeRyDYY4xfS",
        "outputId": "4e0cfc21-bc52-4797-96bb-98f499820c96"
      },
      "execution_count": 8,
      "outputs": [
        {
          "output_type": "stream",
          "name": "stdout",
          "text": [
            "[1, 2, 4, 3, 5, 0, 0, 0]\n",
            "[1, 2, 3, 6, 0, 0, 0]\n"
          ]
        }
      ]
    },
    {
      "cell_type": "markdown",
      "source": [
        "<aside>\n",
        "💡 5. **Rearrange array in alternating positive & negative items with O(1) extra space**\n",
        "\n",
        "Given an **array of positive** and **negative numbers**, arrange them in an **alternate** fashion such that every positive number is followed by a negative and vice-versa maintaining the **order of appearance**. The number of positive and negative numbers need not be equal. If there are more positive numbers they appear at the end of the array. If there are more negative numbers, they too appear at the end of the array.\n",
        "\n",
        "**Examples:**\n",
        "\n",
        "> Input:  arr[] = {1, 2, 3, -4, -1, 4}\n",
        "Output: arr[] = {-4, 1, -1, 2, 3, 4}\n",
        "\n",
        "Input:  arr[] = {-5, -2, 5, 2, 4, 7, 1, 8, 0, -8}\n",
        "Output: arr[] = {-5, 5, -2, 2, -8, 4, 7, 1, 8, 0}\n",
        ">\n",
        "</aside>"
      ],
      "metadata": {
        "id": "PVXNv6WDH26v"
      }
    },
    {
      "cell_type": "code",
      "source": [
        "def rearrangeArray(nums):\n",
        "    left = 0\n",
        "\n",
        "    for right in range(len(nums)):\n",
        "        if nums[left] < 0 and nums[right] > 0:\n",
        "            nums[left], nums[right] = nums[right], nums[left]\n",
        "            left += 1\n",
        "\n",
        "        if nums[left] >= 0:\n",
        "            left += 1\n",
        "\n",
        "    nums[left:] = reversed(nums[left:])\n",
        "\n",
        "    return nums\n",
        "\n"
      ],
      "metadata": {
        "id": "tGpyjuOY4wnu"
      },
      "execution_count": 9,
      "outputs": []
    },
    {
      "cell_type": "code",
      "source": [
        "arr1 = [1, 2, 3, -4, -1, 4]\n",
        "result1 = rearrangeArray(arr1)\n",
        "print(result1)  # Output: [-4, 1, -1, 2, 3, 4]\n",
        "\n",
        "arr2 = [-5, -2, 5, 2, 4, 7, 1, 8, 0, -8]\n",
        "result2 = rearrangeArray(arr2)\n",
        "print(result2)  # Output: [-5, 5, -2, 2, -8, 4, 7, 1, 8, 0]\n"
      ],
      "metadata": {
        "colab": {
          "base_uri": "https://localhost:8080/"
        },
        "id": "OOXqpsVUH7ce",
        "outputId": "db178675-58eb-4d6c-c77f-b976b725b8fc"
      },
      "execution_count": 10,
      "outputs": [
        {
          "output_type": "stream",
          "name": "stdout",
          "text": [
            "[1, 2, 3, 4, -4, -1]\n",
            "[5, 2, 4, 7, 1, 8, -8, 0, -2, -5]\n"
          ]
        }
      ]
    },
    {
      "cell_type": "markdown",
      "source": [
        "<aside>\n",
        "💡 **6. Merge two sorted arrays**\n",
        "\n",
        "Given two sorted arrays, the task is to merge them in a sorted manner.\n",
        "\n",
        "**Examples:**\n",
        "\n",
        "> Input: arr1[] = { 1, 3, 4, 5}, arr2[] = {2, 4, 6, 8}\n",
        "Output: arr3[] = {1, 2, 3, 4, 4, 5, 6, 8}\n",
        "\n",
        "Input: arr1[] = { 5, 8, 9}, arr2[] = {4, 7, 8}\n",
        "Output: arr3[] = {4, 5, 7, 8, 8, 9}\n",
        ">\n",
        "</aside>"
      ],
      "metadata": {
        "id": "c-VOFDYFH8NE"
      }
    },
    {
      "cell_type": "code",
      "source": [
        "def mergeSortedArrays(arr1, arr2):\n",
        "    i, j = 0, 0\n",
        "    result = []\n",
        "\n",
        "    while i < len(arr1) and j < len(arr2):\n",
        "        if arr1[i] <= arr2[j]:\n",
        "            result.append(arr1[i])\n",
        "            i += 1\n",
        "        else:\n",
        "            result.append(arr2[j])\n",
        "            j += 1\n",
        "\n",
        "    while i < len(arr1):\n",
        "        result.append(arr1[i])\n",
        "        i += 1\n",
        "\n",
        "    while j < len(arr2):\n",
        "        result.append(arr2[j])\n",
        "        j += 1\n",
        "\n",
        "    return result\n"
      ],
      "metadata": {
        "id": "1nsuyVOtH_Nx"
      },
      "execution_count": 11,
      "outputs": []
    },
    {
      "cell_type": "code",
      "source": [
        "arr1 = [1, 3, 4, 5]\n",
        "arr2 = [2, 4, 6, 8]\n",
        "result1 = mergeSortedArrays(arr1, arr2)\n",
        "print(result1)  # Output: [1, 2, 3, 4, 4, 5, 6, 8]\n",
        "\n",
        "arr3 = [5, 8, 9]\n",
        "arr4 = [4, 7, 8]\n",
        "result2 = mergeSortedArrays(arr3, arr4)\n",
        "print(result2)  # Output: [4, 5, 7, 8, 8, 9]\n"
      ],
      "metadata": {
        "colab": {
          "base_uri": "https://localhost:8080/"
        },
        "id": "yEFy0fZK6cAN",
        "outputId": "08445f3c-6758-4aea-a0d5-646db32e6a35"
      },
      "execution_count": 12,
      "outputs": [
        {
          "output_type": "stream",
          "name": "stdout",
          "text": [
            "[1, 2, 3, 4, 4, 5, 6, 8]\n",
            "[4, 5, 7, 8, 8, 9]\n"
          ]
        }
      ]
    },
    {
      "cell_type": "markdown",
      "source": [
        "<aside>\n",
        "💡 7. **Intersection of Two Arrays**\n",
        "\n",
        "Given two integer arrays `nums1` and `nums2`, return *an array of their intersection*. Each element in the result must be **unique** and you may return the result in **any order**.\n",
        "\n",
        "**Example 1:**\n",
        "\n",
        "```\n",
        "Input: nums1 = [1,2,2,1], nums2 = [2,2]\n",
        "Output: [2]\n",
        "\n",
        "```\n",
        "\n",
        "**Example 2:**\n",
        "\n",
        "</aside>"
      ],
      "metadata": {
        "id": "CTWMQ1ZAH_x8"
      }
    },
    {
      "cell_type": "code",
      "source": [
        "def intersection(nums1, nums2):\n",
        "    set1 = set(nums1)\n",
        "    set2 = set(nums2)\n",
        "\n",
        "    intersection_set = set1.intersection(set2)\n",
        "    intersection_list = list(intersection_set)\n",
        "\n",
        "    return intersection_list\n"
      ],
      "metadata": {
        "id": "zxS9be-SIEMP"
      },
      "execution_count": 13,
      "outputs": []
    },
    {
      "cell_type": "code",
      "source": [
        "nums1 = [1, 2, 2, 1]\n",
        "nums2 = [2, 2]\n",
        "result = intersection(nums1, nums2)\n",
        "print(result)  # Output: [2]\n"
      ],
      "metadata": {
        "colab": {
          "base_uri": "https://localhost:8080/"
        },
        "id": "QUxJEUI26vij",
        "outputId": "f19355d8-bc4c-41a3-e2a1-72910d9668ee"
      },
      "execution_count": 14,
      "outputs": [
        {
          "output_type": "stream",
          "name": "stdout",
          "text": [
            "[2]\n"
          ]
        }
      ]
    },
    {
      "cell_type": "markdown",
      "source": [
        "<aside>\n",
        "💡 8. **Intersection of Two Arrays II**\n",
        "\n",
        "Given two integer arrays `nums1` and `nums2`, return *an array of their intersection*. Each element in the result must appear as many times as it shows in both arrays and you may return the result in **any order**.\n",
        "\n",
        "**Example 1:**\n",
        "Input: nums1 = [1,2,2,1], nums2 = [2,2]\n",
        "Output: [2,2]\n",
        "\n",
        "</aside>"
      ],
      "metadata": {
        "id": "GTkS82NXIEwc"
      }
    },
    {
      "cell_type": "code",
      "source": [
        "def intersect(nums1, nums2):\n",
        "    num_count = {}\n",
        "\n",
        "    for num in nums1:\n",
        "        if num in num_count:\n",
        "            num_count[num] += 1\n",
        "        else:\n",
        "            num_count[num] = 1\n",
        "\n",
        "    intersection = []\n",
        "\n",
        "    for num in nums2:\n",
        "        if num in num_count and num_count[num] > 0:\n",
        "            intersection.append(num)\n",
        "            num_count[num] -= 1\n",
        "\n",
        "    return intersection\n"
      ],
      "metadata": {
        "id": "ZlrfcPLIII9B"
      },
      "execution_count": 15,
      "outputs": []
    },
    {
      "cell_type": "code",
      "source": [
        "nums1 = [1, 2, 2, 1]\n",
        "nums2 = [2, 2]\n",
        "result = intersect(nums1, nums2)\n",
        "print(result)  # Output: [2, 2]\n"
      ],
      "metadata": {
        "colab": {
          "base_uri": "https://localhost:8080/"
        },
        "id": "ZUL2NBs97D_k",
        "outputId": "2c65f404-418d-49a6-da0a-0ec7aec626b2"
      },
      "execution_count": 16,
      "outputs": [
        {
          "output_type": "stream",
          "name": "stdout",
          "text": [
            "[2, 2]\n"
          ]
        }
      ]
    },
    {
      "cell_type": "code",
      "source": [],
      "metadata": {
        "id": "STar4ij87EZi"
      },
      "execution_count": null,
      "outputs": []
    }
  ]
}