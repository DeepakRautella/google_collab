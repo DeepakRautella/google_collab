{
  "nbformat": 4,
  "nbformat_minor": 0,
  "metadata": {
    "colab": {
      "provenance": [],
      "collapsed_sections": [],
      "authorship_tag": "ABX9TyNHgDBfPb3DvCFWyUKAM8rP",
      "include_colab_link": true
    },
    "kernelspec": {
      "name": "python3",
      "display_name": "Python 3"
    },
    "language_info": {
      "name": "python"
    },
    "accelerator": "GPU",
    "gpuClass": "standard"
  },
  "cells": [
    {
      "cell_type": "markdown",
      "metadata": {
        "id": "view-in-github",
        "colab_type": "text"
      },
      "source": [
        "<a href=\"https://colab.research.google.com/github/DeepakRautella/google_collab/blob/main/Activation_Function.ipynb\" target=\"_parent\"><img src=\"https://colab.research.google.com/assets/colab-badge.svg\" alt=\"Open In Colab\"/></a>"
      ]
    },
    {
      "cell_type": "markdown",
      "source": [
        "## **Activation Function**\n"
      ],
      "metadata": {
        "id": "5QrmEHuBQ6ww"
      }
    },
    {
      "cell_type": "markdown",
      "source": [
        "\"\"\"Activation function defines the output of input or set of inputs or in other terms defines\n",
        " node of the output of node that is given in inputs.\n",
        "\n",
        "They basically decide to activate or deactivate neurons to get the desired output.\n",
        " It also performs a nonlinear transformation on the input to get better results on a complex neural network.\"\"\""
      ],
      "metadata": {
        "id": "tYTCv1s0PUR2"
      }
    },
    {
      "cell_type": "code",
      "execution_count": 62,
      "metadata": {
        "id": "LoNItCOrNhtl"
      },
      "outputs": [],
      "source": [
        "import numpy as np\n",
        "import matplotlib.pyplot as plt\n",
        "from sklearn.datasets import make_moons\n",
        "import seaborn as sns\n",
        "from mlxtend.plotting import plot_decision_regions\n",
        "\n",
        "import tensorflow\n",
        "from tensorflow.keras.models import Sequential\n",
        "from tensorflow.keras.layers import Dense\n",
        "from tensorflow.keras.optimizers import Adam"
      ]
    },
    {
      "cell_type": "code",
      "source": [
        "X, y = make_moons(100, noise=0.25,random_state=2)"
      ],
      "metadata": {
        "id": "El_oWld2OS4U"
      },
      "execution_count": 63,
      "outputs": []
    },
    {
      "cell_type": "code",
      "source": [
        "import matplotlib.pyplot as plt\n",
        "plt.scatter(X[:,0], X[:,1], c=y)\n",
        "plt.show()"
      ],
      "metadata": {
        "colab": {
          "base_uri": "https://localhost:8080/",
          "height": 265
        },
        "id": "pc57vH5LOVLq",
        "outputId": "2e23abf9-e5f6-4af2-ed41-b97a0606e5ec"
      },
      "execution_count": 64,
      "outputs": [
        {
          "output_type": "display_data",
          "data": {
            "text/plain": [
              "<Figure size 432x288 with 1 Axes>"
            ],
            "image/png": "[encoded data removed]"
          },
          "metadata": {
            "needs_background": "light"
          }
        }
      ]
    },
    {
      "cell_type": "code",
      "source": [
        "#without activation function"
      ],
      "metadata": {
        "id": "5nnFmh2HOg7J"
      },
      "execution_count": 65,
      "outputs": []
    },
    {
      "cell_type": "markdown",
      "source": [
        "Model without activation function (activation func= linear)"
      ],
      "metadata": {
        "id": "_nUB6OE_Oj2L"
      }
    },
    {
      "cell_type": "code",
      "source": [
        "\n",
        "model1 = Sequential()\n",
        "\n",
        "model1.add(Dense(128,input_dim=2, activation=\"linear\"))\n",
        "model1.add(Dense(128,activation=\"linear\"))\n",
        "model1.add(Dense(1,activation='sigmoid'))"
      ],
      "metadata": {
        "id": "4yjUXpyXOXLL"
      },
      "execution_count": 66,
      "outputs": []
    },
    {
      "cell_type": "code",
      "source": [
        "\n",
        "model1.summary()"
      ],
      "metadata": {
        "colab": {
          "base_uri": "https://localhost:8080/"
        },
        "id": "OHluRFmdOeks",
        "outputId": "120a6085-752c-4fbc-b3fb-f30280d10e9c"
      },
      "execution_count": 67,
      "outputs": [
        {
          "output_type": "stream",
          "name": "stdout",
          "text": [
            "Model: \"sequential_12\"\n",
            "_________________________________________________________________\n",
            " Layer (type)                Output Shape              Param #   \n",
            "=================================================================\n",
            " dense_28 (Dense)            (None, 128)               384       \n",
            "                                                                 \n",
            " dense_29 (Dense)            (None, 128)               16512     \n",
            "                                                                 \n",
            " dense_30 (Dense)            (None, 1)                 129       \n",
            "                                                                 \n",
            "=================================================================\n",
            "Total params: 17,025\n",
            "Trainable params: 17,025\n",
            "Non-trainable params: 0\n",
            "_________________________________________________________________\n"
          ]
        }
      ]
    },
    {
      "cell_type": "code",
      "source": [
        "adam = Adam(learning_rate=0.01)\n",
        "model1.compile(loss='binary_crossentropy', optimizer=adam, metrics=['accuracy'])\n",
        "history1 = model1.fit(X, y, epochs=100, validation_split = 0.2,verbose=1)"
      ],
      "metadata": {
        "colab": {
          "base_uri": "https://localhost:8080/"
        },
        "id": "tKJdqSONPbTK",
        "outputId": "4ad642bc-4801-411c-8fdd-9e93979856c2"
      },
      "execution_count": 68,
      "outputs": [
        {
          "output_type": "stream",
          "name": "stdout",
          "text": [
            "Epoch 1/100\n",
            "3/3 [==============================] - 1s 78ms/step - loss: 0.5722 - accuracy: 0.5125 - val_loss: 0.1715 - val_accuracy: 0.9000\n",
            "Epoch 2/100\n",
            "3/3 [==============================] - 0s 15ms/step - loss: 0.4939 - accuracy: 0.8125 - val_loss: 0.1856 - val_accuracy: 0.9000\n",
            "Epoch 3/100\n",
            "3/3 [==============================] - 0s 13ms/step - loss: 0.4525 - accuracy: 0.8375 - val_loss: 0.3140 - val_accuracy: 0.9000\n",
            "Epoch 4/100\n",
            "3/3 [==============================] - 0s 12ms/step - loss: 0.4248 - accuracy: 0.8125 - val_loss: 0.3616 - val_accuracy: 0.8500\n",
            "Epoch 5/100\n",
            "3/3 [==============================] - 0s 12ms/step - loss: 0.3938 - accuracy: 0.8250 - val_loss: 0.3882 - val_accuracy: 0.7500\n",
            "Epoch 6/100\n",
            "3/3 [==============================] - 0s 13ms/step - loss: 0.4321 - accuracy: 0.7875 - val_loss: 0.3380 - val_accuracy: 0.8500\n",
            "Epoch 7/100\n",
            "3/3 [==============================] - 0s 22ms/step - loss: 0.3909 - accuracy: 0.8125 - val_loss: 0.2996 - val_accuracy: 0.9000\n",
            "Epoch 8/100\n",
            "3/3 [==============================] - 0s 22ms/step - loss: 0.3965 - accuracy: 0.8250 - val_loss: 0.2882 - val_accuracy: 0.9000\n",
            "Epoch 9/100\n",
            "3/3 [==============================] - 0s 13ms/step - loss: 0.4107 - accuracy: 0.8125 - val_loss: 0.2725 - val_accuracy: 0.9000\n",
            "Epoch 10/100\n",
            "3/3 [==============================] - 0s 12ms/step - loss: 0.4042 - accuracy: 0.8375 - val_loss: 0.2634 - val_accuracy: 0.9000\n",
            "Epoch 11/100\n",
            "3/3 [==============================] - 0s 12ms/step - loss: 0.3869 - accuracy: 0.8500 - val_loss: 0.2973 - val_accuracy: 0.9000\n",
            "Epoch 12/100\n",
            "3/3 [==============================] - 0s 22ms/step - loss: 0.3880 - accuracy: 0.8375 - val_loss: 0.3251 - val_accuracy: 0.9000\n",
            "Epoch 13/100\n",
            "3/3 [==============================] - 0s 13ms/step - loss: 0.3947 - accuracy: 0.8125 - val_loss: 0.3335 - val_accuracy: 0.8500\n",
            "Epoch 14/100\n",
            "3/3 [==============================] - 0s 17ms/step - loss: 0.3988 - accuracy: 0.8125 - val_loss: 0.3093 - val_accuracy: 0.9000\n",
            "Epoch 15/100\n",
            "3/3 [==============================] - 0s 14ms/step - loss: 0.3929 - accuracy: 0.8250 - val_loss: 0.2892 - val_accuracy: 0.9000\n",
            "Epoch 16/100\n",
            "3/3 [==============================] - 0s 13ms/step - loss: 0.3940 - accuracy: 0.8250 - val_loss: 0.2682 - val_accuracy: 0.9000\n",
            "Epoch 17/100\n",
            "3/3 [==============================] - 0s 22ms/step - loss: 0.3958 - accuracy: 0.8375 - val_loss: 0.2529 - val_accuracy: 0.9000\n",
            "Epoch 18/100\n",
            "3/3 [==============================] - 0s 13ms/step - loss: 0.3916 - accuracy: 0.8500 - val_loss: 0.2588 - val_accuracy: 0.9000\n",
            "Epoch 19/100\n",
            "3/3 [==============================] - 0s 13ms/step - loss: 0.3969 - accuracy: 0.8375 - val_loss: 0.2655 - val_accuracy: 0.9000\n",
            "Epoch 20/100\n",
            "3/3 [==============================] - 0s 12ms/step - loss: 0.3961 - accuracy: 0.8250 - val_loss: 0.2834 - val_accuracy: 0.9000\n",
            "Epoch 21/100\n",
            "3/3 [==============================] - 0s 12ms/step - loss: 0.3861 - accuracy: 0.8250 - val_loss: 0.3000 - val_accuracy: 0.9000\n",
            "Epoch 22/100\n",
            "3/3 [==============================] - 0s 12ms/step - loss: 0.3878 - accuracy: 0.8250 - val_loss: 0.3007 - val_accuracy: 0.9000\n",
            "Epoch 23/100\n",
            "3/3 [==============================] - 0s 12ms/step - loss: 0.3884 - accuracy: 0.8375 - val_loss: 0.2968 - val_accuracy: 0.9000\n",
            "Epoch 24/100\n",
            "3/3 [==============================] - 0s 13ms/step - loss: 0.3862 - accuracy: 0.8250 - val_loss: 0.2924 - val_accuracy: 0.9000\n",
            "Epoch 25/100\n",
            "3/3 [==============================] - 0s 22ms/step - loss: 0.3850 - accuracy: 0.8250 - val_loss: 0.2804 - val_accuracy: 0.9000\n",
            "Epoch 26/100\n",
            "3/3 [==============================] - 0s 13ms/step - loss: 0.3909 - accuracy: 0.8250 - val_loss: 0.2709 - val_accuracy: 0.9000\n",
            "Epoch 27/100\n",
            "3/3 [==============================] - 0s 12ms/step - loss: 0.3884 - accuracy: 0.8250 - val_loss: 0.2626 - val_accuracy: 0.9000\n",
            "Epoch 28/100\n",
            "3/3 [==============================] - 0s 15ms/step - loss: 0.3913 - accuracy: 0.8500 - val_loss: 0.2547 - val_accuracy: 0.9000\n",
            "Epoch 29/100\n",
            "3/3 [==============================] - 0s 22ms/step - loss: 0.3902 - accuracy: 0.8500 - val_loss: 0.2663 - val_accuracy: 0.9000\n",
            "Epoch 30/100\n",
            "3/3 [==============================] - 0s 13ms/step - loss: 0.3892 - accuracy: 0.8500 - val_loss: 0.2742 - val_accuracy: 0.9000\n",
            "Epoch 31/100\n",
            "3/3 [==============================] - 0s 13ms/step - loss: 0.3899 - accuracy: 0.8250 - val_loss: 0.2695 - val_accuracy: 0.9000\n",
            "Epoch 32/100\n",
            "3/3 [==============================] - 0s 12ms/step - loss: 0.3854 - accuracy: 0.8375 - val_loss: 0.2574 - val_accuracy: 0.9000\n",
            "Epoch 33/100\n",
            "3/3 [==============================] - 0s 12ms/step - loss: 0.3861 - accuracy: 0.8500 - val_loss: 0.2576 - val_accuracy: 0.9000\n",
            "Epoch 34/100\n",
            "3/3 [==============================] - 0s 12ms/step - loss: 0.3870 - accuracy: 0.8500 - val_loss: 0.2712 - val_accuracy: 0.9000\n",
            "Epoch 35/100\n",
            "3/3 [==============================] - 0s 22ms/step - loss: 0.3890 - accuracy: 0.8500 - val_loss: 0.2960 - val_accuracy: 0.9000\n",
            "Epoch 36/100\n",
            "3/3 [==============================] - 0s 12ms/step - loss: 0.3941 - accuracy: 0.8375 - val_loss: 0.3215 - val_accuracy: 0.9000\n",
            "Epoch 37/100\n",
            "3/3 [==============================] - 0s 12ms/step - loss: 0.3981 - accuracy: 0.8250 - val_loss: 0.3177 - val_accuracy: 0.9000\n",
            "Epoch 38/100\n",
            "3/3 [==============================] - 0s 12ms/step - loss: 0.3928 - accuracy: 0.8375 - val_loss: 0.3002 - val_accuracy: 0.9000\n",
            "Epoch 39/100\n",
            "3/3 [==============================] - 0s 16ms/step - loss: 0.3869 - accuracy: 0.8250 - val_loss: 0.2868 - val_accuracy: 0.9000\n",
            "Epoch 40/100\n",
            "3/3 [==============================] - 0s 22ms/step - loss: 0.3890 - accuracy: 0.8375 - val_loss: 0.2791 - val_accuracy: 0.8500\n",
            "Epoch 41/100\n",
            "3/3 [==============================] - 0s 13ms/step - loss: 0.3937 - accuracy: 0.8375 - val_loss: 0.2761 - val_accuracy: 0.9000\n",
            "Epoch 42/100\n",
            "3/3 [==============================] - 0s 22ms/step - loss: 0.3907 - accuracy: 0.8375 - val_loss: 0.2669 - val_accuracy: 0.9000\n",
            "Epoch 43/100\n",
            "3/3 [==============================] - 0s 13ms/step - loss: 0.3888 - accuracy: 0.8500 - val_loss: 0.2606 - val_accuracy: 0.9000\n",
            "Epoch 44/100\n",
            "3/3 [==============================] - 0s 12ms/step - loss: 0.3845 - accuracy: 0.8375 - val_loss: 0.2755 - val_accuracy: 0.9000\n",
            "Epoch 45/100\n",
            "3/3 [==============================] - 0s 12ms/step - loss: 0.3906 - accuracy: 0.8250 - val_loss: 0.2945 - val_accuracy: 0.9000\n",
            "Epoch 46/100\n",
            "3/3 [==============================] - 0s 12ms/step - loss: 0.3916 - accuracy: 0.8375 - val_loss: 0.2961 - val_accuracy: 0.9000\n",
            "Epoch 47/100\n",
            "3/3 [==============================] - 0s 12ms/step - loss: 0.3911 - accuracy: 0.8250 - val_loss: 0.2820 - val_accuracy: 0.9000\n",
            "Epoch 48/100\n",
            "3/3 [==============================] - 0s 14ms/step - loss: 0.3907 - accuracy: 0.8250 - val_loss: 0.2906 - val_accuracy: 0.9000\n",
            "Epoch 49/100\n",
            "3/3 [==============================] - 0s 16ms/step - loss: 0.3884 - accuracy: 0.8250 - val_loss: 0.2914 - val_accuracy: 0.9000\n",
            "Epoch 50/100\n",
            "3/3 [==============================] - 0s 16ms/step - loss: 0.3868 - accuracy: 0.8250 - val_loss: 0.3031 - val_accuracy: 0.9000\n",
            "Epoch 51/100\n",
            "3/3 [==============================] - 0s 13ms/step - loss: 0.3889 - accuracy: 0.8250 - val_loss: 0.2979 - val_accuracy: 0.9000\n",
            "Epoch 52/100\n",
            "3/3 [==============================] - 0s 12ms/step - loss: 0.3862 - accuracy: 0.8500 - val_loss: 0.2857 - val_accuracy: 0.9000\n",
            "Epoch 53/100\n",
            "3/3 [==============================] - 0s 13ms/step - loss: 0.3870 - accuracy: 0.8500 - val_loss: 0.2745 - val_accuracy: 0.9000\n",
            "Epoch 54/100\n",
            "3/3 [==============================] - 0s 14ms/step - loss: 0.3902 - accuracy: 0.8375 - val_loss: 0.2718 - val_accuracy: 0.9000\n",
            "Epoch 55/100\n",
            "3/3 [==============================] - 0s 12ms/step - loss: 0.3875 - accuracy: 0.8500 - val_loss: 0.2633 - val_accuracy: 0.9000\n",
            "Epoch 56/100\n",
            "3/3 [==============================] - 0s 22ms/step - loss: 0.3922 - accuracy: 0.8500 - val_loss: 0.2502 - val_accuracy: 0.9000\n",
            "Epoch 57/100\n",
            "3/3 [==============================] - 0s 12ms/step - loss: 0.3910 - accuracy: 0.8500 - val_loss: 0.2710 - val_accuracy: 0.9000\n",
            "Epoch 58/100\n",
            "3/3 [==============================] - 0s 18ms/step - loss: 0.3855 - accuracy: 0.8500 - val_loss: 0.2777 - val_accuracy: 0.9000\n",
            "Epoch 59/100\n",
            "3/3 [==============================] - 0s 12ms/step - loss: 0.3867 - accuracy: 0.8250 - val_loss: 0.2899 - val_accuracy: 0.9000\n",
            "Epoch 60/100\n",
            "3/3 [==============================] - 0s 12ms/step - loss: 0.3921 - accuracy: 0.8375 - val_loss: 0.3028 - val_accuracy: 0.9000\n",
            "Epoch 61/100\n",
            "3/3 [==============================] - 0s 13ms/step - loss: 0.3938 - accuracy: 0.8375 - val_loss: 0.3098 - val_accuracy: 0.9000\n",
            "Epoch 62/100\n",
            "3/3 [==============================] - 0s 22ms/step - loss: 0.3880 - accuracy: 0.8125 - val_loss: 0.3007 - val_accuracy: 0.9000\n",
            "Epoch 63/100\n",
            "3/3 [==============================] - 0s 13ms/step - loss: 0.3858 - accuracy: 0.8375 - val_loss: 0.2671 - val_accuracy: 0.9000\n",
            "Epoch 64/100\n",
            "3/3 [==============================] - 0s 18ms/step - loss: 0.3890 - accuracy: 0.8500 - val_loss: 0.2424 - val_accuracy: 0.9000\n",
            "Epoch 65/100\n",
            "3/3 [==============================] - 0s 13ms/step - loss: 0.3980 - accuracy: 0.8500 - val_loss: 0.2354 - val_accuracy: 0.9000\n",
            "Epoch 66/100\n",
            "3/3 [==============================] - 0s 12ms/step - loss: 0.3934 - accuracy: 0.8500 - val_loss: 0.2595 - val_accuracy: 0.9000\n",
            "Epoch 67/100\n",
            "3/3 [==============================] - 0s 12ms/step - loss: 0.3893 - accuracy: 0.8375 - val_loss: 0.2793 - val_accuracy: 0.9000\n",
            "Epoch 68/100\n",
            "3/3 [==============================] - 0s 13ms/step - loss: 0.3904 - accuracy: 0.8375 - val_loss: 0.2804 - val_accuracy: 0.9000\n",
            "Epoch 69/100\n",
            "3/3 [==============================] - 0s 13ms/step - loss: 0.3880 - accuracy: 0.8250 - val_loss: 0.2869 - val_accuracy: 0.9000\n",
            "Epoch 70/100\n",
            "3/3 [==============================] - 0s 13ms/step - loss: 0.3858 - accuracy: 0.8250 - val_loss: 0.2911 - val_accuracy: 0.9000\n",
            "Epoch 71/100\n",
            "3/3 [==============================] - 0s 13ms/step - loss: 0.3866 - accuracy: 0.8375 - val_loss: 0.2815 - val_accuracy: 0.9000\n",
            "Epoch 72/100\n",
            "3/3 [==============================] - 0s 12ms/step - loss: 0.3876 - accuracy: 0.8375 - val_loss: 0.2720 - val_accuracy: 0.9000\n",
            "Epoch 73/100\n",
            "3/3 [==============================] - 0s 49ms/step - loss: 0.3910 - accuracy: 0.8375 - val_loss: 0.2753 - val_accuracy: 0.8500\n",
            "Epoch 74/100\n",
            "3/3 [==============================] - 0s 58ms/step - loss: 0.3888 - accuracy: 0.8375 - val_loss: 0.2935 - val_accuracy: 0.9000\n",
            "Epoch 75/100\n",
            "3/3 [==============================] - 0s 42ms/step - loss: 0.3878 - accuracy: 0.8250 - val_loss: 0.3037 - val_accuracy: 0.9000\n",
            "Epoch 76/100\n",
            "3/3 [==============================] - 0s 36ms/step - loss: 0.3934 - accuracy: 0.8250 - val_loss: 0.2978 - val_accuracy: 0.9000\n",
            "Epoch 77/100\n",
            "3/3 [==============================] - 0s 13ms/step - loss: 0.3983 - accuracy: 0.8375 - val_loss: 0.2918 - val_accuracy: 0.9000\n",
            "Epoch 78/100\n",
            "3/3 [==============================] - 0s 12ms/step - loss: 0.3872 - accuracy: 0.8250 - val_loss: 0.2897 - val_accuracy: 0.9000\n",
            "Epoch 79/100\n",
            "3/3 [==============================] - 0s 13ms/step - loss: 0.3868 - accuracy: 0.8375 - val_loss: 0.2810 - val_accuracy: 0.9000\n",
            "Epoch 80/100\n",
            "3/3 [==============================] - 0s 12ms/step - loss: 0.3893 - accuracy: 0.8375 - val_loss: 0.2703 - val_accuracy: 0.9000\n",
            "Epoch 81/100\n",
            "3/3 [==============================] - 0s 12ms/step - loss: 0.3865 - accuracy: 0.8500 - val_loss: 0.2633 - val_accuracy: 0.9000\n",
            "Epoch 82/100\n",
            "3/3 [==============================] - 0s 17ms/step - loss: 0.3876 - accuracy: 0.8500 - val_loss: 0.2495 - val_accuracy: 0.9000\n",
            "Epoch 83/100\n",
            "3/3 [==============================] - 0s 14ms/step - loss: 0.3920 - accuracy: 0.8500 - val_loss: 0.2438 - val_accuracy: 0.9000\n",
            "Epoch 84/100\n",
            "3/3 [==============================] - 0s 13ms/step - loss: 0.3875 - accuracy: 0.8500 - val_loss: 0.2589 - val_accuracy: 0.9000\n",
            "Epoch 85/100\n",
            "3/3 [==============================] - 0s 12ms/step - loss: 0.3868 - accuracy: 0.8375 - val_loss: 0.2846 - val_accuracy: 0.9000\n",
            "Epoch 86/100\n",
            "3/3 [==============================] - 0s 13ms/step - loss: 0.3892 - accuracy: 0.8375 - val_loss: 0.2984 - val_accuracy: 0.9000\n",
            "Epoch 87/100\n",
            "3/3 [==============================] - 0s 27ms/step - loss: 0.3885 - accuracy: 0.8375 - val_loss: 0.2863 - val_accuracy: 0.9000\n",
            "Epoch 88/100\n",
            "3/3 [==============================] - 0s 49ms/step - loss: 0.3958 - accuracy: 0.8375 - val_loss: 0.2581 - val_accuracy: 0.9000\n",
            "Epoch 89/100\n",
            "3/3 [==============================] - 0s 44ms/step - loss: 0.3883 - accuracy: 0.8375 - val_loss: 0.2675 - val_accuracy: 0.9000\n",
            "Epoch 90/100\n",
            "3/3 [==============================] - 0s 50ms/step - loss: 0.3857 - accuracy: 0.8375 - val_loss: 0.2729 - val_accuracy: 0.9000\n",
            "Epoch 91/100\n",
            "3/3 [==============================] - 0s 73ms/step - loss: 0.3853 - accuracy: 0.8375 - val_loss: 0.2798 - val_accuracy: 0.9000\n",
            "Epoch 92/100\n",
            "3/3 [==============================] - 0s 71ms/step - loss: 0.3860 - accuracy: 0.8375 - val_loss: 0.2844 - val_accuracy: 0.9000\n",
            "Epoch 93/100\n",
            "3/3 [==============================] - 0s 25ms/step - loss: 0.3872 - accuracy: 0.8375 - val_loss: 0.2841 - val_accuracy: 0.9000\n",
            "Epoch 94/100\n",
            "3/3 [==============================] - 0s 22ms/step - loss: 0.3858 - accuracy: 0.8375 - val_loss: 0.2741 - val_accuracy: 0.9000\n",
            "Epoch 95/100\n",
            "3/3 [==============================] - 0s 26ms/step - loss: 0.3847 - accuracy: 0.8375 - val_loss: 0.2649 - val_accuracy: 0.9000\n",
            "Epoch 96/100\n",
            "3/3 [==============================] - 0s 16ms/step - loss: 0.3904 - accuracy: 0.8500 - val_loss: 0.2675 - val_accuracy: 0.9000\n",
            "Epoch 97/100\n",
            "3/3 [==============================] - 0s 15ms/step - loss: 0.3880 - accuracy: 0.8375 - val_loss: 0.2719 - val_accuracy: 0.9000\n",
            "Epoch 98/100\n",
            "3/3 [==============================] - 0s 15ms/step - loss: 0.3877 - accuracy: 0.8375 - val_loss: 0.2825 - val_accuracy: 0.9000\n",
            "Epoch 99/100\n",
            "3/3 [==============================] - 0s 17ms/step - loss: 0.3892 - accuracy: 0.8375 - val_loss: 0.2864 - val_accuracy: 0.9000\n",
            "Epoch 100/100\n",
            "3/3 [==============================] - 0s 15ms/step - loss: 0.3886 - accuracy: 0.8375 - val_loss: 0.2813 - val_accuracy: 0.9000\n"
          ]
        }
      ]
    },
    {
      "cell_type": "code",
      "source": [
        "plot_decision_regions(X, y.astype('int'), clf=model1, legend=2)\n",
        "plt.xlim(-2,3)\n",
        "plt.ylim(-1.5,2)\n",
        "plt.show()"
      ],
      "metadata": {
        "colab": {
          "base_uri": "https://localhost:8080/",
          "height": 287
        },
        "id": "buqBYxeSPf-h",
        "outputId": "f8a1c620-b601-48be-9c07-abde51e8b0fc"
      },
      "execution_count": 69,
      "outputs": [
        {
          "output_type": "stream",
          "name": "stdout",
          "text": [
            "3888/3888 [==============================] - 6s 1ms/step\n"
          ]
        },
        {
          "output_type": "display_data",
          "data": {
            "text/plain": [
              "<Figure size 432x288 with 1 Axes>"
            ],
            "image/png": "[encoded data removed]"
          },
          "metadata": {
            "needs_background": "light"
          }
        }
      ]
    },
    {
      "cell_type": "markdown",
      "source": [
        "#**Relu Activation Function**\n",
        "\n",
        "f(x)=max(x,0)\n",
        "\n",
        " derivative f(x)={0 if x<0\n",
        "      1 if x>0.\n",
        "      And undefined in x=0\n",
        "      }  "
      ],
      "metadata": {
        "id": "5kbZNYkMRR0I"
      }
    },
    {
      "cell_type": "markdown",
      "source": [
        "Rectified linear unit or ReLU is most widely used activation function right now which ranges from 0 to infinity, All the negative values are converted into zero, and this conversion rate is so fast that neither it can map nor fit into data properly which creates a problem, but where there is a problem there is a solution."
      ],
      "metadata": {
        "id": "xfhygPE2T1DP"
      }
    },
    {
      "cell_type": "code",
      "source": [
        "model2 = Sequential()\n",
        "model2.add(Dense(128,input_dim=2, activation=\"relu\"))\n",
        "model2.add(Dense(128,activation=\"relu\"))\n",
        "model2.add(Dense(1,activation='sigmoid'))\n",
        "model2.summary()"
      ],
      "metadata": {
        "colab": {
          "base_uri": "https://localhost:8080/"
        },
        "id": "2pqOQSpRPmHy",
        "outputId": "7ec8f467-748b-4fcf-dc95-530a51fea1fd"
      },
      "execution_count": 44,
      "outputs": [
        {
          "output_type": "stream",
          "name": "stdout",
          "text": [
            "Model: \"sequential_8\"\n",
            "_________________________________________________________________\n",
            " Layer (type)                Output Shape              Param #   \n",
            "=================================================================\n",
            " dense_17 (Dense)            (None, 128)               384       \n",
            "                                                                 \n",
            " dense_18 (Dense)            (None, 128)               16512     \n",
            "                                                                 \n",
            " dense_19 (Dense)            (None, 1)                 129       \n",
            "                                                                 \n",
            "=================================================================\n",
            "Total params: 17,025\n",
            "Trainable params: 17,025\n",
            "Non-trainable params: 0\n",
            "_________________________________________________________________\n"
          ]
        }
      ]
    },
    {
      "cell_type": "code",
      "source": [
        "adam = Adam(learning_rate=0.01)\n",
        "model2.compile(loss='binary_crossentropy', optimizer=adam, metrics=['accuracy'])\n",
        "history2 = model2.fit(X, y, epochs=100, validation_split = 0.2,verbose=0)"
      ],
      "metadata": {
        "id": "RRGnA0mYP6pY"
      },
      "execution_count": 60,
      "outputs": []
    },
    {
      "cell_type": "code",
      "source": [
        "plot_decision_regions(X, y.astype('int'), clf=model2, legend=2)\n",
        "plt.xlim(-2,3)\n",
        "plt.ylim(-1.5,2)\n",
        "plt.show()"
      ],
      "metadata": {
        "colab": {
          "base_uri": "https://localhost:8080/",
          "height": 287
        },
        "id": "oF9ZyuGeQBWT",
        "outputId": "659d5e27-bbb2-4379-ad10-7d128e2fb892"
      },
      "execution_count": 61,
      "outputs": [
        {
          "output_type": "stream",
          "name": "stdout",
          "text": [
            "3888/3888 [==============================] - 6s 2ms/step\n"
          ]
        },
        {
          "output_type": "display_data",
          "data": {
            "text/plain": [
              "<Figure size 432x288 with 1 Axes>"
            ],
            "image/png": "[encoded data removed]"
          },
          "metadata": {
            "needs_background": "light"
          }
        }
      ]
    },
    {
      "cell_type": "markdown",
      "source": [
        "**Advantage of relu**\n",
        "\n",
        "Non linear\n",
        "\n",
        "Not saturated in the +ve region\n",
        "\n",
        "computationally inexpensive\n",
        "\n",
        "converge faster compare to tanh or sigmoid\n"
      ],
      "metadata": {
        "id": "CMFfz9tSbtwi"
      }
    },
    {
      "cell_type": "markdown",
      "source": [
        "**Disadvantage of relu**\n",
        "\n",
        "non zero centric\n",
        "(solved --batch normalised)"
      ],
      "metadata": {
        "id": "CEkcAe5ncDNW"
      }
    },
    {
      "cell_type": "markdown",
      "source": [
        "## **Sigmoid Activation Function**"
      ],
      "metadata": {
        "id": "wQLDThQwRhHw"
      }
    },
    {
      "cell_type": "markdown",
      "source": [
        "The sigmoid activation function is used mostly as it does its task with great efficiency, it basically is a probabilistic approach towards decision making and ranges in between 0 to 1, so when we have to make a decision or to predict an output we use this activation function because of the range is the minimum, therefore, prediction would be more accurate."
      ],
      "metadata": {
        "id": "oVqMpM-CT86p"
      }
    },
    {
      "cell_type": "markdown",
      "source": [
        "σ(x) = 1/(1+e(-x) )\n",
        "\n",
        "derivative of sigmoid\n",
        "=(1−σ(x))⋅σ(x)"
      ],
      "metadata": {
        "id": "V8V_4p-7UHUn"
      }
    },
    {
      "cell_type": "code",
      "source": [
        "model3 = Sequential()\n",
        "model3.add(Dense(128,input_dim=2, activation=\"sigmoid\"))\n",
        "model3.add(Dense(128,activation=\"sigmoid\"))\n",
        "model3.add(Dense(1,activation='sigmoid'))\n",
        "model3.summary()"
      ],
      "metadata": {
        "colab": {
          "base_uri": "https://localhost:8080/"
        },
        "id": "8fhlRzBmQEzO",
        "outputId": "a17341e6-7591-4cfd-bbbc-791b5a2362d2"
      },
      "execution_count": 48,
      "outputs": [
        {
          "output_type": "stream",
          "name": "stdout",
          "text": [
            "Model: \"sequential_9\"\n",
            "_________________________________________________________________\n",
            " Layer (type)                Output Shape              Param #   \n",
            "=================================================================\n",
            " dense_20 (Dense)            (None, 128)               384       \n",
            "                                                                 \n",
            " dense_21 (Dense)            (None, 128)               16512     \n",
            "                                                                 \n",
            " dense_22 (Dense)            (None, 1)                 129       \n",
            "                                                                 \n",
            "=================================================================\n",
            "Total params: 17,025\n",
            "Trainable params: 17,025\n",
            "Non-trainable params: 0\n",
            "_________________________________________________________________\n"
          ]
        }
      ]
    },
    {
      "cell_type": "code",
      "source": [
        "adam = Adam(learning_rate=0.01)\n",
        "model3.compile(loss='binary_crossentropy', optimizer=adam, metrics=['accuracy'])\n",
        "history3 = model3.fit(X, y, epochs=100, validation_split = 0.2,verbose=0)"
      ],
      "metadata": {
        "id": "dq2nr-uAQT-g"
      },
      "execution_count": 58,
      "outputs": []
    },
    {
      "cell_type": "code",
      "source": [
        "plot_decision_regions(X, y.astype('int'), clf=model3, legend=2)\n",
        "plt.xlim(-2,3)\n",
        "plt.ylim(-1.5,2)\n",
        "plt.show()"
      ],
      "metadata": {
        "colab": {
          "base_uri": "https://localhost:8080/",
          "height": 287
        },
        "id": "SxXxmvi6QYJ2",
        "outputId": "da5c49de-99e2-41ff-a0ed-abffd9c8e739"
      },
      "execution_count": 59,
      "outputs": [
        {
          "output_type": "stream",
          "name": "stdout",
          "text": [
            "3888/3888 [==============================] - 5s 1ms/step\n"
          ]
        },
        {
          "output_type": "display_data",
          "data": {
            "text/plain": [
              "<Figure size 432x288 with 1 Axes>"
            ],
            "image/png": "[encoded data removed]"
          },
          "metadata": {
            "needs_background": "light"
          }
        }
      ]
    },
    {
      "cell_type": "markdown",
      "source": [
        "**Advantage of Sigmoid**\n",
        "\n",
        "[0,1] range good for output layer in case of binary classification\n",
        "\n",
        "Non linear relationship capture\n",
        "\n",
        "differentiable (easy to differentiate in back proportion"
      ],
      "metadata": {
        "id": "RaB-QQjgUrOB"
      }
    },
    {
      "cell_type": "markdown",
      "source": [
        "**Disadvantage of sigmoid**\n",
        "\n",
        "range of output (0-1)   --saturating function-- limit in upper and lower value\n",
        "\n",
        "vanishing gradient problem occured mostly in back proportion\n",
        "\n",
        "non zero centred \n",
        "\n",
        "sigmoid exponential is time computational"
      ],
      "metadata": {
        "id": "kS4VUxqRUaLy"
      }
    },
    {
      "cell_type": "markdown",
      "source": [
        "## **Tanh Activation function**\n",
        "Hyperbolic Tangent Function: tanh(x) = (ex – e-x) / (ex + e-x)\n",
        "\n",
        "derivative of tanh = (1-tanh^2(x))"
      ],
      "metadata": {
        "id": "5WFU4mXlR0qv"
      }
    },
    {
      "cell_type": "markdown",
      "source": [
        "This activation function is slightly better than the sigmoid function, like the sigmoid function it is also used to predict or to differentiate between two classes but it maps the negative input into negative quantity only and ranges in between -1 to  1."
      ],
      "metadata": {
        "id": "XnvQt2dhUKI5"
      }
    },
    {
      "cell_type": "code",
      "source": [
        "model4 = Sequential()\n",
        "model4.add(Dense(128,input_dim=2, activation=\"tanh\"))\n",
        "model4.add(Dense(128,activation=\"tanh\"))\n",
        "model4.add(Dense(1,activation='sigmoid'))\n",
        "model4.summary()"
      ],
      "metadata": {
        "colab": {
          "base_uri": "https://localhost:8080/"
        },
        "id": "9fecsdKiQhyo",
        "outputId": "bc00a565-de2b-48bc-bfdb-5b6258047ae2"
      },
      "execution_count": 53,
      "outputs": [
        {
          "output_type": "stream",
          "name": "stdout",
          "text": [
            "Model: \"sequential_11\"\n",
            "_________________________________________________________________\n",
            " Layer (type)                Output Shape              Param #   \n",
            "=================================================================\n",
            " dense_25 (Dense)            (None, 128)               384       \n",
            "                                                                 \n",
            " dense_26 (Dense)            (None, 128)               16512     \n",
            "                                                                 \n",
            " dense_27 (Dense)            (None, 1)                 129       \n",
            "                                                                 \n",
            "=================================================================\n",
            "Total params: 17,025\n",
            "Trainable params: 17,025\n",
            "Non-trainable params: 0\n",
            "_________________________________________________________________\n"
          ]
        }
      ]
    },
    {
      "cell_type": "code",
      "source": [
        "adam = Adam(learning_rate=0.01)\n",
        "model4.compile(loss='binary_crossentropy', optimizer=adam, metrics=['accuracy'])\n",
        "history4 = model4.fit(X, y, epochs=100, validation_split = 0.2,verbose=0)"
      ],
      "metadata": {
        "id": "XiUUJSSBQtU3"
      },
      "execution_count": 56,
      "outputs": []
    },
    {
      "cell_type": "code",
      "source": [
        "plot_decision_regions(X, y.astype('int'), clf=model4, legend=2)\n",
        "plt.xlim(-2,3)\n",
        "plt.ylim(-1.5,2)\n",
        "plt.show()"
      ],
      "metadata": {
        "colab": {
          "base_uri": "https://localhost:8080/",
          "height": 287
        },
        "id": "V_t-sOyYQxI3",
        "outputId": "8a1fde8a-146a-41b4-91be-9402e4b6a92d"
      },
      "execution_count": 57,
      "outputs": [
        {
          "output_type": "stream",
          "name": "stdout",
          "text": [
            "3888/3888 [==============================] - 5s 1ms/step\n"
          ]
        },
        {
          "output_type": "display_data",
          "data": {
            "text/plain": [
              "<Figure size 432x288 with 1 Axes>"
            ],
            "image/png": "[encoded data removed]"
          },
          "metadata": {
            "needs_background": "light"
          }
        }
      ]
    },
    {
      "cell_type": "markdown",
      "source": [
        "**Advantage of tanh**\n",
        "\n",
        "We observe that the gradient of tanh is four times greater than the gradient of the sigmoid function\"\n",
        "(-1,1) range\n",
        "\n",
        "easy differentiable \n",
        "\n",
        "not related to fixed range\n",
        "\n",
        "capture non linearity\n",
        "\n",
        "zero centered\n"
      ],
      "metadata": {
        "id": "oGDMicWkVbpx"
      }
    },
    {
      "cell_type": "markdown",
      "source": [
        "**Disadvantage**\n",
        "\n",
        "prone to vanishing gradient descent problem\n",
        "\n",
        "high computational "
      ],
      "metadata": {
        "id": "5bKp0ivVXHeW"
      }
    },
    {
      "cell_type": "markdown",
      "source": [
        "Without activation function neuron cant capture non linear relationship between input and output as we can see it in top without activation function(linear)"
      ],
      "metadata": {
        "id": "UfYl9ZjbTA0P"
      }
    },
    {
      "cell_type": "markdown",
      "source": [
        "**Relu** activation function capture non linear relation much easier compare to sigmoid and **tanh** , sigmoid function capture non linear relation in higher epochs"
      ],
      "metadata": {
        "id": "FWlU0QBZSXuh"
      }
    },
    {
      "cell_type": "markdown",
      "source": [
        "**Note** activation must be differentiable, computationally in expensive,non linear and zero centric"
      ],
      "metadata": {
        "id": "GS9T84spTV19"
      }
    },
    {
      "cell_type": "code",
      "source": [],
      "metadata": {
        "id": "tVk5PPe1Q2HQ"
      },
      "execution_count": 69,
      "outputs": []
    },
    {
      "cell_type": "markdown",
      "source": [
        "![fun.png](data:image/png;base64,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)"
      ],
      "metadata": {
        "id": "PrX5FhRrbUcY"
      }
    },
    {
      "cell_type": "markdown",
      "source": [
        "**Dying Relu Problem**\n",
        "\n",
        "sometime some neuron output becames zero--turn to dead neuron--permanently--- \n",
        "if more then 50% neuron became dead---network accuracy low--cant converge pattern\n"
      ],
      "metadata": {
        "id": "_tomBbnUceXS"
      }
    },
    {
      "cell_type": "code",
      "source": [],
      "metadata": {
        "id": "xJvLtJ2pbZXY"
      },
      "execution_count": null,
      "outputs": []
    }
  ]
}